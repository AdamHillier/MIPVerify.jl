{
 "cells": [
  {
   "cell_type": "markdown",
   "metadata": {
    "collapsed": true,
    "deletable": true,
    "editable": true
   },
   "source": [
    "# Importing your own neural net"
   ]
  },
  {
   "cell_type": "markdown",
   "metadata": {
    "collapsed": true,
    "deletable": true,
    "editable": true
   },
   "source": [
    "Verifying the example neural net was all well and good, but you probably want to verify your own neural net now. In this tutorial, we show you how to import the parameters for a feed-forward neural net with an architecture of your choice."
   ]
  },
  {
   "cell_type": "code",
   "execution_count": 1,
   "metadata": {
    "collapsed": false,
    "deletable": true,
    "editable": true
   },
   "outputs": [],
   "source": [
    "using MIPVerify\n",
    "using Gurobi\n",
    "using MAT"
   ]
  },
  {
   "cell_type": "markdown",
   "metadata": {
    "deletable": true,
    "editable": true
   },
   "source": [
    "We'll download a `.mat` file containing the parameters of a sample neural net containing three layers (exported from `tensorflow`). "
   ]
  },
  {
   "cell_type": "code",
   "execution_count": 2,
   "metadata": {
    "collapsed": false,
    "deletable": true,
    "editable": true
   },
   "outputs": [
    {
     "name": "stderr",
     "output_type": "stream",
     "text": [
      "  % Total    % Received % Xferd  Average Speed   Time    Time     Time  Current\n",
      "                                 Dload  Upload   Total   Spent    Left  Speed\n",
      "100   157  100   157    0     0    453      0 --:--:-- --:--:-- --:--:--   453\n",
      "100  239k  100  239k    0     0  76640      0  0:00:03  0:00:03 --:--:-- 87805\n"
     ]
    },
    {
     "data": {
      "text/plain": [
       "Dict{String,Any} with 26 entries:\n",
       "  \"fc1/weight\"           => Float32[0.000222324 6.78186f-6 … 0.00111799 -0.0005…\n",
       "  \"fc3/weight/Adam_1\"    => Float32[4.4054f-5 7.04086f-5 … 2.05744f-5 1.5445f-5…\n",
       "  \"logits/bias/Adam_1\"   => Float32[9.47849f-6 1.14659f-5 … 2.12202f-5 2.5675f-…\n",
       "  \"fc1/bias\"             => Float32[0.675125 -0.372304 … 0.540256 -0.468334]\n",
       "  \"fc3/bias\"             => Float32[0.239015 1.05777 … 1.87256 1.10636]\n",
       "  \"logits/weight/Adam_1\" => Float32[9.73416f-5 7.37292f-5 … 0.000153108 0.00013…\n",
       "  \"fc2/weight/Adam_1\"    => Float32[0.000456424 0.000191762 … 9.0507f-5 5.83681…\n",
       "  \"fc2/bias\"             => Float32[1.89861 1.58582 … -0.54874 1.00736]\n",
       "  \"fc3/bias/Adam_1\"      => Float32[3.96812f-6 6.44411f-6 … 4.03203f-6 1.96784f…\n",
       "  \"logits/bias/Adam\"     => Float32[-0.00108494 0.000629807 … 0.000172997 0.001…\n",
       "  \"beta1_power\"          => 0.0\n",
       "  \"fc2/bias/Adam\"        => Float32[0.00093958 0.000148308 … -0.000481088 -0.00…\n",
       "  \"logits/bias\"          => Float32[-0.167159 0.670988 … -0.163606 0.0620176]\n",
       "  \"fc1/weight/Adam\"      => Float32[2.61229f-9 2.50404f-8 … 9.15141f-9 -1.26372…\n",
       "  \"fc3/weight/Adam\"      => Float32[0.000514265 0.00114447 … 6.09192f-5 0.00064…\n",
       "  \"fc2/weight\"           => Float32[-0.243556 -0.232867 … 0.23907 -0.82437; 0.1…\n",
       "  \"fc3/bias/Adam\"        => Float32[0.000412472 7.06436f-5 … -2.81073f-5 0.0001…\n",
       "  \"logits/weight\"        => Float32[0.106404 0.587075 … 0.310872 0.152626; 0.02…\n",
       "  \"fc1/weight/Adam_1\"    => Float32[5.76757f-14 2.20114f-14 … 2.44297f-14 4.312…\n",
       "  \"fc2/weight/Adam\"      => Float32[0.0121755 0.00166487 … -0.00550308 -0.00305…\n",
       "  \"beta2_power\"          => 0.0\n",
       "  \"fc3/weight\"           => Float32[0.18034 -0.119679 … -0.0579543 0.0819598; -…\n",
       "  \"fc1/bias/Adam\"        => Float32[-9.24088f-6 0.000377022 … -0.000173221 -0.0…\n",
       "  \"fc1/bias/Adam_1\"      => Float32[2.21867f-5 9.82018f-6 … 1.34117f-5 2.2821f-…\n",
       "  \"logits/weight/Adam\"   => Float32[-0.00350437 0.000921413 … 0.000551378 0.002…\n",
       "  ⋮                      => ⋮"
      ]
     },
     "execution_count": 2,
     "metadata": {},
     "output_type": "execute_result"
    }
   ],
   "source": [
    "param_dict = Base.download(\"https://github.com/vtjeng/MIPVerify_data/raw/master/weights/mnist/n2.mat\") |> matread"
   ]
  },
  {
   "cell_type": "markdown",
   "metadata": {
    "deletable": true,
    "editable": true
   },
   "source": [
    "## Layer 1"
   ]
  },
  {
   "cell_type": "markdown",
   "metadata": {
    "deletable": true,
    "editable": true
   },
   "source": [
    "Let's begin by importing the parameters for the first fully connected layer, which has 784 inputs (corresponding to a flattened 28x28 image) and 24 outputs."
   ]
  },
  {
   "cell_type": "markdown",
   "metadata": {
    "deletable": true,
    "editable": true
   },
   "source": [
    "### Basic Approach\n",
    "\n",
    "We begin with a basic approach where we extract the weights and the biases of the fully connected layer seperately."
   ]
  },
  {
   "cell_type": "code",
   "execution_count": 3,
   "metadata": {
    "collapsed": false,
    "deletable": true,
    "editable": true
   },
   "outputs": [
    {
     "data": {
      "text/plain": [
       "784×24 Array{Float32,2}:\n",
       "  0.000222324   6.78186f-6    0.000211635  …   0.00111799   -0.00055723 \n",
       "  0.000270549  -0.000155775   0.000345145      0.0011448    -0.000638638\n",
       "  0.00157308    0.00294467    0.00133911      -0.00275523    0.00436651 \n",
       "  0.00124757   -4.55079f-5    0.000364477      0.000844778   0.00030634 \n",
       "  0.000181523   7.54999f-5    0.000184328      0.000718589  -0.000354625\n",
       "  0.00100992   -0.00056507    0.000376461  …   0.00108511   -2.14134f-5 \n",
       "  0.0011267     0.00277671    0.00199021      -0.00308363    0.0037927  \n",
       "  0.00172865    0.00107658    0.000331343     -0.000169128   0.00168143 \n",
       " -0.00152659   -0.0020568     0.000401156      0.00151572   -0.000661888\n",
       "  0.000884574  -0.000527718   0.000382487      0.00106229   -4.86445f-5 \n",
       "  0.00147657    0.00275898    0.00151834   …  -0.00248229    0.00379858 \n",
       " -3.01078f-5    0.000446275   0.000935425     -0.00300283    0.00124241 \n",
       "  2.6066f-5     0.000116717   3.48966f-6      -0.000166195   0.000101932\n",
       "  ⋮                                        ⋱                            \n",
       " -0.0616022    -0.00453137    0.0187155       -0.0498921    -0.0245561  \n",
       "  0.0195578     0.00215033   -0.0438484       -0.0184708    -0.0380633  \n",
       "  0.0591205     0.0328315    -0.0641472       -0.0294263    -0.0802063  \n",
       "  0.10835       0.00218356    0.00843114   …  -0.0408395    -0.0159919  \n",
       "  0.0664918    -0.0229892     0.0143863        0.0794955     0.0215239  \n",
       " -0.00811535    0.0067625     0.00549217       0.0318993     0.0041776  \n",
       " -0.0132527    -0.110216      0.0162308       -0.00244502    0.0169465  \n",
       "  5.43133f-5   -3.70874f-5    9.81464f-5       0.000183623   0.000160505\n",
       "  0.00131112    6.32279f-5    0.000345392  …   0.000886682   0.000304327\n",
       "  5.60821f-6    0.000752103   0.00101124      -0.00320989    0.0014562  \n",
       "  0.000598289   0.00211266    0.00166339      -0.00337056    0.00261424 \n",
       " -0.00185165   -0.00284901    0.00128107       0.00113743   -0.00045202 "
      ]
     },
     "execution_count": 3,
     "metadata": {},
     "output_type": "execute_result"
    }
   ],
   "source": [
    "fc1_weight = param_dict[\"fc1/weight\"]"
   ]
  },
  {
   "cell_type": "code",
   "execution_count": 4,
   "metadata": {
    "collapsed": false,
    "deletable": true,
    "editable": true
   },
   "outputs": [
    {
     "data": {
      "text/plain": [
       "1×24 Array{Float32,2}:\n",
       " 0.675125  -0.372304  -0.202615  …  -0.0190356  0.540256  -0.468334"
      ]
     },
     "execution_count": 4,
     "metadata": {},
     "output_type": "execute_result"
    }
   ],
   "source": [
    "fc1_bias = param_dict[\"fc1/bias\"]"
   ]
  },
  {
   "cell_type": "markdown",
   "metadata": {
    "deletable": true,
    "editable": true
   },
   "source": [
    "We group the weights and biases in a `Linear`.\n",
    "\n",
    "_(NB: We have to flatten the bias layer using `squeeze` since `Linear` expects a 1-D array for the bias.)_"
   ]
  },
  {
   "cell_type": "code",
   "execution_count": 5,
   "metadata": {
    "collapsed": false,
    "deletable": true,
    "editable": true
   },
   "outputs": [
    {
     "data": {
      "text/plain": [
       "Linear(784 -> 24)"
      ]
     },
     "execution_count": 5,
     "metadata": {},
     "output_type": "execute_result"
    }
   ],
   "source": [
    "fc1_manual = Linear(fc1_weight, squeeze(fc1_bias, 1))"
   ]
  },
  {
   "cell_type": "markdown",
   "metadata": {
    "deletable": true,
    "editable": true
   },
   "source": [
    "That was a lot to remember. Wouldn't it be nice if there was a helper function to take care of all that?\n",
    "\n",
    "### With Helper Functions"
   ]
  },
  {
   "cell_type": "code",
   "execution_count": 6,
   "metadata": {
    "collapsed": false,
    "deletable": true,
    "editable": true
   },
   "outputs": [
    {
     "data": {
      "text/plain": [
       "Linear(784 -> 24)"
      ]
     },
     "execution_count": 6,
     "metadata": {},
     "output_type": "execute_result"
    }
   ],
   "source": [
    "fc1 = get_matrix_params(param_dict, \"fc1\", (784, 24))"
   ]
  },
  {
   "cell_type": "markdown",
   "metadata": {
    "deletable": true,
    "editable": true
   },
   "source": [
    "`get_matrix_params` requires that 1) you specify the expected size of the layer, and 2) your weight and bias arrays following the naming convention outlined in the [documentation](https://vtjeng.github.io/MIPVerify.jl/stable/utils/import_weights.html#MIPVerify.get_matrix_params-Tuple{Dict{String,V} where V,String,Tuple{Int64,Int64}})."
   ]
  },
  {
   "cell_type": "markdown",
   "metadata": {
    "deletable": true,
    "editable": true
   },
   "source": [
    "As a sanity check, you can verify that the parameters we get from both methods are equal."
   ]
  },
  {
   "cell_type": "code",
   "execution_count": 7,
   "metadata": {
    "collapsed": false,
    "deletable": true,
    "editable": true
   },
   "outputs": [
    {
     "data": {
      "text/plain": [
       "true"
      ]
     },
     "execution_count": 7,
     "metadata": {},
     "output_type": "execute_result"
    }
   ],
   "source": [
    "fc1_manual == fc1"
   ]
  },
  {
   "cell_type": "markdown",
   "metadata": {
    "deletable": true,
    "editable": true
   },
   "source": [
    "## Importing the rest of the layers\n",
    "\n",
    "Since we followed the naming convention required by `get_matrix_params` when exporting our neural net parameters as a `.mat` file, importing the rest of the neural net is relatively straightforward."
   ]
  },
  {
   "cell_type": "code",
   "execution_count": 8,
   "metadata": {
    "collapsed": false,
    "deletable": true,
    "editable": true
   },
   "outputs": [
    {
     "data": {
      "text/plain": [
       "Linear(24 -> 24)"
      ]
     },
     "execution_count": 8,
     "metadata": {},
     "output_type": "execute_result"
    }
   ],
   "source": [
    "fc2 = get_matrix_params(param_dict, \"fc2\", (24, 24))"
   ]
  },
  {
   "cell_type": "code",
   "execution_count": 9,
   "metadata": {
    "collapsed": false,
    "deletable": true,
    "editable": true
   },
   "outputs": [
    {
     "data": {
      "text/plain": [
       "Linear(24 -> 24)"
      ]
     },
     "execution_count": 9,
     "metadata": {},
     "output_type": "execute_result"
    }
   ],
   "source": [
    "fc3 = get_matrix_params(param_dict, \"fc3\", (24, 24))"
   ]
  },
  {
   "cell_type": "code",
   "execution_count": 10,
   "metadata": {
    "collapsed": false,
    "deletable": true,
    "editable": true
   },
   "outputs": [
    {
     "data": {
      "text/plain": [
       "Linear(24 -> 10)"
      ]
     },
     "execution_count": 10,
     "metadata": {},
     "output_type": "execute_result"
    }
   ],
   "source": [
    "logits = get_matrix_params(param_dict, \"logits\", (24, 10))"
   ]
  },
  {
   "cell_type": "markdown",
   "metadata": {
    "deletable": true,
    "editable": true
   },
   "source": [
    "## Composing the network\n",
    "\n",
    "We now put the entire network together. We need to flatten the input since the input images are provided as a 4-dimensional tensor. (Note that there is no `ReLU` after the softmax layers)."
   ]
  },
  {
   "cell_type": "code",
   "execution_count": 11,
   "metadata": {
    "collapsed": false,
    "deletable": true,
    "editable": true
   },
   "outputs": [
    {
     "data": {
      "text/plain": [
       "sequential net MNIST.n2\n",
       "  (1) Flatten(): flattens 4 dimensional input, with dimensions permuted according to the order [4, 3, 2, 1]\n",
       "  (2) Linear(784 -> 24)\n",
       "  (3) ReLU()\n",
       "  (4) Linear(24 -> 24)\n",
       "  (5) ReLU()\n",
       "  (6) Linear(24 -> 24)\n",
       "  (7) ReLU()\n",
       "  (8) Linear(24 -> 10)\n"
      ]
     },
     "execution_count": 11,
     "metadata": {},
     "output_type": "execute_result"
    }
   ],
   "source": [
    "nn = Sequential([\n",
    "        Flatten(4),\n",
    "        fc1,\n",
    "        ReLU(),\n",
    "        fc2,\n",
    "        ReLU(),\n",
    "        fc3,\n",
    "        ReLU(),\n",
    "        logits\n",
    "    ], \"MNIST.n2\")"
   ]
  },
  {
   "cell_type": "markdown",
   "metadata": {
    "deletable": true,
    "editable": true
   },
   "source": [
    "## Verifying that you imported the network correctly\n",
    "It's important to make sure that you imported the network correctly. We do this by passing in images from the test set."
   ]
  },
  {
   "cell_type": "code",
   "execution_count": 12,
   "metadata": {
    "collapsed": false,
    "deletable": true,
    "editable": true
   },
   "outputs": [
    {
     "name": "stderr",
     "output_type": "stream",
     "text": [
      "\u001b[32mComputing fraction correct...100%|██████████████████████| Time: 0:00:03\u001b[39m\n"
     ]
    },
    {
     "data": {
      "text/plain": [
       "0.9706"
      ]
     },
     "execution_count": 12,
     "metadata": {},
     "output_type": "execute_result"
    }
   ],
   "source": [
    "mnist = read_datasets(\"MNIST\")\n",
    "MIPVerify.frac_correct(nn, mnist.test, 10000)"
   ]
  },
  {
   "cell_type": "markdown",
   "metadata": {
    "deletable": true,
    "editable": true
   },
   "source": [
    "## Finding and Adversarial Example\n",
    "\n",
    "Finally, we find an adversarial example for a sample input."
   ]
  },
  {
   "cell_type": "code",
   "execution_count": 13,
   "metadata": {
    "collapsed": true,
    "deletable": true,
    "editable": true
   },
   "outputs": [],
   "source": [
    "sample_image = MIPVerify.get_image(mnist.train.images, 1);"
   ]
  },
  {
   "cell_type": "code",
   "execution_count": 15,
   "metadata": {
    "collapsed": false,
    "deletable": true,
    "editable": true
   },
   "outputs": [
    {
     "name": "stdout",
     "output_type": "stream",
     "text": [
      "\u001b[36m[notice | MIPVerify]: Rebuilding model from scratch. This may take some time as we determine upper and lower bounds for the input to each non-linear unit.\n",
      "\u001b[39mAcademic license - for non-commercial use only\n"
     ]
    },
    {
     "name": "stderr",
     "output_type": "stream",
     "text": [
      "\u001b[32m  Calculating upper bounds: 100%|███████████████████████| Time: 0:00:21\u001b[39m\n",
      "\u001b[32m  Calculating lower bounds: 100%|███████████████████████| Time: 0:00:20\u001b[39m\n",
      "\u001b[32m  Calculating upper bounds: 100%|███████████████████████| Time: 0:00:46\u001b[39m\n",
      "\u001b[32m  Calculating lower bounds: 100%|███████████████████████| Time: 0:00:45\u001b[39m\n"
     ]
    },
    {
     "name": "stdout",
     "output_type": "stream",
     "text": [
      "\u001b[36m[notice | MIPVerify]: The model built will be cached and re-used for future solves, unless you explicitly set rebuild=true.\n",
      "\u001b[39m\u001b[36m[notice | MIPVerify]: Attempting to find adversarial example. Neural net predicted label is 8, target labels are [10]\n",
      "\u001b[39mAcademic license - for non-commercial use only\n",
      "Optimize a model with 3433 rows, 3280 columns and 46856 nonzeros\n",
      "Variable types: 3208 continuous, 72 integer (72 binary)\n",
      "Coefficient statistics:\n",
      "  Matrix range     [2e-07, 4e+02]\n",
      "  Objective range  [1e+00, 1e+00]\n",
      "  Bounds range     [1e+00, 1e+02]\n",
      "  RHS range        [2e-02, 4e+02]\n",
      "\n",
      "MIP start did not produce a new incumbent solution\n",
      "MIP start violates constraint R1072 by 2.000000000\n",
      "\n",
      "Presolve removed 2872 rows and 2184 columns\n",
      "Presolve time: 0.12s\n",
      "Presolved: 561 rows, 1096 columns, 41184 nonzeros\n",
      "Variable types: 1024 continuous, 72 integer (72 binary)\n",
      "\n",
      "Root relaxation: objective 0.000000e+00, 284 iterations, 0.01 seconds\n",
      "\n",
      "    Nodes    |    Current Node    |     Objective Bounds      |     Work\n",
      " Expl Unexpl |  Obj  Depth IntInf | Incumbent    BestBd   Gap | It/Node Time\n",
      "\n",
      "     0     0    0.00000    0    6          -    0.00000      -     -    0s\n",
      "Another try with MIP start\n",
      "     0     0    0.00000    0    8          -    0.00000      -     -    0s\n",
      "     0     0    0.00000    0    7          -    0.00000      -     -    0s\n",
      "     0     0    0.00000    0    7          -    0.00000      -     -    0s\n",
      "     0     0    0.00000    0    7          -    0.00000      -     -    0s\n",
      "     0     0    0.00000    0    8          -    0.00000      -     -    0s\n",
      "     0     0    0.00000    0    8          -    0.00000      -     -    0s\n",
      "     0     0    0.00000    0    9          -    0.00000      -     -    0s\n",
      "H    0     0                     342.7735924    0.00000   100%     -    0s\n",
      "     0     0    0.00000    0    9  342.77359    0.00000   100%     -    1s\n",
      "     0     2    0.00000    0    9  342.77359    0.00000   100%     -    1s\n",
      "*  194   172              52      35.0558294    0.00000   100%   103    2s\n",
      "*  236   173              48      16.6785512    0.00000   100%  94.7    2s\n",
      "  1078   630    2.48670   33    9   16.67855    0.00000   100%  59.9    5s\n",
      "H 1679   663                       7.7471937    0.00000   100%  71.1    7s\n",
      "  3336   970     cutoff   54         7.74719    0.00000   100%  64.8   10s\n",
      "  5611  1481     cutoff   38         7.74719    0.00000   100%  68.7   15s\n",
      "* 6920  1720              65       7.5837215    0.00000   100%  68.8   17s\n",
      "* 6922  1668              64       7.2965094    0.00000   100%  68.8   17s\n",
      "* 8273  1918              64       7.1820680    0.26294  96.3%  66.6   19s\n",
      "  9422  2254    1.27868   31   12    7.18207    0.82455  88.5%  63.2   20s\n",
      " 14018  3320    6.33750   41    6    7.18207    1.16177  83.8%  59.1   25s\n",
      " 17006  3900    3.92644   51    9    7.18207    1.69176  76.4%  56.7   30s\n",
      " 20961  4604     cutoff   48         7.18207    1.97179  72.5%  54.4   40s\n",
      " 24997  5399    6.88283   60    3    7.18207    2.23675  68.9%  52.4   45s\n",
      " 30145  6213    4.52622   58    6    7.18207    2.64030  63.2%  49.8   50s\n",
      " 35487  7366     cutoff   50         7.18207    2.96633  58.7%  47.6   55s\n",
      " 40370  8172     cutoff   65         7.18207    3.09806  56.9%  46.3   60s\n",
      " 44774  9033    3.26574   46    3    7.18207    3.26574  54.5%  45.3   65s\n",
      " 49774  9894     cutoff   51         7.18207    3.39241  52.8%  44.1   70s\n",
      " 55455 10816     cutoff   62         7.18207    3.63095  49.4%  42.9   75s\n",
      " 61159 11722    4.51516   56    9    7.18207    3.83242  46.6%  41.9   80s\n",
      " 66089 12298    3.99818   52    7    7.18207    3.99818  44.3%  41.3   85s\n",
      " 70904 12722     cutoff   45         7.18207    4.13570  42.4%  40.8   90s\n",
      " 76444 13361     cutoff   39         7.18207    4.31721  39.9%  40.1   95s\n",
      " 80965 14101     cutoff   40         7.18207    4.35574  39.4%  40.0  100s\n",
      " 84604 14540     cutoff   44         7.18207    4.44878  38.1%  39.6  105s\n",
      "*85974  7628              70       5.7996980    4.47004  22.9%  39.4  106s\n",
      " 89618  7551     cutoff   48         5.79970    4.55988  21.4%  39.1  110s\n",
      " 93834  7420    4.67293   36   11    5.79970    4.67293  19.4%  38.6  115s\n",
      " 98795  7076     cutoff   55         5.79970    4.76427  17.9%  38.2  120s\n",
      " 103693  6843     cutoff   52         5.79970    4.86378  16.1%  37.6  125s\n",
      " 108765  6102     cutoff   39         5.79970    5.00433  13.7%  37.0  130s\n",
      " 113976  5459     cutoff   58         5.79970    5.13771  11.4%  36.4  135s\n",
      " 119356  4617     cutoff   49         5.79970    5.25999  9.31%  35.7  140s\n",
      " 127578  3127     cutoff   48         5.79970    5.45670  5.91%  34.8  145s\n",
      " 137862  1197     cutoff   51         5.79970    5.68121  2.04%  33.6  150s\n",
      "\n",
      "Cutting planes:\n",
      "  Projected implied bound: 25\n",
      "  MIR: 5\n",
      "  Flow cover: 14\n",
      "\n",
      "Explored 143213 nodes (4754735 simplex iterations) in 152.76 seconds\n",
      "Thread count was 8 (of 8 available processors)\n",
      "\n",
      "Solution count 8: 5.7997 7.18207 7.29651 ... 342.774\n",
      "\n",
      "Optimal solution found (tolerance 1.00e-04)\n",
      "Best objective 5.799697996205e+00, best bound 5.799697996205e+00, gap 0.0000%\n"
     ]
    },
    {
     "data": {
      "text/plain": [
       "Dict{Symbol,Any} with 10 entries:\n",
       "  :PerturbationFamily => unrestricted\n",
       "  :TargetIndexes      => [10]\n",
       "  :SolveStatus        => :Optimal\n",
       "  :TotalTime          => 291.351\n",
       "  :TighteningApproach => \"mip\"\n",
       "  :Output             => JuMP.GenericAffExpr{Float64,JuMP.Variable}[0.106403902…\n",
       "  :Model              => Minimization problem with:…\n",
       "  :PredictedIndex     => 8\n",
       "  :Perturbation       => JuMP.Variable[__anon__ __anon__ __anon__ __anon__ __an…\n",
       "  :PerturbedInput     => JuMP.Variable[__anon__ __anon__ __anon__ __anon__ __an…"
      ]
     },
     "execution_count": 15,
     "metadata": {},
     "output_type": "execute_result"
    }
   ],
   "source": [
    "MIPVerify.find_adversarial_example(nn, sample_image, 10, GurobiSolver(TimeLimit=240), \n",
    "    tightening_solver = GurobiSolver(TimeLimit=2, OutputFlag=0))"
   ]
  },
  {
   "cell_type": "markdown",
   "metadata": {
    "deletable": true,
    "editable": true
   },
   "source": [
    "There we go! Now it's your turn to try to verify your own neural network."
   ]
  }
 ],
 "metadata": {
  "kernelspec": {
   "display_name": "Julia 0.6.2",
   "language": "julia",
   "name": "julia-0.6"
  },
  "language_info": {
   "file_extension": ".jl",
   "mimetype": "application/julia",
   "name": "julia",
   "version": "0.6.2"
  }
 },
 "nbformat": 4,
 "nbformat_minor": 2
}
