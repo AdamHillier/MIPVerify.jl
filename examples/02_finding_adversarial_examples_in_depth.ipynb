{
 "cells": [
  {
   "cell_type": "markdown",
   "metadata": {
    "deletable": true,
    "editable": true
   },
   "source": [
    "# Finding adversarial examples, in depth\n",
    "\n",
    "In the quickstart, we used the default parameters for `find_adversarial_example`. Using the same example from the quickstart, we explore how to get more out of the function."
   ]
  },
  {
   "cell_type": "code",
   "execution_count": 1,
   "metadata": {
    "collapsed": false,
    "deletable": true,
    "editable": true
   },
   "outputs": [],
   "source": [
    "using MIPVerify\n",
    "using Gurobi\n",
    "using JuMP\n",
    "using Images\n",
    "\n",
    "mnist = MIPVerify.read_datasets(\"MNIST\")\n",
    "n1 = MIPVerify.get_example_network_params(\"MNIST.n1\")\n",
    "sample_image = MIPVerify.get_image(mnist.train.images, 1);\n",
    "\n",
    "function print_summary(d::Dict)\n",
    "    # Helper function to print out output\n",
    "    obj_val = getobjectivevalue(d[:Model])\n",
    "    solve_time = getsolvetime(d[:Model])\n",
    "    println(\"Objective Value: $(@sprintf(\"%.6f\", obj_val)), Solve Time: $(@sprintf(\"%.2f\", solve_time))\")\n",
    "end\n",
    "\n",
    "function view_diff(diff::Array{<:Real, 2})\n",
    "    n = 1001\n",
    "    colormap(\"RdBu\", n)[ceil.(Int, (diff+1)/2*n)]\n",
    "end;"
   ]
  },
  {
   "cell_type": "markdown",
   "metadata": {
    "deletable": true,
    "editable": true
   },
   "source": [
    "## `find_adversarial_example`\n",
    "\n",
    "`find_adversarial_example` takes four positional arguments\n",
    "\n",
    "```\n",
    "find_adversarial_example(nn, input, target_selection, main_solver)\n",
    "```\n",
    "\n",
    "It also takes named arguments, each with the default value specified.\n",
    "\n",
    "```\n",
    "norm_order = 1\n",
    "tolerance = 0\n",
    "rebuild = false\n",
    "invert_target_selection = false\n",
    "pp = MIPVerify.UnrestrictedPerturbationFamily()\n",
    "tightening_algorithm = lp\n",
    "tightening_solver: same as main solver, but with output suppressed and a time limit of 20s per solve.\n",
    "```\n",
    "\n",
    "We explore what each of these options allow us to do."
   ]
  },
  {
   "cell_type": "markdown",
   "metadata": {
    "deletable": true,
    "editable": true
   },
   "source": [
    "# Basic Options"
   ]
  },
  {
   "cell_type": "markdown",
   "metadata": {
    "deletable": true,
    "editable": true
   },
   "source": [
    "## Specifying target categories for the adversarial example\n",
    "\n",
    "`target_selection` and `invert_target_selection` control what the category we want the adversarial example to be classified in.\n",
    "\n",
    "**Specification**: `target_selection` accepts either a single integer or a list of integers.\n",
    "\n",
    "For example, if I wanted the original image (which is the digit 7) to be classified as the digit 0 or 8, I could run two separate solves with `target_selection=1` and `target_selection=9` (Julia is 1-indexed), finding closest adversarial examples at distance `15.0926` and `9.75700` ..."
   ]
  },
  {
   "cell_type": "code",
   "execution_count": 2,
   "metadata": {
    "collapsed": false,
    "deletable": true,
    "editable": true
   },
   "outputs": [
    {
     "name": "stdout",
     "output_type": "stream",
     "text": [
      "\u001b[36m[notice | MIPVerify]: Rebuilding model from scratch. This may take some time as we determine upper and lower bounds for the input to each non-linear unit.\n",
      "\u001b[39m"
     ]
    },
    {
     "name": "stderr",
     "output_type": "stream",
     "text": [
      "\r",
      "\u001b[32m  Calculating upper bounds:   2%|█                      |  ETA: 0:00:05\u001b[39m"
     ]
    },
    {
     "name": "stdout",
     "output_type": "stream",
     "text": [
      "Academic license - for non-commercial use only\n"
     ]
    },
    {
     "name": "stderr",
     "output_type": "stream",
     "text": [
      "\u001b[32m  Calculating upper bounds: 100%|███████████████████████| Time: 0:00:02\u001b[39m\n",
      "\u001b[32m  Imposing relu constraint: 100%|███████████████████████| Time: 0:00:00\u001b[39m\n",
      "\u001b[32m  Calculating upper bounds: 100%|███████████████████████| Time: 0:00:21\u001b[39m\n",
      "\u001b[32m  Calculating lower bounds: 100%|███████████████████████| Time: 0:00:44\u001b[39m\n"
     ]
    },
    {
     "name": "stdout",
     "output_type": "stream",
     "text": [
      "\u001b[36m[notice | MIPVerify]: The model built will be cached and re-used for future solves, unless you explicitly set rebuild=true.\n",
      "\u001b[39m\u001b[36m[notice | MIPVerify]: Attempting to find adversarial example. Neural net predicted label is 8, target labels are [1]\n",
      "\u001b[39mAcademic license - for non-commercial use only\n",
      "Objective Value: 15.092612, Solve Time: 56.36\n"
     ]
    }
   ],
   "source": [
    "d = MIPVerify.find_adversarial_example(n1, sample_image, 1, GurobiSolver(OutputFlag=0))\n",
    "# OutputFlag=0 prevents any output from being printed out\n",
    "print_summary(d)"
   ]
  },
  {
   "cell_type": "code",
   "execution_count": 3,
   "metadata": {
    "collapsed": false,
    "deletable": true,
    "editable": true
   },
   "outputs": [
    {
     "name": "stdout",
     "output_type": "stream",
     "text": [
      "\u001b[36m[notice | MIPVerify]: Loading model from cache.\n",
      "\u001b[39m\u001b[36m[notice | MIPVerify]: Attempting to find adversarial example. Neural net predicted label is 8, target labels are [9]\n",
      "\u001b[39mAcademic license - for non-commercial use only\n",
      "Objective Value: 9.756997, Solve Time: 5.49\n"
     ]
    }
   ],
   "source": [
    "d = MIPVerify.find_adversarial_example(n1, sample_image, 9, GurobiSolver(OutputFlag=0));\n",
    "print_summary(d)"
   ]
  },
  {
   "cell_type": "markdown",
   "metadata": {
    "deletable": true,
    "editable": true
   },
   "source": [
    "Or I can can pass the targets as  `target_selection = [1, 9]`, where the same optimal value of `9.757` is found.\n",
    "\n",
    "Solve times for multiple target labels are typically on par with or faster than the aggregate solve times when solving with each target label in sequence."
   ]
  },
  {
   "cell_type": "code",
   "execution_count": 4,
   "metadata": {
    "collapsed": false,
    "deletable": true,
    "editable": true
   },
   "outputs": [
    {
     "name": "stdout",
     "output_type": "stream",
     "text": [
      "\u001b[36m[notice | MIPVerify]: Loading model from cache.\n",
      "\u001b[39m\u001b[36m[notice | MIPVerify]: Attempting to find adversarial example. Neural net predicted label is 8, target labels are [1, 9]\n",
      "\u001b[39mAcademic license - for non-commercial use only\n",
      "Objective Value: 9.756997, Solve Time: 23.33\n"
     ]
    }
   ],
   "source": [
    "d = MIPVerify.find_adversarial_example(n1, sample_image, [1, 9], GurobiSolver(OutputFlag=0));\n",
    "print_summary(d)"
   ]
  },
  {
   "cell_type": "markdown",
   "metadata": {
    "deletable": true,
    "editable": true
   },
   "source": [
    "A common use case is to have the adversarial example being in any category but the original:"
   ]
  },
  {
   "cell_type": "code",
   "execution_count": 5,
   "metadata": {
    "collapsed": false,
    "deletable": true,
    "editable": true
   },
   "outputs": [
    {
     "name": "stdout",
     "output_type": "stream",
     "text": [
      "\u001b[36m[notice | MIPVerify]: Loading model from cache.\n",
      "\u001b[39m\u001b[36m[notice | MIPVerify]: Attempting to find adversarial example. Neural net predicted label is 8, target labels are [1, 2, 3, 4, 5, 6, 7, 9, 10]\n",
      "\u001b[39mAcademic license - for non-commercial use only\n",
      "Objective Value: 3.171856, Solve Time: 32.89\n"
     ]
    }
   ],
   "source": [
    "d = MIPVerify.find_adversarial_example(n1, sample_image, [1, 2, 3, 4, 5, 6, 7, 9, 10], GurobiSolver(OutputFlag=0))\n",
    "print_summary(d)"
   ]
  },
  {
   "cell_type": "markdown",
   "metadata": {
    "deletable": true,
    "editable": true
   },
   "source": [
    "Rather than typing the full list of other categories, we can set `target_selection = 8`, and `invert_target_selection = true`."
   ]
  },
  {
   "cell_type": "code",
   "execution_count": 6,
   "metadata": {
    "collapsed": false,
    "deletable": true,
    "editable": true
   },
   "outputs": [
    {
     "name": "stdout",
     "output_type": "stream",
     "text": [
      "\u001b[36m[notice | MIPVerify]: Loading model from cache.\n",
      "\u001b[39m\u001b[36m[notice | MIPVerify]: Attempting to find adversarial example. Neural net predicted label is 8, target labels are [1, 2, 3, 4, 5, 6, 7, 9, 10]\n",
      "\u001b[39mAcademic license - for non-commercial use only\n",
      "Objective Value: 3.171856, Solve Time: 32.32\n"
     ]
    }
   ],
   "source": [
    "d = MIPVerify.find_adversarial_example(n1, sample_image, 8, GurobiSolver(OutputFlag=0), \n",
    "    invert_target_selection=true)\n",
    "print_summary(d)"
   ]
  },
  {
   "cell_type": "markdown",
   "metadata": {
    "deletable": true,
    "editable": true
   },
   "source": [
    "## More precise control over activations in output layer\n",
    "### Default Behavior\n",
    "The default option for `tolerance` is 0. This means that the activations in the softmax layer will take its maximum value for the target label (or at least one of them if more than one is specified), but that this maximum may not be unique.\n",
    "\n",
    "In the example below, notice how the activations `y[8]` and `y[10]` (corresponding to labels 7 and 9) are equal, at 3.49171."
   ]
  },
  {
   "cell_type": "code",
   "execution_count": 7,
   "metadata": {
    "collapsed": false,
    "deletable": true,
    "editable": true
   },
   "outputs": [
    {
     "name": "stdout",
     "output_type": "stream",
     "text": [
      "\u001b[36m[notice | MIPVerify]: Loading model from cache.\n",
      "\u001b[39m\u001b[36m[notice | MIPVerify]: Attempting to find adversarial example. Neural net predicted label is 8, target labels are [10]\n",
      "\u001b[39mAcademic license - for non-commercial use only\n",
      "Objective Value: 3.171856, Solve Time: 3.77\n"
     ]
    },
    {
     "data": {
      "text/plain": [
       "10-element Array{Float64,1}:\n",
       " 0.388105\n",
       " 0.515855\n",
       " 1.25875 \n",
       " 0.296821\n",
       " 0.410448\n",
       " 0.556019\n",
       " 0.444605\n",
       " 3.49171 \n",
       " 0.412949\n",
       " 3.49171 "
      ]
     },
     "execution_count": 7,
     "metadata": {},
     "output_type": "execute_result"
    }
   ],
   "source": [
    "d = MIPVerify.find_adversarial_example(n1, sample_image, 10, GurobiSolver(OutputFlag=0))\n",
    "print_summary(d)\n",
    "perturbed_sample_image = getvalue(d[:PerturbedInput])\n",
    "y = perturbed_sample_image |> n1"
   ]
  },
  {
   "cell_type": "markdown",
   "metadata": {
    "deletable": true,
    "editable": true
   },
   "source": [
    "### Ensuring difference in activation between target labels and non-target labels\n",
    "\n",
    "If we want to ensure that the maximum is unique, we can add a small tolerance. This is the minimum difference between the activation of the target label (or the maximum activation of any of the target labels) and any non-target label. In the example below, with a tolerance of 0.001, notice how `y[8] = 3.49243 = 0.00100 + 3.49143 = tolerance + y[10]`.\n",
    "\n",
    "_This increases the objective value slightly (since the closest adversarial example with the required tolerance must be slightly further away.)_"
   ]
  },
  {
   "cell_type": "code",
   "execution_count": 8,
   "metadata": {
    "collapsed": false,
    "deletable": true,
    "editable": true
   },
   "outputs": [
    {
     "name": "stdout",
     "output_type": "stream",
     "text": [
      "\u001b[36m[notice | MIPVerify]: Loading model from cache.\n",
      "\u001b[39m\u001b[36m[notice | MIPVerify]: Attempting to find adversarial example. Neural net predicted label is 8, target labels are [10]\n",
      "\u001b[39mAcademic license - for non-commercial use only\n",
      "Objective Value: 3.172870, Solve Time: 5.29\n"
     ]
    },
    {
     "data": {
      "text/plain": [
       "10-element Array{Float64,1}:\n",
       " 0.388176\n",
       " 0.515929\n",
       " 1.2587  \n",
       " 0.296866\n",
       " 0.410472\n",
       " 0.556048\n",
       " 0.444678\n",
       " 3.49143 \n",
       " 0.41283 \n",
       " 3.49243 "
      ]
     },
     "execution_count": 8,
     "metadata": {},
     "output_type": "execute_result"
    }
   ],
   "source": [
    "d = MIPVerify.find_adversarial_example(n1, sample_image, 10, GurobiSolver(OutputFlag=0), \n",
    "    tolerance = 0.001)\n",
    "print_summary(d)\n",
    "perturbed_sample_image = getvalue(d[:PerturbedInput])\n",
    "y = perturbed_sample_image |> n1"
   ]
  },
  {
   "cell_type": "markdown",
   "metadata": {
    "deletable": true,
    "editable": true
   },
   "source": [
    "## Restricting the Family of Perturbations\n",
    "\n",
    "### Unrestricted Perturbations\n",
    "\n",
    "The standard threat model is to allow each pixel to be perturbed independently, which is what happens by default:"
   ]
  },
  {
   "cell_type": "code",
   "execution_count": 9,
   "metadata": {
    "collapsed": false,
    "deletable": true,
    "editable": true
   },
   "outputs": [
    {
     "name": "stdout",
     "output_type": "stream",
     "text": [
      "\u001b[36m[notice | MIPVerify]: Loading model from cache.\n",
      "\u001b[39m\u001b[36m[notice | MIPVerify]: Attempting to find adversarial example. Neural net predicted label is 8, target labels are [10]\n",
      "\u001b[39mAcademic license - for non-commercial use only\n",
      "  3.935686 seconds (332.90 k allocations: 17.472 MiB, 0.34% gc time)\n"
     ]
    },
    {
     "data": {
      "image/png": "[encoded data removed]",
      "text/plain": [
       "28×28 Array{Gray{Float64},2}:\n",
       " Gray{Float64}(0.0)  Gray{Float64}(0.0)  …  Gray{Float64}(0.0)     \n",
       " Gray{Float64}(0.0)  Gray{Float64}(0.0)     Gray{Float64}(0.0)     \n",
       " Gray{Float64}(0.0)  Gray{Float64}(0.0)     Gray{Float64}(0.0)     \n",
       " Gray{Float64}(0.0)  Gray{Float64}(0.0)     Gray{Float64}(0.0)     \n",
       " Gray{Float64}(0.0)  Gray{Float64}(0.0)     Gray{Float64}(0.0)     \n",
       " Gray{Float64}(0.0)  Gray{Float64}(0.0)  …  Gray{Float64}(0.0)     \n",
       " Gray{Float64}(0.0)  Gray{Float64}(0.0)     Gray{Float64}(0.0)     \n",
       " Gray{Float64}(0.0)  Gray{Float64}(0.0)     Gray{Float64}(0.0)     \n",
       " Gray{Float64}(0.0)  Gray{Float64}(0.0)     Gray{Float64}(0.0)     \n",
       " Gray{Float64}(0.0)  Gray{Float64}(0.0)     Gray{Float64}(0.0)     \n",
       " Gray{Float64}(0.0)  Gray{Float64}(0.0)  …  Gray{Float64}(0.0)     \n",
       " Gray{Float64}(0.0)  Gray{Float64}(0.0)     Gray{Float64}(0.0)     \n",
       " Gray{Float64}(0.0)  Gray{Float64}(0.0)     Gray{Float64}(0.0)     \n",
       " ⋮                                       ⋱                         \n",
       " Gray{Float64}(0.0)  Gray{Float64}(0.0)     Gray{Float64}(0.0)     \n",
       " Gray{Float64}(0.0)  Gray{Float64}(0.0)     Gray{Float64}(0.250287)\n",
       " Gray{Float64}(0.0)  Gray{Float64}(0.0)     Gray{Float64}(0.0)     \n",
       " Gray{Float64}(0.0)  Gray{Float64}(0.0)     Gray{Float64}(0.0)     \n",
       " Gray{Float64}(0.0)  Gray{Float64}(0.0)  …  Gray{Float64}(0.0)     \n",
       " Gray{Float64}(0.0)  Gray{Float64}(0.0)     Gray{Float64}(0.0)     \n",
       " Gray{Float64}(0.0)  Gray{Float64}(0.0)     Gray{Float64}(0.0)     \n",
       " Gray{Float64}(0.0)  Gray{Float64}(0.0)     Gray{Float64}(0.0)     \n",
       " Gray{Float64}(0.0)  Gray{Float64}(0.0)     Gray{Float64}(0.0)     \n",
       " Gray{Float64}(0.0)  Gray{Float64}(0.0)  …  Gray{Float64}(0.0)     \n",
       " Gray{Float64}(0.0)  Gray{Float64}(0.0)     Gray{Float64}(0.0)     \n",
       " Gray{Float64}(0.0)  Gray{Float64}(0.0)     Gray{Float64}(0.0)     "
      ]
     },
     "execution_count": 9,
     "metadata": {},
     "output_type": "execute_result"
    }
   ],
   "source": [
    "d = @time MIPVerify.find_adversarial_example(n1, sample_image, 10, GurobiSolver(OutputFlag=0));\n",
    "perturbed_sample_image = getvalue(d[:PerturbedInput])\n",
    "colorview(Gray, perturbed_sample_image[1, :, :, 1])"
   ]
  },
  {
   "cell_type": "markdown",
   "metadata": {
    "deletable": true,
    "editable": true
   },
   "source": [
    "### $L_\\infty$-norm Bounded Perturbations\n",
    "\n",
    "We can bound the $L_\\infty$-norm of the perturbation."
   ]
  },
  {
   "cell_type": "markdown",
   "metadata": {
    "deletable": true,
    "editable": true
   },
   "source": [
    "As long as the size of the $L_\\infty$-norm bound we choose is larger than the actual ($L_\\infty$-)minimal perturbation, we will find the same result, and often more quickly."
   ]
  },
  {
   "cell_type": "code",
   "execution_count": 10,
   "metadata": {
    "collapsed": false,
    "deletable": true,
    "editable": true
   },
   "outputs": [
    {
     "name": "stdout",
     "output_type": "stream",
     "text": [
      "\u001b[36m[notice | MIPVerify]: Loading model from cache.\n",
      "\u001b[39m\u001b[36m[notice | MIPVerify]: Attempting to find adversarial example. Neural net predicted label is 8, target labels are [10]\n",
      "\u001b[39mAcademic license - for non-commercial use only\n",
      "  2.068685 seconds (372.96 k allocations: 19.435 MiB, 0.53% gc time)\n"
     ]
    },
    {
     "data": {
      "image/png": "[encoded data removed]",
      "text/plain": [
       "28×28 Array{Gray{Float64},2}:\n",
       " Gray{Float64}(0.0335223)  …  Gray{Float64}(0.0335223)\n",
       " Gray{Float64}(0.0335223)     Gray{Float64}(0.0335223)\n",
       " Gray{Float64}(0.0335223)     Gray{Float64}(0.0335223)\n",
       " Gray{Float64}(0.0335223)     Gray{Float64}(0.0)      \n",
       " Gray{Float64}(0.0335223)     Gray{Float64}(0.0335223)\n",
       " Gray{Float64}(0.0335223)  …  Gray{Float64}(0.0335223)\n",
       " Gray{Float64}(0.0335223)     Gray{Float64}(0.0335223)\n",
       " Gray{Float64}(0.0335223)     Gray{Float64}(0.0335223)\n",
       " Gray{Float64}(0.0)           Gray{Float64}(0.0335223)\n",
       " Gray{Float64}(0.0335223)     Gray{Float64}(0.0335223)\n",
       " Gray{Float64}(0.0335223)  …  Gray{Float64}(0.0)      \n",
       " Gray{Float64}(0.0335223)     Gray{Float64}(0.0335223)\n",
       " Gray{Float64}(0.0335223)     Gray{Float64}(0.0)      \n",
       " ⋮                         ⋱                          \n",
       " Gray{Float64}(0.0335223)     Gray{Float64}(0.0335223)\n",
       " Gray{Float64}(0.0335223)     Gray{Float64}(0.0335223)\n",
       " Gray{Float64}(0.0)           Gray{Float64}(0.0335223)\n",
       " Gray{Float64}(0.0)           Gray{Float64}(0.0335223)\n",
       " Gray{Float64}(0.0335223)  …  Gray{Float64}(0.0335223)\n",
       " Gray{Float64}(0.0335223)     Gray{Float64}(0.0335223)\n",
       " Gray{Float64}(0.0335223)     Gray{Float64}(0.0335223)\n",
       " Gray{Float64}(0.0335223)     Gray{Float64}(0.0335223)\n",
       " Gray{Float64}(0.0335223)     Gray{Float64}(0.0335223)\n",
       " Gray{Float64}(0.0335223)  …  Gray{Float64}(0.0335223)\n",
       " Gray{Float64}(0.0335223)     Gray{Float64}(0.0)      \n",
       " Gray{Float64}(0.0)           Gray{Float64}(0.0335223)"
      ]
     },
     "execution_count": 10,
     "metadata": {},
     "output_type": "execute_result"
    }
   ],
   "source": [
    "d = @time MIPVerify.find_adversarial_example(n1, sample_image, 10, GurobiSolver(OutputFlag=0),\n",
    "    norm_order=Inf);\n",
    "perturbed_sample_image = getvalue(d[:PerturbedInput])\n",
    "colorview(Gray, perturbed_sample_image[1, :, :, 1])"
   ]
  },
  {
   "cell_type": "code",
   "execution_count": 11,
   "metadata": {
    "collapsed": false,
    "deletable": true,
    "editable": true
   },
   "outputs": [
    {
     "name": "stdout",
     "output_type": "stream",
     "text": [
      "\u001b[36m[notice | MIPVerify]: Rebuilding model from scratch. This may take some time as we determine upper and lower bounds for the input to each non-linear unit.\n",
      "\u001b[39mAcademic license - for non-commercial use only\n"
     ]
    },
    {
     "name": "stderr",
     "output_type": "stream",
     "text": [
      "\u001b[32m  Calculating upper bounds: 100%|███████████████████████| Time: 0:00:02\u001b[39m\n",
      "\u001b[32m  Calculating lower bounds: 100%|███████████████████████| Time: 0:00:02\u001b[39m\n"
     ]
    },
    {
     "name": "stdout",
     "output_type": "stream",
     "text": [
      "\u001b[36m[notice | MIPVerify]: The model built will be cached and re-used for future solves, unless you explicitly set rebuild=true.\n",
      "\u001b[39m\u001b[36m[notice | MIPVerify]: Attempting to find adversarial example. Neural net predicted label is 8, target labels are [10]\n",
      "\u001b[39mAcademic license - for non-commercial use only\n",
      "  6.328623 seconds (471.32 k allocations: 74.485 MiB, 2.76% gc time)\n"
     ]
    },
    {
     "data": {
      "image/png": "[encoded data removed]",
      "text/plain": [
       "28×28 Array{Gray{Float64},2}:\n",
       " Gray{Float64}(0.0335223)  …  Gray{Float64}(0.0335223)\n",
       " Gray{Float64}(0.0335223)     Gray{Float64}(0.0335223)\n",
       " Gray{Float64}(0.0335223)     Gray{Float64}(0.0335223)\n",
       " Gray{Float64}(0.0335223)     Gray{Float64}(0.0)      \n",
       " Gray{Float64}(0.0335223)     Gray{Float64}(0.0335223)\n",
       " Gray{Float64}(0.0335223)  …  Gray{Float64}(0.0335223)\n",
       " Gray{Float64}(0.0335223)     Gray{Float64}(0.0335223)\n",
       " Gray{Float64}(0.0335223)     Gray{Float64}(0.0335223)\n",
       " Gray{Float64}(0.0)           Gray{Float64}(0.0335223)\n",
       " Gray{Float64}(0.0335223)     Gray{Float64}(0.0335223)\n",
       " Gray{Float64}(0.0335223)  …  Gray{Float64}(0.0)      \n",
       " Gray{Float64}(0.0335223)     Gray{Float64}(0.0335223)\n",
       " Gray{Float64}(0.0335223)     Gray{Float64}(0.0)      \n",
       " ⋮                         ⋱                          \n",
       " Gray{Float64}(0.0335223)     Gray{Float64}(0.0335223)\n",
       " Gray{Float64}(0.0335223)     Gray{Float64}(0.0335223)\n",
       " Gray{Float64}(0.0)           Gray{Float64}(0.0335223)\n",
       " Gray{Float64}(0.0)           Gray{Float64}(0.0335223)\n",
       " Gray{Float64}(0.0335223)  …  Gray{Float64}(0.0335223)\n",
       " Gray{Float64}(0.0335223)     Gray{Float64}(0.0335223)\n",
       " Gray{Float64}(0.0335223)     Gray{Float64}(0.0335223)\n",
       " Gray{Float64}(0.0335223)     Gray{Float64}(0.0335223)\n",
       " Gray{Float64}(0.0335223)     Gray{Float64}(0.0335223)\n",
       " Gray{Float64}(0.0335223)  …  Gray{Float64}(0.0335223)\n",
       " Gray{Float64}(0.0335223)     Gray{Float64}(0.0)      \n",
       " Gray{Float64}(0.0)           Gray{Float64}(0.0335223)"
      ]
     },
     "execution_count": 11,
     "metadata": {},
     "output_type": "execute_result"
    }
   ],
   "source": [
    "d = @time MIPVerify.find_adversarial_example(n1, sample_image, 10, GurobiSolver(OutputFlag=0),\n",
    "    pp = MIPVerify.LInfNormBoundedPerturbationFamily(0.05), norm_order=Inf);\n",
    "perturbed_sample_image = getvalue(d[:PerturbedInput])\n",
    "colorview(Gray, perturbed_sample_image[1, :, :, 1])"
   ]
  },
  {
   "cell_type": "markdown",
   "metadata": {
    "deletable": true,
    "editable": true
   },
   "source": [
    "If the $L_\\infty$-norm bound you choose is smaller than the actual minimal perturbation, the problem is Infeasible, with a status code of either `:Infeasible` or `:InfeasibleOrUnbounded`. (Make sure you cover both cases!)"
   ]
  },
  {
   "cell_type": "code",
   "execution_count": 12,
   "metadata": {
    "collapsed": false,
    "deletable": true,
    "editable": true
   },
   "outputs": [
    {
     "name": "stdout",
     "output_type": "stream",
     "text": [
      "\u001b[36m[notice | MIPVerify]: Rebuilding model from scratch. This may take some time as we determine upper and lower bounds for the input to each non-linear unit.\n",
      "\u001b[39mAcademic license - for non-commercial use only\n"
     ]
    },
    {
     "name": "stderr",
     "output_type": "stream",
     "text": [
      "\u001b[32m  Calculating upper bounds: 100%|███████████████████████| Time: 0:00:01\u001b[39m\n",
      "\u001b[32m  Calculating lower bounds:  65%|███████████████        |  ETA: 0:00:00\u001b[39m\r"
     ]
    },
    {
     "name": "stdout",
     "output_type": "stream",
     "text": [
      "\u001b[36m[notice | MIPVerify]: The model built will be cached and re-used for future solves, unless you explicitly set rebuild=true.\n",
      "\u001b[39m"
     ]
    },
    {
     "name": "stderr",
     "output_type": "stream",
     "text": [
      "\u001b[32m  Calculating lower bounds:  80%|██████████████████     |  ETA: 0:00:00\u001b[39m\r",
      "\u001b[32m  Calculating lower bounds: 100%|███████████████████████| Time: 0:00:01\u001b[39m\n"
     ]
    },
    {
     "name": "stdout",
     "output_type": "stream",
     "text": [
      "\u001b[36m[notice | MIPVerify]: Attempting to find adversarial example. Neural net predicted label is 8, target labels are [10]\n",
      "\u001b[39mAcademic license - for non-commercial use only\n",
      "  2.776026 seconds (442.21 k allocations: 73.731 MiB, 0.39% gc time)\n"
     ]
    },
    {
     "name": "stderr",
     "output_type": "stream",
     "text": [
      "\u001b[1m\u001b[33mWARNING: \u001b[39m\u001b[22m\u001b[33mGurobi reported infeasible or unbounded. Set InfUnbdInfo=1 for more specific status.\u001b[39m\n",
      "\u001b[1m\u001b[33mWARNING: \u001b[39m\u001b[22m\u001b[33mNot solved to optimality, status: InfeasibleOrUnbounded\u001b[39m\n"
     ]
    }
   ],
   "source": [
    "d = @time MIPVerify.find_adversarial_example(n1, sample_image, 10, GurobiSolver(OutputFlag=0),\n",
    "    pp = MIPVerify.LInfNormBoundedPerturbationFamily(0.03), norm_order=Inf);"
   ]
  },
  {
   "cell_type": "code",
   "execution_count": 13,
   "metadata": {
    "collapsed": false,
    "deletable": true,
    "editable": true
   },
   "outputs": [
    {
     "data": {
      "text/plain": [
       ":InfeasibleOrUnbounded"
      ]
     },
     "execution_count": 13,
     "metadata": {},
     "output_type": "execute_result"
    }
   ],
   "source": [
    "d[:SolveStatus]"
   ]
  },
  {
   "cell_type": "markdown",
   "metadata": {
    "deletable": true,
    "editable": true
   },
   "source": [
    "### Blurring Perturbations\n",
    "\n",
    "We can restrict the perturbations to a blur with a 5x5 kernel instead. (We are still minimizing over the norm of the perturbation.)"
   ]
  },
  {
   "cell_type": "code",
   "execution_count": 14,
   "metadata": {
    "collapsed": false,
    "deletable": true,
    "editable": true
   },
   "outputs": [
    {
     "name": "stdout",
     "output_type": "stream",
     "text": [
      "\u001b[36m[notice | MIPVerify]: Rebuilding model from scratch. This may take some time as we determine upper and lower bounds for the input to each non-linear unit.\n",
      "\u001b[39mAcademic license - for non-commercial use only\n"
     ]
    },
    {
     "name": "stderr",
     "output_type": "stream",
     "text": [
      "\u001b[32m  Calculating upper bounds: 100%|███████████████████████| Time: 0:00:04\u001b[39m\n",
      "\u001b[32m  Calculating lower bounds: 100%|███████████████████████| Time: 0:00:05\u001b[39m\n"
     ]
    },
    {
     "name": "stdout",
     "output_type": "stream",
     "text": [
      "\u001b[36m[notice | MIPVerify]: The model built will be cached and re-used for future solves, unless you explicitly set rebuild=true.\n",
      "\u001b[39m\u001b[36m[notice | MIPVerify]: Attempting to find adversarial example. Neural net predicted label is 8, target labels are [10]\n",
      "\u001b[39mAcademic license - for non-commercial use only\n",
      " 10.625548 seconds (741.56 k allocations: 70.597 MiB, 0.14% gc time)\n"
     ]
    },
    {
     "data": {
      "image/png": "[encoded data removed]",
      "text/plain": [
       "28×28 Array{Gray{Float64},2}:\n",
       " Gray{Float64}(-0.0)  Gray{Float64}(-0.0)  …  Gray{Float64}(-0.0)\n",
       " Gray{Float64}(-0.0)  Gray{Float64}(-0.0)     Gray{Float64}(-0.0)\n",
       " Gray{Float64}(-0.0)  Gray{Float64}(-0.0)     Gray{Float64}(-0.0)\n",
       " Gray{Float64}(-0.0)  Gray{Float64}(-0.0)     Gray{Float64}(-0.0)\n",
       " Gray{Float64}(-0.0)  Gray{Float64}(-0.0)     Gray{Float64}(-0.0)\n",
       " Gray{Float64}(-0.0)  Gray{Float64}(-0.0)  …  Gray{Float64}(-0.0)\n",
       " Gray{Float64}(-0.0)  Gray{Float64}(0.0)      Gray{Float64}(-0.0)\n",
       " Gray{Float64}(0.0)   Gray{Float64}(0.0)      Gray{Float64}(-0.0)\n",
       " Gray{Float64}(0.0)   Gray{Float64}(0.0)      Gray{Float64}(-0.0)\n",
       " Gray{Float64}(0.0)   Gray{Float64}(0.0)      Gray{Float64}(-0.0)\n",
       " Gray{Float64}(0.0)   Gray{Float64}(0.0)   …  Gray{Float64}(-0.0)\n",
       " Gray{Float64}(0.0)   Gray{Float64}(0.0)      Gray{Float64}(-0.0)\n",
       " Gray{Float64}(0.0)   Gray{Float64}(0.0)      Gray{Float64}(-0.0)\n",
       " ⋮                                         ⋱                     \n",
       " Gray{Float64}(-0.0)  Gray{Float64}(-0.0)     Gray{Float64}(-0.0)\n",
       " Gray{Float64}(-0.0)  Gray{Float64}(-0.0)     Gray{Float64}(-0.0)\n",
       " Gray{Float64}(-0.0)  Gray{Float64}(-0.0)     Gray{Float64}(-0.0)\n",
       " Gray{Float64}(-0.0)  Gray{Float64}(-0.0)     Gray{Float64}(-0.0)\n",
       " Gray{Float64}(-0.0)  Gray{Float64}(-0.0)  …  Gray{Float64}(-0.0)\n",
       " Gray{Float64}(-0.0)  Gray{Float64}(-0.0)     Gray{Float64}(-0.0)\n",
       " Gray{Float64}(-0.0)  Gray{Float64}(-0.0)     Gray{Float64}(-0.0)\n",
       " Gray{Float64}(-0.0)  Gray{Float64}(-0.0)     Gray{Float64}(-0.0)\n",
       " Gray{Float64}(-0.0)  Gray{Float64}(-0.0)     Gray{Float64}(-0.0)\n",
       " Gray{Float64}(-0.0)  Gray{Float64}(-0.0)  …  Gray{Float64}(-0.0)\n",
       " Gray{Float64}(-0.0)  Gray{Float64}(-0.0)     Gray{Float64}(-0.0)\n",
       " Gray{Float64}(-0.0)  Gray{Float64}(-0.0)     Gray{Float64}(-0.0)"
      ]
     },
     "execution_count": 14,
     "metadata": {},
     "output_type": "execute_result"
    }
   ],
   "source": [
    "d = @time MIPVerify.find_adversarial_example(n1, sample_image, 10, GurobiSolver(OutputFlag=0),\n",
    "    pp = MIPVerify.BlurringPerturbationFamily((5, 5)));\n",
    "perturbed_sample_image = getvalue(d[:PerturbedInput])\n",
    "colorview(Gray, perturbed_sample_image[1, :, :, 1])"
   ]
  },
  {
   "cell_type": "code",
   "execution_count": 15,
   "metadata": {
    "collapsed": false,
    "deletable": true,
    "editable": true
   },
   "outputs": [
    {
     "data": {
      "image/png": "[encoded data removed]",
      "text/plain": [
       "28×28 Array{RGB{Float64},2}:\n",
       " RGB{Float64}(0.974598,0.972607,0.975359)  …  RGB{Float64}(0.974598,0.972607,0.975359)\n",
       " RGB{Float64}(0.974598,0.972607,0.975359)     RGB{Float64}(0.974598,0.972607,0.975359)\n",
       " RGB{Float64}(0.974598,0.972607,0.975359)     RGB{Float64}(0.974598,0.972607,0.975359)\n",
       " RGB{Float64}(0.974598,0.972607,0.975359)     RGB{Float64}(0.974598,0.972607,0.975359)\n",
       " RGB{Float64}(0.974598,0.972607,0.975359)     RGB{Float64}(0.974598,0.972607,0.975359)\n",
       " RGB{Float64}(0.974598,0.972607,0.975359)  …  RGB{Float64}(0.974598,0.972607,0.975359)\n",
       " RGB{Float64}(0.974598,0.972607,0.975359)     RGB{Float64}(0.974598,0.972607,0.975359)\n",
       " RGB{Float64}(0.974598,0.972607,0.975359)     RGB{Float64}(0.974598,0.972607,0.975359)\n",
       " RGB{Float64}(0.974598,0.972607,0.975359)     RGB{Float64}(0.974598,0.972607,0.975359)\n",
       " RGB{Float64}(0.974598,0.972607,0.975359)     RGB{Float64}(0.974598,0.972607,0.975359)\n",
       " RGB{Float64}(0.974598,0.972607,0.975359)  …  RGB{Float64}(0.974598,0.972607,0.975359)\n",
       " RGB{Float64}(0.974598,0.972607,0.975359)     RGB{Float64}(0.974598,0.972607,0.975359)\n",
       " RGB{Float64}(0.974598,0.972607,0.975359)     RGB{Float64}(0.974598,0.972607,0.975359)\n",
       " ⋮                                         ⋱                                          \n",
       " RGB{Float64}(0.974598,0.972607,0.975359)     RGB{Float64}(0.974598,0.972607,0.975359)\n",
       " RGB{Float64}(0.974598,0.972607,0.975359)     RGB{Float64}(0.974598,0.972607,0.975359)\n",
       " RGB{Float64}(0.974598,0.972607,0.975359)     RGB{Float64}(0.974598,0.972607,0.975359)\n",
       " RGB{Float64}(0.974598,0.972607,0.975359)     RGB{Float64}(0.974598,0.972607,0.975359)\n",
       " RGB{Float64}(0.974598,0.972607,0.975359)  …  RGB{Float64}(0.974598,0.972607,0.975359)\n",
       " RGB{Float64}(0.974598,0.972607,0.975359)     RGB{Float64}(0.974598,0.972607,0.975359)\n",
       " RGB{Float64}(0.974598,0.972607,0.975359)     RGB{Float64}(0.974598,0.972607,0.975359)\n",
       " RGB{Float64}(0.974598,0.972607,0.975359)     RGB{Float64}(0.974598,0.972607,0.975359)\n",
       " RGB{Float64}(0.974598,0.972607,0.975359)     RGB{Float64}(0.974598,0.972607,0.975359)\n",
       " RGB{Float64}(0.974598,0.972607,0.975359)  …  RGB{Float64}(0.974598,0.972607,0.975359)\n",
       " RGB{Float64}(0.974598,0.972607,0.975359)     RGB{Float64}(0.974598,0.972607,0.975359)\n",
       " RGB{Float64}(0.974598,0.972607,0.975359)     RGB{Float64}(0.974598,0.972607,0.975359)"
      ]
     },
     "execution_count": 15,
     "metadata": {},
     "output_type": "execute_result"
    }
   ],
   "source": [
    "diff = getvalue(d[:Perturbation])\n",
    "view_diff(diff[1, :, :, 1])"
   ]
  },
  {
   "cell_type": "markdown",
   "metadata": {
    "deletable": true,
    "editable": true
   },
   "source": [
    "## Minimizing Over Different Norms\n",
    "### $l_1$\n",
    "By default, we minimize the $l_1$ norm of the perturbation. This generally encourages sparsity in the perturbations. \n",
    "\n",
    "In this case, the minimum $l_1$ norm perturbation required for the image to be classified as a `9` is `3.171856.`"
   ]
  },
  {
   "cell_type": "code",
   "execution_count": 16,
   "metadata": {
    "collapsed": false,
    "deletable": true,
    "editable": true
   },
   "outputs": [
    {
     "name": "stdout",
     "output_type": "stream",
     "text": [
      "\u001b[36m[notice | MIPVerify]: Loading model from cache.\n",
      "\u001b[39m\u001b[36m[notice | MIPVerify]: Attempting to find adversarial example. Neural net predicted label is 8, target labels are [10]\n",
      "\u001b[39mAcademic license - for non-commercial use only\n",
      "Objective Value: 3.171856, Solve Time: 4.20\n"
     ]
    },
    {
     "data": {
      "image/png": "[encoded data removed]",
      "text/plain": [
       "28×28 Array{Gray{Float64},2}:\n",
       " Gray{Float64}(0.0)  Gray{Float64}(0.0)  …  Gray{Float64}(0.0)     \n",
       " Gray{Float64}(0.0)  Gray{Float64}(0.0)     Gray{Float64}(0.0)     \n",
       " Gray{Float64}(0.0)  Gray{Float64}(0.0)     Gray{Float64}(0.0)     \n",
       " Gray{Float64}(0.0)  Gray{Float64}(0.0)     Gray{Float64}(0.0)     \n",
       " Gray{Float64}(0.0)  Gray{Float64}(0.0)     Gray{Float64}(0.0)     \n",
       " Gray{Float64}(0.0)  Gray{Float64}(0.0)  …  Gray{Float64}(0.0)     \n",
       " Gray{Float64}(0.0)  Gray{Float64}(0.0)     Gray{Float64}(0.0)     \n",
       " Gray{Float64}(0.0)  Gray{Float64}(0.0)     Gray{Float64}(0.0)     \n",
       " Gray{Float64}(0.0)  Gray{Float64}(0.0)     Gray{Float64}(0.0)     \n",
       " Gray{Float64}(0.0)  Gray{Float64}(0.0)     Gray{Float64}(0.0)     \n",
       " Gray{Float64}(0.0)  Gray{Float64}(0.0)  …  Gray{Float64}(0.0)     \n",
       " Gray{Float64}(0.0)  Gray{Float64}(0.0)     Gray{Float64}(0.0)     \n",
       " Gray{Float64}(0.0)  Gray{Float64}(0.0)     Gray{Float64}(0.0)     \n",
       " ⋮                                       ⋱                         \n",
       " Gray{Float64}(0.0)  Gray{Float64}(0.0)     Gray{Float64}(0.0)     \n",
       " Gray{Float64}(0.0)  Gray{Float64}(0.0)     Gray{Float64}(0.250287)\n",
       " Gray{Float64}(0.0)  Gray{Float64}(0.0)     Gray{Float64}(0.0)     \n",
       " Gray{Float64}(0.0)  Gray{Float64}(0.0)     Gray{Float64}(0.0)     \n",
       " Gray{Float64}(0.0)  Gray{Float64}(0.0)  …  Gray{Float64}(0.0)     \n",
       " Gray{Float64}(0.0)  Gray{Float64}(0.0)     Gray{Float64}(0.0)     \n",
       " Gray{Float64}(0.0)  Gray{Float64}(0.0)     Gray{Float64}(0.0)     \n",
       " Gray{Float64}(0.0)  Gray{Float64}(0.0)     Gray{Float64}(0.0)     \n",
       " Gray{Float64}(0.0)  Gray{Float64}(0.0)     Gray{Float64}(0.0)     \n",
       " Gray{Float64}(0.0)  Gray{Float64}(0.0)  …  Gray{Float64}(0.0)     \n",
       " Gray{Float64}(0.0)  Gray{Float64}(0.0)     Gray{Float64}(0.0)     \n",
       " Gray{Float64}(0.0)  Gray{Float64}(0.0)     Gray{Float64}(0.0)     "
      ]
     },
     "execution_count": 16,
     "metadata": {},
     "output_type": "execute_result"
    }
   ],
   "source": [
    "d = MIPVerify.find_adversarial_example(n1, sample_image, 10, GurobiSolver(OutputFlag=0));\n",
    "print_summary(d)\n",
    "perturbed_sample_image = getvalue(d[:PerturbedInput])\n",
    "colorview(Gray, perturbed_sample_image[1, :, :, 1])"
   ]
  },
  {
   "cell_type": "markdown",
   "metadata": {
    "deletable": true,
    "editable": true
   },
   "source": [
    "We also show the difference between the perturbed image and the original image. Red is areas of decreased brightness and blue is areas of increased brightness."
   ]
  },
  {
   "cell_type": "code",
   "execution_count": 17,
   "metadata": {
    "collapsed": false,
    "deletable": true,
    "editable": true
   },
   "outputs": [
    {
     "data": {
      "image/png": "[encoded data removed]",
      "text/plain": [
       "28×28 Array{RGB{Float64},2}:\n",
       " RGB{Float64}(0.974598,0.972607,0.975359)  …  RGB{Float64}(0.974598,0.972607,0.975359)\n",
       " RGB{Float64}(0.974598,0.972607,0.975359)     RGB{Float64}(0.974598,0.972607,0.975359)\n",
       " RGB{Float64}(0.974598,0.972607,0.975359)     RGB{Float64}(0.974598,0.972607,0.975359)\n",
       " RGB{Float64}(0.974598,0.972607,0.975359)     RGB{Float64}(0.974598,0.972607,0.975359)\n",
       " RGB{Float64}(0.974598,0.972607,0.975359)     RGB{Float64}(0.974598,0.972607,0.975359)\n",
       " RGB{Float64}(0.974598,0.972607,0.975359)  …  RGB{Float64}(0.974598,0.972607,0.975359)\n",
       " RGB{Float64}(0.974598,0.972607,0.975359)     RGB{Float64}(0.974598,0.972607,0.975359)\n",
       " RGB{Float64}(0.974598,0.972607,0.975359)     RGB{Float64}(0.974598,0.972607,0.975359)\n",
       " RGB{Float64}(0.974598,0.972607,0.975359)     RGB{Float64}(0.974598,0.972607,0.975359)\n",
       " RGB{Float64}(0.974598,0.972607,0.975359)     RGB{Float64}(0.974598,0.972607,0.975359)\n",
       " RGB{Float64}(0.974598,0.972607,0.975359)  …  RGB{Float64}(0.974598,0.972607,0.975359)\n",
       " RGB{Float64}(0.974598,0.972607,0.975359)     RGB{Float64}(0.974598,0.972607,0.975359)\n",
       " RGB{Float64}(0.974598,0.972607,0.975359)     RGB{Float64}(0.974598,0.972607,0.975359)\n",
       " ⋮                                         ⋱                                          \n",
       " RGB{Float64}(0.974598,0.972607,0.975359)     RGB{Float64}(0.974598,0.972607,0.975359)\n",
       " RGB{Float64}(0.974598,0.972607,0.975359)     RGB{Float64}(0.723685,0.871963,0.968818)\n",
       " RGB{Float64}(0.974598,0.972607,0.975359)     RGB{Float64}(0.974598,0.972607,0.975359)\n",
       " RGB{Float64}(0.974598,0.972607,0.975359)     RGB{Float64}(0.974598,0.972607,0.975359)\n",
       " RGB{Float64}(0.974598,0.972607,0.975359)  …  RGB{Float64}(0.974598,0.972607,0.975359)\n",
       " RGB{Float64}(0.974598,0.972607,0.975359)     RGB{Float64}(0.974598,0.972607,0.975359)\n",
       " RGB{Float64}(0.974598,0.972607,0.975359)     RGB{Float64}(0.974598,0.972607,0.975359)\n",
       " RGB{Float64}(0.974598,0.972607,0.975359)     RGB{Float64}(0.974598,0.972607,0.975359)\n",
       " RGB{Float64}(0.974598,0.972607,0.975359)     RGB{Float64}(0.974598,0.972607,0.975359)\n",
       " RGB{Float64}(0.974598,0.972607,0.975359)  …  RGB{Float64}(0.974598,0.972607,0.975359)\n",
       " RGB{Float64}(0.974598,0.972607,0.975359)     RGB{Float64}(0.974598,0.972607,0.975359)\n",
       " RGB{Float64}(0.974598,0.972607,0.975359)     RGB{Float64}(0.974598,0.972607,0.975359)"
      ]
     },
     "execution_count": 17,
     "metadata": {},
     "output_type": "execute_result"
    }
   ],
   "source": [
    "diff = getvalue(d[:Perturbation])\n",
    "view_diff(diff[1, :, :, 1])"
   ]
  },
  {
   "cell_type": "markdown",
   "metadata": {
    "deletable": true,
    "editable": true
   },
   "source": [
    "### $l_\\infty$\n",
    "\n",
    "We can also minimize over the $l_\\infty$ norm. This generally results in large patches of the image being changed. \n",
    "\n",
    "In this case, the minimum $l_\\infty$ norm perturbation required for the image to be classified as a `9` is `0.033522.`"
   ]
  },
  {
   "cell_type": "code",
   "execution_count": 18,
   "metadata": {
    "collapsed": false,
    "deletable": true,
    "editable": true
   },
   "outputs": [
    {
     "name": "stdout",
     "output_type": "stream",
     "text": [
      "\u001b[36m[notice | MIPVerify]: Loading model from cache.\n",
      "\u001b[39m\u001b[36m[notice | MIPVerify]: Attempting to find adversarial example. Neural net predicted label is 8, target labels are [10]\n",
      "\u001b[39mAcademic license - for non-commercial use only\n",
      "Objective Value: 0.033522, Solve Time: 2.42\n"
     ]
    },
    {
     "data": {
      "image/png": "[encoded data removed]",
      "text/plain": [
       "28×28 Array{Gray{Float64},2}:\n",
       " Gray{Float64}(0.0335223)  …  Gray{Float64}(0.0335223)\n",
       " Gray{Float64}(0.0335223)     Gray{Float64}(0.0335223)\n",
       " Gray{Float64}(0.0335223)     Gray{Float64}(0.0335223)\n",
       " Gray{Float64}(0.0335223)     Gray{Float64}(0.0)      \n",
       " Gray{Float64}(0.0335223)     Gray{Float64}(0.0335223)\n",
       " Gray{Float64}(0.0335223)  …  Gray{Float64}(0.0335223)\n",
       " Gray{Float64}(0.0335223)     Gray{Float64}(0.0335223)\n",
       " Gray{Float64}(0.0335223)     Gray{Float64}(0.0335223)\n",
       " Gray{Float64}(0.0)           Gray{Float64}(0.0335223)\n",
       " Gray{Float64}(0.0335223)     Gray{Float64}(0.0335223)\n",
       " Gray{Float64}(0.0335223)  …  Gray{Float64}(0.0)      \n",
       " Gray{Float64}(0.0335223)     Gray{Float64}(0.0335223)\n",
       " Gray{Float64}(0.0335223)     Gray{Float64}(0.0)      \n",
       " ⋮                         ⋱                          \n",
       " Gray{Float64}(0.0335223)     Gray{Float64}(0.0335223)\n",
       " Gray{Float64}(0.0335223)     Gray{Float64}(0.0335223)\n",
       " Gray{Float64}(0.0)           Gray{Float64}(0.0335223)\n",
       " Gray{Float64}(0.0)           Gray{Float64}(0.0335223)\n",
       " Gray{Float64}(0.0335223)  …  Gray{Float64}(0.0335223)\n",
       " Gray{Float64}(0.0335223)     Gray{Float64}(0.0335223)\n",
       " Gray{Float64}(0.0335223)     Gray{Float64}(0.0335223)\n",
       " Gray{Float64}(0.0335223)     Gray{Float64}(0.0335223)\n",
       " Gray{Float64}(0.0335223)     Gray{Float64}(0.0335223)\n",
       " Gray{Float64}(0.0335223)  …  Gray{Float64}(0.0335223)\n",
       " Gray{Float64}(0.0335223)     Gray{Float64}(0.0)      \n",
       " Gray{Float64}(0.0)           Gray{Float64}(0.0335223)"
      ]
     },
     "execution_count": 18,
     "metadata": {},
     "output_type": "execute_result"
    }
   ],
   "source": [
    "d = MIPVerify.find_adversarial_example(n1, sample_image, 10, GurobiSolver(OutputFlag=0),\n",
    "    norm_order=Inf);\n",
    "print_summary(d)\n",
    "perturbed_sample_image = getvalue(d[:PerturbedInput])\n",
    "colorview(Gray, perturbed_sample_image[1, :, :, 1])"
   ]
  },
  {
   "cell_type": "code",
   "execution_count": 19,
   "metadata": {
    "collapsed": false,
    "deletable": true,
    "editable": true
   },
   "outputs": [
    {
     "data": {
      "image/png": "[encoded data removed]",
      "text/plain": [
       "28×28 Array{RGB{Float64},2}:\n",
       " RGB{Float64}(0.92128,0.968212,0.993551)   …  RGB{Float64}(0.92128,0.968212,0.993551) \n",
       " RGB{Float64}(0.92128,0.968212,0.993551)      RGB{Float64}(0.92128,0.968212,0.993551) \n",
       " RGB{Float64}(0.92128,0.968212,0.993551)      RGB{Float64}(0.92128,0.968212,0.993551) \n",
       " RGB{Float64}(0.92128,0.968212,0.993551)      RGB{Float64}(0.974598,0.972607,0.975359)\n",
       " RGB{Float64}(0.92128,0.968212,0.993551)      RGB{Float64}(0.92128,0.968212,0.993551) \n",
       " RGB{Float64}(0.92128,0.968212,0.993551)   …  RGB{Float64}(0.92128,0.968212,0.993551) \n",
       " RGB{Float64}(0.92128,0.968212,0.993551)      RGB{Float64}(0.92128,0.968212,0.993551) \n",
       " RGB{Float64}(0.92128,0.968212,0.993551)      RGB{Float64}(0.92128,0.968212,0.993551) \n",
       " RGB{Float64}(0.974598,0.972607,0.975359)     RGB{Float64}(0.92128,0.968212,0.993551) \n",
       " RGB{Float64}(0.92128,0.968212,0.993551)      RGB{Float64}(0.92128,0.968212,0.993551) \n",
       " RGB{Float64}(0.92128,0.968212,0.993551)   …  RGB{Float64}(0.974598,0.972607,0.975359)\n",
       " RGB{Float64}(0.92128,0.968212,0.993551)      RGB{Float64}(0.92128,0.968212,0.993551) \n",
       " RGB{Float64}(0.92128,0.968212,0.993551)      RGB{Float64}(0.974598,0.972607,0.975359)\n",
       " ⋮                                         ⋱                                          \n",
       " RGB{Float64}(0.92128,0.968212,0.993551)      RGB{Float64}(0.92128,0.968212,0.993551) \n",
       " RGB{Float64}(0.92128,0.968212,0.993551)      RGB{Float64}(0.92128,0.968212,0.993551) \n",
       " RGB{Float64}(0.974598,0.972607,0.975359)     RGB{Float64}(0.92128,0.968212,0.993551) \n",
       " RGB{Float64}(0.974598,0.972607,0.975359)     RGB{Float64}(0.92128,0.968212,0.993551) \n",
       " RGB{Float64}(0.92128,0.968212,0.993551)   …  RGB{Float64}(0.92128,0.968212,0.993551) \n",
       " RGB{Float64}(0.92128,0.968212,0.993551)      RGB{Float64}(0.92128,0.968212,0.993551) \n",
       " RGB{Float64}(0.92128,0.968212,0.993551)      RGB{Float64}(0.92128,0.968212,0.993551) \n",
       " RGB{Float64}(0.92128,0.968212,0.993551)      RGB{Float64}(0.92128,0.968212,0.993551) \n",
       " RGB{Float64}(0.92128,0.968212,0.993551)      RGB{Float64}(0.92128,0.968212,0.993551) \n",
       " RGB{Float64}(0.92128,0.968212,0.993551)   …  RGB{Float64}(0.92128,0.968212,0.993551) \n",
       " RGB{Float64}(0.92128,0.968212,0.993551)      RGB{Float64}(0.974598,0.972607,0.975359)\n",
       " RGB{Float64}(0.974598,0.972607,0.975359)     RGB{Float64}(0.92128,0.968212,0.993551) "
      ]
     },
     "execution_count": 19,
     "metadata": {},
     "output_type": "execute_result"
    }
   ],
   "source": [
    "diff = getvalue(d[:Perturbation])\n",
    "view_diff(diff[1, :, :, 1])"
   ]
  },
  {
   "cell_type": "markdown",
   "metadata": {
    "deletable": true,
    "editable": true
   },
   "source": [
    "### $l_2$\n",
    "With solvers that can handle MIQPs (like Gurobi), we can minimize over the $l_2$ norm. This generally takes a bit more time. \n",
    "\n",
    "In this case, the minimum $l_2$ norm perturbation required for the image to be classified as a `9` is `0.183 = sqrt(0.033522).`"
   ]
  },
  {
   "cell_type": "code",
   "execution_count": 20,
   "metadata": {
    "collapsed": false,
    "deletable": true,
    "editable": true
   },
   "outputs": [
    {
     "name": "stdout",
     "output_type": "stream",
     "text": [
      "\u001b[36m[notice | MIPVerify]: Loading model from cache.\n",
      "\u001b[39m\u001b[36m[notice | MIPVerify]: Attempting to find adversarial example. Neural net predicted label is 8, target labels are [10]\n",
      "\u001b[39mAcademic license - for non-commercial use only\n",
      "Objective Value: 0.328904, Solve Time: 23.46\n"
     ]
    },
    {
     "data": {
      "image/png": "[encoded data removed]",
      "text/plain": [
       "28×28 Array{Gray{Float64},2}:\n",
       " Gray{Float64}(0.00293786)   …  Gray{Float64}(0.00695505)\n",
       " Gray{Float64}(0.00746987)      Gray{Float64}(0.0207089) \n",
       " Gray{Float64}(0.0152496)       Gray{Float64}(0.0286317) \n",
       " Gray{Float64}(0.0144787)       Gray{Float64}(0.0)       \n",
       " Gray{Float64}(0.0208144)       Gray{Float64}(0.0128456) \n",
       " Gray{Float64}(0.0104285)    …  Gray{Float64}(0.0116598) \n",
       " Gray{Float64}(0.015601)        Gray{Float64}(0.0334463) \n",
       " Gray{Float64}(0.0162783)       Gray{Float64}(0.0632378) \n",
       " Gray{Float64}(0.0)             Gray{Float64}(0.0242176) \n",
       " Gray{Float64}(0.00729577)      Gray{Float64}(0.017876)  \n",
       " Gray{Float64}(0.0207985)    …  Gray{Float64}(0.0)       \n",
       " Gray{Float64}(0.0390298)       Gray{Float64}(0.0178851) \n",
       " Gray{Float64}(0.0127734)       Gray{Float64}(0.0)       \n",
       " ⋮                           ⋱                           \n",
       " Gray{Float64}(0.0342939)       Gray{Float64}(0.0063349) \n",
       " Gray{Float64}(0.0238592)       Gray{Float64}(0.0809298) \n",
       " Gray{Float64}(0.0)             Gray{Float64}(0.0533926) \n",
       " Gray{Float64}(0.0)             Gray{Float64}(0.0220741) \n",
       " Gray{Float64}(0.0151549)    …  Gray{Float64}(0.0257883) \n",
       " Gray{Float64}(0.0155936)       Gray{Float64}(0.01081)   \n",
       " Gray{Float64}(0.00305089)      Gray{Float64}(0.0303155) \n",
       " Gray{Float64}(0.00917047)      Gray{Float64}(0.00668497)\n",
       " Gray{Float64}(0.00371888)      Gray{Float64}(0.0052561) \n",
       " Gray{Float64}(0.000449911)  …  Gray{Float64}(0.0132231) \n",
       " Gray{Float64}(0.025078)        Gray{Float64}(0.0)       \n",
       " Gray{Float64}(0.0)             Gray{Float64}(0.0027629) "
      ]
     },
     "execution_count": 20,
     "metadata": {},
     "output_type": "execute_result"
    }
   ],
   "source": [
    "d = MIPVerify.find_adversarial_example(n1, sample_image, 10, GurobiSolver(OutputFlag=0),\n",
    "    norm_order=2);\n",
    "print_summary(d)\n",
    "perturbed_sample_image = getvalue(d[:PerturbedInput])\n",
    "colorview(Gray, perturbed_sample_image[1, :, :, 1])"
   ]
  },
  {
   "cell_type": "code",
   "execution_count": 21,
   "metadata": {
    "collapsed": false,
    "deletable": true,
    "editable": true
   },
   "outputs": [
    {
     "data": {
      "image/png": "[encoded data removed]",
      "text/plain": [
       "28×28 Array{RGB{Float64},2}:\n",
       " RGB{Float64}(0.947578,0.979616,0.996444)  …  RGB{Float64}(0.944334,0.978226,0.996088)\n",
       " RGB{Float64}(0.942708,0.977527,0.99591)      RGB{Float64}(0.932883,0.973281,0.99483) \n",
       " RGB{Float64}(0.93617,0.974706,0.995192)      RGB{Float64}(0.926271,0.970399,0.994102)\n",
       " RGB{Float64}(0.937809,0.975415,0.995372)     RGB{Float64}(0.974598,0.972607,0.975359)\n",
       " RGB{Float64}(0.932883,0.973281,0.99483)      RGB{Float64}(0.939445,0.976121,0.995552)\n",
       " RGB{Float64}(0.941078,0.976825,0.995731)  …  RGB{Float64}(0.939445,0.976121,0.995552)\n",
       " RGB{Float64}(0.93617,0.974706,0.995192)      RGB{Float64}(0.92128,0.968212,0.993551) \n",
       " RGB{Float64}(0.93617,0.974706,0.995192)      RGB{Float64}(0.895906,0.95692,0.990729) \n",
       " RGB{Float64}(0.974598,0.972607,0.975359)     RGB{Float64}(0.929583,0.971845,0.994467)\n",
       " RGB{Float64}(0.942708,0.977527,0.99591)      RGB{Float64}(0.934528,0.973994,0.995011)\n",
       " RGB{Float64}(0.932883,0.973281,0.99483)   …  RGB{Float64}(0.974598,0.972607,0.975359)\n",
       " RGB{Float64}(0.916261,0.966001,0.992996)     RGB{Float64}(0.934528,0.973994,0.995011)\n",
       " RGB{Float64}(0.939445,0.976121,0.995552)     RGB{Float64}(0.974598,0.972607,0.975359)\n",
       " ⋮                                         ⋱                                          \n",
       " RGB{Float64}(0.92128,0.968212,0.993551)      RGB{Float64}(0.944334,0.978226,0.996088)\n",
       " RGB{Float64}(0.929583,0.971845,0.994467)     RGB{Float64}(0.88035,0.949853,0.988974) \n",
       " RGB{Float64}(0.974598,0.972607,0.975359)     RGB{Float64}(0.904441,0.96075,0.991684) \n",
       " RGB{Float64}(0.974598,0.972607,0.975359)     RGB{Float64}(0.931235,0.972564,0.994649)\n",
       " RGB{Float64}(0.93617,0.974706,0.995192)   …  RGB{Float64}(0.927929,0.971123,0.994285)\n",
       " RGB{Float64}(0.93617,0.974706,0.995192)      RGB{Float64}(0.941078,0.976825,0.995731)\n",
       " RGB{Float64}(0.945958,0.978922,0.996267)     RGB{Float64}(0.924611,0.969673,0.993919)\n",
       " RGB{Float64}(0.941078,0.976825,0.995731)     RGB{Float64}(0.944334,0.978226,0.996088)\n",
       " RGB{Float64}(0.945958,0.978922,0.996267)     RGB{Float64}(0.944334,0.978226,0.996088)\n",
       " RGB{Float64}(0.974598,0.972607,0.975359)  …  RGB{Float64}(0.937809,0.975415,0.995372)\n",
       " RGB{Float64}(0.927929,0.971123,0.994285)     RGB{Float64}(0.974598,0.972607,0.975359)\n",
       " RGB{Float64}(0.974598,0.972607,0.975359)     RGB{Float64}(0.947578,0.979616,0.996444)"
      ]
     },
     "execution_count": 21,
     "metadata": {},
     "output_type": "execute_result"
    }
   ],
   "source": [
    "diff = getvalue(d[:Perturbation])\n",
    "view_diff(diff[1, :, :, 1])"
   ]
  },
  {
   "cell_type": "markdown",
   "metadata": {
    "deletable": true,
    "editable": true
   },
   "source": [
    "# Advanced Options"
   ]
  },
  {
   "cell_type": "markdown",
   "metadata": {
    "deletable": true,
    "editable": true
   },
   "source": [
    "## Models\n",
    "Finding adversarial examples consists of two steps:\n",
    "\n",
    "  1. Building a model that expresses the input-output constraints of the neural net, which involves determining upper and lower bounds on each intermediate value.\n",
    "  2. Setting a target category (or multiple target categories) and solving to determine the minimal adversarial example that is classified in that category.\n",
    "\n",
    "The first time we verify a neural net, we must do step 1, which can take a long time."
   ]
  },
  {
   "cell_type": "code",
   "execution_count": 22,
   "metadata": {
    "collapsed": false,
    "deletable": true,
    "editable": true
   },
   "outputs": [
    {
     "name": "stdout",
     "output_type": "stream",
     "text": [
      "\u001b[36m[notice | MIPVerify]: Rebuilding model from scratch. This may take some time as we determine upper and lower bounds for the input to each non-linear unit.\n",
      "\u001b[39mAcademic license - for non-commercial use only\n"
     ]
    },
    {
     "name": "stderr",
     "output_type": "stream",
     "text": [
      "\u001b[32m  Calculating upper bounds: 100%|███████████████████████| Time: 0:00:29\u001b[39m\n",
      "\u001b[32m  Calculating lower bounds: 100%|███████████████████████| Time: 0:00:54\u001b[39m\n"
     ]
    },
    {
     "name": "stdout",
     "output_type": "stream",
     "text": [
      "\u001b[36m[notice | MIPVerify]: The model built will be cached and re-used for future solves, unless you explicitly set rebuild=true.\n",
      "\u001b[39m\u001b[36m[notice | MIPVerify]: Attempting to find adversarial example. Neural net predicted label is 8, target labels are [1]\n",
      "\u001b[39mAcademic license - for non-commercial use only\n",
      "116.912752 seconds (503.37 k allocations: 57.481 MiB, 0.01% gc time)\n",
      "Objective Value: 15.092612, Solve Time: 31.68\n"
     ]
    }
   ],
   "source": [
    "d = @time MIPVerify.find_adversarial_example(n1, sample_image, 1, GurobiSolver(OutputFlag=0), rebuild=true);\n",
    "print_summary(d)"
   ]
  },
  {
   "cell_type": "markdown",
   "metadata": {
    "deletable": true,
    "editable": true
   },
   "source": [
    "When re-running the solve (with the `rebuild` parameter defaulting to `false`), we load the model from cache and skip ahead straight to step 2; finding the adversarial example takes much less time."
   ]
  },
  {
   "cell_type": "code",
   "execution_count": 23,
   "metadata": {
    "collapsed": false,
    "deletable": true,
    "editable": true
   },
   "outputs": [
    {
     "name": "stdout",
     "output_type": "stream",
     "text": [
      "\u001b[36m[notice | MIPVerify]: Loading model from cache.\n",
      "\u001b[39m\u001b[36m[notice | MIPVerify]: Attempting to find adversarial example. Neural net predicted label is 8, target labels are [1]\n",
      "\u001b[39mAcademic license - for non-commercial use only\n",
      " 29.719417 seconds (332.89 k allocations: 17.471 MiB, 0.06% gc time)\n",
      "Objective Value: 15.092612, Solve Time: 29.60\n"
     ]
    }
   ],
   "source": [
    "d = @time MIPVerify.find_adversarial_example(n1, sample_image, 1, GurobiSolver(OutputFlag=0));\n",
    "print_summary(d)"
   ]
  },
  {
   "cell_type": "markdown",
   "metadata": {
    "deletable": true,
    "editable": true
   },
   "source": [
    "By setting `rebuild=true`, you force the MIP model to be rebuilt even if one exists; this is useful if you want to use a different `tightening_algorithm` (or use different parameters for the `tightening solver`)."
   ]
  },
  {
   "cell_type": "markdown",
   "metadata": {
    "deletable": true,
    "editable": true
   },
   "source": [
    "### Removing Cached Models\n",
    "\n",
    "If you find that your cached models are taking up too much space, you can remove them with `remove_cached_models()`."
   ]
  },
  {
   "cell_type": "markdown",
   "metadata": {
    "deletable": true,
    "editable": true
   },
   "source": [
    "## Advanced Solver-fu\n",
    "\n",
    "We use two different solvers for the two steps of finding adversarial examples:\n",
    "\n",
    "  1. the `tightening_solver`, used only to determine upper and lower bounds on intermediate values when expressing the input-output constraints in the neural net (i.e. if no cached model exists, or if `rebuild=true`), and \n",
    "  2. the `main_solver`, used to determine the minimal adversarial example for the loaded model."
   ]
  },
  {
   "cell_type": "markdown",
   "metadata": {
    "deletable": true,
    "editable": true
   },
   "source": [
    "### `tightening_algorithm`\n",
    "\n",
    "By default, we tighten the bounds on each intermediate value by solving an LP using the `tightening_solver`. Compare total solve times for three different tightening algorithms:"
   ]
  },
  {
   "cell_type": "code",
   "execution_count": 24,
   "metadata": {
    "collapsed": false,
    "deletable": true,
    "editable": true
   },
   "outputs": [
    {
     "name": "stdout",
     "output_type": "stream",
     "text": [
      "\u001b[36m[notice | MIPVerify]: Rebuilding model from scratch. This may take some time as we determine upper and lower bounds for the input to each non-linear unit.\n",
      "\u001b[39m\u001b[36m[notice | MIPVerify]: The model built will be cached and re-used for future solves, unless you explicitly set rebuild=true.\n",
      "\u001b[39m\u001b[36m[notice | MIPVerify]: Attempting to find adversarial example. Neural net predicted label is 8, target labels are [10]\n",
      "\u001b[39mAcademic license - for non-commercial use only\n",
      "  7.781565 seconds (460.90 k allocations: 24.697 MiB, 0.25% gc time)\n"
     ]
    }
   ],
   "source": [
    "@time MIPVerify.find_adversarial_example(n1, sample_image, 10, GurobiSolver(OutputFlag=0), rebuild=true,\n",
    "    tightening_algorithm=interval_arithmetic);"
   ]
  },
  {
   "cell_type": "code",
   "execution_count": 27,
   "metadata": {
    "collapsed": false,
    "deletable": true,
    "editable": true
   },
   "outputs": [
    {
     "name": "stdout",
     "output_type": "stream",
     "text": [
      "Academic license - for non-commercial use only\n",
      "\u001b[36m[notice | MIPVerify]: Rebuilding model from scratch. This may take some time as we determine upper and lower bounds for the input to each non-linear unit.\n",
      "\u001b[39m"
     ]
    },
    {
     "name": "stderr",
     "output_type": "stream",
     "text": [
      "\u001b[32m  Calculating upper bounds: 100%|███████████████████████| Time: 0:00:00\u001b[39m\n",
      "\u001b[32m  Calculating upper bounds: 100%|███████████████████████| Time: 0:00:00\u001b[39m\n",
      "\u001b[32m  Calculating lower bounds: 100%|███████████████████████| Time: 0:00:00\u001b[39m\n"
     ]
    },
    {
     "name": "stdout",
     "output_type": "stream",
     "text": [
      "\u001b[36m[notice | MIPVerify]: The model built will be cached and re-used for future solves, unless you explicitly set rebuild=true.\n",
      "\u001b[39m\u001b[36m[notice | MIPVerify]: Attempting to find adversarial example. Neural net predicted label is 8, target labels are [10]\n",
      "\u001b[39mAcademic license - for non-commercial use only\n",
      "  9.206595 seconds (780.97 k allocations: 327.934 MiB, 0.36% gc time)\n"
     ]
    }
   ],
   "source": [
    "@time MIPVerify.find_adversarial_example(n1, sample_image, 10, GurobiSolver(OutputFlag=0), rebuild=true,\n",
    "    tightening_algorithm=lp, tightening_solver = GurobiSolver(Gurobi.Env(), OutputFlag=0));"
   ]
  },
  {
   "cell_type": "code",
   "execution_count": 28,
   "metadata": {
    "collapsed": false,
    "deletable": true,
    "editable": true
   },
   "outputs": [
    {
     "name": "stdout",
     "output_type": "stream",
     "text": [
      "\u001b[36m[notice | MIPVerify]: Rebuilding model from scratch. This may take some time as we determine upper and lower bounds for the input to each non-linear unit.\n",
      "\u001b[39mAcademic license - for non-commercial use only\n"
     ]
    },
    {
     "name": "stderr",
     "output_type": "stream",
     "text": [
      "\u001b[32m  Calculating upper bounds: 100%|███████████████████████| Time: 0:00:44\u001b[39m\n",
      "\u001b[32m  Calculating lower bounds: 100%|███████████████████████| Time: 0:00:46\u001b[39m\n"
     ]
    },
    {
     "name": "stdout",
     "output_type": "stream",
     "text": [
      "\u001b[36m[notice | MIPVerify]: The model built will be cached and re-used for future solves, unless you explicitly set rebuild=true.\n",
      "\u001b[39m\u001b[36m[notice | MIPVerify]: Attempting to find adversarial example. Neural net predicted label is 8, target labels are [10]\n",
      "\u001b[39mAcademic license - for non-commercial use only\n",
      " 95.820010 seconds (503.97 k allocations: 57.512 MiB, 0.02% gc time)\n"
     ]
    }
   ],
   "source": [
    "MIPVerify.setloglevel!(\"notice\")\n",
    "@time MIPVerify.find_adversarial_example(n1, sample_image, 10, GurobiSolver(OutputFlag=0), rebuild=true,\n",
    "    tightening_algorithm=mip);"
   ]
  },
  {
   "cell_type": "markdown",
   "metadata": {
    "deletable": true,
    "editable": true
   },
   "source": [
    "We can also modify many of the parameters of the solver to change behavior:\n",
    "\n",
    "We will be focusing on the parameters available via Gurobi (http://www.gurobi.com/documentation/7.5/refman/parameters.html), but other solvers often have similar options."
   ]
  },
  {
   "cell_type": "markdown",
   "metadata": {
    "deletable": true,
    "editable": true
   },
   "source": [
    "  \n",
    "### `main_solver`\n",
    "\n",
    "#### Muting Output\n",
    "To mute the output from the `GurobiSolver`, set `OutputFlag=0`.\n"
   ]
  },
  {
   "cell_type": "code",
   "execution_count": 29,
   "metadata": {
    "collapsed": false,
    "deletable": true,
    "editable": true,
    "scrolled": true
   },
   "outputs": [
    {
     "name": "stdout",
     "output_type": "stream",
     "text": [
      "\u001b[36m[notice | MIPVerify]: Loading model from cache.\n",
      "\u001b[39m\u001b[36m[notice | MIPVerify]: Attempting to find adversarial example. Neural net predicted label is 8, target labels are [10]\n",
      "\u001b[39mAcademic license - for non-commercial use only\n",
      "Optimize a model with 3385 rows, 3256 columns and 71132 nonzeros\n",
      "Variable types: 3196 continuous, 60 integer (60 binary)\n",
      "Coefficient statistics:\n",
      "  Matrix range     [2e-05, 7e+02]\n",
      "  Objective range  [1e+00, 1e+00]\n",
      "  Bounds range     [1e+00, 1e+02]\n",
      "  RHS range        [1e-02, 7e+02]\n",
      "\n",
      "MIP start did not produce a new incumbent solution\n",
      "MIP start violates constraint R1024 by 1.000000000\n",
      "\n",
      "Presolve removed 2850 rows and 2174 columns\n",
      "Presolve time: 0.12s\n",
      "Presolved: 535 rows, 1082 columns, 61577 nonzeros\n",
      "Variable types: 1022 continuous, 60 integer (60 binary)\n",
      "\n",
      "Root relaxation: objective 0.000000e+00, 251 iterations, 0.01 seconds\n",
      "\n",
      "    Nodes    |    Current Node    |     Objective Bounds      |     Work\n",
      " Expl Unexpl |  Obj  Depth IntInf | Incumbent    BestBd   Gap | It/Node Time\n",
      "\n",
      "     0     0    0.00000    0    1          -    0.00000      -     -    0s\n",
      "Another try with MIP start\n",
      "H    0     0                      45.5490804    0.00000   100%     -    0s\n",
      "H    0     0                      14.4706496    0.00000   100%     -    0s\n",
      "     0     0    0.00000    0    2   14.47065    0.00000   100%     -    0s\n",
      "     0     0    0.00000    0    2   14.47065    0.00000   100%     -    0s\n",
      "     0     0    0.00000    0    1   14.47065    0.00000   100%     -    0s\n",
      "H    0     0                       3.1718557    0.00000   100%     -    0s\n",
      "     0     2    0.00000    0    1    3.17186    0.00000   100%     -    0s\n",
      "\n",
      "Cutting planes:\n",
      "  Flow cover: 1\n",
      "\n",
      "Explored 3633 nodes (193523 simplex iterations) in 3.59 seconds\n",
      "Thread count was 8 (of 8 available processors)\n",
      "\n",
      "Solution count 3: 3.17186 14.4706 45.5491 \n",
      "\n",
      "Optimal solution found (tolerance 1.00e-04)\n",
      "Best objective 3.171855696756e+00, best bound 3.171855696756e+00, gap 0.0000%\n",
      "Objective Value: 3.171856, Solve Time: 3.59\n"
     ]
    }
   ],
   "source": [
    "d = MIPVerify.find_adversarial_example(n1, sample_image, 10, GurobiSolver());\n",
    "print_summary(d)"
   ]
  },
  {
   "cell_type": "code",
   "execution_count": 30,
   "metadata": {
    "collapsed": false,
    "deletable": true,
    "editable": true
   },
   "outputs": [
    {
     "name": "stdout",
     "output_type": "stream",
     "text": [
      "\u001b[36m[notice | MIPVerify]: Loading model from cache.\n",
      "\u001b[39m\u001b[36m[notice | MIPVerify]: Attempting to find adversarial example. Neural net predicted label is 8, target labels are [10]\n",
      "\u001b[39mAcademic license - for non-commercial use only\n",
      "Objective Value: 3.171856, Solve Time: 3.59\n"
     ]
    }
   ],
   "source": [
    "MIPVerify.find_adversarial_example(n1, sample_image, 10, GurobiSolver(OutputFlag=0));\n",
    "print_summary(d)"
   ]
  },
  {
   "cell_type": "markdown",
   "metadata": {
    "deletable": true,
    "editable": true
   },
   "source": [
    "#### Terminating early if a conditon is satisfied\n",
    "\n",
    "Sometimes, finding an adversarial example takes a long time:"
   ]
  },
  {
   "cell_type": "code",
   "execution_count": 31,
   "metadata": {
    "collapsed": false,
    "deletable": true,
    "editable": true
   },
   "outputs": [
    {
     "name": "stdout",
     "output_type": "stream",
     "text": [
      "\u001b[36m[notice | MIPVerify]: Loading model from cache.\n",
      "\u001b[39m\u001b[36m[notice | MIPVerify]: Attempting to find adversarial example. Neural net predicted label is 8, target labels are [2]\n",
      "\u001b[39mAcademic license - for non-commercial use only\n",
      "Optimize a model with 4169 rows, 3257 columns and 72700 nonzeros\n",
      "Variable types: 3197 continuous, 60 integer (60 binary)\n",
      "Coefficient statistics:\n",
      "  Matrix range     [2e-05, 7e+02]\n",
      "  Objective range  [1e+00, 1e+00]\n",
      "  Bounds range     [1e+00, 1e+02]\n",
      "  RHS range        [1e-02, 7e+02]\n",
      "\n",
      "MIP start did not produce a new incumbent solution\n",
      "MIP start violates constraint R1024 by 1.000000000\n",
      "\n",
      "Presolve removed 2850 rows and 2174 columns\n",
      "Presolve time: 0.11s\n",
      "Presolved: 1319 rows, 1083 columns, 63145 nonzeros\n",
      "Variable types: 1023 continuous, 60 integer (60 binary)\n",
      "\n",
      "Root relaxation: objective 0.000000e+00, 700 iterations, 0.02 seconds\n",
      "\n",
      "    Nodes    |    Current Node    |     Objective Bounds      |     Work\n",
      " Expl Unexpl |  Obj  Depth IntInf | Incumbent    BestBd   Gap | It/Node Time\n",
      "\n",
      "     0     0    0.00000    0    2          -    0.00000      -     -    0s\n",
      "Another try with MIP start\n",
      "H    0     0                       0.4901359    0.00000   100%     -    0s\n",
      "H    0     0                       0.3879699    0.00000   100%     -    0s\n",
      "     0     0    0.00000    0    4    0.38797    0.00000   100%     -    0s\n",
      "     0     0    0.00000    0    6    0.38797    0.00000   100%     -    0s\n",
      "     0     0    0.00000    0    3    0.38797    0.00000   100%     -    0s\n",
      "     0     0    0.00000    0    1    0.38797    0.00000   100%     -    0s\n",
      "H    0     0                       0.2873450    0.00000   100%     -    0s\n",
      "     0     0    0.00000    0    2    0.28734    0.00000   100%     -    0s\n",
      "     0     0    0.00000    0    2    0.28734    0.00000   100%     -    0s\n",
      "     0     2    0.00000    0    2    0.28734    0.00000   100%     -    1s\n",
      "H  143   131                       0.2780313    0.00000   100%   273    3s\n",
      "H  187   153                       0.2085851    0.00000   100%   265    3s\n",
      "*  196   150              35       0.1941490    0.00000   100%   257    3s\n",
      "   414   226    0.06851   19   17    0.19415    0.00000   100%   232    5s\n",
      "  1311   472 infeasible   17         0.19415    0.00000   100%   204   10s\n",
      "  2200   577    0.00000   14   12    0.19415    0.00000   100%   204   15s\n",
      "  3209   751     cutoff   18         0.19415    0.00000   100%   195   20s\n",
      "H 4129   897                       0.1867872    0.00000   100%   190   24s\n",
      "  4130   898    0.15523   12    2    0.18679    0.00000   100%   190   25s\n",
      "  4704  1031    0.04728   37   10    0.18679    0.00000   100%   184   30s\n",
      "  5769   949    0.16259   25   16    0.18679    0.01348  92.8%   173   35s\n",
      "  7062   770    0.13206   23   19    0.18679    0.04527  75.8%   163   40s\n",
      "  8453   904    0.15207   26   12    0.18679    0.05197  72.2%   154   45s\n",
      "  9950   890    0.18289   24   18    0.18679    0.07917  57.6%   148   50s\n",
      " 11336   646    0.10582   24   11    0.18679    0.10582  43.3%   142   55s\n",
      "*12902   617              46       0.1867836    0.12260  34.4%   135   59s\n",
      " 13281   682    0.12260   19   19    0.18678    0.12260  34.4%   133   60s\n",
      " 14940   674 infeasible   24         0.18678    0.15523  16.9%   127   67s\n",
      "H14957   674                       0.1867104    0.15523  16.9%   126   67s\n",
      " 15582   503     cutoff   24         0.18671    0.16010  14.2%   127   70s\n",
      " 16949   383     cutoff   20         0.18671    0.16666  10.7%   126   76s\n",
      "*17612   379              43       0.1852948    0.16668  10.0%   125   77s\n",
      " 18369   107    0.18072   19   19    0.18529    0.18010  2.80%   125   80s\n",
      "\n",
      "Cutting planes:\n",
      "  Gomory: 1\n",
      "  Projected implied bound: 2\n",
      "  Inf proof: 3\n",
      "\n",
      "Explored 18706 nodes (2333674 simplex iterations) in 80.86 seconds\n",
      "Thread count was 8 (of 8 available processors)\n",
      "\n",
      "Solution count 10: 0.185295 0.18671 0.186784 ... 0.490136\n",
      "\n",
      "Optimal solution found (tolerance 1.00e-04)\n",
      "Best objective 1.852948300851e-01, best bound 1.852948300851e-01, gap 0.0000%\n"
     ]
    }
   ],
   "source": [
    "MIPVerify.find_adversarial_example(n1, sample_image, 2, GurobiSolver(),\n",
    "    norm_order=Inf);"
   ]
  },
  {
   "cell_type": "markdown",
   "metadata": {
    "deletable": true,
    "editable": true
   },
   "source": [
    "You may want to terminate early when a particular condition is satisfied. Common reasons are:\n",
    "\n",
    "  1. Solve exceeding time limit\n",
    "  2. Lower bound on robustness proved (i.e. `BestBd` increases above a pre-determined threshold)\n",
    "  3. Counter-example found (i.e. `Incumbent` adversarial image found that is closer to the original image than expected).\n",
    "  4. Difference between `Incumbent` and `BestBd` falls below a pre-determined threshold.\n",
    "  \n",
    "Fortunately, Gurobi has a parameter for all of these cases."
   ]
  },
  {
   "cell_type": "markdown",
   "metadata": {
    "deletable": true,
    "editable": true
   },
   "source": [
    "##### Terminate if time limit is reached\n",
    "Set `TimeLimit`:"
   ]
  },
  {
   "cell_type": "code",
   "execution_count": 32,
   "metadata": {
    "collapsed": false,
    "deletable": true,
    "editable": true
   },
   "outputs": [
    {
     "name": "stdout",
     "output_type": "stream",
     "text": [
      "\u001b[36m[notice | MIPVerify]: Loading model from cache.\n",
      "\u001b[39m\u001b[36m[notice | MIPVerify]: Attempting to find adversarial example. Neural net predicted label is 8, target labels are [2]\n",
      "\u001b[39mAcademic license - for non-commercial use only\n",
      "Optimize a model with 4169 rows, 3257 columns and 72700 nonzeros\n",
      "Variable types: 3197 continuous, 60 integer (60 binary)\n",
      "Coefficient statistics:\n",
      "  Matrix range     [2e-05, 7e+02]\n",
      "  Objective range  [1e+00, 1e+00]\n",
      "  Bounds range     [1e+00, 1e+02]\n",
      "  RHS range        [1e-02, 7e+02]\n",
      "\n",
      "MIP start did not produce a new incumbent solution\n",
      "MIP start violates constraint R1024 by 1.000000000\n",
      "\n",
      "Presolve removed 2850 rows and 2174 columns\n",
      "Presolve time: 0.11s\n",
      "Presolved: 1319 rows, 1083 columns, 63145 nonzeros\n",
      "Variable types: 1023 continuous, 60 integer (60 binary)\n",
      "\n",
      "Root relaxation: objective 0.000000e+00, 700 iterations, 0.02 seconds\n",
      "\n",
      "    Nodes    |    Current Node    |     Objective Bounds      |     Work\n",
      " Expl Unexpl |  Obj  Depth IntInf | Incumbent    BestBd   Gap | It/Node Time\n",
      "\n",
      "     0     0    0.00000    0    2          -    0.00000      -     -    0s\n",
      "Another try with MIP start\n",
      "H    0     0                       0.4901359    0.00000   100%     -    0s\n",
      "H    0     0                       0.3879699    0.00000   100%     -    0s\n",
      "     0     0    0.00000    0    4    0.38797    0.00000   100%     -    0s\n",
      "     0     0    0.00000    0    6    0.38797    0.00000   100%     -    0s\n",
      "     0     0    0.00000    0    3    0.38797    0.00000   100%     -    0s\n",
      "     0     0    0.00000    0    1    0.38797    0.00000   100%     -    0s\n",
      "H    0     0                       0.2873450    0.00000   100%     -    0s\n",
      "     0     0    0.00000    0    2    0.28734    0.00000   100%     -    0s\n",
      "     0     0    0.00000    0    2    0.28734    0.00000   100%     -    1s\n",
      "     0     2    0.00000    0    2    0.28734    0.00000   100%     -    1s\n",
      "H  143   131                       0.2780313    0.00000   100%   273    3s\n",
      "H  187   153                       0.2085851    0.00000   100%   265    4s\n",
      "*  196   150              35       0.1941490    0.00000   100%   257    4s\n",
      "   290   189    0.12295   10   11    0.19415    0.00000   100%   243    5s\n",
      "   834   374    0.08638   19   14    0.19415    0.00000   100%   211   10s\n",
      "  1546   504    0.17455   15   14    0.19415    0.00000   100%   205   15s\n",
      "  2200   577    0.00000   14   12    0.19415    0.00000   100%   204   20s\n",
      "  2839   700    0.00000   11   23    0.19415    0.00000   100%   200   25s\n",
      "  3578   818     cutoff   19         0.19415    0.00000   100%   193   30s\n",
      "\n",
      "Cutting planes:\n",
      "  Cover: 5\n",
      "  Implied bound: 38\n",
      "  MIR: 4\n",
      "  Flow cover: 5\n",
      "  Inf proof: 4\n",
      "\n",
      "Explored 3738 nodes (727434 simplex iterations) in 30.00 seconds\n",
      "Thread count was 8 (of 8 available processors)\n",
      "\n",
      "Solution count 6: 0.194149 0.208585 0.278031 ... 0.490136\n",
      "\n",
      "Time limit reached\n",
      "Best objective 1.941490364300e-01, best bound 0.000000000000e+00, gap 100.0000%\n"
     ]
    },
    {
     "name": "stderr",
     "output_type": "stream",
     "text": [
      "\u001b[1m\u001b[33mWARNING: \u001b[39m\u001b[22m\u001b[33mNot solved to optimality, status: UserLimit\u001b[39m\n"
     ]
    }
   ],
   "source": [
    "MIPVerify.find_adversarial_example(n1, sample_image, 2, GurobiSolver(TimeLimit=30),\n",
    "    norm_order=Inf);"
   ]
  },
  {
   "cell_type": "markdown",
   "metadata": {
    "deletable": true,
    "editable": true
   },
   "source": [
    "##### Terminate if lower bound on robustness proved\n",
    "\n",
    "Set `BestBdStop` or `Cutoff`.\n",
    "\n",
    "(`Cutoff` gives a different error message that is not currently processed correctly by the latest release of `Gurobi.jl`)."
   ]
  },
  {
   "cell_type": "code",
   "execution_count": 33,
   "metadata": {
    "collapsed": false,
    "deletable": true,
    "editable": true
   },
   "outputs": [
    {
     "name": "stdout",
     "output_type": "stream",
     "text": [
      "\u001b[36m[notice | MIPVerify]: Loading model from cache.\n",
      "\u001b[39m\u001b[36m[notice | MIPVerify]: Attempting to find adversarial example. Neural net predicted label is 8, target labels are [2]\n",
      "\u001b[39mAcademic license - for non-commercial use only\n",
      "Optimize a model with 4169 rows, 3257 columns and 72700 nonzeros\n",
      "Variable types: 3197 continuous, 60 integer (60 binary)\n",
      "Coefficient statistics:\n",
      "  Matrix range     [2e-05, 7e+02]\n",
      "  Objective range  [1e+00, 1e+00]\n",
      "  Bounds range     [1e+00, 1e+02]\n",
      "  RHS range        [1e-02, 7e+02]\n",
      "\n",
      "MIP start did not produce a new incumbent solution\n",
      "MIP start violates constraint R1024 by 1.000000000\n",
      "\n",
      "Presolve removed 2850 rows and 2174 columns\n",
      "Presolve time: 0.12s\n",
      "Presolved: 1319 rows, 1083 columns, 63145 nonzeros\n",
      "Variable types: 1023 continuous, 60 integer (60 binary)\n",
      "\n",
      "Root relaxation: objective 0.000000e+00, 700 iterations, 0.02 seconds\n",
      "\n",
      "    Nodes    |    Current Node    |     Objective Bounds      |     Work\n",
      " Expl Unexpl |  Obj  Depth IntInf | Incumbent    BestBd   Gap | It/Node Time\n",
      "\n",
      "     0     0    0.00000    0    2          -    0.00000      -     -    0s\n",
      "Another try with MIP start\n",
      "H    0     0                       0.4901359    0.00000   100%     -    0s\n",
      "H    0     0                       0.3879699    0.00000   100%     -    0s\n",
      "     0     0    0.00000    0    4    0.38797    0.00000   100%     -    0s\n",
      "     0     0    0.00000    0    6    0.38797    0.00000   100%     -    0s\n",
      "     0     0    0.00000    0    3    0.38797    0.00000   100%     -    0s\n",
      "     0     0    0.00000    0    1    0.38797    0.00000   100%     -    0s\n",
      "H    0     0                       0.2873450    0.00000   100%     -    0s\n",
      "     0     0    0.00000    0    2    0.28734    0.00000   100%     -    0s\n",
      "     0     0    0.00000    0    2    0.28734    0.00000   100%     -    1s\n",
      "     0     2    0.00000    0    2    0.28734    0.00000   100%     -    1s\n",
      "H  143   131                       0.2780313    0.00000   100%   273    3s\n",
      "H  187   153                       0.2085851    0.00000   100%   265    4s\n",
      "*  196   150              35       0.1941490    0.00000   100%   257    4s\n",
      "   243   166 infeasible   17         0.19415    0.00000   100%   261    5s\n",
      "   834   374    0.08638   19   14    0.19415    0.00000   100%   211   10s\n",
      "  1413   484 infeasible   21         0.19415    0.00000   100%   206   15s\n",
      "  2017   556 infeasible   20         0.19415    0.00000   100%   208   20s\n",
      "  2656   674    0.02821    8   19    0.19415    0.00000   100%   202   25s\n",
      "  3386   782    0.12322   13   22    0.19415    0.00000   100%   194   30s\n",
      "  3935   867    0.17083   12   18    0.19415    0.00000   100%   192   35s\n",
      "H 4129   897                       0.1867872    0.00000   100%   190   35s\n",
      "  4382   953    0.17220   34   10    0.18679    0.00000   100%   189   40s\n",
      "  5250  1061    0.09830   29   12    0.18679    0.00000   100%   178   45s\n",
      "  6123   860     cutoff   31         0.18679    0.02481  86.7%   170   50s\n",
      "  7062   770    0.13206   23   19    0.18679    0.04527  75.8%   163   55s\n",
      "  8055   919     cutoff   33         0.18679    0.04612  75.3%   156   60s\n",
      "\n",
      "Cutting planes:\n",
      "  Gomory: 1\n",
      "  Projected implied bound: 2\n",
      "  Inf proof: 1\n",
      "\n",
      "Explored 8237 nodes (1288962 simplex iterations) in 60.89 seconds\n",
      "Thread count was 8 (of 8 available processors)\n",
      "\n",
      "Solution count 7: 0.186787 0.194149 0.208585 ... 0.490136\n",
      "\n",
      "Optimization achieved user objective limit\n",
      "Best objective 1.867872089984e-01, best bound 5.116821885844e-02, gap 72.6061%\n"
     ]
    },
    {
     "name": "stderr",
     "output_type": "stream",
     "text": [
      "\u001b[1m\u001b[33mWARNING: \u001b[39m\u001b[22m\u001b[33mNot solved to optimality, status: UserObjLimit\u001b[39m\n"
     ]
    }
   ],
   "source": [
    "MIPVerify.find_adversarial_example(n1, sample_image, 2, GurobiSolver(BestBdStop=0.05),\n",
    "    norm_order=Inf);"
   ]
  },
  {
   "cell_type": "markdown",
   "metadata": {
    "deletable": true,
    "editable": true
   },
   "source": [
    "##### Terminate if adversarial example found closer than expected robustness\n",
    "\n",
    "Set `BestObjStop`."
   ]
  },
  {
   "cell_type": "code",
   "execution_count": 34,
   "metadata": {
    "collapsed": false,
    "deletable": true,
    "editable": true
   },
   "outputs": [
    {
     "name": "stdout",
     "output_type": "stream",
     "text": [
      "\u001b[36m[notice | MIPVerify]: Loading model from cache.\n",
      "\u001b[39m\u001b[36m[notice | MIPVerify]: Attempting to find adversarial example. Neural net predicted label is 8, target labels are [2]\n",
      "\u001b[39mAcademic license - for non-commercial use only\n",
      "Optimize a model with 4169 rows, 3257 columns and 72700 nonzeros\n",
      "Variable types: 3197 continuous, 60 integer (60 binary)\n",
      "Coefficient statistics:\n",
      "  Matrix range     [2e-05, 7e+02]\n",
      "  Objective range  [1e+00, 1e+00]\n",
      "  Bounds range     [1e+00, 1e+02]\n",
      "  RHS range        [1e-02, 7e+02]\n",
      "\n",
      "MIP start did not produce a new incumbent solution\n",
      "MIP start violates constraint R1024 by 1.000000000\n",
      "\n",
      "Presolve removed 2850 rows and 2174 columns\n",
      "Presolve time: 0.12s\n",
      "Presolved: 1319 rows, 1083 columns, 63145 nonzeros\n",
      "Variable types: 1023 continuous, 60 integer (60 binary)\n",
      "\n",
      "Root relaxation: objective 0.000000e+00, 700 iterations, 0.02 seconds\n",
      "\n",
      "    Nodes    |    Current Node    |     Objective Bounds      |     Work\n",
      " Expl Unexpl |  Obj  Depth IntInf | Incumbent    BestBd   Gap | It/Node Time\n",
      "\n",
      "     0     0    0.00000    0    2          -    0.00000      -     -    0s\n",
      "Another try with MIP start\n",
      "H    0     0                       0.4901359    0.00000   100%     -    0s\n",
      "H    0     0                       0.3879699    0.00000   100%     -    0s\n",
      "     0     0    0.00000    0    4    0.38797    0.00000   100%     -    0s\n",
      "     0     0    0.00000    0    6    0.38797    0.00000   100%     -    0s\n",
      "     0     0    0.00000    0    3    0.38797    0.00000   100%     -    0s\n",
      "     0     0    0.00000    0    1    0.38797    0.00000   100%     -    0s\n",
      "H    0     0                       0.2873450    0.00000   100%     -    0s\n",
      "     0     0    0.00000    0    2    0.28734    0.00000   100%     -    0s\n",
      "     0     0    0.00000    0    2    0.28734    0.00000   100%     -    1s\n",
      "     0     2    0.00000    0    2    0.28734    0.00000   100%     -    1s\n",
      "H  143   131                       0.2780313    0.00000   100%   273    3s\n",
      "H  187   153                       0.2085851    0.00000   100%   265    4s\n",
      "*  196   150              35       0.1941490    0.00000   100%   257    4s\n",
      "\n",
      "Cutting planes:\n",
      "  Implied bound: 10\n",
      "  MIR: 4\n",
      "  Flow cover: 4\n",
      "\n",
      "Explored 208 nodes (61588 simplex iterations) in 4.23 seconds\n",
      "Thread count was 8 (of 8 available processors)\n",
      "\n",
      "Solution count 6: 0.194149 0.208585 0.278031 ... 0.490136\n",
      "\n",
      "Optimization achieved user objective limit\n",
      "Best objective 1.941490364300e-01, best bound 0.000000000000e+00, gap 100.0000%\n"
     ]
    },
    {
     "name": "stderr",
     "output_type": "stream",
     "text": [
      "\u001b[1m\u001b[33mWARNING: \u001b[39m\u001b[22m\u001b[33mNot solved to optimality, status: UserObjLimit\u001b[39m\n"
     ]
    }
   ],
   "source": [
    "MIPVerify.find_adversarial_example(n1, sample_image, 2, GurobiSolver(BestObjStop=0.2),\n",
    "    norm_order=Inf);"
   ]
  },
  {
   "cell_type": "markdown",
   "metadata": {
    "deletable": true,
    "editable": true
   },
   "source": [
    "##### Terminate if gap between `Incumbent` and `BestBd` is below threshold\n",
    "\n",
    "Set `MIPGap`."
   ]
  },
  {
   "cell_type": "code",
   "execution_count": 35,
   "metadata": {
    "collapsed": false,
    "deletable": true,
    "editable": true
   },
   "outputs": [
    {
     "name": "stdout",
     "output_type": "stream",
     "text": [
      "\u001b[36m[notice | MIPVerify]: Loading model from cache.\n",
      "\u001b[39m\u001b[36m[notice | MIPVerify]: Attempting to find adversarial example. Neural net predicted label is 8, target labels are [2]\n",
      "\u001b[39mAcademic license - for non-commercial use only\n",
      "Optimize a model with 4169 rows, 3257 columns and 72700 nonzeros\n",
      "Variable types: 3197 continuous, 60 integer (60 binary)\n",
      "Coefficient statistics:\n",
      "  Matrix range     [2e-05, 7e+02]\n",
      "  Objective range  [1e+00, 1e+00]\n",
      "  Bounds range     [1e+00, 1e+02]\n",
      "  RHS range        [1e-02, 7e+02]\n",
      "\n",
      "MIP start did not produce a new incumbent solution\n",
      "MIP start violates constraint R1024 by 1.000000000\n",
      "\n",
      "Presolve removed 2850 rows and 2174 columns\n",
      "Presolve time: 0.11s\n",
      "Presolved: 1319 rows, 1083 columns, 63145 nonzeros\n",
      "Variable types: 1023 continuous, 60 integer (60 binary)\n",
      "\n",
      "Root relaxation: objective 0.000000e+00, 700 iterations, 0.02 seconds\n",
      "\n",
      "    Nodes    |    Current Node    |     Objective Bounds      |     Work\n",
      " Expl Unexpl |  Obj  Depth IntInf | Incumbent    BestBd   Gap | It/Node Time\n",
      "\n",
      "     0     0    0.00000    0    2          -    0.00000      -     -    0s\n",
      "Another try with MIP start\n",
      "H    0     0                       0.4901359    0.00000   100%     -    0s\n",
      "H    0     0                       0.3879699    0.00000   100%     -    0s\n",
      "     0     0    0.00000    0    4    0.38797    0.00000   100%     -    0s\n",
      "     0     0    0.00000    0    6    0.38797    0.00000   100%     -    0s\n",
      "     0     0    0.00000    0    3    0.38797    0.00000   100%     -    0s\n",
      "     0     0    0.00000    0    1    0.38797    0.00000   100%     -    0s\n",
      "H    0     0                       0.2873450    0.00000   100%     -    0s\n",
      "     0     0    0.00000    0    2    0.28734    0.00000   100%     -    0s\n",
      "     0     0    0.00000    0    2    0.28734    0.00000   100%     -    1s\n",
      "     0     2    0.00000    0    2    0.28734    0.00000   100%     -    1s\n",
      "H  143   131                       0.2780313    0.00000   100%   273    3s\n",
      "H  187   153                       0.2085851    0.00000   100%   265    4s\n",
      "*  196   150              35       0.1941490    0.00000   100%   257    4s\n",
      "   243   166 infeasible   17         0.19415    0.00000   100%   261    5s\n",
      "   731   338    0.00000    8   15    0.19415    0.00000   100%   215   10s\n",
      "  1413   484 infeasible   21         0.19415    0.00000   100%   206   15s\n",
      "  2017   556 infeasible   20         0.19415    0.00000   100%   208   21s\n",
      "  2656   674    0.02821    8   19    0.19415    0.00000   100%   202   25s\n",
      "  3386   782    0.12322   13   22    0.19415    0.00000   100%   194   31s\n",
      "H 4129   897                       0.1867872    0.00000   100%   190   35s\n",
      "  4382   953    0.17220   34   10    0.18679    0.00000   100%   189   40s\n",
      "  5565   996    0.16259   26   19    0.18679    0.00666  96.4%   175   45s\n",
      "  7062   770    0.13206   23   19    0.18679    0.04527  75.8%   163   50s\n",
      "  8453   904    0.15207   26   12    0.18679    0.05197  72.2%   154   55s\n",
      "  9950   890    0.18289   24   18    0.18679    0.07917  57.6%   148   60s\n",
      " 11666   595    0.11695   25   16    0.18679    0.11459  38.7%   141   65s\n",
      "\n",
      "Cutting planes:\n",
      "  Gomory: 1\n",
      "  Projected implied bound: 2\n",
      "  Inf proof: 2\n",
      "\n",
      "Explored 12007 nodes (1685043 simplex iterations) in 65.91 seconds\n",
      "Thread count was 8 (of 8 available processors)\n",
      "\n",
      "Solution count 7: 0.186787 0.194149 0.208585 ... 0.490136\n",
      "\n",
      "Optimal solution found (tolerance 4.00e-01)\n",
      "Best objective 1.867872089984e-01, best bound 1.145865962630e-01, gap 38.6539%\n"
     ]
    }
   ],
   "source": [
    "MIPVerify.find_adversarial_example(n1, sample_image, 2, GurobiSolver(MIPGap=0.4),\n",
    "    norm_order=Inf);"
   ]
  },
  {
   "cell_type": "markdown",
   "metadata": {
    "deletable": true,
    "editable": true
   },
   "source": [
    "### `tightening_solver`\n",
    "The default model build solver has the same type as the `main_solver`, but uses the default settings for that solver type other than 1) muting the output and 2) setting a time limit of 20s per solve (i.e. per upper/lower bound per intermediate value).\n",
    "\n",
    "The most common reason to pass in your own `tightening_solver` to modify the time limit per solve."
   ]
  },
  {
   "cell_type": "markdown",
   "metadata": {
    "deletable": true,
    "editable": true
   },
   "source": [
    "Whew! That was a lot. The next tutorial will introduce you to everything you can extract from the results dictionary."
   ]
  }
 ],
 "metadata": {
  "kernelspec": {
   "display_name": "Julia 0.6.2",
   "language": "julia",
   "name": "julia-0.6"
  },
  "language_info": {
   "file_extension": ".jl",
   "mimetype": "application/julia",
   "name": "julia",
   "version": "0.6.2"
  }
 },
 "nbformat": 4,
 "nbformat_minor": 2
}
