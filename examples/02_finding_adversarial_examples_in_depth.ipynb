{
 "cells": [
  {
   "cell_type": "markdown",
   "metadata": {
    "deletable": true,
    "editable": true
   },
   "source": [
    "# Finding adversarial examples, in depth\n",
    "\n",
    "In the quickstart, we used the default parameters for `find_adversarial_example`. Using the same example from the quickstart, we explore how to get more out of the function."
   ]
  },
  {
   "cell_type": "code",
   "execution_count": 1,
   "metadata": {
    "collapsed": false,
    "deletable": true,
    "editable": true
   },
   "outputs": [],
   "source": [
    "using MIPVerify\n",
    "using Gurobi\n",
    "using JuMP\n",
    "using Images\n",
    "\n",
    "mnist = MIPVerify.read_datasets(\"MNIST\")\n",
    "n1 = MIPVerify.get_example_network_params(\"MNIST.n1\")\n",
    "sample_image = MIPVerify.get_image(mnist.train.images, 1);\n",
    "\n",
    "function print_summary(d::Dict)\n",
    "    # Helper function to print out output\n",
    "    obj_val = getobjectivevalue(d[:Model])\n",
    "    solve_time = getsolvetime(d[:Model])\n",
    "    println(\"Objective Value: $(@sprintf(\"%.6f\", obj_val)), Solve Time: $(@sprintf(\"%.2f\", solve_time))\")\n",
    "end\n",
    "\n",
    "function view_diff(diff::Array{<:Real, 2})\n",
    "    n = 1001\n",
    "    colormap(\"RdBu\", n)[ceil.(Int, (diff+1)/2*n)]\n",
    "end;"
   ]
  },
  {
   "cell_type": "markdown",
   "metadata": {
    "deletable": true,
    "editable": true
   },
   "source": [
    "## `find_adversarial_example`\n",
    "\n",
    "`find_adversarial_example` takes four positional arguments\n",
    "\n",
    "```\n",
    "find_adversarial_example(nn, input, target_selection, main_solver)\n",
    "```\n",
    "\n",
    "It also takes named arguments, each with the default value specified.\n",
    "\n",
    "```\n",
    "norm_order = 1\n",
    "tolerance = 0\n",
    "rebuild = false\n",
    "invert_target_selection = false\n",
    "pp = MIPVerify.UnrestrictedPerturbationFamily()\n",
    "tightening_algorithm = lp\n",
    "tightening_solver: same as main solver, but with output suppressed and a time limit of 20s per solve.\n",
    "```\n",
    "\n",
    "We explore what each of these options allow us to do."
   ]
  },
  {
   "cell_type": "markdown",
   "metadata": {
    "deletable": true,
    "editable": true
   },
   "source": [
    "# Basic Options"
   ]
  },
  {
   "cell_type": "markdown",
   "metadata": {
    "deletable": true,
    "editable": true
   },
   "source": [
    "## Specifying target categories for the adversarial example\n",
    "\n",
    "`target_selection` and `invert_target_selection` control what the category we want the adversarial example to be classified in.\n",
    "\n",
    "**Specification**: `target_selection` accepts either a single integer or a list of integers.\n",
    "\n",
    "For example, if I wanted the original image (which is the digit 7) to be classified as the digit 0 or 8, I could run two separate solves with `target_selection=1` and `target_selection=9` (Julia is 1-indexed), finding closest adversarial examples at distance `15.0926` and `9.75700` ..."
   ]
  },
  {
   "cell_type": "code",
   "execution_count": 2,
   "metadata": {
    "collapsed": false,
    "deletable": true,
    "editable": true
   },
   "outputs": [
    {
     "name": "stdout",
     "output_type": "stream",
     "text": [
      "\u001b[36m[notice | MIPVerify]: Loading model from cache.\n",
      "\u001b[39m\u001b[36m[notice | MIPVerify]: Attempting to find adversarial example. Neural net predicted label is 8, target labels are [1]\n",
      "\u001b[39mAcademic license - for non-commercial use only\n",
      "Objective Value: 15.092612, Solve Time: 41.72\n"
     ]
    }
   ],
   "source": [
    "d = MIPVerify.find_adversarial_example(n1, sample_image, 1, GurobiSolver(OutputFlag=0))\n",
    "# OutputFlag=0 prevents any output from being printed out\n",
    "print_summary(d)"
   ]
  },
  {
   "cell_type": "code",
   "execution_count": 3,
   "metadata": {
    "collapsed": false,
    "deletable": true,
    "editable": true
   },
   "outputs": [
    {
     "name": "stdout",
     "output_type": "stream",
     "text": [
      "\u001b[36m[notice | MIPVerify]: Loading model from cache.\n",
      "\u001b[39m\u001b[36m[notice | MIPVerify]: Attempting to find adversarial example. Neural net predicted label is 8, target labels are [9]\n",
      "\u001b[39mAcademic license - for non-commercial use only\n",
      "Objective Value: 9.756997, Solve Time: 6.06\n"
     ]
    }
   ],
   "source": [
    "d = MIPVerify.find_adversarial_example(n1, sample_image, 9, GurobiSolver(OutputFlag=0));\n",
    "print_summary(d)"
   ]
  },
  {
   "cell_type": "markdown",
   "metadata": {
    "deletable": true,
    "editable": true
   },
   "source": [
    "Or I can can pass the targets as  `target_selection = [1, 9]`, where the same optimal value of `9.757` is found.\n",
    "\n",
    "Solve times for multiple target labels are typically on par with or faster than the aggregate solve times when solving with each target label in sequence."
   ]
  },
  {
   "cell_type": "code",
   "execution_count": 4,
   "metadata": {
    "collapsed": false,
    "deletable": true,
    "editable": true
   },
   "outputs": [
    {
     "name": "stdout",
     "output_type": "stream",
     "text": [
      "\u001b[36m[notice | MIPVerify]: Loading model from cache.\n",
      "\u001b[39m\u001b[36m[notice | MIPVerify]: Attempting to find adversarial example. Neural net predicted label is 8, target labels are [1, 9]\n",
      "\u001b[39mAcademic license - for non-commercial use only\n",
      "Objective Value: 9.756997, Solve Time: 19.85\n"
     ]
    }
   ],
   "source": [
    "d = MIPVerify.find_adversarial_example(n1, sample_image, [1, 9], GurobiSolver(OutputFlag=0));\n",
    "print_summary(d)"
   ]
  },
  {
   "cell_type": "markdown",
   "metadata": {
    "deletable": true,
    "editable": true
   },
   "source": [
    "A common use case is to have the adversarial example being in any category but the original:"
   ]
  },
  {
   "cell_type": "code",
   "execution_count": 5,
   "metadata": {
    "collapsed": false,
    "deletable": true,
    "editable": true
   },
   "outputs": [
    {
     "name": "stdout",
     "output_type": "stream",
     "text": [
      "\u001b[36m[notice | MIPVerify]: Loading model from cache.\n",
      "\u001b[39m\u001b[36m[notice | MIPVerify]: Attempting to find adversarial example. Neural net predicted label is 8, target labels are [1, 2, 3, 4, 5, 6, 7, 9, 10]\n",
      "\u001b[39mAcademic license - for non-commercial use only\n",
      "Objective Value: 3.171856, Solve Time: 21.20\n"
     ]
    }
   ],
   "source": [
    "d = MIPVerify.find_adversarial_example(n1, sample_image, [1, 2, 3, 4, 5, 6, 7, 9, 10], GurobiSolver(OutputFlag=0))\n",
    "print_summary(d)"
   ]
  },
  {
   "cell_type": "markdown",
   "metadata": {
    "deletable": true,
    "editable": true
   },
   "source": [
    "Rather than typing the full list of other categories, we can set `target_selection = 8`, and `invert_target_selection = true`."
   ]
  },
  {
   "cell_type": "code",
   "execution_count": 6,
   "metadata": {
    "collapsed": false,
    "deletable": true,
    "editable": true
   },
   "outputs": [
    {
     "name": "stdout",
     "output_type": "stream",
     "text": [
      "\u001b[36m[notice | MIPVerify]: Loading model from cache.\n",
      "\u001b[39m\u001b[36m[notice | MIPVerify]: Attempting to find adversarial example. Neural net predicted label is 8, target labels are [1, 2, 3, 4, 5, 6, 7, 9, 10]\n",
      "\u001b[39mAcademic license - for non-commercial use only\n",
      "Objective Value: 3.171856, Solve Time: 21.14\n"
     ]
    }
   ],
   "source": [
    "d = MIPVerify.find_adversarial_example(n1, sample_image, 8, GurobiSolver(OutputFlag=0), \n",
    "    invert_target_selection=true)\n",
    "print_summary(d)"
   ]
  },
  {
   "cell_type": "markdown",
   "metadata": {
    "deletable": true,
    "editable": true
   },
   "source": [
    "## More precise control over activations in output layer\n",
    "### Default Behavior\n",
    "The default option for `tolerance` is 0. This means that the activations in the softmax layer will take its maximum value for the target label (or at least one of them if more than one is specified), but that this maximum may not be unique.\n",
    "\n",
    "In the example below, notice how the activations `y[8]` and `y[10]` (corresponding to labels 7 and 9) are equal, at 3.49171."
   ]
  },
  {
   "cell_type": "code",
   "execution_count": 7,
   "metadata": {
    "collapsed": false,
    "deletable": true,
    "editable": true
   },
   "outputs": [
    {
     "name": "stdout",
     "output_type": "stream",
     "text": [
      "\u001b[36m[notice | MIPVerify]: Loading model from cache.\n",
      "\u001b[39m\u001b[36m[notice | MIPVerify]: Attempting to find adversarial example. Neural net predicted label is 8, target labels are [10]\n",
      "\u001b[39mAcademic license - for non-commercial use only\n",
      "Objective Value: 3.171856, Solve Time: 6.06\n"
     ]
    },
    {
     "data": {
      "text/plain": [
       "10-element Array{Float64,1}:\n",
       " 0.388105\n",
       " 0.515855\n",
       " 1.25875 \n",
       " 0.296821\n",
       " 0.410448\n",
       " 0.556019\n",
       " 0.444605\n",
       " 3.49171 \n",
       " 0.412949\n",
       " 3.49171 "
      ]
     },
     "execution_count": 7,
     "metadata": {},
     "output_type": "execute_result"
    }
   ],
   "source": [
    "d = MIPVerify.find_adversarial_example(n1, sample_image, 10, GurobiSolver(OutputFlag=0))\n",
    "print_summary(d)\n",
    "perturbed_sample_image = getvalue(d[:PerturbedInput])\n",
    "y = perturbed_sample_image |> n1"
   ]
  },
  {
   "cell_type": "markdown",
   "metadata": {
    "deletable": true,
    "editable": true
   },
   "source": [
    "### Ensuring difference in activation between target labels and non-target labels\n",
    "\n",
    "If we want to ensure that the maximum is unique, we can add a small tolerance. This is the minimum difference between the activation of the target label (or the maximum activation of any of the target labels) and any non-target label. In the example below, with a tolerance of 0.001, notice how `y[8] = 3.49243 = 0.00100 + 3.49143 = tolerance + y[10]`.\n",
    "\n",
    "_This increases the objective value slightly (since the closest adversarial example with the required tolerance must be slightly further away.)_"
   ]
  },
  {
   "cell_type": "code",
   "execution_count": 8,
   "metadata": {
    "collapsed": false,
    "deletable": true,
    "editable": true
   },
   "outputs": [
    {
     "name": "stdout",
     "output_type": "stream",
     "text": [
      "\u001b[36m[notice | MIPVerify]: Loading model from cache.\n",
      "\u001b[39m\u001b[36m[notice | MIPVerify]: Attempting to find adversarial example. Neural net predicted label is 8, target labels are [10]\n",
      "\u001b[39mAcademic license - for non-commercial use only\n",
      "Objective Value: 3.172870, Solve Time: 2.98\n"
     ]
    },
    {
     "data": {
      "text/plain": [
       "10-element Array{Float64,1}:\n",
       " 0.388176\n",
       " 0.515929\n",
       " 1.2587  \n",
       " 0.296866\n",
       " 0.410472\n",
       " 0.556048\n",
       " 0.444678\n",
       " 3.49143 \n",
       " 0.41283 \n",
       " 3.49243 "
      ]
     },
     "execution_count": 8,
     "metadata": {},
     "output_type": "execute_result"
    }
   ],
   "source": [
    "d = MIPVerify.find_adversarial_example(n1, sample_image, 10, GurobiSolver(OutputFlag=0), \n",
    "    tolerance = 0.001)\n",
    "print_summary(d)\n",
    "perturbed_sample_image = getvalue(d[:PerturbedInput])\n",
    "y = perturbed_sample_image |> n1"
   ]
  },
  {
   "cell_type": "markdown",
   "metadata": {
    "deletable": true,
    "editable": true
   },
   "source": [
    "## Restricting the Family of Perturbations\n",
    "\n",
    "### Unrestricted Perturbations\n",
    "\n",
    "The standard threat model is to allow each pixel to be perturbed independently, which is what happens by default:"
   ]
  },
  {
   "cell_type": "code",
   "execution_count": 9,
   "metadata": {
    "collapsed": false,
    "deletable": true,
    "editable": true
   },
   "outputs": [
    {
     "name": "stdout",
     "output_type": "stream",
     "text": [
      "\u001b[36m[notice | MIPVerify]: Loading model from cache.\n",
      "\u001b[39m\u001b[36m[notice | MIPVerify]: Attempting to find adversarial example. Neural net predicted label is 8, target labels are [10]\n",
      "\u001b[39mAcademic license - for non-commercial use only\n",
      "  6.137796 seconds (345.73 k allocations: 18.421 MiB, 0.18% gc time)\n"
     ]
    },
    {
     "data": {
      "image/png": "[encoded data removed]",
      "text/plain": [
       "28×28 Array{Gray{Float64},2}:\n",
       " Gray{Float64}(0.0)  Gray{Float64}(0.0)  …  Gray{Float64}(0.0)     \n",
       " Gray{Float64}(0.0)  Gray{Float64}(0.0)     Gray{Float64}(0.0)     \n",
       " Gray{Float64}(0.0)  Gray{Float64}(0.0)     Gray{Float64}(0.0)     \n",
       " Gray{Float64}(0.0)  Gray{Float64}(0.0)     Gray{Float64}(0.0)     \n",
       " Gray{Float64}(0.0)  Gray{Float64}(0.0)     Gray{Float64}(0.0)     \n",
       " Gray{Float64}(0.0)  Gray{Float64}(0.0)  …  Gray{Float64}(0.0)     \n",
       " Gray{Float64}(0.0)  Gray{Float64}(0.0)     Gray{Float64}(0.0)     \n",
       " Gray{Float64}(0.0)  Gray{Float64}(0.0)     Gray{Float64}(0.0)     \n",
       " Gray{Float64}(0.0)  Gray{Float64}(0.0)     Gray{Float64}(0.0)     \n",
       " Gray{Float64}(0.0)  Gray{Float64}(0.0)     Gray{Float64}(0.0)     \n",
       " Gray{Float64}(0.0)  Gray{Float64}(0.0)  …  Gray{Float64}(0.0)     \n",
       " Gray{Float64}(0.0)  Gray{Float64}(0.0)     Gray{Float64}(0.0)     \n",
       " Gray{Float64}(0.0)  Gray{Float64}(0.0)     Gray{Float64}(0.0)     \n",
       " ⋮                                       ⋱                         \n",
       " Gray{Float64}(0.0)  Gray{Float64}(0.0)     Gray{Float64}(0.0)     \n",
       " Gray{Float64}(0.0)  Gray{Float64}(0.0)     Gray{Float64}(0.250287)\n",
       " Gray{Float64}(0.0)  Gray{Float64}(0.0)     Gray{Float64}(0.0)     \n",
       " Gray{Float64}(0.0)  Gray{Float64}(0.0)     Gray{Float64}(0.0)     \n",
       " Gray{Float64}(0.0)  Gray{Float64}(0.0)  …  Gray{Float64}(0.0)     \n",
       " Gray{Float64}(0.0)  Gray{Float64}(0.0)     Gray{Float64}(0.0)     \n",
       " Gray{Float64}(0.0)  Gray{Float64}(0.0)     Gray{Float64}(0.0)     \n",
       " Gray{Float64}(0.0)  Gray{Float64}(0.0)     Gray{Float64}(0.0)     \n",
       " Gray{Float64}(0.0)  Gray{Float64}(0.0)     Gray{Float64}(0.0)     \n",
       " Gray{Float64}(0.0)  Gray{Float64}(0.0)  …  Gray{Float64}(0.0)     \n",
       " Gray{Float64}(0.0)  Gray{Float64}(0.0)     Gray{Float64}(0.0)     \n",
       " Gray{Float64}(0.0)  Gray{Float64}(0.0)     Gray{Float64}(0.0)     "
      ]
     },
     "execution_count": 9,
     "metadata": {},
     "output_type": "execute_result"
    }
   ],
   "source": [
    "d = @time MIPVerify.find_adversarial_example(n1, sample_image, 10, GurobiSolver(OutputFlag=0));\n",
    "perturbed_sample_image = getvalue(d[:PerturbedInput])\n",
    "colorview(Gray, perturbed_sample_image[1, :, :, 1])"
   ]
  },
  {
   "cell_type": "markdown",
   "metadata": {},
   "source": [
    "### $L_\\infty$-norm Bounded Perturbations\n",
    "\n",
    "We can bound the $L_\\infty$-norm of the perturbation."
   ]
  },
  {
   "cell_type": "markdown",
   "metadata": {},
   "source": [
    "As long as the size of the $L_\\infty$-norm bound we choose is larger than the actual ($L_\\infty$-)minimal perturbation, we will find the same result, and often more quickly."
   ]
  },
  {
   "cell_type": "code",
   "execution_count": 34,
   "metadata": {
    "collapsed": false
   },
   "outputs": [
    {
     "name": "stdout",
     "output_type": "stream",
     "text": [
      "\u001b[36m[notice | MIPVerify]: Loading model from cache.\n",
      "\u001b[39m\u001b[36m[notice | MIPVerify]: Attempting to find adversarial example. Neural net predicted label is 8, target labels are [10]\n",
      "\u001b[39mAcademic license - for non-commercial use only\n",
      "  1.352921 seconds (378.67 k allocations: 28.432 MiB, 0.88% gc time)\n"
     ]
    },
    {
     "data": {
      "image/png": "[encoded data removed]",
      "text/plain": [
       "28×28 Array{Gray{Float64},2}:\n",
       " Gray{Float64}(0.0335223)  …  Gray{Float64}(0.0335223)\n",
       " Gray{Float64}(0.0335223)     Gray{Float64}(0.0335223)\n",
       " Gray{Float64}(0.0335223)     Gray{Float64}(0.0335223)\n",
       " Gray{Float64}(0.0335223)     Gray{Float64}(0.0)      \n",
       " Gray{Float64}(0.0335223)     Gray{Float64}(0.0335223)\n",
       " Gray{Float64}(0.0335223)  …  Gray{Float64}(0.0335223)\n",
       " Gray{Float64}(0.0335223)     Gray{Float64}(0.0335223)\n",
       " Gray{Float64}(0.0335223)     Gray{Float64}(0.0335223)\n",
       " Gray{Float64}(0.0)           Gray{Float64}(0.0335223)\n",
       " Gray{Float64}(0.0335223)     Gray{Float64}(0.0335223)\n",
       " Gray{Float64}(0.0335223)  …  Gray{Float64}(0.0)      \n",
       " Gray{Float64}(0.0335223)     Gray{Float64}(0.0335223)\n",
       " Gray{Float64}(0.0335223)     Gray{Float64}(0.0)      \n",
       " ⋮                         ⋱                          \n",
       " Gray{Float64}(0.0335223)     Gray{Float64}(0.0335223)\n",
       " Gray{Float64}(0.0335223)     Gray{Float64}(0.0335223)\n",
       " Gray{Float64}(0.0)           Gray{Float64}(0.0335223)\n",
       " Gray{Float64}(0.0)           Gray{Float64}(0.0335223)\n",
       " Gray{Float64}(0.0335223)  …  Gray{Float64}(0.0335223)\n",
       " Gray{Float64}(0.0335223)     Gray{Float64}(0.0335223)\n",
       " Gray{Float64}(0.0335223)     Gray{Float64}(0.0335223)\n",
       " Gray{Float64}(0.0335223)     Gray{Float64}(0.0335223)\n",
       " Gray{Float64}(0.0335223)     Gray{Float64}(0.0335223)\n",
       " Gray{Float64}(0.0335223)  …  Gray{Float64}(0.0335223)\n",
       " Gray{Float64}(0.0335223)     Gray{Float64}(0.0)      \n",
       " Gray{Float64}(0.0)           Gray{Float64}(0.0335223)"
      ]
     },
     "execution_count": 34,
     "metadata": {},
     "output_type": "execute_result"
    }
   ],
   "source": [
    "d = @time MIPVerify.find_adversarial_example(n1, sample_image, 10, GurobiSolver(OutputFlag=0),\n",
    "    norm_order=Inf);\n",
    "perturbed_sample_image = getvalue(d[:PerturbedInput])\n",
    "colorview(Gray, perturbed_sample_image[1, :, :, 1])"
   ]
  },
  {
   "cell_type": "code",
   "execution_count": 35,
   "metadata": {
    "collapsed": false
   },
   "outputs": [
    {
     "name": "stdout",
     "output_type": "stream",
     "text": [
      "\u001b[36m[notice | MIPVerify]: Loading model from cache.\n",
      "\u001b[39m\u001b[36m[notice | MIPVerify]: Attempting to find adversarial example. Neural net predicted label is 8, target labels are [10]\n",
      "\u001b[39mAcademic license - for non-commercial use only\n",
      "  1.239649 seconds (300.38 k allocations: 25.335 MiB, 0.97% gc time)\n"
     ]
    },
    {
     "data": {
      "image/png": "[encoded data removed]",
      "text/plain": [
       "28×28 Array{Gray{Float64},2}:\n",
       " Gray{Float64}(0.0335223)  …  Gray{Float64}(0.0335223)\n",
       " Gray{Float64}(0.0335223)     Gray{Float64}(0.0335223)\n",
       " Gray{Float64}(0.0335223)     Gray{Float64}(0.0335223)\n",
       " Gray{Float64}(0.0335223)     Gray{Float64}(0.0)      \n",
       " Gray{Float64}(0.0335223)     Gray{Float64}(0.0335223)\n",
       " Gray{Float64}(0.0335223)  …  Gray{Float64}(0.0335223)\n",
       " Gray{Float64}(0.0335223)     Gray{Float64}(0.0335223)\n",
       " Gray{Float64}(0.0335223)     Gray{Float64}(0.0335223)\n",
       " Gray{Float64}(0.0)           Gray{Float64}(0.0335223)\n",
       " Gray{Float64}(0.0335223)     Gray{Float64}(0.0335223)\n",
       " Gray{Float64}(0.0335223)  …  Gray{Float64}(0.0)      \n",
       " Gray{Float64}(0.0335223)     Gray{Float64}(0.0335223)\n",
       " Gray{Float64}(0.0335223)     Gray{Float64}(0.0)      \n",
       " ⋮                         ⋱                          \n",
       " Gray{Float64}(0.0335223)     Gray{Float64}(0.0335223)\n",
       " Gray{Float64}(0.0335223)     Gray{Float64}(0.0335223)\n",
       " Gray{Float64}(0.0)           Gray{Float64}(0.0335223)\n",
       " Gray{Float64}(0.0)           Gray{Float64}(0.0335223)\n",
       " Gray{Float64}(0.0335223)  …  Gray{Float64}(0.0335223)\n",
       " Gray{Float64}(0.0335223)     Gray{Float64}(0.0335223)\n",
       " Gray{Float64}(0.0335223)     Gray{Float64}(0.0335223)\n",
       " Gray{Float64}(0.0335223)     Gray{Float64}(0.0335223)\n",
       " Gray{Float64}(0.0335223)     Gray{Float64}(0.0335223)\n",
       " Gray{Float64}(0.0335223)  …  Gray{Float64}(0.0335223)\n",
       " Gray{Float64}(0.0335223)     Gray{Float64}(0.0)      \n",
       " Gray{Float64}(0.0)           Gray{Float64}(0.0335223)"
      ]
     },
     "execution_count": 35,
     "metadata": {},
     "output_type": "execute_result"
    }
   ],
   "source": [
    "d = @time MIPVerify.find_adversarial_example(n1, sample_image, 10, GurobiSolver(OutputFlag=0),\n",
    "    pp = MIPVerify.LInfNormBoundedPerturbationFamily(0.05), norm_order=Inf);\n",
    "perturbed_sample_image = getvalue(d[:PerturbedInput])\n",
    "colorview(Gray, perturbed_sample_image[1, :, :, 1])"
   ]
  },
  {
   "cell_type": "markdown",
   "metadata": {},
   "source": [
    "If the $L_\\infty$-norm bound you choose is smaller than the actual minimal perturbation, the problem is Infeasible, with a status code of either `:Infeasible` or `:InfeasibleOrUnbounded`. (Make sure you cover both cases!)"
   ]
  },
  {
   "cell_type": "code",
   "execution_count": 39,
   "metadata": {
    "collapsed": false
   },
   "outputs": [
    {
     "name": "stdout",
     "output_type": "stream",
     "text": [
      "\u001b[36m[notice | MIPVerify]: Loading model from cache.\n",
      "\u001b[39m\u001b[36m[notice | MIPVerify]: Attempting to find adversarial example. Neural net predicted label is 8, target labels are [10]\n",
      "\u001b[39mAcademic license - for non-commercial use only\n",
      "  0.201240 seconds (284.80 k allocations: 24.587 MiB, 4.80% gc time)\n"
     ]
    },
    {
     "name": "stderr",
     "output_type": "stream",
     "text": [
      "\u001b[1m\u001b[33mWARNING: \u001b[39m\u001b[22m\u001b[33mNot solved to optimality, status: Infeasible\u001b[39m\n",
      "\u001b[1m\u001b[33mWARNING: \u001b[39m\u001b[22m\u001b[33mInfeasibility ray (Farkas proof) not available\u001b[39m\n"
     ]
    }
   ],
   "source": [
    "d = @time MIPVerify.find_adversarial_example(n1, sample_image, 10, GurobiSolver(OutputFlag=0),\n",
    "    pp = MIPVerify.LInfNormBoundedPerturbationFamily(0.03), norm_order=Inf);"
   ]
  },
  {
   "cell_type": "code",
   "execution_count": 41,
   "metadata": {
    "collapsed": false
   },
   "outputs": [
    {
     "data": {
      "text/plain": [
       ":Infeasible"
      ]
     },
     "execution_count": 41,
     "metadata": {},
     "output_type": "execute_result"
    }
   ],
   "source": [
    "d[:SolveStatus]"
   ]
  },
  {
   "cell_type": "markdown",
   "metadata": {
    "deletable": true,
    "editable": true
   },
   "source": [
    "### Blurring Perturbations\n",
    "\n",
    "We can restrict the perturbations to a blur with a 5x5 kernel instead. (We are still minimizing over the norm of the perturbation.)"
   ]
  },
  {
   "cell_type": "code",
   "execution_count": 10,
   "metadata": {
    "collapsed": false,
    "deletable": true,
    "editable": true
   },
   "outputs": [
    {
     "name": "stdout",
     "output_type": "stream",
     "text": [
      "\u001b[36m[notice | MIPVerify]: Rebuilding model from scratch. This may take some time as we determine upper and lower bounds for the input to each non-linear unit. The model built will be cached and re-used for future solves, unless you explicitly set rebuild=true.\n",
      "\u001b[39m"
     ]
    },
    {
     "name": "stderr",
     "output_type": "stream",
     "text": [
      "\u001b[32m  Calculating upper bounds:  65%|███████████████        |  ETA: 0:00:00\u001b[39m"
     ]
    },
    {
     "name": "stdout",
     "output_type": "stream",
     "text": [
      "Academic license - for non-commercial use only\n",
      "Academic license - for non-commercial use only\n",
      "Academic license - for non-commercial use only\n",
      "Academic license - for non-commercial use only\n",
      "Academic license - for non-commercial use only\n",
      "Academic license - for non-commercial use only\n",
      "Academic license - for non-commercial use only\n",
      "Academic license - for non-commercial use only\n",
      "Academic license - for non-commercial use only\n",
      "Academic license - for non-commercial use only\n",
      "Academic license - for non-commercial use only\n",
      "Academic license - for non-commercial use only\n",
      "Academic license - for non-commercial use only\n",
      "Academic license - for non-commercial use only\n",
      "Academic license - for non-commercial use only\n",
      "Academic license - for non-commercial use only\n",
      "Academic license - for non-commercial use only\n",
      "Academic license - for non-commercial use only\n",
      "Academic license - for non-commercial use only\n",
      "Academic license - for non-commercial use only\n",
      "Academic license - for non-commercial use only\n",
      "Academic license - for non-commercial use only\n",
      "Academic license - for non-commercial use only\n",
      "Academic license - for non-commercial use only\n",
      "Academic license - for non-commercial use only\n"
     ]
    },
    {
     "name": "stderr",
     "output_type": "stream",
     "text": [
      "\r",
      "\u001b[32m  Calculating upper bounds:  92%|█████████████████████  |  ETA: 0:00:00\u001b[39m\r",
      "\u001b[32m  Calculating upper bounds: 100%|███████████████████████| Time: 0:00:01\u001b[39m\n",
      "\r"
     ]
    },
    {
     "name": "stdout",
     "output_type": "stream",
     "text": [
      "Academic license - for non-commercial use only\n",
      "Academic license - for non-commercial use only\n",
      "Academic license - for non-commercial use only\n",
      "Academic license - for non-commercial use only\n",
      "Academic license - for non-commercial use only\n",
      "Academic license - for non-commercial use only\n",
      "Academic license - for non-commercial use only\n",
      "Academic license - for non-commercial use only\n",
      "Academic license - for non-commercial use only\n",
      "Academic license - for non-commercial use only\n",
      "Academic license - for non-commercial use only\n",
      "Academic license - for non-commercial use only\n",
      "Academic license - for non-commercial use only\n",
      "Academic license - for non-commercial use only\n",
      "Academic license - for non-commercial use only\n",
      "Academic license - for non-commercial use only\n",
      "Academic license - for non-commercial use only\n",
      "Academic license - for non-commercial use only\n",
      "Academic license - for non-commercial use only\n",
      "Academic license - for non-commercial use only\n",
      "Academic license - for non-commercial use only\n",
      "Academic license - for non-commercial use only\n",
      "Academic license - for non-commercial use only\n",
      "Academic license - for non-commercial use only\n",
      "Academic license - for non-commercial use only\n",
      "Academic license - for non-commercial use only\n",
      "Academic license - for non-commercial use only\n",
      "Academic license - for non-commercial use only\n",
      "Academic license - for non-commercial use only\n",
      "Academic license - for non-commercial use only\n",
      "Academic license - for non-commercial use only\n",
      "Academic license - for non-commercial use only\n",
      "Academic license - for non-commercial use only\n",
      "Academic license - for non-commercial use only\n",
      "Academic license - for non-commercial use only\n",
      "Academic license - for non-commercial use only\n",
      "Academic license - for non-commercial use only\n",
      "Academic license - for non-commercial use only\n",
      "Academic license - for non-commercial use only\n",
      "Academic license - for non-commercial use only\n",
      "Academic license - for non-commercial use only\n",
      "Academic license - for non-commercial use only\n",
      "Academic license - for non-commercial use only\n",
      "Academic license - for non-commercial use only\n",
      "Academic license - for non-commercial use only\n",
      "Academic license - for non-commercial use only\n",
      "Academic license - for non-commercial use only\n",
      "Academic license - for non-commercial use only\n",
      "Academic license - for non-commercial use only\n",
      "Academic license - for non-commercial use only\n",
      "Academic license - for non-commercial use only\n",
      "Academic license - for non-commercial use only\n",
      "Academic license - for non-commercial use only\n",
      "Academic license - for non-commercial use only\n",
      "Academic license - for non-commercial use only\n",
      "Academic license - for non-commercial use only\n",
      "Academic license - for non-commercial use only\n",
      "Academic license - for non-commercial use only\n",
      "Academic license - for non-commercial use only\n",
      "Academic license - for non-commercial use only\n",
      "Academic license - for non-commercial use only\n"
     ]
    },
    {
     "name": "stderr",
     "output_type": "stream",
     "text": [
      "\u001b[32m  Calculating lower bounds:  30%|███████                |  ETA: 0:00:00\u001b[39m\r",
      "\u001b[32m  Calculating lower bounds:  58%|█████████████          |  ETA: 0:00:00\u001b[39m\r",
      "\u001b[32m  Calculating lower bounds:  85%|████████████████████   |  ETA: 0:00:00\u001b[39m\r",
      "\u001b[32m  Calculating lower bounds: 100%|███████████████████████| Time: 0:00:00\u001b[39m\n",
      "\r",
      "\u001b[32m  Calculating upper bounds:  20%|█████                  |  ETA: 0:00:01\u001b[39m\r",
      "\u001b[32m  Calculating upper bounds:  35%|████████               |  ETA: 0:00:00\u001b[39m\r",
      "\u001b[32m  Calculating upper bounds:  50%|████████████           |  ETA: 0:00:00\u001b[39m"
     ]
    },
    {
     "name": "stdout",
     "output_type": "stream",
     "text": [
      "Academic license - for non-commercial use only\n",
      "Academic license - for non-commercial use only\n",
      "Academic license - for non-commercial use only\n",
      "Academic license - for non-commercial use only\n",
      "Academic license - for non-commercial use only\n",
      "Academic license - for non-commercial use only\n"
     ]
    },
    {
     "name": "stderr",
     "output_type": "stream",
     "text": [
      "\r",
      "\u001b[32m  Calculating upper bounds:  65%|███████████████        |  ETA: 0:00:00\u001b[39m\r",
      "\u001b[32m  Calculating upper bounds:  80%|██████████████████     |  ETA: 0:00:00\u001b[39m"
     ]
    },
    {
     "name": "stdout",
     "output_type": "stream",
     "text": [
      "Academic license - for non-commercial use only\n",
      "Academic license - for non-commercial use only\n",
      "Academic license - for non-commercial use only\n",
      "Academic license - for non-commercial use only\n",
      "Academic license - for non-commercial use only\n",
      "Academic license - for non-commercial use only\n",
      "Academic license - for non-commercial use only\n"
     ]
    },
    {
     "name": "stderr",
     "output_type": "stream",
     "text": [
      "\r",
      "\u001b[32m  Calculating upper bounds:  95%|██████████████████████ |  ETA: 0:00:00\u001b[39m\r",
      "\u001b[32m  Calculating upper bounds: 100%|███████████████████████| Time: 0:00:01\u001b[39m\n",
      "\r"
     ]
    },
    {
     "name": "stdout",
     "output_type": "stream",
     "text": [
      "Academic license - for non-commercial use only\n",
      "Academic license - for non-commercial use only\n",
      "Academic license - for non-commercial use only\n",
      "Academic license - for non-commercial use only\n",
      "Academic license - for non-commercial use only\n",
      "Academic license - for non-commercial use only\n",
      "Academic license - for non-commercial use only\n",
      "Academic license - for non-commercial use only\n",
      "Academic license - for non-commercial use only\n",
      "Academic license - for non-commercial use only\n",
      "Academic license - for non-commercial use only\n",
      "Academic license - for non-commercial use only\n",
      "Academic license - for non-commercial use only\n",
      "Academic license - for non-commercial use only\n",
      "Academic license - for non-commercial use only\n"
     ]
    },
    {
     "name": "stderr",
     "output_type": "stream",
     "text": [
      "\u001b[32m  Calculating lower bounds:  20%|█████                  |  ETA: 0:00:00\u001b[39m\r",
      "\u001b[32m  Calculating lower bounds:  40%|█████████              |  ETA: 0:00:00\u001b[39m\r",
      "\u001b[32m  Calculating lower bounds:  60%|██████████████         |  ETA: 0:00:00\u001b[39m\r",
      "\u001b[32m  Calculating lower bounds:  75%|█████████████████      |  ETA: 0:00:00\u001b[39m\r",
      "\u001b[32m  Calculating lower bounds:  90%|█████████████████████  |  ETA: 0:00:00\u001b[39m\r",
      "\u001b[32m  Calculating lower bounds: 100%|███████████████████████| Time: 0:00:01\u001b[39m\n"
     ]
    },
    {
     "name": "stdout",
     "output_type": "stream",
     "text": [
      "Academic license - for non-commercial use only\n",
      "Academic license - for non-commercial use only\n",
      "Academic license - for non-commercial use only\n",
      "Academic license - for non-commercial use only\n",
      "Academic license - for non-commercial use only\n",
      "Academic license - for non-commercial use only\n",
      "\u001b[36m[notice | MIPVerify]: Attempting to find adversarial example. Neural net predicted label is 8, target labels are [10]\n",
      "\u001b[39mAcademic license - for non-commercial use only\n",
      "  6.403268 seconds (2.21 M allocations: 466.652 MiB, 1.01% gc time)\n"
     ]
    },
    {
     "data": {
      "image/png": "[encoded data removed]",
      "text/plain": [
       "28×28 Array{Gray{Float64},2}:\n",
       " Gray{Float64}(-0.0)  Gray{Float64}(-0.0)  …  Gray{Float64}(-0.0)\n",
       " Gray{Float64}(-0.0)  Gray{Float64}(-0.0)     Gray{Float64}(-0.0)\n",
       " Gray{Float64}(-0.0)  Gray{Float64}(-0.0)     Gray{Float64}(-0.0)\n",
       " Gray{Float64}(-0.0)  Gray{Float64}(-0.0)     Gray{Float64}(-0.0)\n",
       " Gray{Float64}(-0.0)  Gray{Float64}(-0.0)     Gray{Float64}(-0.0)\n",
       " Gray{Float64}(-0.0)  Gray{Float64}(-0.0)  …  Gray{Float64}(-0.0)\n",
       " Gray{Float64}(-0.0)  Gray{Float64}(0.0)      Gray{Float64}(-0.0)\n",
       " Gray{Float64}(0.0)   Gray{Float64}(0.0)      Gray{Float64}(-0.0)\n",
       " Gray{Float64}(0.0)   Gray{Float64}(0.0)      Gray{Float64}(-0.0)\n",
       " Gray{Float64}(0.0)   Gray{Float64}(0.0)      Gray{Float64}(-0.0)\n",
       " Gray{Float64}(0.0)   Gray{Float64}(0.0)   …  Gray{Float64}(-0.0)\n",
       " Gray{Float64}(0.0)   Gray{Float64}(0.0)      Gray{Float64}(-0.0)\n",
       " Gray{Float64}(0.0)   Gray{Float64}(0.0)      Gray{Float64}(-0.0)\n",
       " ⋮                                         ⋱                     \n",
       " Gray{Float64}(-0.0)  Gray{Float64}(-0.0)     Gray{Float64}(-0.0)\n",
       " Gray{Float64}(-0.0)  Gray{Float64}(-0.0)     Gray{Float64}(-0.0)\n",
       " Gray{Float64}(-0.0)  Gray{Float64}(-0.0)     Gray{Float64}(-0.0)\n",
       " Gray{Float64}(-0.0)  Gray{Float64}(-0.0)     Gray{Float64}(-0.0)\n",
       " Gray{Float64}(-0.0)  Gray{Float64}(-0.0)  …  Gray{Float64}(-0.0)\n",
       " Gray{Float64}(-0.0)  Gray{Float64}(-0.0)     Gray{Float64}(-0.0)\n",
       " Gray{Float64}(-0.0)  Gray{Float64}(-0.0)     Gray{Float64}(-0.0)\n",
       " Gray{Float64}(-0.0)  Gray{Float64}(-0.0)     Gray{Float64}(-0.0)\n",
       " Gray{Float64}(-0.0)  Gray{Float64}(-0.0)     Gray{Float64}(-0.0)\n",
       " Gray{Float64}(-0.0)  Gray{Float64}(-0.0)  …  Gray{Float64}(-0.0)\n",
       " Gray{Float64}(-0.0)  Gray{Float64}(-0.0)     Gray{Float64}(-0.0)\n",
       " Gray{Float64}(-0.0)  Gray{Float64}(-0.0)     Gray{Float64}(-0.0)"
      ]
     },
     "execution_count": 10,
     "metadata": {},
     "output_type": "execute_result"
    }
   ],
   "source": [
    "d = @time MIPVerify.find_adversarial_example(n1, sample_image, 10, GurobiSolver(OutputFlag=0),\n",
    "    pp = MIPVerify.BlurringPerturbationFamily((5, 5)));\n",
    "perturbed_sample_image = getvalue(d[:PerturbedInput])\n",
    "colorview(Gray, perturbed_sample_image[1, :, :, 1])"
   ]
  },
  {
   "cell_type": "code",
   "execution_count": 11,
   "metadata": {
    "collapsed": false,
    "deletable": true,
    "editable": true
   },
   "outputs": [
    {
     "data": {
      "image/png": "[encoded data removed]",
      "text/plain": [
       "28×28 Array{RGB{Float64},2}:\n",
       " RGB{Float64}(0.974598,0.972607,0.975359)  …  RGB{Float64}(0.974598,0.972607,0.975359)\n",
       " RGB{Float64}(0.974598,0.972607,0.975359)     RGB{Float64}(0.974598,0.972607,0.975359)\n",
       " RGB{Float64}(0.974598,0.972607,0.975359)     RGB{Float64}(0.974598,0.972607,0.975359)\n",
       " RGB{Float64}(0.974598,0.972607,0.975359)     RGB{Float64}(0.974598,0.972607,0.975359)\n",
       " RGB{Float64}(0.974598,0.972607,0.975359)     RGB{Float64}(0.974598,0.972607,0.975359)\n",
       " RGB{Float64}(0.974598,0.972607,0.975359)  …  RGB{Float64}(0.974598,0.972607,0.975359)\n",
       " RGB{Float64}(0.974598,0.972607,0.975359)     RGB{Float64}(0.974598,0.972607,0.975359)\n",
       " RGB{Float64}(0.974598,0.972607,0.975359)     RGB{Float64}(0.974598,0.972607,0.975359)\n",
       " RGB{Float64}(0.974598,0.972607,0.975359)     RGB{Float64}(0.974598,0.972607,0.975359)\n",
       " RGB{Float64}(0.974598,0.972607,0.975359)     RGB{Float64}(0.974598,0.972607,0.975359)\n",
       " RGB{Float64}(0.974598,0.972607,0.975359)  …  RGB{Float64}(0.974598,0.972607,0.975359)\n",
       " RGB{Float64}(0.974598,0.972607,0.975359)     RGB{Float64}(0.974598,0.972607,0.975359)\n",
       " RGB{Float64}(0.974598,0.972607,0.975359)     RGB{Float64}(0.974598,0.972607,0.975359)\n",
       " ⋮                                         ⋱                                          \n",
       " RGB{Float64}(0.974598,0.972607,0.975359)     RGB{Float64}(0.974598,0.972607,0.975359)\n",
       " RGB{Float64}(0.974598,0.972607,0.975359)     RGB{Float64}(0.974598,0.972607,0.975359)\n",
       " RGB{Float64}(0.974598,0.972607,0.975359)     RGB{Float64}(0.974598,0.972607,0.975359)\n",
       " RGB{Float64}(0.974598,0.972607,0.975359)     RGB{Float64}(0.974598,0.972607,0.975359)\n",
       " RGB{Float64}(0.974598,0.972607,0.975359)  …  RGB{Float64}(0.974598,0.972607,0.975359)\n",
       " RGB{Float64}(0.974598,0.972607,0.975359)     RGB{Float64}(0.974598,0.972607,0.975359)\n",
       " RGB{Float64}(0.974598,0.972607,0.975359)     RGB{Float64}(0.974598,0.972607,0.975359)\n",
       " RGB{Float64}(0.974598,0.972607,0.975359)     RGB{Float64}(0.974598,0.972607,0.975359)\n",
       " RGB{Float64}(0.974598,0.972607,0.975359)     RGB{Float64}(0.974598,0.972607,0.975359)\n",
       " RGB{Float64}(0.974598,0.972607,0.975359)  …  RGB{Float64}(0.974598,0.972607,0.975359)\n",
       " RGB{Float64}(0.974598,0.972607,0.975359)     RGB{Float64}(0.974598,0.972607,0.975359)\n",
       " RGB{Float64}(0.974598,0.972607,0.975359)     RGB{Float64}(0.974598,0.972607,0.975359)"
      ]
     },
     "execution_count": 11,
     "metadata": {},
     "output_type": "execute_result"
    }
   ],
   "source": [
    "diff = getvalue(d[:Perturbation])\n",
    "view_diff(diff[1, :, :, 1])"
   ]
  },
  {
   "cell_type": "markdown",
   "metadata": {
    "deletable": true,
    "editable": true
   },
   "source": [
    "## Minimizing Over Different Norms\n",
    "### $l_1$\n",
    "By default, we minimize the $l_1$ norm of the perturbation. This generally encourages sparsity in the perturbations. \n",
    "\n",
    "In this case, the minimum $l_1$ norm perturbation required for the image to be classified as a `9` is `3.171856.`"
   ]
  },
  {
   "cell_type": "code",
   "execution_count": 12,
   "metadata": {
    "collapsed": false,
    "deletable": true,
    "editable": true
   },
   "outputs": [
    {
     "name": "stdout",
     "output_type": "stream",
     "text": [
      "\u001b[36m[notice | MIPVerify]: Loading model from cache.\n",
      "\u001b[39m\u001b[36m[notice | MIPVerify]: Attempting to find adversarial example. Neural net predicted label is 8, target labels are [10]\n",
      "\u001b[39mAcademic license - for non-commercial use only\n",
      "Objective Value: 3.171856, Solve Time: 6.33\n"
     ]
    },
    {
     "data": {
      "image/png": "[encoded data removed]",
      "text/plain": [
       "28×28 Array{Gray{Float64},2}:\n",
       " Gray{Float64}(0.0)  Gray{Float64}(0.0)  …  Gray{Float64}(0.0)     \n",
       " Gray{Float64}(0.0)  Gray{Float64}(0.0)     Gray{Float64}(0.0)     \n",
       " Gray{Float64}(0.0)  Gray{Float64}(0.0)     Gray{Float64}(0.0)     \n",
       " Gray{Float64}(0.0)  Gray{Float64}(0.0)     Gray{Float64}(0.0)     \n",
       " Gray{Float64}(0.0)  Gray{Float64}(0.0)     Gray{Float64}(0.0)     \n",
       " Gray{Float64}(0.0)  Gray{Float64}(0.0)  …  Gray{Float64}(0.0)     \n",
       " Gray{Float64}(0.0)  Gray{Float64}(0.0)     Gray{Float64}(0.0)     \n",
       " Gray{Float64}(0.0)  Gray{Float64}(0.0)     Gray{Float64}(0.0)     \n",
       " Gray{Float64}(0.0)  Gray{Float64}(0.0)     Gray{Float64}(0.0)     \n",
       " Gray{Float64}(0.0)  Gray{Float64}(0.0)     Gray{Float64}(0.0)     \n",
       " Gray{Float64}(0.0)  Gray{Float64}(0.0)  …  Gray{Float64}(0.0)     \n",
       " Gray{Float64}(0.0)  Gray{Float64}(0.0)     Gray{Float64}(0.0)     \n",
       " Gray{Float64}(0.0)  Gray{Float64}(0.0)     Gray{Float64}(0.0)     \n",
       " ⋮                                       ⋱                         \n",
       " Gray{Float64}(0.0)  Gray{Float64}(0.0)     Gray{Float64}(0.0)     \n",
       " Gray{Float64}(0.0)  Gray{Float64}(0.0)     Gray{Float64}(0.250287)\n",
       " Gray{Float64}(0.0)  Gray{Float64}(0.0)     Gray{Float64}(0.0)     \n",
       " Gray{Float64}(0.0)  Gray{Float64}(0.0)     Gray{Float64}(0.0)     \n",
       " Gray{Float64}(0.0)  Gray{Float64}(0.0)  …  Gray{Float64}(0.0)     \n",
       " Gray{Float64}(0.0)  Gray{Float64}(0.0)     Gray{Float64}(0.0)     \n",
       " Gray{Float64}(0.0)  Gray{Float64}(0.0)     Gray{Float64}(0.0)     \n",
       " Gray{Float64}(0.0)  Gray{Float64}(0.0)     Gray{Float64}(0.0)     \n",
       " Gray{Float64}(0.0)  Gray{Float64}(0.0)     Gray{Float64}(0.0)     \n",
       " Gray{Float64}(0.0)  Gray{Float64}(0.0)  …  Gray{Float64}(0.0)     \n",
       " Gray{Float64}(0.0)  Gray{Float64}(0.0)     Gray{Float64}(0.0)     \n",
       " Gray{Float64}(0.0)  Gray{Float64}(0.0)     Gray{Float64}(0.0)     "
      ]
     },
     "execution_count": 12,
     "metadata": {},
     "output_type": "execute_result"
    }
   ],
   "source": [
    "d = MIPVerify.find_adversarial_example(n1, sample_image, 10, GurobiSolver(OutputFlag=0));\n",
    "print_summary(d)\n",
    "perturbed_sample_image = getvalue(d[:PerturbedInput])\n",
    "colorview(Gray, perturbed_sample_image[1, :, :, 1])"
   ]
  },
  {
   "cell_type": "markdown",
   "metadata": {
    "deletable": true,
    "editable": true
   },
   "source": [
    "We also show the difference between the perturbed image and the original image. Red is areas of decreased brightness and blue is areas of increased brightness."
   ]
  },
  {
   "cell_type": "code",
   "execution_count": 13,
   "metadata": {
    "collapsed": false,
    "deletable": true,
    "editable": true
   },
   "outputs": [
    {
     "data": {
      "image/png": "[encoded data removed]",
      "text/plain": [
       "28×28 Array{RGB{Float64},2}:\n",
       " RGB{Float64}(0.974598,0.972607,0.975359)  …  RGB{Float64}(0.974598,0.972607,0.975359)\n",
       " RGB{Float64}(0.974598,0.972607,0.975359)     RGB{Float64}(0.974598,0.972607,0.975359)\n",
       " RGB{Float64}(0.974598,0.972607,0.975359)     RGB{Float64}(0.974598,0.972607,0.975359)\n",
       " RGB{Float64}(0.974598,0.972607,0.975359)     RGB{Float64}(0.974598,0.972607,0.975359)\n",
       " RGB{Float64}(0.974598,0.972607,0.975359)     RGB{Float64}(0.974598,0.972607,0.975359)\n",
       " RGB{Float64}(0.974598,0.972607,0.975359)  …  RGB{Float64}(0.974598,0.972607,0.975359)\n",
       " RGB{Float64}(0.974598,0.972607,0.975359)     RGB{Float64}(0.974598,0.972607,0.975359)\n",
       " RGB{Float64}(0.974598,0.972607,0.975359)     RGB{Float64}(0.974598,0.972607,0.975359)\n",
       " RGB{Float64}(0.974598,0.972607,0.975359)     RGB{Float64}(0.974598,0.972607,0.975359)\n",
       " RGB{Float64}(0.974598,0.972607,0.975359)     RGB{Float64}(0.974598,0.972607,0.975359)\n",
       " RGB{Float64}(0.974598,0.972607,0.975359)  …  RGB{Float64}(0.974598,0.972607,0.975359)\n",
       " RGB{Float64}(0.974598,0.972607,0.975359)     RGB{Float64}(0.974598,0.972607,0.975359)\n",
       " RGB{Float64}(0.974598,0.972607,0.975359)     RGB{Float64}(0.974598,0.972607,0.975359)\n",
       " ⋮                                         ⋱                                          \n",
       " RGB{Float64}(0.974598,0.972607,0.975359)     RGB{Float64}(0.974598,0.972607,0.975359)\n",
       " RGB{Float64}(0.974598,0.972607,0.975359)     RGB{Float64}(0.723685,0.871963,0.968818)\n",
       " RGB{Float64}(0.974598,0.972607,0.975359)     RGB{Float64}(0.974598,0.972607,0.975359)\n",
       " RGB{Float64}(0.974598,0.972607,0.975359)     RGB{Float64}(0.974598,0.972607,0.975359)\n",
       " RGB{Float64}(0.974598,0.972607,0.975359)  …  RGB{Float64}(0.974598,0.972607,0.975359)\n",
       " RGB{Float64}(0.974598,0.972607,0.975359)     RGB{Float64}(0.974598,0.972607,0.975359)\n",
       " RGB{Float64}(0.974598,0.972607,0.975359)     RGB{Float64}(0.974598,0.972607,0.975359)\n",
       " RGB{Float64}(0.974598,0.972607,0.975359)     RGB{Float64}(0.974598,0.972607,0.975359)\n",
       " RGB{Float64}(0.974598,0.972607,0.975359)     RGB{Float64}(0.974598,0.972607,0.975359)\n",
       " RGB{Float64}(0.974598,0.972607,0.975359)  …  RGB{Float64}(0.974598,0.972607,0.975359)\n",
       " RGB{Float64}(0.974598,0.972607,0.975359)     RGB{Float64}(0.974598,0.972607,0.975359)\n",
       " RGB{Float64}(0.974598,0.972607,0.975359)     RGB{Float64}(0.974598,0.972607,0.975359)"
      ]
     },
     "execution_count": 13,
     "metadata": {},
     "output_type": "execute_result"
    }
   ],
   "source": [
    "diff = getvalue(d[:Perturbation])\n",
    "view_diff(diff[1, :, :, 1])"
   ]
  },
  {
   "cell_type": "markdown",
   "metadata": {
    "deletable": true,
    "editable": true
   },
   "source": [
    "### $l_\\infty$\n",
    "\n",
    "We can also minimize over the $l_\\infty$ norm. This generally results in large patches of the image being changed. \n",
    "\n",
    "In this case, the minimum $l_\\infty$ norm perturbation required for the image to be classified as a `9` is `0.033522.`"
   ]
  },
  {
   "cell_type": "code",
   "execution_count": 14,
   "metadata": {
    "collapsed": false,
    "deletable": true,
    "editable": true
   },
   "outputs": [
    {
     "name": "stdout",
     "output_type": "stream",
     "text": [
      "\u001b[36m[notice | MIPVerify]: Loading model from cache.\n",
      "\u001b[39m\u001b[36m[notice | MIPVerify]: Attempting to find adversarial example. Neural net predicted label is 8, target labels are [10]\n",
      "\u001b[39mAcademic license - for non-commercial use only\n",
      "Objective Value: 0.033522, Solve Time: 1.36\n"
     ]
    },
    {
     "data": {
      "image/png": "[encoded data removed]",
      "text/plain": [
       "28×28 Array{Gray{Float64},2}:\n",
       " Gray{Float64}(0.0335223)  …  Gray{Float64}(0.0335223)\n",
       " Gray{Float64}(0.0335223)     Gray{Float64}(0.0335223)\n",
       " Gray{Float64}(0.0335223)     Gray{Float64}(0.0335223)\n",
       " Gray{Float64}(0.0335223)     Gray{Float64}(0.0)      \n",
       " Gray{Float64}(0.0335223)     Gray{Float64}(0.0335223)\n",
       " Gray{Float64}(0.0335223)  …  Gray{Float64}(0.0335223)\n",
       " Gray{Float64}(0.0335223)     Gray{Float64}(0.0335223)\n",
       " Gray{Float64}(0.0335223)     Gray{Float64}(0.0335223)\n",
       " Gray{Float64}(0.0)           Gray{Float64}(0.0335223)\n",
       " Gray{Float64}(0.0335223)     Gray{Float64}(0.0335223)\n",
       " Gray{Float64}(0.0335223)  …  Gray{Float64}(0.0)      \n",
       " Gray{Float64}(0.0335223)     Gray{Float64}(0.0335223)\n",
       " Gray{Float64}(0.0335223)     Gray{Float64}(0.0)      \n",
       " ⋮                         ⋱                          \n",
       " Gray{Float64}(0.0335223)     Gray{Float64}(0.0335223)\n",
       " Gray{Float64}(0.0335223)     Gray{Float64}(0.0335223)\n",
       " Gray{Float64}(0.0)           Gray{Float64}(0.0335223)\n",
       " Gray{Float64}(0.0)           Gray{Float64}(0.0335223)\n",
       " Gray{Float64}(0.0335223)  …  Gray{Float64}(0.0335223)\n",
       " Gray{Float64}(0.0335223)     Gray{Float64}(0.0335223)\n",
       " Gray{Float64}(0.0335223)     Gray{Float64}(0.0335223)\n",
       " Gray{Float64}(0.0335223)     Gray{Float64}(0.0335223)\n",
       " Gray{Float64}(0.0335223)     Gray{Float64}(0.0335223)\n",
       " Gray{Float64}(0.0335223)  …  Gray{Float64}(0.0335223)\n",
       " Gray{Float64}(0.0335223)     Gray{Float64}(0.0)      \n",
       " Gray{Float64}(0.0)           Gray{Float64}(0.0335223)"
      ]
     },
     "execution_count": 14,
     "metadata": {},
     "output_type": "execute_result"
    }
   ],
   "source": [
    "d = MIPVerify.find_adversarial_example(n1, sample_image, 10, GurobiSolver(OutputFlag=0),\n",
    "    norm_order=Inf);\n",
    "print_summary(d)\n",
    "perturbed_sample_image = getvalue(d[:PerturbedInput])\n",
    "colorview(Gray, perturbed_sample_image[1, :, :, 1])"
   ]
  },
  {
   "cell_type": "code",
   "execution_count": 15,
   "metadata": {
    "collapsed": false,
    "deletable": true,
    "editable": true
   },
   "outputs": [
    {
     "data": {
      "image/png": "[encoded data removed]",
      "text/plain": [
       "28×28 Array{RGB{Float64},2}:\n",
       " RGB{Float64}(0.92128,0.968212,0.993551)   …  RGB{Float64}(0.92128,0.968212,0.993551) \n",
       " RGB{Float64}(0.92128,0.968212,0.993551)      RGB{Float64}(0.92128,0.968212,0.993551) \n",
       " RGB{Float64}(0.92128,0.968212,0.993551)      RGB{Float64}(0.92128,0.968212,0.993551) \n",
       " RGB{Float64}(0.92128,0.968212,0.993551)      RGB{Float64}(0.974598,0.972607,0.975359)\n",
       " RGB{Float64}(0.92128,0.968212,0.993551)      RGB{Float64}(0.92128,0.968212,0.993551) \n",
       " RGB{Float64}(0.92128,0.968212,0.993551)   …  RGB{Float64}(0.92128,0.968212,0.993551) \n",
       " RGB{Float64}(0.92128,0.968212,0.993551)      RGB{Float64}(0.92128,0.968212,0.993551) \n",
       " RGB{Float64}(0.92128,0.968212,0.993551)      RGB{Float64}(0.92128,0.968212,0.993551) \n",
       " RGB{Float64}(0.974598,0.972607,0.975359)     RGB{Float64}(0.92128,0.968212,0.993551) \n",
       " RGB{Float64}(0.92128,0.968212,0.993551)      RGB{Float64}(0.92128,0.968212,0.993551) \n",
       " RGB{Float64}(0.92128,0.968212,0.993551)   …  RGB{Float64}(0.974598,0.972607,0.975359)\n",
       " RGB{Float64}(0.92128,0.968212,0.993551)      RGB{Float64}(0.92128,0.968212,0.993551) \n",
       " RGB{Float64}(0.92128,0.968212,0.993551)      RGB{Float64}(0.974598,0.972607,0.975359)\n",
       " ⋮                                         ⋱                                          \n",
       " RGB{Float64}(0.92128,0.968212,0.993551)      RGB{Float64}(0.92128,0.968212,0.993551) \n",
       " RGB{Float64}(0.92128,0.968212,0.993551)      RGB{Float64}(0.92128,0.968212,0.993551) \n",
       " RGB{Float64}(0.974598,0.972607,0.975359)     RGB{Float64}(0.92128,0.968212,0.993551) \n",
       " RGB{Float64}(0.974598,0.972607,0.975359)     RGB{Float64}(0.92128,0.968212,0.993551) \n",
       " RGB{Float64}(0.92128,0.968212,0.993551)   …  RGB{Float64}(0.92128,0.968212,0.993551) \n",
       " RGB{Float64}(0.92128,0.968212,0.993551)      RGB{Float64}(0.92128,0.968212,0.993551) \n",
       " RGB{Float64}(0.92128,0.968212,0.993551)      RGB{Float64}(0.92128,0.968212,0.993551) \n",
       " RGB{Float64}(0.92128,0.968212,0.993551)      RGB{Float64}(0.92128,0.968212,0.993551) \n",
       " RGB{Float64}(0.92128,0.968212,0.993551)      RGB{Float64}(0.92128,0.968212,0.993551) \n",
       " RGB{Float64}(0.92128,0.968212,0.993551)   …  RGB{Float64}(0.92128,0.968212,0.993551) \n",
       " RGB{Float64}(0.92128,0.968212,0.993551)      RGB{Float64}(0.974598,0.972607,0.975359)\n",
       " RGB{Float64}(0.974598,0.972607,0.975359)     RGB{Float64}(0.92128,0.968212,0.993551) "
      ]
     },
     "execution_count": 15,
     "metadata": {},
     "output_type": "execute_result"
    }
   ],
   "source": [
    "diff = getvalue(d[:Perturbation])\n",
    "view_diff(diff[1, :, :, 1])"
   ]
  },
  {
   "cell_type": "markdown",
   "metadata": {
    "deletable": true,
    "editable": true
   },
   "source": [
    "### $l_2$\n",
    "With solvers that can handle MIQPs (like Gurobi), we can minimize over the $l_2$ norm. This generally takes a bit more time. \n",
    "\n",
    "In this case, the minimum $l_2$ norm perturbation required for the image to be classified as a `9` is `0.183 = sqrt(0.033522).`"
   ]
  },
  {
   "cell_type": "code",
   "execution_count": 16,
   "metadata": {
    "collapsed": false,
    "deletable": true,
    "editable": true
   },
   "outputs": [
    {
     "name": "stdout",
     "output_type": "stream",
     "text": [
      "\u001b[36m[notice | MIPVerify]: Loading model from cache.\n",
      "\u001b[39m\u001b[36m[notice | MIPVerify]: Attempting to find adversarial example. Neural net predicted label is 8, target labels are [10]\n",
      "\u001b[39mAcademic license - for non-commercial use only\n",
      "Objective Value: 0.328904, Solve Time: 10.42\n"
     ]
    },
    {
     "data": {
      "image/png": "[encoded data removed]",
      "text/plain": [
       "28×28 Array{Gray{Float64},2}:\n",
       " Gray{Float64}(0.00293786)   …  Gray{Float64}(0.00695505)\n",
       " Gray{Float64}(0.00746987)      Gray{Float64}(0.0207089) \n",
       " Gray{Float64}(0.0152496)       Gray{Float64}(0.0286317) \n",
       " Gray{Float64}(0.0144787)       Gray{Float64}(0.0)       \n",
       " Gray{Float64}(0.0208144)       Gray{Float64}(0.0128456) \n",
       " Gray{Float64}(0.0104285)    …  Gray{Float64}(0.0116598) \n",
       " Gray{Float64}(0.015601)        Gray{Float64}(0.0334463) \n",
       " Gray{Float64}(0.0162783)       Gray{Float64}(0.0632378) \n",
       " Gray{Float64}(0.0)             Gray{Float64}(0.0242176) \n",
       " Gray{Float64}(0.00729577)      Gray{Float64}(0.017876)  \n",
       " Gray{Float64}(0.0207985)    …  Gray{Float64}(0.0)       \n",
       " Gray{Float64}(0.0390298)       Gray{Float64}(0.0178851) \n",
       " Gray{Float64}(0.0127734)       Gray{Float64}(0.0)       \n",
       " ⋮                           ⋱                           \n",
       " Gray{Float64}(0.0342939)       Gray{Float64}(0.0063349) \n",
       " Gray{Float64}(0.0238592)       Gray{Float64}(0.0809298) \n",
       " Gray{Float64}(0.0)             Gray{Float64}(0.0533926) \n",
       " Gray{Float64}(0.0)             Gray{Float64}(0.0220741) \n",
       " Gray{Float64}(0.0151549)    …  Gray{Float64}(0.0257883) \n",
       " Gray{Float64}(0.0155936)       Gray{Float64}(0.01081)   \n",
       " Gray{Float64}(0.00305089)      Gray{Float64}(0.0303155) \n",
       " Gray{Float64}(0.00917047)      Gray{Float64}(0.00668497)\n",
       " Gray{Float64}(0.00371888)      Gray{Float64}(0.0052561) \n",
       " Gray{Float64}(0.000449911)  …  Gray{Float64}(0.0132231) \n",
       " Gray{Float64}(0.025078)        Gray{Float64}(0.0)       \n",
       " Gray{Float64}(0.0)             Gray{Float64}(0.0027629) "
      ]
     },
     "execution_count": 16,
     "metadata": {},
     "output_type": "execute_result"
    }
   ],
   "source": [
    "d = MIPVerify.find_adversarial_example(n1, sample_image, 10, GurobiSolver(OutputFlag=0),\n",
    "    norm_order=2);\n",
    "print_summary(d)\n",
    "perturbed_sample_image = getvalue(d[:PerturbedInput])\n",
    "colorview(Gray, perturbed_sample_image[1, :, :, 1])"
   ]
  },
  {
   "cell_type": "code",
   "execution_count": 17,
   "metadata": {
    "collapsed": false,
    "deletable": true,
    "editable": true
   },
   "outputs": [
    {
     "data": {
      "image/png": "[encoded data removed]",
      "text/plain": [
       "28×28 Array{RGB{Float64},2}:\n",
       " RGB{Float64}(0.947578,0.979616,0.996444)  …  RGB{Float64}(0.944334,0.978226,0.996088)\n",
       " RGB{Float64}(0.942708,0.977527,0.99591)      RGB{Float64}(0.932883,0.973281,0.99483) \n",
       " RGB{Float64}(0.93617,0.974706,0.995192)      RGB{Float64}(0.926271,0.970399,0.994102)\n",
       " RGB{Float64}(0.937809,0.975415,0.995372)     RGB{Float64}(0.974598,0.972607,0.975359)\n",
       " RGB{Float64}(0.932883,0.973281,0.99483)      RGB{Float64}(0.939445,0.976121,0.995552)\n",
       " RGB{Float64}(0.941078,0.976825,0.995731)  …  RGB{Float64}(0.939445,0.976121,0.995552)\n",
       " RGB{Float64}(0.93617,0.974706,0.995192)      RGB{Float64}(0.92128,0.968212,0.993551) \n",
       " RGB{Float64}(0.93617,0.974706,0.995192)      RGB{Float64}(0.895906,0.95692,0.990729) \n",
       " RGB{Float64}(0.974598,0.972607,0.975359)     RGB{Float64}(0.929583,0.971845,0.994467)\n",
       " RGB{Float64}(0.942708,0.977527,0.99591)      RGB{Float64}(0.934528,0.973994,0.995011)\n",
       " RGB{Float64}(0.932883,0.973281,0.99483)   …  RGB{Float64}(0.974598,0.972607,0.975359)\n",
       " RGB{Float64}(0.916261,0.966001,0.992996)     RGB{Float64}(0.934528,0.973994,0.995011)\n",
       " RGB{Float64}(0.939445,0.976121,0.995552)     RGB{Float64}(0.974598,0.972607,0.975359)\n",
       " ⋮                                         ⋱                                          \n",
       " RGB{Float64}(0.92128,0.968212,0.993551)      RGB{Float64}(0.944334,0.978226,0.996088)\n",
       " RGB{Float64}(0.929583,0.971845,0.994467)     RGB{Float64}(0.88035,0.949853,0.988974) \n",
       " RGB{Float64}(0.974598,0.972607,0.975359)     RGB{Float64}(0.904441,0.96075,0.991684) \n",
       " RGB{Float64}(0.974598,0.972607,0.975359)     RGB{Float64}(0.931235,0.972564,0.994649)\n",
       " RGB{Float64}(0.93617,0.974706,0.995192)   …  RGB{Float64}(0.927929,0.971123,0.994285)\n",
       " RGB{Float64}(0.93617,0.974706,0.995192)      RGB{Float64}(0.941078,0.976825,0.995731)\n",
       " RGB{Float64}(0.945958,0.978922,0.996267)     RGB{Float64}(0.924611,0.969673,0.993919)\n",
       " RGB{Float64}(0.941078,0.976825,0.995731)     RGB{Float64}(0.944334,0.978226,0.996088)\n",
       " RGB{Float64}(0.945958,0.978922,0.996267)     RGB{Float64}(0.944334,0.978226,0.996088)\n",
       " RGB{Float64}(0.974598,0.972607,0.975359)  …  RGB{Float64}(0.937809,0.975415,0.995372)\n",
       " RGB{Float64}(0.927929,0.971123,0.994285)     RGB{Float64}(0.974598,0.972607,0.975359)\n",
       " RGB{Float64}(0.974598,0.972607,0.975359)     RGB{Float64}(0.947578,0.979616,0.996444)"
      ]
     },
     "execution_count": 17,
     "metadata": {},
     "output_type": "execute_result"
    }
   ],
   "source": [
    "diff = getvalue(d[:Perturbation])\n",
    "view_diff(diff[1, :, :, 1])"
   ]
  },
  {
   "cell_type": "markdown",
   "metadata": {
    "deletable": true,
    "editable": true
   },
   "source": [
    "# Advanced Options"
   ]
  },
  {
   "cell_type": "markdown",
   "metadata": {
    "deletable": true,
    "editable": true
   },
   "source": [
    "## Models\n",
    "Finding adversarial examples consists of two steps:\n",
    "\n",
    "  1. Building a model that expresses the input-output constraints of the neural net, which involves determining upper and lower bounds on each intermediate value.\n",
    "  2. Setting a target category (or multiple target categories) and solving to determine the minimal adversarial example that is classified in that category.\n",
    "\n",
    "The first time we verify a neural net, we must do step 1, which can take a long time."
   ]
  },
  {
   "cell_type": "code",
   "execution_count": 18,
   "metadata": {
    "collapsed": false,
    "deletable": true,
    "editable": true
   },
   "outputs": [
    {
     "name": "stdout",
     "output_type": "stream",
     "text": [
      "\u001b[36m[notice | MIPVerify]: Rebuilding model from scratch. This may take some time as we determine upper and lower bounds for the input to each non-linear unit. The model built will be cached and re-used for future solves, unless you explicitly set rebuild=true.\n",
      "\u001b[39mAcademic license - for non-commercial use only\n",
      "Academic license - for non-commercial use only\n",
      "Academic license - for non-commercial use only\n",
      "Academic license - for non-commercial use only\n",
      "Academic license - for non-commercial use only\n",
      "Academic license - for non-commercial use only\n",
      "Academic license - for non-commercial use only\n",
      "Academic license - for non-commercial use only\n",
      "Academic license - for non-commercial use only\n",
      "Academic license - for non-commercial use only\n",
      "Academic license - for non-commercial use only\n",
      "Academic license - for non-commercial use only\n",
      "Academic license - for non-commercial use only\n",
      "Academic license - for non-commercial use only\n",
      "Academic license - for non-commercial use only\n",
      "Academic license - for non-commercial use only\n",
      "Academic license - for non-commercial use only\n",
      "Academic license - for non-commercial use only\n",
      "Academic license - for non-commercial use only\n",
      "Academic license - for non-commercial use only\n",
      "Academic license - for non-commercial use only\n",
      "Academic license - for non-commercial use only\n",
      "Academic license - for non-commercial use only\n",
      "Academic license - for non-commercial use only\n",
      "Academic license - for non-commercial use only\n",
      "Academic license - for non-commercial use only\n",
      "Academic license - for non-commercial use only\n",
      "Academic license - for non-commercial use only\n",
      "Academic license - for non-commercial use only\n",
      "Academic license - for non-commercial use only\n",
      "Academic license - for non-commercial use only\n",
      "Academic license - for non-commercial use only\n",
      "Academic license - for non-commercial use only\n",
      "Academic license - for non-commercial use only\n",
      "Academic license - for non-commercial use only\n",
      "Academic license - for non-commercial use only\n",
      "Academic license - for non-commercial use only\n",
      "Academic license - for non-commercial use only\n",
      "Academic license - for non-commercial use only\n"
     ]
    },
    {
     "name": "stderr",
     "output_type": "stream",
     "text": [
      "\r",
      "\u001b[32m  Calculating upper bounds:  85%|████████████████████   |  ETA: 0:00:00\u001b[39m\r",
      "\u001b[32m  Calculating upper bounds: 100%|███████████████████████| Time: 0:00:00\u001b[39m\n",
      "\r"
     ]
    },
    {
     "name": "stdout",
     "output_type": "stream",
     "text": [
      "Academic license - for non-commercial use only\n",
      "Academic license - for non-commercial use only\n",
      "Academic license - for non-commercial use only\n",
      "Academic license - for non-commercial use only\n",
      "Academic license - for non-commercial use only\n",
      "Academic license - for non-commercial use only\n",
      "Academic license - for non-commercial use only\n",
      "Academic license - for non-commercial use only\n",
      "Academic license - for non-commercial use only\n",
      "Academic license - for non-commercial use only\n",
      "Academic license - for non-commercial use only\n",
      "Academic license - for non-commercial use only\n",
      "Academic license - for non-commercial use only\n",
      "Academic license - for non-commercial use only\n",
      "Academic license - for non-commercial use only\n",
      "Academic license - for non-commercial use only\n",
      "Academic license - for non-commercial use only\n",
      "Academic license - for non-commercial use only\n",
      "Academic license - for non-commercial use only\n",
      "Academic license - for non-commercial use only\n",
      "Academic license - for non-commercial use only\n",
      "Academic license - for non-commercial use only\n",
      "Academic license - for non-commercial use only\n",
      "Academic license - for non-commercial use only\n",
      "Academic license - for non-commercial use only\n",
      "Academic license - for non-commercial use only\n",
      "Academic license - for non-commercial use only\n",
      "Academic license - for non-commercial use only\n",
      "Academic license - for non-commercial use only\n",
      "Academic license - for non-commercial use only\n",
      "Academic license - for non-commercial use only\n",
      "Academic license - for non-commercial use only\n",
      "Academic license - for non-commercial use only\n",
      "Academic license - for non-commercial use only\n",
      "Academic license - for non-commercial use only\n",
      "Academic license - for non-commercial use only\n",
      "Academic license - for non-commercial use only\n",
      "Academic license - for non-commercial use only\n",
      "Academic license - for non-commercial use only\n",
      "Academic license - for non-commercial use only\n"
     ]
    },
    {
     "name": "stderr",
     "output_type": "stream",
     "text": [
      "\u001b[32m  Calculating lower bounds:  88%|████████████████████   |  ETA: 0:00:00\u001b[39m\r",
      "\u001b[32m  Calculating lower bounds: 100%|███████████████████████| Time: 0:00:00\u001b[39m\n",
      "\r",
      "\u001b[32m  Calculating upper bounds:  25%|██████                 |  ETA: 0:00:00\u001b[39m"
     ]
    },
    {
     "name": "stdout",
     "output_type": "stream",
     "text": [
      "Academic license - for non-commercial use only\n",
      "Academic license - for non-commercial use only\n",
      "Academic license - for non-commercial use only\n",
      "Academic license - for non-commercial use only\n",
      "Academic license - for non-commercial use only\n",
      "Academic license - for non-commercial use only\n",
      "Academic license - for non-commercial use only\n",
      "Academic license - for non-commercial use only\n",
      "Academic license - for non-commercial use only\n",
      "Academic license - for non-commercial use only\n",
      "Academic license - for non-commercial use only\n",
      "Academic license - for non-commercial use only\n",
      "Academic license - for non-commercial use only\n",
      "Academic license - for non-commercial use only\n",
      "Academic license - for non-commercial use only\n"
     ]
    },
    {
     "name": "stderr",
     "output_type": "stream",
     "text": [
      "\u001b[32m  Calculating upper bounds: 100%|███████████████████████| Time: 0:00:00\u001b[39m\n",
      "\u001b[32m  Calculating lower bounds:  30%|███████                |  ETA: 0:00:00\u001b[39m\r"
     ]
    },
    {
     "name": "stdout",
     "output_type": "stream",
     "text": [
      "Academic license - for non-commercial use only\n",
      "Academic license - for non-commercial use only\n",
      "Academic license - for non-commercial use only\n",
      "Academic license - for non-commercial use only\n",
      "Academic license - for non-commercial use only\n",
      "Academic license - for non-commercial use only\n",
      "Academic license - for non-commercial use only\n",
      "Academic license - for non-commercial use only\n",
      "Academic license - for non-commercial use only\n",
      "Academic license - for non-commercial use only\n",
      "Academic license - for non-commercial use only\n",
      "Academic license - for non-commercial use only\n",
      "Academic license - for non-commercial use only\n",
      "Academic license - for non-commercial use only\n",
      "Academic license - for non-commercial use only\n",
      "Academic license - for non-commercial use only\n",
      "Academic license - for non-commercial use only\n",
      "Academic license - for non-commercial use only\n",
      "Academic license - for non-commercial use only\n",
      "Academic license - for non-commercial use only\n",
      "Academic license - for non-commercial use only\n",
      "Academic license - for non-commercial use only\n",
      "Academic license - for non-commercial use only\n",
      "Academic license - for non-commercial use only\n",
      "Academic license - for non-commercial use only\n",
      "Academic license - for non-commercial use only\n",
      "\u001b[36m[notice | MIPVerify]: Attempting to find adversarial example. Neural net predicted label is 8, target labels are [1]\n",
      "\u001b[39m"
     ]
    },
    {
     "name": "stderr",
     "output_type": "stream",
     "text": [
      "\u001b[32m  Calculating lower bounds:  55%|█████████████          |  ETA: 0:00:00\u001b[39m\r",
      "\u001b[32m  Calculating lower bounds:  80%|██████████████████     |  ETA: 0:00:00\u001b[39m\r",
      "\u001b[32m  Calculating lower bounds: 100%|███████████████████████| Time: 0:00:00\u001b[39m\n"
     ]
    },
    {
     "name": "stdout",
     "output_type": "stream",
     "text": [
      "Academic license - for non-commercial use only\n",
      " 44.634717 seconds (795.48 k allocations: 328.480 MiB, 0.07% gc time)\n",
      "Objective Value: 15.092612, Solve Time: 43.29\n"
     ]
    }
   ],
   "source": [
    "d = @time MIPVerify.find_adversarial_example(n1, sample_image, 1, GurobiSolver(OutputFlag=0), rebuild=true);\n",
    "print_summary(d)"
   ]
  },
  {
   "cell_type": "markdown",
   "metadata": {
    "deletable": true,
    "editable": true
   },
   "source": [
    "When re-running the solve (with the `rebuild` parameter defaulting to `false`), we load the model from cache and skip ahead straight to step 2; finding the adversarial example takes much less time."
   ]
  },
  {
   "cell_type": "code",
   "execution_count": 19,
   "metadata": {
    "collapsed": false,
    "deletable": true,
    "editable": true
   },
   "outputs": [
    {
     "name": "stdout",
     "output_type": "stream",
     "text": [
      "\u001b[36m[notice | MIPVerify]: Loading model from cache.\n",
      "\u001b[39m\u001b[36m[notice | MIPVerify]: Attempting to find adversarial example. Neural net predicted label is 8, target labels are [1]\n",
      "\u001b[39mAcademic license - for non-commercial use only\n",
      " 40.653519 seconds (345.64 k allocations: 18.414 MiB, 0.01% gc time)\n",
      "Objective Value: 15.092612, Solve Time: 40.60\n"
     ]
    }
   ],
   "source": [
    "d = @time MIPVerify.find_adversarial_example(n1, sample_image, 1, GurobiSolver(OutputFlag=0));\n",
    "print_summary(d)"
   ]
  },
  {
   "cell_type": "markdown",
   "metadata": {
    "deletable": true,
    "editable": true
   },
   "source": [
    "By setting `rebuild=true`, you force the MIP model to be rebuilt even if one exists; this is potentially useful if you want to spend more time expressing the neural net as an MIP model to speed up subsequent solves. (Think of this as an investment!)"
   ]
  },
  {
   "cell_type": "markdown",
   "metadata": {
    "deletable": true,
    "editable": true
   },
   "source": [
    "### Removing Cached Models\n",
    "\n",
    "If you find that your cached models are taking up too much space, you can remove them with `remove_cached_models()`."
   ]
  },
  {
   "cell_type": "markdown",
   "metadata": {
    "deletable": true,
    "editable": true
   },
   "source": [
    "## Advanced Solver-fu\n",
    "\n",
    "We use two different solvers for the two steps of finding adversarial examples:\n",
    "\n",
    "  1. the `tightening_solver`, used only to determine upper and lower bounds on intermediate values when expressing the input-output constraints in the neural net (i.e. if no cached model exists, or if `rebuild=true`), and \n",
    "  2. the `main_solver`, used to determine the minimal adversarial example for the loaded model."
   ]
  },
  {
   "cell_type": "markdown",
   "metadata": {
    "deletable": true,
    "editable": true
   },
   "source": [
    "### `tightening_algorithm`\n",
    "\n",
    "By default, we tighten the bounds on each intermediate value by solving an LP using the `tightening_solver`. Compare total solve times for three different tightening algorithms:"
   ]
  },
  {
   "cell_type": "code",
   "execution_count": 20,
   "metadata": {
    "collapsed": false,
    "deletable": true,
    "editable": true
   },
   "outputs": [
    {
     "name": "stdout",
     "output_type": "stream",
     "text": [
      "\u001b[36m[notice | MIPVerify]: Rebuilding model from scratch. This may take some time as we determine upper and lower bounds for the input to each non-linear unit. The model built will be cached and re-used for future solves, unless you explicitly set rebuild=true.\n",
      "\u001b[39m\u001b[36m[notice | MIPVerify]: Attempting to find adversarial example. Neural net predicted label is 8, target labels are [10]\n",
      "\u001b[39mAcademic license - for non-commercial use only\n",
      "  6.212136 seconds (463.23 k allocations: 24.769 MiB, 0.11% gc time)\n"
     ]
    }
   ],
   "source": [
    "MIPVerify.setloglevel!(\"notice\")\n",
    "@time MIPVerify.find_adversarial_example(n1, sample_image, 10, GurobiSolver(OutputFlag=0), rebuild=true,\n",
    "    tightening_algorithm=interval_arithmetic);"
   ]
  },
  {
   "cell_type": "code",
   "execution_count": 21,
   "metadata": {
    "collapsed": false,
    "deletable": true,
    "editable": true
   },
   "outputs": [
    {
     "name": "stdout",
     "output_type": "stream",
     "text": [
      "\u001b[36m[notice | MIPVerify]: Rebuilding model from scratch. This may take some time as we determine upper and lower bounds for the input to each non-linear unit. The model built will be cached and re-used for future solves, unless you explicitly set rebuild=true.\n",
      "\u001b[39mAcademic license - for non-commercial use only\n",
      "Academic license - for non-commercial use only\n",
      "Academic license - for non-commercial use only\n",
      "Academic license - for non-commercial use only\n",
      "Academic license - for non-commercial use only\n",
      "Academic license - for non-commercial use only\n",
      "Academic license - for non-commercial use only\n",
      "Academic license - for non-commercial use only\n",
      "Academic license - for non-commercial use only\n",
      "Academic license - for non-commercial use only\n",
      "Academic license - for non-commercial use only\n",
      "Academic license - for non-commercial use only\n",
      "Academic license - for non-commercial use only\n",
      "Academic license - for non-commercial use only\n",
      "Academic license - for non-commercial use only\n",
      "Academic license - for non-commercial use only\n",
      "Academic license - for non-commercial use only\n",
      "Academic license - for non-commercial use only\n",
      "Academic license - for non-commercial use only\n",
      "Academic license - for non-commercial use only\n",
      "Academic license - for non-commercial use only\n",
      "Academic license - for non-commercial use only\n",
      "Academic license - for non-commercial use only\n",
      "Academic license - for non-commercial use only\n",
      "Academic license - for non-commercial use only\n",
      "Academic license - for non-commercial use only\n",
      "Academic license - for non-commercial use only\n",
      "Academic license - for non-commercial use only\n",
      "Academic license - for non-commercial use only\n",
      "Academic license - for non-commercial use only\n",
      "Academic license - for non-commercial use only\n",
      "Academic license - for non-commercial use only\n",
      "Academic license - for non-commercial use only\n",
      "Academic license - for non-commercial use only\n",
      "Academic license - for non-commercial use only\n",
      "Academic license - for non-commercial use only\n",
      "Academic license - for non-commercial use only\n",
      "Academic license - for non-commercial use only\n",
      "Academic license - for non-commercial use only\n"
     ]
    },
    {
     "name": "stderr",
     "output_type": "stream",
     "text": [
      "\r",
      "\u001b[32m  Calculating upper bounds:  98%|██████████████████████ |  ETA: 0:00:00\u001b[39m\r",
      "\u001b[32m  Calculating upper bounds: 100%|███████████████████████| Time: 0:00:00\u001b[39m\n",
      "\r"
     ]
    },
    {
     "name": "stdout",
     "output_type": "stream",
     "text": [
      "Academic license - for non-commercial use only\n",
      "Academic license - for non-commercial use only\n",
      "Academic license - for non-commercial use only\n",
      "Academic license - for non-commercial use only\n",
      "Academic license - for non-commercial use only\n",
      "Academic license - for non-commercial use only\n",
      "Academic license - for non-commercial use only\n",
      "Academic license - for non-commercial use only\n",
      "Academic license - for non-commercial use only\n",
      "Academic license - for non-commercial use only\n",
      "Academic license - for non-commercial use only\n",
      "Academic license - for non-commercial use only\n",
      "Academic license - for non-commercial use only\n",
      "Academic license - for non-commercial use only\n",
      "Academic license - for non-commercial use only\n",
      "Academic license - for non-commercial use only\n",
      "Academic license - for non-commercial use only\n",
      "Academic license - for non-commercial use only\n",
      "Academic license - for non-commercial use only\n",
      "Academic license - for non-commercial use only\n",
      "Academic license - for non-commercial use only\n",
      "Academic license - for non-commercial use only\n",
      "Academic license - for non-commercial use only\n",
      "Academic license - for non-commercial use only\n",
      "Academic license - for non-commercial use only\n",
      "Academic license - for non-commercial use only\n",
      "Academic license - for non-commercial use only\n",
      "Academic license - for non-commercial use only\n",
      "Academic license - for non-commercial use only\n",
      "Academic license - for non-commercial use only\n",
      "Academic license - for non-commercial use only\n",
      "Academic license - for non-commercial use only\n",
      "Academic license - for non-commercial use only\n",
      "Academic license - for non-commercial use only\n",
      "Academic license - for non-commercial use only\n",
      "Academic license - for non-commercial use only\n",
      "Academic license - for non-commercial use only\n",
      "Academic license - for non-commercial use only\n",
      "Academic license - for non-commercial use only\n",
      "Academic license - for non-commercial use only\n",
      "Academic license - for non-commercial use only\n",
      "Academic license - for non-commercial use only\n",
      "Academic license - for non-commercial use only\n",
      "Academic license - for non-commercial use only\n",
      "Academic license - for non-commercial use only\n",
      "Academic license - for non-commercial use only\n",
      "Academic license - for non-commercial use only\n",
      "Academic license - for non-commercial use only\n",
      "Academic license - for non-commercial use only\n",
      "Academic license - for non-commercial use only\n",
      "Academic license - for non-commercial use only\n",
      "Academic license - for non-commercial use only\n",
      "Academic license - for non-commercial use only\n",
      "Academic license - for non-commercial use only\n",
      "Academic license - for non-commercial use only\n",
      "Academic license - for non-commercial use only\n",
      "Academic license - for non-commercial use only\n",
      "Academic license - for non-commercial use only\n",
      "Academic license - for non-commercial use only\n",
      "Academic license - for non-commercial use only\n"
     ]
    },
    {
     "name": "stderr",
     "output_type": "stream",
     "text": [
      "\u001b[32m  Calculating upper bounds: 100%|███████████████████████| Time: 0:00:00\u001b[39m\n",
      "\u001b[32m  Calculating lower bounds:  80%|██████████████████     |  ETA: 0:00:00\u001b[39m"
     ]
    },
    {
     "name": "stdout",
     "output_type": "stream",
     "text": [
      "Academic license - for non-commercial use only\n",
      "Academic license - for non-commercial use only\n",
      "Academic license - for non-commercial use only\n",
      "Academic license - for non-commercial use only\n",
      "Academic license - for non-commercial use only\n",
      "Academic license - for non-commercial use only\n",
      "Academic license - for non-commercial use only\n",
      "Academic license - for non-commercial use only\n",
      "Academic license - for non-commercial use only\n",
      "Academic license - for non-commercial use only\n",
      "Academic license - for non-commercial use only\n",
      "Academic license - for non-commercial use only\n",
      "Academic license - for non-commercial use only\n",
      "Academic license - for non-commercial use only\n",
      "Academic license - for non-commercial use only\n",
      "Academic license - for non-commercial use only\n"
     ]
    },
    {
     "name": "stderr",
     "output_type": "stream",
     "text": [
      "\r",
      "\u001b[32m  Calculating lower bounds: 100%|███████████████████████| Time: 0:00:00\u001b[39m\n"
     ]
    },
    {
     "name": "stdout",
     "output_type": "stream",
     "text": [
      "Academic license - for non-commercial use only\n",
      "Academic license - for non-commercial use only\n",
      "Academic license - for non-commercial use only\n",
      "Academic license - for non-commercial use only\n",
      "Academic license - for non-commercial use only\n",
      "\u001b[36m[notice | MIPVerify]: Attempting to find adversarial example. Neural net predicted label is 8, target labels are [10]\n",
      "\u001b[39mAcademic license - for non-commercial use only\n",
      "  7.603950 seconds (789.99 k allocations: 328.161 MiB, 0.43% gc time)\n"
     ]
    }
   ],
   "source": [
    "MIPVerify.setloglevel!(\"notice\")\n",
    "@time MIPVerify.find_adversarial_example(n1, sample_image, 10, GurobiSolver(OutputFlag=0), rebuild=true,\n",
    "    tightening_algorithm=lp);"
   ]
  },
  {
   "cell_type": "code",
   "execution_count": 22,
   "metadata": {
    "collapsed": false,
    "deletable": true,
    "editable": true
   },
   "outputs": [
    {
     "name": "stdout",
     "output_type": "stream",
     "text": [
      "\u001b[36m[notice | MIPVerify]: Rebuilding model from scratch. This may take some time as we determine upper and lower bounds for the input to each non-linear unit. The model built will be cached and re-used for future solves, unless you explicitly set rebuild=true.\n",
      "\u001b[39mAcademic license - for non-commercial use only\n"
     ]
    },
    {
     "name": "stderr",
     "output_type": "stream",
     "text": [
      "\u001b[32m  Calculating upper bounds: 100%|███████████████████████| Time: 0:00:23\u001b[39m\n",
      "\u001b[32m  Calculating lower bounds: 100%|███████████████████████| Time: 0:00:46\u001b[39m\n"
     ]
    },
    {
     "name": "stdout",
     "output_type": "stream",
     "text": [
      "\u001b[36m[notice | MIPVerify]: Attempting to find adversarial example. Neural net predicted label is 8, target labels are [10]\n",
      "\u001b[39mAcademic license - for non-commercial use only\n",
      " 75.074227 seconds (505.86 k allocations: 57.580 MiB, 0.03% gc time)\n"
     ]
    }
   ],
   "source": [
    "MIPVerify.setloglevel!(\"notice\")\n",
    "@time MIPVerify.find_adversarial_example(n1, sample_image, 10, GurobiSolver(OutputFlag=0), rebuild=true,\n",
    "    tightening_algorithm=mip);"
   ]
  },
  {
   "cell_type": "markdown",
   "metadata": {
    "deletable": true,
    "editable": true
   },
   "source": [
    "We can also modify many of the parameters of the solver to change behavior:\n",
    "\n",
    "We will be focusing on the parameters available via Gurobi (http://www.gurobi.com/documentation/7.5/refman/parameters.html), but other solvers often have similar options."
   ]
  },
  {
   "cell_type": "markdown",
   "metadata": {
    "deletable": true,
    "editable": true
   },
   "source": [
    "  \n",
    "### `main_solver`\n",
    "\n",
    "#### Muting Output\n",
    "To mute the output from the `GurobiSolver`, set `OutputFlag=0`.\n"
   ]
  },
  {
   "cell_type": "code",
   "execution_count": 23,
   "metadata": {
    "collapsed": false,
    "deletable": true,
    "editable": true,
    "scrolled": true
   },
   "outputs": [
    {
     "name": "stdout",
     "output_type": "stream",
     "text": [
      "\u001b[36m[notice | MIPVerify]: Loading model from cache.\n",
      "\u001b[39m\u001b[36m[notice | MIPVerify]: Attempting to find adversarial example. Neural net predicted label is 8, target labels are [10]\n",
      "\u001b[39mAcademic license - for non-commercial use only\n",
      "Optimize a model with 3385 rows, 3256 columns and 71132 nonzeros\n",
      "Variable types: 3196 continuous, 60 integer (60 binary)\n",
      "Coefficient statistics:\n",
      "  Matrix range     [2e-05, 7e+02]\n",
      "  Objective range  [1e+00, 1e+00]\n",
      "  Bounds range     [1e+00, 1e+02]\n",
      "  RHS range        [1e-02, 7e+02]\n",
      "\n",
      "MIP start did not produce a new incumbent solution\n",
      "MIP start violates constraint R1024 by 1.000000000\n",
      "\n",
      "Presolve removed 2850 rows and 2174 columns\n",
      "Presolve time: 0.11s\n",
      "Presolved: 535 rows, 1082 columns, 61577 nonzeros\n",
      "Variable types: 1022 continuous, 60 integer (60 binary)\n",
      "\n",
      "Root relaxation: objective 0.000000e+00, 251 iterations, 0.01 seconds\n",
      "\n",
      "    Nodes    |    Current Node    |     Objective Bounds      |     Work\n",
      " Expl Unexpl |  Obj  Depth IntInf | Incumbent    BestBd   Gap | It/Node Time\n",
      "\n",
      "     0     0    0.00000    0    1          -    0.00000      -     -    0s\n",
      "Another try with MIP start\n",
      "H    0     0                      45.5490804    0.00000   100%     -    0s\n",
      "H    0     0                      14.4706496    0.00000   100%     -    0s\n",
      "     0     0    0.00000    0    2   14.47065    0.00000   100%     -    0s\n",
      "     0     0    0.00000    0    2   14.47065    0.00000   100%     -    0s\n",
      "     0     0    0.00000    0    1   14.47065    0.00000   100%     -    0s\n",
      "H    0     0                       3.1718557    0.00000   100%     -    0s\n",
      "     0     2    0.00000    0    1    3.17186    0.00000   100%     -    0s\n",
      "\n",
      "Cutting planes:\n",
      "  Flow cover: 1\n",
      "\n",
      "Explored 3165 nodes (186909 simplex iterations) in 4.41 seconds\n",
      "Thread count was 8 (of 8 available processors)\n",
      "\n",
      "Solution count 3: 3.17186 14.4706 45.5491 \n",
      "\n",
      "Optimal solution found (tolerance 1.00e-04)\n",
      "Best objective 3.171855696756e+00, best bound 3.171855696756e+00, gap 0.0000%\n",
      "Objective Value: 3.171856, Solve Time: 4.41\n"
     ]
    }
   ],
   "source": [
    "d = MIPVerify.find_adversarial_example(n1, sample_image, 10, GurobiSolver());\n",
    "print_summary(d)"
   ]
  },
  {
   "cell_type": "code",
   "execution_count": 24,
   "metadata": {
    "collapsed": false,
    "deletable": true,
    "editable": true
   },
   "outputs": [
    {
     "name": "stdout",
     "output_type": "stream",
     "text": [
      "\u001b[36m[notice | MIPVerify]: Rebuilding model from scratch. This may take some time as we determine upper and lower bounds for the input to each non-linear unit. The model built will be cached and re-used for future solves, unless you explicitly set rebuild=true.\n",
      "\u001b[39mAcademic license - for non-commercial use only\n",
      "Academic license - for non-commercial use only\n",
      "Academic license - for non-commercial use only\n",
      "Academic license - for non-commercial use only\n",
      "Academic license - for non-commercial use only\n",
      "Academic license - for non-commercial use only\n",
      "Academic license - for non-commercial use only\n",
      "Academic license - for non-commercial use only\n",
      "Academic license - for non-commercial use only\n",
      "Academic license - for non-commercial use only\n",
      "Academic license - for non-commercial use only\n",
      "Academic license - for non-commercial use only\n",
      "Academic license - for non-commercial use only\n",
      "Academic license - for non-commercial use only\n",
      "Academic license - for non-commercial use only\n",
      "Academic license - for non-commercial use only\n",
      "Academic license - for non-commercial use only\n",
      "Academic license - for non-commercial use only\n",
      "Academic license - for non-commercial use only\n",
      "Academic license - for non-commercial use only\n",
      "Academic license - for non-commercial use only\n",
      "Academic license - for non-commercial use only\n",
      "Academic license - for non-commercial use only\n",
      "Academic license - for non-commercial use only\n",
      "Academic license - for non-commercial use only\n",
      "Academic license - for non-commercial use only\n",
      "Academic license - for non-commercial use only\n",
      "Academic license - for non-commercial use only\n",
      "Academic license - for non-commercial use only\n",
      "Academic license - for non-commercial use only\n",
      "Academic license - for non-commercial use only\n",
      "Academic license - for non-commercial use only\n",
      "Academic license - for non-commercial use only\n",
      "Academic license - for non-commercial use only\n",
      "Academic license - for non-commercial use only\n",
      "Academic license - for non-commercial use only\n",
      "Academic license - for non-commercial use only\n",
      "Academic license - for non-commercial use only\n",
      "Academic license - for non-commercial use only\n"
     ]
    },
    {
     "name": "stderr",
     "output_type": "stream",
     "text": [
      "\r",
      "\u001b[32m  Calculating upper bounds:  92%|█████████████████████  |  ETA: 0:00:00\u001b[39m\r",
      "\u001b[32m  Calculating upper bounds: 100%|███████████████████████| Time: 0:00:00\u001b[39m\n",
      "\r"
     ]
    },
    {
     "name": "stdout",
     "output_type": "stream",
     "text": [
      "Academic license - for non-commercial use only\n",
      "Academic license - for non-commercial use only\n",
      "Academic license - for non-commercial use only\n",
      "Academic license - for non-commercial use only\n",
      "Academic license - for non-commercial use only\n",
      "Academic license - for non-commercial use only\n",
      "Academic license - for non-commercial use only\n",
      "Academic license - for non-commercial use only\n",
      "Academic license - for non-commercial use only\n",
      "Academic license - for non-commercial use only\n",
      "Academic license - for non-commercial use only\n",
      "Academic license - for non-commercial use only\n",
      "Academic license - for non-commercial use only\n",
      "Academic license - for non-commercial use only\n",
      "Academic license - for non-commercial use only\n",
      "Academic license - for non-commercial use only\n",
      "Academic license - for non-commercial use only\n",
      "Academic license - for non-commercial use only\n",
      "Academic license - for non-commercial use only\n",
      "Academic license - for non-commercial use only\n",
      "Academic license - for non-commercial use only\n",
      "Academic license - for non-commercial use only\n",
      "Academic license - for non-commercial use only\n",
      "Academic license - for non-commercial use only\n",
      "Academic license - for non-commercial use only\n",
      "Academic license - for non-commercial use only\n",
      "Academic license - for non-commercial use only\n",
      "Academic license - for non-commercial use only\n",
      "Academic license - for non-commercial use only\n",
      "Academic license - for non-commercial use only\n",
      "Academic license - for non-commercial use only\n",
      "Academic license - for non-commercial use only\n",
      "Academic license - for non-commercial use only\n",
      "Academic license - for non-commercial use only\n",
      "Academic license - for non-commercial use only\n",
      "Academic license - for non-commercial use only\n",
      "Academic license - for non-commercial use only\n",
      "Academic license - for non-commercial use only\n",
      "Academic license - for non-commercial use only\n",
      "Academic license - for non-commercial use only\n"
     ]
    },
    {
     "name": "stderr",
     "output_type": "stream",
     "text": [
      "\u001b[32m  Calculating lower bounds:  92%|█████████████████████  |  ETA: 0:00:00\u001b[39m\r",
      "\u001b[32m  Calculating lower bounds: 100%|███████████████████████| Time: 0:00:00\u001b[39m\n",
      "\r",
      "\u001b[32m  Calculating upper bounds:  30%|███████                |  ETA: 0:00:00\u001b[39m"
     ]
    },
    {
     "name": "stdout",
     "output_type": "stream",
     "text": [
      "Academic license - for non-commercial use only\n",
      "Academic license - for non-commercial use only\n",
      "Academic license - for non-commercial use only\n",
      "Academic license - for non-commercial use only\n",
      "Academic license - for non-commercial use only\n",
      "Academic license - for non-commercial use only\n",
      "Academic license - for non-commercial use only\n",
      "Academic license - for non-commercial use only\n",
      "Academic license - for non-commercial use only\n",
      "Academic license - for non-commercial use only\n",
      "Academic license - for non-commercial use only\n",
      "Academic license - for non-commercial use only\n",
      "Academic license - for non-commercial use only\n",
      "Academic license - for non-commercial use only\n",
      "Academic license - for non-commercial use only\n"
     ]
    },
    {
     "name": "stderr",
     "output_type": "stream",
     "text": [
      "\r",
      "\u001b[32m  Calculating upper bounds:  55%|█████████████          |  ETA: 0:00:00\u001b[39m\r",
      "\u001b[32m  Calculating upper bounds:  75%|█████████████████      |  ETA: 0:00:00\u001b[39m\r",
      "\u001b[32m  Calculating upper bounds: 100%|███████████████████████| Time: 0:00:00\u001b[39m\n",
      "\r"
     ]
    },
    {
     "name": "stdout",
     "output_type": "stream",
     "text": [
      "Academic license - for non-commercial use only\n",
      "Academic license - for non-commercial use only\n",
      "Academic license - for non-commercial use only\n",
      "Academic license - for non-commercial use only\n",
      "Academic license - for non-commercial use only\n",
      "Academic license - for non-commercial use only\n",
      "Academic license - for non-commercial use only\n",
      "Academic license - for non-commercial use only\n",
      "Academic license - for non-commercial use only\n",
      "Academic license - for non-commercial use only\n",
      "Academic license - for non-commercial use only\n",
      "Academic license - for non-commercial use only\n",
      "Academic license - for non-commercial use only\n",
      "Academic license - for non-commercial use only\n",
      "Academic license - for non-commercial use only\n",
      "Academic license - for non-commercial use only\n",
      "Academic license - for non-commercial use only\n",
      "Academic license - for non-commercial use only\n",
      "Academic license - for non-commercial use only\n",
      "Academic license - for non-commercial use only\n",
      "Academic license - for non-commercial use only\n",
      "Academic license - for non-commercial use only\n",
      "Academic license - for non-commercial use only\n",
      "Academic license - for non-commercial use only\n",
      "Academic license - for non-commercial use only\n"
     ]
    },
    {
     "name": "stderr",
     "output_type": "stream",
     "text": [
      "\u001b[32m  Calculating lower bounds:  30%|███████                |  ETA: 0:00:00\u001b[39m\r",
      "\u001b[32m  Calculating lower bounds:  55%|█████████████          |  ETA: 0:00:00\u001b[39m\r",
      "\u001b[32m  Calculating lower bounds:  80%|██████████████████     |  ETA: 0:00:00\u001b[39m\r",
      "\u001b[32m  Calculating lower bounds: 100%|███████████████████████| Time: 0:00:00\u001b[39m\n"
     ]
    },
    {
     "name": "stdout",
     "output_type": "stream",
     "text": [
      "Academic license - for non-commercial use only\n",
      "\u001b[36m[notice | MIPVerify]: Attempting to find adversarial example. Neural net predicted label is 8, target labels are [10]\n",
      "\u001b[39mAcademic license - for non-commercial use only\n",
      "Objective Value: 3.171856, Solve Time: 4.41\n"
     ]
    }
   ],
   "source": [
    "MIPVerify.find_adversarial_example(n1, sample_image, 10, GurobiSolver(OutputFlag=0));\n",
    "print_summary(d)"
   ]
  },
  {
   "cell_type": "markdown",
   "metadata": {
    "deletable": true,
    "editable": true
   },
   "source": [
    "#### Terminating early if a conditon is satisfied\n",
    "\n",
    "Sometimes, finding an adversarial example takes a long time:"
   ]
  },
  {
   "cell_type": "code",
   "execution_count": 25,
   "metadata": {
    "collapsed": false,
    "deletable": true,
    "editable": true
   },
   "outputs": [
    {
     "name": "stdout",
     "output_type": "stream",
     "text": [
      "\u001b[36m[notice | MIPVerify]: Loading model from cache.\n",
      "\u001b[39m\u001b[36m[notice | MIPVerify]: Attempting to find adversarial example. Neural net predicted label is 8, target labels are [2]\n",
      "\u001b[39mAcademic license - for non-commercial use only\n",
      "Optimize a model with 4954 rows, 4041 columns and 75836 nonzeros\n",
      "Variable types: 3197 continuous, 844 integer (844 binary)\n",
      "Coefficient statistics:\n",
      "  Matrix range     [2e-05, 7e+02]\n",
      "  Objective range  [1e+00, 1e+00]\n",
      "  Bounds range     [1e+00, 3e+02]\n",
      "  RHS range        [1e-02, 7e+02]\n",
      "\n",
      "MIP start did not produce a new incumbent solution\n",
      "MIP start violates constraint R784 by 70.892854817\n",
      "\n",
      "Presolve removed 3803 rows and 3126 columns\n",
      "Presolve time: 0.14s\n",
      "Presolved: 1151 rows, 915 columns, 62809 nonzeros\n",
      "Variable types: 855 continuous, 60 integer (60 binary)\n",
      "\n",
      "Root relaxation: objective 0.000000e+00, 523 iterations, 0.02 seconds\n",
      "\n",
      "    Nodes    |    Current Node    |     Objective Bounds      |     Work\n",
      " Expl Unexpl |  Obj  Depth IntInf | Incumbent    BestBd   Gap | It/Node Time\n",
      "\n",
      "     0     0    0.00000    0    1          -    0.00000      -     -    0s\n",
      "Another try with MIP start\n",
      "H    0     0                       0.5478327    0.00000   100%     -    0s\n",
      "H    0     0                       0.2873450    0.00000   100%     -    0s\n",
      "     0     0    0.00000    0    3    0.28734    0.00000   100%     -    0s\n",
      "     0     0    0.00000    0    4    0.28734    0.00000   100%     -    0s\n",
      "     0     0    0.00000    0    1    0.28734    0.00000   100%     -    1s\n",
      "     0     0    0.00000    0    1    0.28734    0.00000   100%     -    1s\n",
      "     0     2    0.00000    0    1    0.28734    0.00000   100%     -    1s\n",
      "H  145   130                       0.2733966    0.00000   100%   211    2s\n",
      "   347   264    0.04503   19   15    0.27340    0.00000   100%   194    5s\n",
      "H  408   292                       0.2630165    0.00000   100%   196    5s\n",
      "*  454   312              32       0.2615189    0.00000   100%   190    6s\n",
      "H  516   341                       0.2604225    0.00000   100%   187    6s\n",
      "H  520   341                       0.2604205    0.00000   100%   187    6s\n",
      "H  529   303                       0.2052527    0.00000   100%   188    6s\n",
      "*  691   355              44       0.2043999    0.00000   100%   167    7s\n",
      "   998   431    0.11217   18   15    0.20440    0.00000   100%   169   10s\n",
      "  1351   500 infeasible   15         0.20440    0.00000   100%   187   15s\n",
      "  1865   623    0.04521   19   14    0.20440    0.00000   100%   187   20s\n",
      "  2251   711    0.03026   11   18    0.20440    0.00000   100%   189   26s\n",
      "  2807   869 infeasible   18         0.20440    0.00000   100%   185   32s\n",
      "H 3113   871                       0.1867516    0.00000   100%   188   35s\n",
      "  3131   883    0.13154   32    3    0.18675    0.00000   100%   187   40s\n",
      "  3230   943    0.00000   30    9    0.18675    0.00000   100%   197   45s\n",
      "* 3485   916              58       0.1867120    0.00000   100%   192   48s\n",
      "  3630   933    0.04130   31   19    0.18671    0.00000   100%   190   50s\n",
      "  4195   991    0.11671   24   28    0.18671    0.00000   100%   183   55s\n",
      "  4630   932    0.05380   27    8    0.18671    0.01228  93.4%   181   60s\n",
      "  5196   882    0.09160   28   18    0.18671    0.02481  86.7%   177   65s\n",
      "* 5407   798              48       0.1867104    0.02481  86.7%   177   68s\n",
      "* 5603   853              49       0.1857386    0.02821  84.8%   175   69s\n",
      "  5705   878    0.17095   31    9    0.18574    0.02821  84.8%   174   71s\n",
      "  6138   884 infeasible   40         0.18574    0.03135  83.1%   173   75s\n",
      "  6752   922    0.10190   30   15    0.18574    0.04984  73.2%   169   80s\n",
      "  7438   994 infeasible   28         0.18574    0.06061  67.4%   166   86s\n",
      "  8002  1119 infeasible   30         0.18574    0.06427  65.4%   164   91s\n",
      "  8375  1140    0.07396   26    7    0.18574    0.06914  62.8%   164   95s\n",
      "  9046  1124    0.14176   27    6    0.18574    0.07988  57.0%   163  101s\n",
      "  9564  1096 infeasible   30         0.18574    0.08151  56.1%   162  105s\n",
      " 10126  1028    0.18474   32    9    0.18574    0.09204  50.4%   161  110s\n",
      " 10849   996     cutoff   30         0.18574    0.09679  47.9%   159  115s\n",
      " 11601  1029 infeasible   29         0.18574    0.10454  43.7%   157  120s\n",
      " 12283  1075    0.14180   24   17    0.18574    0.11776  36.6%   156  127s\n",
      " 12636  1081    0.14012   26   20    0.18574    0.12378  33.4%   156  130s\n",
      " 13519  1074    0.16424   37   10    0.18574    0.13217  28.8%   153  136s\n",
      " 14323  1110    0.18450   34   11    0.18574    0.14005  24.6%   152  140s\n",
      " 15107  1179    0.14198   24   24    0.18574    0.14198  23.6%   150  151s\n",
      "H15132  1175                       0.1852948    0.14207  23.3%   150  151s\n",
      " 15504  1044 infeasible   29         0.18529    0.14984  19.1%   150  155s\n",
      " 16455   927    0.15245   23   12    0.18529    0.15245  17.7%   150  161s\n",
      " 17347   809    0.16422   34    3    0.18529    0.16330  11.9%   149  166s\n",
      " 18197   650    0.17520   32   15    0.18529    0.16848  9.07%   149  171s\n",
      " 18891   488 infeasible   32         0.18529    0.17317  6.54%   148  175s\n",
      "*19615    98              50       0.1852948    0.18105  2.29%   147  178s\n",
      "\n",
      "Cutting planes:\n",
      "  Gomory: 3\n",
      "  Projected implied bound: 2\n",
      "  MIR: 2\n",
      "  Inf proof: 1\n",
      "\n",
      "Explored 19972 nodes (2921186 simplex iterations) in 179.59 seconds\n",
      "Thread count was 8 (of 8 available processors)\n",
      "\n",
      "Solution count 10: 0.185295 0.185295 0.185739 ... 0.260422\n",
      "\n",
      "Optimal solution found (tolerance 1.00e-04)\n",
      "Best objective 1.852948299102e-01, best bound 1.852948299102e-01, gap 0.0000%\n"
     ]
    }
   ],
   "source": [
    "MIPVerify.find_adversarial_example(n1, sample_image, 2, GurobiSolver(),\n",
    "    norm_order=Inf);"
   ]
  },
  {
   "cell_type": "markdown",
   "metadata": {
    "deletable": true,
    "editable": true
   },
   "source": [
    "You may want to terminate early when a particular condition is satisfied. Common reasons are:\n",
    "\n",
    "  1. Solve exceeding time limit\n",
    "  2. Lower bound on robustness proved (i.e. `BestBd` increases above a pre-determined threshold)\n",
    "  3. Counter-example found (i.e. `Incumbent` adversarial image found that is closer to the original image than expected).\n",
    "  4. Difference between `Incumbent` and `BestBd` falls below a pre-determined threshold.\n",
    "  \n",
    "Fortunately, Gurobi has a parameter for all of these cases."
   ]
  },
  {
   "cell_type": "markdown",
   "metadata": {
    "deletable": true,
    "editable": true
   },
   "source": [
    "##### Terminate if time limit is reached\n",
    "Set `TimeLimit`:"
   ]
  },
  {
   "cell_type": "code",
   "execution_count": 26,
   "metadata": {
    "collapsed": false,
    "deletable": true,
    "editable": true
   },
   "outputs": [
    {
     "name": "stdout",
     "output_type": "stream",
     "text": [
      "\u001b[36m[notice | MIPVerify]: Loading model from cache.\n",
      "\u001b[39m\u001b[36m[notice | MIPVerify]: Attempting to find adversarial example. Neural net predicted label is 8, target labels are [2]\n",
      "\u001b[39mAcademic license - for non-commercial use only\n",
      "Optimize a model with 4954 rows, 4041 columns and 75836 nonzeros\n",
      "Variable types: 3197 continuous, 844 integer (844 binary)\n",
      "Coefficient statistics:\n",
      "  Matrix range     [2e-05, 7e+02]\n",
      "  Objective range  [1e+00, 1e+00]\n",
      "  Bounds range     [1e+00, 3e+02]\n",
      "  RHS range        [1e-02, 7e+02]\n",
      "\n",
      "MIP start did not produce a new incumbent solution\n",
      "MIP start violates constraint R784 by 70.892854817\n",
      "\n",
      "Presolve removed 3803 rows and 3126 columns\n",
      "Presolve time: 0.13s\n",
      "Presolved: 1151 rows, 915 columns, 62809 nonzeros\n",
      "Variable types: 855 continuous, 60 integer (60 binary)\n",
      "\n",
      "Root relaxation: objective 0.000000e+00, 523 iterations, 0.02 seconds\n",
      "\n",
      "    Nodes    |    Current Node    |     Objective Bounds      |     Work\n",
      " Expl Unexpl |  Obj  Depth IntInf | Incumbent    BestBd   Gap | It/Node Time\n",
      "\n",
      "     0     0    0.00000    0    1          -    0.00000      -     -    0s\n",
      "Another try with MIP start\n",
      "H    0     0                       0.5478327    0.00000   100%     -    0s\n",
      "H    0     0                       0.2873450    0.00000   100%     -    0s\n",
      "     0     0    0.00000    0    3    0.28734    0.00000   100%     -    0s\n",
      "     0     0    0.00000    0    4    0.28734    0.00000   100%     -    0s\n",
      "     0     0    0.00000    0    1    0.28734    0.00000   100%     -    1s\n",
      "     0     0    0.00000    0    1    0.28734    0.00000   100%     -    1s\n",
      "     0     2    0.00000    0    1    0.28734    0.00000   100%     -    1s\n",
      "H  145   130                       0.2733966    0.00000   100%   211    3s\n",
      "   263   213    0.01512   13   18    0.27340    0.00000   100%   197    5s\n",
      "H  408   292                       0.2630165    0.00000   100%   196    6s\n",
      "*  454   312              32       0.2615189    0.00000   100%   190    7s\n",
      "H  516   341                       0.2604225    0.00000   100%   187    7s\n",
      "H  520   341                       0.2604205    0.00000   100%   187    7s\n",
      "H  529   303                       0.2052527    0.00000   100%   188    7s\n",
      "*  691   355              44       0.2043999    0.00000   100%   167    8s\n",
      "   810   386    0.19395   15    5    0.20440    0.00000   100%   167   10s\n",
      "  1138   456     cutoff   22         0.20440    0.00000   100%   182   15s\n",
      "  1644   563 infeasible   25         0.20440    0.00000   100%   187   21s\n",
      "  2123   680     cutoff   23         0.20440    0.00000   100%   187   25s\n",
      "  2630   800    0.19596   13   18    0.20440    0.00000   100%   186   30s\n",
      "\n",
      "Cutting planes:\n",
      "  Cover: 3\n",
      "  Implied bound: 49\n",
      "  MIR: 6\n",
      "  Flow cover: 3\n",
      "  Inf proof: 4\n",
      "\n",
      "Explored 2789 nodes (517644 simplex iterations) in 30.00 seconds\n",
      "Thread count was 8 (of 8 available processors)\n",
      "\n",
      "Solution count 9: 0.2044 0.205253 0.26042 ... 0.547833\n",
      "\n",
      "Time limit reached\n",
      "Best objective 2.043999034141e-01, best bound 0.000000000000e+00, gap 100.0000%\n"
     ]
    },
    {
     "name": "stderr",
     "output_type": "stream",
     "text": [
      "\u001b[1m\u001b[33mWARNING: \u001b[39m\u001b[22m\u001b[33mNot solved to optimality, status: UserLimit\u001b[39m\n"
     ]
    }
   ],
   "source": [
    "MIPVerify.find_adversarial_example(n1, sample_image, 2, GurobiSolver(TimeLimit=30),\n",
    "    norm_order=Inf);"
   ]
  },
  {
   "cell_type": "markdown",
   "metadata": {
    "deletable": true,
    "editable": true
   },
   "source": [
    "##### Terminate if lower bound on robustness proved\n",
    "\n",
    "Set `BestBdStop` or `Cutoff`.\n",
    "\n",
    "(`Cutoff` gives a different error message that is not currently processed correctly by the latest release of `Gurobi`)."
   ]
  },
  {
   "cell_type": "code",
   "execution_count": 27,
   "metadata": {
    "collapsed": false,
    "deletable": true,
    "editable": true
   },
   "outputs": [
    {
     "name": "stdout",
     "output_type": "stream",
     "text": [
      "\u001b[36m[notice | MIPVerify]: Loading model from cache.\n",
      "\u001b[39m\u001b[36m[notice | MIPVerify]: Attempting to find adversarial example. Neural net predicted label is 8, target labels are [2]\n",
      "\u001b[39mAcademic license - for non-commercial use only\n",
      "Optimize a model with 4954 rows, 4041 columns and 75836 nonzeros\n",
      "Variable types: 3197 continuous, 844 integer (844 binary)\n",
      "Coefficient statistics:\n",
      "  Matrix range     [2e-05, 7e+02]\n",
      "  Objective range  [1e+00, 1e+00]\n",
      "  Bounds range     [1e+00, 3e+02]\n",
      "  RHS range        [1e-02, 7e+02]\n",
      "\n",
      "MIP start did not produce a new incumbent solution\n",
      "MIP start violates constraint R784 by 70.892854817\n",
      "\n",
      "Presolve removed 3803 rows and 3126 columns\n",
      "Presolve time: 0.13s\n",
      "Presolved: 1151 rows, 915 columns, 62809 nonzeros\n",
      "Variable types: 855 continuous, 60 integer (60 binary)\n",
      "\n",
      "Root relaxation: objective 0.000000e+00, 523 iterations, 0.03 seconds\n",
      "\n",
      "    Nodes    |    Current Node    |     Objective Bounds      |     Work\n",
      " Expl Unexpl |  Obj  Depth IntInf | Incumbent    BestBd   Gap | It/Node Time\n",
      "\n",
      "     0     0    0.00000    0    1          -    0.00000      -     -    0s\n",
      "Another try with MIP start\n",
      "H    0     0                       0.5478327    0.00000   100%     -    0s\n",
      "H    0     0                       0.2873450    0.00000   100%     -    0s\n",
      "     0     0    0.00000    0    3    0.28734    0.00000   100%     -    0s\n",
      "     0     0    0.00000    0    4    0.28734    0.00000   100%     -    0s\n",
      "     0     0    0.00000    0    1    0.28734    0.00000   100%     -    1s\n",
      "     0     0    0.00000    0    1    0.28734    0.00000   100%     -    1s\n",
      "     0     2    0.00000    0    1    0.28734    0.00000   100%     -    1s\n",
      "H  145   130                       0.2733966    0.00000   100%   211    3s\n",
      "   306   242    0.17176   17   16    0.27340    0.00000   100%   193    5s\n",
      "H  408   292                       0.2630165    0.00000   100%   196    6s\n",
      "*  454   312              32       0.2615189    0.00000   100%   190    7s\n",
      "H  516   341                       0.2604225    0.00000   100%   187    7s\n",
      "H  520   341                       0.2604205    0.00000   100%   187    7s\n",
      "H  529   303                       0.2052527    0.00000   100%   188    7s\n",
      "*  691   355              44       0.2043999    0.00000   100%   167    8s\n",
      "   810   386    0.19395   15    5    0.20440    0.00000   100%   167   10s\n",
      "  1204   477     cutoff   20         0.20440    0.00000   100%   183   15s\n",
      "  1644   563 infeasible   25         0.20440    0.00000   100%   187   20s\n",
      "  2123   680     cutoff   23         0.20440    0.00000   100%   187   26s\n",
      "  2630   803    0.19596   13   18    0.20440    0.00000   100%   186   30s\n",
      "H 3113   871                       0.1867516    0.00000   100%   188   34s\n",
      "  3114   872    0.15319   12    1    0.18675    0.00000   100%   188   35s\n",
      "  3174   911    0.00000   22   10    0.18675    0.00000   100%   194   40s\n",
      "* 3485   916              58       0.1867120    0.00000   100%   192   44s\n",
      "  3583   920    0.05018   32   19    0.18671    0.00000   100%   191   45s\n",
      "  4359   968    0.12959   29    6    0.18671    0.00000   100%   184   50s\n",
      "  5106   878    0.11152   30    5    0.18671    0.02481  86.7%   177   55s\n",
      "* 5407   798              48       0.1867104    0.02481  86.7%   177   58s\n",
      "* 5603   853              49       0.1857386    0.02821  84.8%   175   59s\n",
      "  5705   878    0.17095   31    9    0.18574    0.02821  84.8%   174   60s\n",
      "  6453   916    0.12551   27   19    0.18574    0.04505  75.7%   171   65s\n",
      "\n",
      "Cutting planes:\n",
      "  Gomory: 3\n",
      "  Projected implied bound: 2\n",
      "  MIR: 2\n",
      "  Inf proof: 1\n",
      "\n",
      "Explored 7117 nodes (1193866 simplex iterations) in 68.37 seconds\n",
      "Thread count was 8 (of 8 available processors)\n",
      "\n",
      "Solution count 10: 0.185739 0.18671 0.186712 ... 0.263016\n",
      "\n",
      "Optimization achieved user objective limit\n",
      "Best objective 1.857386034944e-01, best bound 5.839908944440e-02, gap 68.5585%\n"
     ]
    },
    {
     "name": "stderr",
     "output_type": "stream",
     "text": [
      "\u001b[1m\u001b[33mWARNING: \u001b[39m\u001b[22m\u001b[33mNot solved to optimality, status: UserObjLimit\u001b[39m\n"
     ]
    }
   ],
   "source": [
    "MIPVerify.find_adversarial_example(n1, sample_image, 2, GurobiSolver(BestBdStop=0.05),\n",
    "    norm_order=Inf);"
   ]
  },
  {
   "cell_type": "markdown",
   "metadata": {
    "deletable": true,
    "editable": true
   },
   "source": [
    "##### Terminate if adversarial example found closer than expected robustness\n",
    "\n",
    "Set `BestObjStop`."
   ]
  },
  {
   "cell_type": "code",
   "execution_count": 28,
   "metadata": {
    "collapsed": false,
    "deletable": true,
    "editable": true
   },
   "outputs": [
    {
     "name": "stdout",
     "output_type": "stream",
     "text": [
      "\u001b[36m[notice | MIPVerify]: Loading model from cache.\n",
      "\u001b[39m\u001b[36m[notice | MIPVerify]: Attempting to find adversarial example. Neural net predicted label is 8, target labels are [2]\n",
      "\u001b[39mAcademic license - for non-commercial use only\n",
      "Optimize a model with 4954 rows, 4041 columns and 75836 nonzeros\n",
      "Variable types: 3197 continuous, 844 integer (844 binary)\n",
      "Coefficient statistics:\n",
      "  Matrix range     [2e-05, 7e+02]\n",
      "  Objective range  [1e+00, 1e+00]\n",
      "  Bounds range     [1e+00, 3e+02]\n",
      "  RHS range        [1e-02, 7e+02]\n",
      "\n",
      "MIP start did not produce a new incumbent solution\n",
      "MIP start violates constraint R784 by 70.892854817\n",
      "\n",
      "Presolve removed 3803 rows and 3126 columns\n",
      "Presolve time: 0.18s\n",
      "Presolved: 1151 rows, 915 columns, 62809 nonzeros\n",
      "Variable types: 855 continuous, 60 integer (60 binary)\n",
      "\n",
      "Root relaxation: objective 0.000000e+00, 523 iterations, 0.03 seconds\n",
      "\n",
      "    Nodes    |    Current Node    |     Objective Bounds      |     Work\n",
      " Expl Unexpl |  Obj  Depth IntInf | Incumbent    BestBd   Gap | It/Node Time\n",
      "\n",
      "     0     0    0.00000    0    1          -    0.00000      -     -    0s\n",
      "Another try with MIP start\n",
      "H    0     0                       0.5478327    0.00000   100%     -    0s\n",
      "H    0     0                       0.2873450    0.00000   100%     -    1s\n",
      "     0     0    0.00000    0    3    0.28734    0.00000   100%     -    1s\n",
      "     0     0    0.00000    0    4    0.28734    0.00000   100%     -    1s\n",
      "     0     0    0.00000    0    1    0.28734    0.00000   100%     -    1s\n",
      "     0     0    0.00000    0    1    0.28734    0.00000   100%     -    1s\n",
      "     0     2    0.00000    0    1    0.28734    0.00000   100%     -    1s\n",
      "H  145   130                       0.2733966    0.00000   100%   211    3s\n",
      "   227   195    0.00000   11   14    0.27340    0.00000   100%   200    5s\n",
      "H  408   292                       0.2630165    0.00000   100%   196    7s\n",
      "*  454   312              32       0.2615189    0.00000   100%   190    8s\n",
      "H  516   341                       0.2604225    0.00000   100%   187    8s\n",
      "H  520   341                       0.2604205    0.00000   100%   187    8s\n",
      "H  529   303                       0.2052527    0.00000   100%   188    8s\n",
      "*  691   355              44       0.2043999    0.00000   100%   167    9s\n",
      "   700   355    0.05009   17   17    0.20440    0.00000   100%   167   10s\n",
      "  1078   446    0.00000   14   14    0.20440    0.00000   100%   178   15s\n",
      "  1351   500 infeasible   15         0.20440    0.00000   100%   187   20s\n",
      "  1764   602    0.12254   20   12    0.20440    0.00000   100%   186   26s\n",
      "  2123   680     cutoff   23         0.20440    0.00000   100%   187   31s\n",
      "  2630   803    0.19596   13   18    0.20440    0.00000   100%   186   36s\n",
      "  2929   889    0.12884   21   13    0.20440    0.00000   100%   188   40s\n",
      "H 3113   871                       0.1867516    0.00000   100%   188   41s\n",
      "\n",
      "Explored 3114 nodes (589824 simplex iterations) in 41.88 seconds\n",
      "Thread count was 8 (of 8 available processors)\n",
      "\n",
      "Solution count 10: 0.186752 0.2044 0.205253 ... 0.547833\n",
      "\n",
      "Optimization achieved user objective limit\n",
      "Best objective 1.867516446561e-01, best bound 0.000000000000e+00, gap 100.0000%\n"
     ]
    },
    {
     "name": "stderr",
     "output_type": "stream",
     "text": [
      "\u001b[1m\u001b[33mWARNING: \u001b[39m\u001b[22m\u001b[33mNot solved to optimality, status: UserObjLimit\u001b[39m\n"
     ]
    }
   ],
   "source": [
    "MIPVerify.find_adversarial_example(n1, sample_image, 2, GurobiSolver(BestObjStop=0.2),\n",
    "    norm_order=Inf);"
   ]
  },
  {
   "cell_type": "markdown",
   "metadata": {
    "deletable": true,
    "editable": true
   },
   "source": [
    "##### Terminate if gap between `Incumbent` and `BestBd` is below threshold\n",
    "\n",
    "Set `MIPGap`."
   ]
  },
  {
   "cell_type": "code",
   "execution_count": 29,
   "metadata": {
    "collapsed": false,
    "deletable": true,
    "editable": true
   },
   "outputs": [
    {
     "name": "stdout",
     "output_type": "stream",
     "text": [
      "\u001b[36m[notice | MIPVerify]: Loading model from cache.\n",
      "\u001b[39m\u001b[36m[notice | MIPVerify]: Attempting to find adversarial example. Neural net predicted label is 8, target labels are [2]\n",
      "\u001b[39mAcademic license - for non-commercial use only\n",
      "Optimize a model with 4954 rows, 4041 columns and 75836 nonzeros\n",
      "Variable types: 3197 continuous, 844 integer (844 binary)\n",
      "Coefficient statistics:\n",
      "  Matrix range     [2e-05, 7e+02]\n",
      "  Objective range  [1e+00, 1e+00]\n",
      "  Bounds range     [1e+00, 3e+02]\n",
      "  RHS range        [1e-02, 7e+02]\n",
      "\n",
      "MIP start did not produce a new incumbent solution\n",
      "MIP start violates constraint R784 by 70.892854817\n",
      "\n",
      "Presolve removed 3803 rows and 3126 columns\n",
      "Presolve time: 0.15s\n",
      "Presolved: 1151 rows, 915 columns, 62809 nonzeros\n",
      "Variable types: 855 continuous, 60 integer (60 binary)\n",
      "\n",
      "Root relaxation: objective 0.000000e+00, 523 iterations, 0.03 seconds\n",
      "\n",
      "    Nodes    |    Current Node    |     Objective Bounds      |     Work\n",
      " Expl Unexpl |  Obj  Depth IntInf | Incumbent    BestBd   Gap | It/Node Time\n",
      "\n",
      "     0     0    0.00000    0    1          -    0.00000      -     -    0s\n",
      "Another try with MIP start\n",
      "H    0     0                       0.5478327    0.00000   100%     -    0s\n",
      "H    0     0                       0.2873450    0.00000   100%     -    0s\n",
      "     0     0    0.00000    0    3    0.28734    0.00000   100%     -    1s\n",
      "     0     0    0.00000    0    4    0.28734    0.00000   100%     -    1s\n",
      "     0     0    0.00000    0    1    0.28734    0.00000   100%     -    1s\n",
      "     0     0    0.00000    0    1    0.28734    0.00000   100%     -    1s\n",
      "     0     2    0.00000    0    1    0.28734    0.00000   100%     -    1s\n",
      "H  145   130                       0.2733966    0.00000   100%   211    4s\n",
      "   201   168    0.07917    7   12    0.27340    0.00000   100%   193    5s\n",
      "H  408   292                       0.2630165    0.00000   100%   196    8s\n",
      "*  454   312              32       0.2615189    0.00000   100%   190    8s\n",
      "H  516   341                       0.2604225    0.00000   100%   187    9s\n",
      "H  520   341                       0.2604205    0.00000   100%   187    9s\n",
      "H  529   303                       0.2052527    0.00000   100%   188    9s\n",
      "   534   302    0.09210   16    9    0.20525    0.00000   100%   187   10s\n",
      "*  691   355              44       0.2043999    0.00000   100%   167   10s\n",
      "   998   431    0.11217   18   15    0.20440    0.00000   100%   169   15s\n",
      "  1273   489    0.14099   11   19    0.20440    0.00000   100%   185   20s\n",
      "  1644   563 infeasible   25         0.20440    0.00000   100%   187   25s\n",
      "  2123   680     cutoff   23         0.20440    0.00000   100%   187   31s\n",
      "  2630   803    0.19596   13   18    0.20440    0.00000   100%   186   36s\n",
      "  2929   889    0.12884   21   13    0.20440    0.00000   100%   188   41s\n",
      "H 3113   871                       0.1867516    0.00000   100%   188   43s\n",
      "  3117   874    0.12703   14    3    0.18675    0.00000   100%   188   45s\n",
      "  3153   903    0.15118   19    8    0.18675    0.00000   100%   193   50s\n",
      "  3325   960    0.06041   36   15    0.18675    0.00000   100%   196   55s\n",
      "* 3485   916              58       0.1867120    0.00000   100%   192   56s\n",
      "  3996   992    0.05658   32   11    0.18671    0.00000   100%   183   60s\n",
      "  4538   935    0.17993   38    9    0.18671    0.01062  94.3%   183   65s\n",
      "  5106   878    0.11152   30    5    0.18671    0.02481  86.7%   177   70s\n",
      "* 5407   798              48       0.1867104    0.02481  86.7%   177   73s\n",
      "  5600   855    0.18543   47    3    0.18671    0.02821  84.9%   175   75s\n",
      "* 5603   853              49       0.1857386    0.02821  84.8%   175   75s\n",
      "  6138   884 infeasible   40         0.18574    0.03135  83.1%   173   80s\n",
      "  6752   922    0.10190   30   15    0.18574    0.04984  73.2%   169   86s\n",
      "  7117   941    0.11335   31    3    0.18574    0.05840  68.6%   167   90s\n",
      "  7626  1039 infeasible   28         0.18574    0.06061  67.4%   166   96s\n",
      "  8002  1119 infeasible   30         0.18574    0.06427  65.4%   164  100s\n",
      "  8590  1142     cutoff   30         0.18574    0.07314  60.6%   163  107s\n",
      "  8818  1134    0.17731   38   10    0.18574    0.07746  58.3%   163  110s\n",
      "  9282  1110 infeasible   33         0.18574    0.08011  56.9%   163  115s\n",
      "  9845  1064    0.13327   29    5    0.18574    0.08979  51.7%   162  120s\n",
      " 10486  1018     cutoff   30         0.18574    0.09336  49.7%   160  125s\n",
      " 11226  1005    0.10454   23   11    0.18574    0.10454  43.7%   158  131s\n",
      " 11975  1064    0.13065   26   21    0.18574    0.11198  39.7%   156  137s\n",
      "\n",
      "Cutting planes:\n",
      "  Gomory: 3\n",
      "  Projected implied bound: 2\n",
      "  MIR: 2\n",
      "  Inf proof: 1\n",
      "\n",
      "Explored 12283 nodes (1920434 simplex iterations) in 137.66 seconds\n",
      "Thread count was 8 (of 8 available processors)\n",
      "\n",
      "Solution count 10: 0.185739 0.18671 0.186712 ... 0.263016\n",
      "\n",
      "Optimal solution found (tolerance 4.00e-01)\n",
      "Best objective 1.857386034944e-01, best bound 1.168915549812e-01, gap 37.0666%\n"
     ]
    }
   ],
   "source": [
    "MIPVerify.find_adversarial_example(n1, sample_image, 2, GurobiSolver(MIPGap=0.4),\n",
    "    norm_order=Inf);"
   ]
  },
  {
   "cell_type": "markdown",
   "metadata": {
    "deletable": true,
    "editable": true
   },
   "source": [
    "### `tightening_solver`\n",
    "The default model build solver has the same type as the `main_solver`, but uses the default settings for that solver type other than 1) muting the output and 2) setting a time limit of 20s per solve (i.e. per upper/lower bound per intermediate value).\n",
    "\n",
    "The most common reason to pass in your own `tightening_solver` to modify the time limit per solve."
   ]
  },
  {
   "cell_type": "markdown",
   "metadata": {
    "deletable": true,
    "editable": true
   },
   "source": [
    "Whew! That was a lot. The next tutorial will introduce you to everything you can extract from the results dictionary."
   ]
  }
 ],
 "metadata": {
  "kernelspec": {
   "display_name": "Julia 0.6.0",
   "language": "julia",
   "name": "julia-0.6"
  },
  "language_info": {
   "file_extension": ".jl",
   "mimetype": "application/julia",
   "name": "julia",
   "version": "0.6.0"
  }
 },
 "nbformat": 4,
 "nbformat_minor": 2
}
