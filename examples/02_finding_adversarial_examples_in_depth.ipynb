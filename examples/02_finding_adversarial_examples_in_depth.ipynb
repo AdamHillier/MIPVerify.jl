{
 "cells": [
  {
   "cell_type": "markdown",
   "metadata": {
    "deletable": true,
    "editable": true
   },
   "source": [
    "# Finding adversarial examples, in depth\n",
    "\n",
    "In the quickstart, we used the default parameters for `find_adversarial_example`. Using the same example from the quickstart, we explore how to get more out of the function."
   ]
  },
  {
   "cell_type": "code",
   "execution_count": 1,
   "metadata": {
    "collapsed": false,
    "deletable": true,
    "editable": true
   },
   "outputs": [
    {
     "name": "stderr",
     "output_type": "stream",
     "text": [
      "WARNING: Method definition midpoints(Base.Range{T} where T) in module Base at deprecated.jl:56 overwritten in module StatsBase at /home/vtjeng/.julia/v0.6/StatsBase/src/hist.jl:535.\n",
      "WARNING: Method definition midpoints(AbstractArray{T, 1} where T) in module Base at deprecated.jl:56 overwritten in module StatsBase at /home/vtjeng/.julia/v0.6/StatsBase/src/hist.jl:533.\n"
     ]
    }
   ],
   "source": [
    "using MIPVerify\n",
    "using Gurobi\n",
    "using JuMP\n",
    "using Images\n",
    "\n",
    "mnist = MIPVerify.read_datasets(\"MNIST\")\n",
    "n1 = MIPVerify.get_example_network_params(\"MNIST.n1\")\n",
    "sample_image = MIPVerify.get_image(mnist.train.images, 1);\n",
    "\n",
    "function print_summary(d::Dict)\n",
    "    # Helper function to print out output\n",
    "    obj_val = getobjectivevalue(d[:Model])\n",
    "    solve_time = getsolvetime(d[:Model])\n",
    "    println(\"Objective Value: $(@sprintf(\"%.6f\", obj_val)), Solve Time: $(@sprintf(\"%.2f\", solve_time))\")\n",
    "end\n",
    "\n",
    "function view_diff(diff::Array{<:Real, 2})\n",
    "    n = 1001\n",
    "    colormap(\"RdBu\", n)[ceil.(Int, (diff+1)/2*n)]\n",
    "end;"
   ]
  },
  {
   "cell_type": "markdown",
   "metadata": {
    "deletable": true,
    "editable": true
   },
   "source": [
    "## `find_adversarial_example`\n",
    "\n",
    "`find_adversarial_example` takes four positional arguments\n",
    "\n",
    "```\n",
    "find_adversarial_example(nn, input, target_selection, main_solver)\n",
    "```\n",
    "\n",
    "It also takes named arguments, each with the default value specified.\n",
    "\n",
    "```\n",
    "norm_order = 1\n",
    "tolerance = 0\n",
    "rebuild = false\n",
    "invert_target_selection = false\n",
    "pp = MIPVerify.AdditivePerturbationParameters()\n",
    "tightening_algorithm = lp\n",
    "tightening_solver: same as main solver, but with output suppressed and a time limit of 20s per solve.\n",
    "```\n",
    "\n",
    "We explore what each of these options allow us to do."
   ]
  },
  {
   "cell_type": "markdown",
   "metadata": {
    "deletable": true,
    "editable": true
   },
   "source": [
    "# Basic Options"
   ]
  },
  {
   "cell_type": "markdown",
   "metadata": {
    "deletable": true,
    "editable": true
   },
   "source": [
    "## Specifying target categories for the adversarial example\n",
    "\n",
    "`target_selection` and `invert_target_selection` control what the category we want the adversarial example to be classified in.\n",
    "\n",
    "**Specification**: `target_selection` accepts either a single integer or a list of integers.\n",
    "\n",
    "For example, if I wanted the original image (which is the digit 7) to be classified as the digit 0 or 8, I could run two separate solves with `target_selection=1` and `target_selection=9` (Julia is 1-indexed), finding closest adversarial examples at distance `15.0926` and `9.75700` ..."
   ]
  },
  {
   "cell_type": "code",
   "execution_count": 2,
   "metadata": {
    "collapsed": false,
    "deletable": true,
    "editable": true
   },
   "outputs": [
    {
     "name": "stdout",
     "output_type": "stream",
     "text": [
      "\u001b[36m[notice | MIPVerify]: Loading model from cache.\n",
      "\u001b[39m\u001b[36m[notice | MIPVerify]: Attempting to find adversarial example. Neural net predicted label is 8, target labels are [1]\n",
      "\u001b[39mObjective Value: 15.092612, Solve Time: 46.82\n"
     ]
    }
   ],
   "source": [
    "d = MIPVerify.find_adversarial_example(n1, sample_image, 1, GurobiSolver(OutputFlag=0))\n",
    "# OutputFlag=0 prevents any output from being printed out\n",
    "print_summary(d)"
   ]
  },
  {
   "cell_type": "code",
   "execution_count": 3,
   "metadata": {
    "collapsed": false,
    "deletable": true,
    "editable": true
   },
   "outputs": [
    {
     "name": "stdout",
     "output_type": "stream",
     "text": [
      "\u001b[36m[notice | MIPVerify]: Loading model from cache.\n",
      "\u001b[39m\u001b[36m[notice | MIPVerify]: Attempting to find adversarial example. Neural net predicted label is 8, target labels are [9]\n",
      "\u001b[39mObjective Value: 9.756997, Solve Time: 6.62\n"
     ]
    }
   ],
   "source": [
    "d = MIPVerify.find_adversarial_example(n1, sample_image, 9, GurobiSolver(OutputFlag=0));\n",
    "print_summary(d)"
   ]
  },
  {
   "cell_type": "markdown",
   "metadata": {
    "deletable": true,
    "editable": true
   },
   "source": [
    "Or I can can pass the targets as  `target_selection = [1, 9]`, where the same optimal value of `9.757` is found.\n",
    "\n",
    "Solve times for multiple target labels are typically on par with or faster than the aggregate solve times when solving with each target label in sequence."
   ]
  },
  {
   "cell_type": "code",
   "execution_count": 4,
   "metadata": {
    "collapsed": false,
    "deletable": true,
    "editable": true
   },
   "outputs": [
    {
     "name": "stdout",
     "output_type": "stream",
     "text": [
      "\u001b[36m[notice | MIPVerify]: Loading model from cache.\n",
      "\u001b[39m\u001b[36m[notice | MIPVerify]: Attempting to find adversarial example. Neural net predicted label is 8, target labels are [1, 9]\n",
      "\u001b[39mObjective Value: 9.756997, Solve Time: 50.42\n"
     ]
    }
   ],
   "source": [
    "d = MIPVerify.find_adversarial_example(n1, sample_image, [1, 9], GurobiSolver(OutputFlag=0));\n",
    "print_summary(d)"
   ]
  },
  {
   "cell_type": "markdown",
   "metadata": {
    "deletable": true,
    "editable": true
   },
   "source": [
    "A common use case is to have the adversarial example being in any category but the original:"
   ]
  },
  {
   "cell_type": "code",
   "execution_count": 5,
   "metadata": {
    "collapsed": false,
    "deletable": true,
    "editable": true
   },
   "outputs": [
    {
     "name": "stdout",
     "output_type": "stream",
     "text": [
      "\u001b[36m[notice | MIPVerify]: Loading model from cache.\n",
      "\u001b[39m\u001b[36m[notice | MIPVerify]: Attempting to find adversarial example. Neural net predicted label is 8, target labels are [1, 2, 3, 4, 5, 6, 7, 9, 10]\n",
      "\u001b[39mObjective Value: 3.171856, Solve Time: 22.36\n"
     ]
    }
   ],
   "source": [
    "d = MIPVerify.find_adversarial_example(n1, sample_image, [1, 2, 3, 4, 5, 6, 7, 9, 10], GurobiSolver(OutputFlag=0))\n",
    "print_summary(d)"
   ]
  },
  {
   "cell_type": "markdown",
   "metadata": {
    "deletable": true,
    "editable": true
   },
   "source": [
    "Rather than typing the full list of other categories, we can set `target_selection = 8`, and `invert_target_selection = true`."
   ]
  },
  {
   "cell_type": "code",
   "execution_count": 6,
   "metadata": {
    "collapsed": false,
    "deletable": true,
    "editable": true
   },
   "outputs": [
    {
     "name": "stdout",
     "output_type": "stream",
     "text": [
      "\u001b[36m[notice | MIPVerify]: Loading model from cache.\n",
      "\u001b[39m\u001b[36m[notice | MIPVerify]: Attempting to find adversarial example. Neural net predicted label is 8, target labels are [1, 2, 3, 4, 5, 6, 7, 9, 10]\n",
      "\u001b[39mObjective Value: 3.171856, Solve Time: 23.64\n"
     ]
    }
   ],
   "source": [
    "d = MIPVerify.find_adversarial_example(n1, sample_image, 8, GurobiSolver(OutputFlag=0), \n",
    "    invert_target_selection=true)\n",
    "print_summary(d)"
   ]
  },
  {
   "cell_type": "markdown",
   "metadata": {
    "deletable": true,
    "editable": true
   },
   "source": [
    "## More precise control over activations in output layer\n",
    "### Default Behavior\n",
    "The default option for `tolerance` is 0. This means that the activations in the softmax layer will take its maximum value for the target label (or at least one of them if more than one is specified), but that this maximum may not be unique.\n",
    "\n",
    "In the example below, notice how the activations `y[8]` and `y[10]` (corresponding to labels 7 and 9) are equal, at 3.49171."
   ]
  },
  {
   "cell_type": "code",
   "execution_count": 7,
   "metadata": {
    "collapsed": false,
    "deletable": true,
    "editable": true
   },
   "outputs": [
    {
     "name": "stdout",
     "output_type": "stream",
     "text": [
      "\u001b[36m[notice | MIPVerify]: Loading model from cache.\n",
      "\u001b[39m\u001b[36m[notice | MIPVerify]: Attempting to find adversarial example. Neural net predicted label is 8, target labels are [10]\n",
      "\u001b[39mObjective Value: 3.171856, Solve Time: 4.01\n"
     ]
    },
    {
     "data": {
      "text/plain": [
       "10-element Array{Float64,1}:\n",
       " 0.388105\n",
       " 0.515855\n",
       " 1.25875 \n",
       " 0.296821\n",
       " 0.410448\n",
       " 0.556019\n",
       " 0.444605\n",
       " 3.49171 \n",
       " 0.412949\n",
       " 3.49171 "
      ]
     },
     "execution_count": 7,
     "metadata": {},
     "output_type": "execute_result"
    }
   ],
   "source": [
    "d = MIPVerify.find_adversarial_example(n1, sample_image, 10, GurobiSolver(OutputFlag=0))\n",
    "print_summary(d)\n",
    "perturbed_sample_image = getvalue(d[:PerturbedInput])\n",
    "y = perturbed_sample_image |> n1"
   ]
  },
  {
   "cell_type": "markdown",
   "metadata": {
    "deletable": true,
    "editable": true
   },
   "source": [
    "### Ensuring difference in activation between target labels and non-target labels\n",
    "\n",
    "If we want to ensure that the maximum is unique, we can add a small tolerance. This is the minimum difference between the activation of the target label (or the maximum activation of any of the target labels) and any non-target label. In the example below, with a tolerance of 0.001, notice how `y[8] = 3.49243 = 0.00100 + 3.49143 = tolerance + y[10]`.\n",
    "\n",
    "_This increases the objective value slightly (since the closest adversarial example with the required tolerance must be slightly further away.)_"
   ]
  },
  {
   "cell_type": "code",
   "execution_count": 8,
   "metadata": {
    "collapsed": false,
    "deletable": true,
    "editable": true
   },
   "outputs": [
    {
     "name": "stdout",
     "output_type": "stream",
     "text": [
      "\u001b[36m[notice | MIPVerify]: Loading model from cache.\n",
      "\u001b[39m\u001b[36m[notice | MIPVerify]: Attempting to find adversarial example. Neural net predicted label is 8, target labels are [10]\n",
      "\u001b[39mObjective Value: 3.172870, Solve Time: 3.44\n"
     ]
    },
    {
     "data": {
      "text/plain": [
       "10-element Array{Float64,1}:\n",
       " 0.388176\n",
       " 0.515929\n",
       " 1.2587  \n",
       " 0.296866\n",
       " 0.410472\n",
       " 0.556048\n",
       " 0.444678\n",
       " 3.49143 \n",
       " 0.41283 \n",
       " 3.49243 "
      ]
     },
     "execution_count": 8,
     "metadata": {},
     "output_type": "execute_result"
    }
   ],
   "source": [
    "d = MIPVerify.find_adversarial_example(n1, sample_image, 10, GurobiSolver(OutputFlag=0), \n",
    "    tolerance = 0.001)\n",
    "print_summary(d)\n",
    "perturbed_sample_image = getvalue(d[:PerturbedInput])\n",
    "y = perturbed_sample_image |> n1"
   ]
  },
  {
   "cell_type": "markdown",
   "metadata": {
    "deletable": true,
    "editable": true
   },
   "source": [
    "## Restricting the Family of Perturbations\n",
    "\n",
    "### Additive Perturbations\n",
    "\n",
    "The standard threat model is to allow each pixel to be perturbed independently, which is what happens by default:"
   ]
  },
  {
   "cell_type": "code",
   "execution_count": 9,
   "metadata": {
    "collapsed": false,
    "deletable": true,
    "editable": true
   },
   "outputs": [
    {
     "name": "stdout",
     "output_type": "stream",
     "text": [
      "\u001b[36m[notice | MIPVerify]: Loading model from cache.\n",
      "\u001b[39m\u001b[36m[notice | MIPVerify]: Attempting to find adversarial example. Neural net predicted label is 8, target labels are [10]\n",
      "\u001b[39m  4.209034 seconds (503.43 k allocations: 22.144 MiB, 0.32% gc time)\n"
     ]
    },
    {
     "data": {
      "image/png": "[encoded data removed]",
      "text/plain": [
       "28×28 Array{Gray{Float64},2}:\n",
       " Gray{Float64}(0.0)  Gray{Float64}(0.0)  …  Gray{Float64}(0.0)     \n",
       " Gray{Float64}(0.0)  Gray{Float64}(0.0)     Gray{Float64}(0.0)     \n",
       " Gray{Float64}(0.0)  Gray{Float64}(0.0)     Gray{Float64}(0.0)     \n",
       " Gray{Float64}(0.0)  Gray{Float64}(0.0)     Gray{Float64}(0.0)     \n",
       " Gray{Float64}(0.0)  Gray{Float64}(0.0)     Gray{Float64}(0.0)     \n",
       " Gray{Float64}(0.0)  Gray{Float64}(0.0)  …  Gray{Float64}(0.0)     \n",
       " Gray{Float64}(0.0)  Gray{Float64}(0.0)     Gray{Float64}(0.0)     \n",
       " Gray{Float64}(0.0)  Gray{Float64}(0.0)     Gray{Float64}(0.0)     \n",
       " Gray{Float64}(0.0)  Gray{Float64}(0.0)     Gray{Float64}(0.0)     \n",
       " Gray{Float64}(0.0)  Gray{Float64}(0.0)     Gray{Float64}(0.0)     \n",
       " Gray{Float64}(0.0)  Gray{Float64}(0.0)  …  Gray{Float64}(0.0)     \n",
       " Gray{Float64}(0.0)  Gray{Float64}(0.0)     Gray{Float64}(0.0)     \n",
       " Gray{Float64}(0.0)  Gray{Float64}(0.0)     Gray{Float64}(0.0)     \n",
       " ⋮                                       ⋱                         \n",
       " Gray{Float64}(0.0)  Gray{Float64}(0.0)     Gray{Float64}(0.0)     \n",
       " Gray{Float64}(0.0)  Gray{Float64}(0.0)     Gray{Float64}(0.250287)\n",
       " Gray{Float64}(0.0)  Gray{Float64}(0.0)     Gray{Float64}(0.0)     \n",
       " Gray{Float64}(0.0)  Gray{Float64}(0.0)     Gray{Float64}(0.0)     \n",
       " Gray{Float64}(0.0)  Gray{Float64}(0.0)  …  Gray{Float64}(0.0)     \n",
       " Gray{Float64}(0.0)  Gray{Float64}(0.0)     Gray{Float64}(0.0)     \n",
       " Gray{Float64}(0.0)  Gray{Float64}(0.0)     Gray{Float64}(0.0)     \n",
       " Gray{Float64}(0.0)  Gray{Float64}(0.0)     Gray{Float64}(0.0)     \n",
       " Gray{Float64}(0.0)  Gray{Float64}(0.0)     Gray{Float64}(0.0)     \n",
       " Gray{Float64}(0.0)  Gray{Float64}(0.0)  …  Gray{Float64}(0.0)     \n",
       " Gray{Float64}(0.0)  Gray{Float64}(0.0)     Gray{Float64}(0.0)     \n",
       " Gray{Float64}(0.0)  Gray{Float64}(0.0)     Gray{Float64}(0.0)     "
      ]
     },
     "execution_count": 9,
     "metadata": {},
     "output_type": "execute_result"
    }
   ],
   "source": [
    "d = @time MIPVerify.find_adversarial_example(n1, sample_image, 10, GurobiSolver(OutputFlag=0));\n",
    "perturbed_sample_image = getvalue(d[:PerturbedInput])\n",
    "colorview(Gray, perturbed_sample_image[1, :, :, 1])"
   ]
  },
  {
   "cell_type": "markdown",
   "metadata": {
    "deletable": true,
    "editable": true
   },
   "source": [
    "### Blurring Perturbations\n",
    "\n",
    "We can restrict the perturbations to a blur with a 5x5 kernel instead. (We are still minimizing over the norm of the perturbation.)"
   ]
  },
  {
   "cell_type": "code",
   "execution_count": 10,
   "metadata": {
    "collapsed": false,
    "deletable": true,
    "editable": true
   },
   "outputs": [
    {
     "name": "stdout",
     "output_type": "stream",
     "text": [
      "\u001b[36m[notice | MIPVerify]: Rebuilding model from scratch. This may take some time as we determine upper and lower bounds for the input to each non-linear unit. The model built will be cached and re-used for future solves, unless you explicitly set rebuild=false.\n",
      "\u001b[39m"
     ]
    },
    {
     "name": "stderr",
     "output_type": "stream",
     "text": [
      "\u001b[32m  Calculating upper bounds: 100%|███████████████████████| Time: 0:00:01\u001b[39m\n",
      "\u001b[32m  Calculating lower bounds: 100%|███████████████████████| Time: 0:00:00\u001b[39m\n",
      "\u001b[32m  Calculating upper bounds: 100%|███████████████████████| Time: 0:00:01\u001b[39m\n",
      "\u001b[32m  Calculating lower bounds: 100%|███████████████████████| Time: 0:00:01\u001b[39m\n"
     ]
    },
    {
     "name": "stdout",
     "output_type": "stream",
     "text": [
      "\u001b[36m[notice | MIPVerify]: Attempting to find adversarial example. Neural net predicted label is 8, target labels are [10]\n",
      "\u001b[39m  6.346824 seconds (2.10 M allocations: 483.454 MiB, 0.99% gc time)\n"
     ]
    },
    {
     "data": {
      "image/png": "[encoded data removed]",
      "text/plain": [
       "28×28 Array{Gray{Float64},2}:\n",
       " Gray{Float64}(-0.0)  Gray{Float64}(-0.0)  …  Gray{Float64}(-0.0)\n",
       " Gray{Float64}(-0.0)  Gray{Float64}(-0.0)     Gray{Float64}(-0.0)\n",
       " Gray{Float64}(-0.0)  Gray{Float64}(-0.0)     Gray{Float64}(-0.0)\n",
       " Gray{Float64}(-0.0)  Gray{Float64}(-0.0)     Gray{Float64}(-0.0)\n",
       " Gray{Float64}(-0.0)  Gray{Float64}(-0.0)     Gray{Float64}(-0.0)\n",
       " Gray{Float64}(-0.0)  Gray{Float64}(-0.0)  …  Gray{Float64}(-0.0)\n",
       " Gray{Float64}(-0.0)  Gray{Float64}(0.0)      Gray{Float64}(-0.0)\n",
       " Gray{Float64}(0.0)   Gray{Float64}(0.0)      Gray{Float64}(-0.0)\n",
       " Gray{Float64}(0.0)   Gray{Float64}(0.0)      Gray{Float64}(-0.0)\n",
       " Gray{Float64}(0.0)   Gray{Float64}(0.0)      Gray{Float64}(-0.0)\n",
       " Gray{Float64}(0.0)   Gray{Float64}(0.0)   …  Gray{Float64}(-0.0)\n",
       " Gray{Float64}(0.0)   Gray{Float64}(0.0)      Gray{Float64}(-0.0)\n",
       " Gray{Float64}(0.0)   Gray{Float64}(0.0)      Gray{Float64}(-0.0)\n",
       " ⋮                                         ⋱                     \n",
       " Gray{Float64}(-0.0)  Gray{Float64}(-0.0)     Gray{Float64}(-0.0)\n",
       " Gray{Float64}(-0.0)  Gray{Float64}(-0.0)     Gray{Float64}(-0.0)\n",
       " Gray{Float64}(-0.0)  Gray{Float64}(-0.0)     Gray{Float64}(-0.0)\n",
       " Gray{Float64}(-0.0)  Gray{Float64}(-0.0)     Gray{Float64}(-0.0)\n",
       " Gray{Float64}(-0.0)  Gray{Float64}(-0.0)  …  Gray{Float64}(-0.0)\n",
       " Gray{Float64}(-0.0)  Gray{Float64}(-0.0)     Gray{Float64}(-0.0)\n",
       " Gray{Float64}(-0.0)  Gray{Float64}(-0.0)     Gray{Float64}(-0.0)\n",
       " Gray{Float64}(-0.0)  Gray{Float64}(-0.0)     Gray{Float64}(-0.0)\n",
       " Gray{Float64}(-0.0)  Gray{Float64}(-0.0)     Gray{Float64}(-0.0)\n",
       " Gray{Float64}(-0.0)  Gray{Float64}(-0.0)  …  Gray{Float64}(-0.0)\n",
       " Gray{Float64}(-0.0)  Gray{Float64}(-0.0)     Gray{Float64}(-0.0)\n",
       " Gray{Float64}(-0.0)  Gray{Float64}(-0.0)     Gray{Float64}(-0.0)"
      ]
     },
     "execution_count": 10,
     "metadata": {},
     "output_type": "execute_result"
    }
   ],
   "source": [
    "d = @time MIPVerify.find_adversarial_example(n1, sample_image, 10, GurobiSolver(OutputFlag=0),\n",
    "    pp = MIPVerify.BlurPerturbationParameters((5, 5)));\n",
    "perturbed_sample_image = getvalue(d[:PerturbedInput])\n",
    "colorview(Gray, perturbed_sample_image[1, :, :, 1])"
   ]
  },
  {
   "cell_type": "code",
   "execution_count": 11,
   "metadata": {
    "collapsed": false,
    "deletable": true,
    "editable": true
   },
   "outputs": [
    {
     "data": {
      "image/png": "[encoded data removed]",
      "text/plain": [
       "28×28 Array{RGB{Float64},2}:\n",
       " RGB{Float64}(0.974598,0.972607,0.975359)  …  RGB{Float64}(0.974598,0.972607,0.975359)\n",
       " RGB{Float64}(0.974598,0.972607,0.975359)     RGB{Float64}(0.974598,0.972607,0.975359)\n",
       " RGB{Float64}(0.974598,0.972607,0.975359)     RGB{Float64}(0.974598,0.972607,0.975359)\n",
       " RGB{Float64}(0.974598,0.972607,0.975359)     RGB{Float64}(0.974598,0.972607,0.975359)\n",
       " RGB{Float64}(0.974598,0.972607,0.975359)     RGB{Float64}(0.974598,0.972607,0.975359)\n",
       " RGB{Float64}(0.974598,0.972607,0.975359)  …  RGB{Float64}(0.974598,0.972607,0.975359)\n",
       " RGB{Float64}(0.974598,0.972607,0.975359)     RGB{Float64}(0.974598,0.972607,0.975359)\n",
       " RGB{Float64}(0.974598,0.972607,0.975359)     RGB{Float64}(0.974598,0.972607,0.975359)\n",
       " RGB{Float64}(0.974598,0.972607,0.975359)     RGB{Float64}(0.974598,0.972607,0.975359)\n",
       " RGB{Float64}(0.974598,0.972607,0.975359)     RGB{Float64}(0.974598,0.972607,0.975359)\n",
       " RGB{Float64}(0.974598,0.972607,0.975359)  …  RGB{Float64}(0.974598,0.972607,0.975359)\n",
       " RGB{Float64}(0.974598,0.972607,0.975359)     RGB{Float64}(0.974598,0.972607,0.975359)\n",
       " RGB{Float64}(0.974598,0.972607,0.975359)     RGB{Float64}(0.974598,0.972607,0.975359)\n",
       " ⋮                                         ⋱                                          \n",
       " RGB{Float64}(0.974598,0.972607,0.975359)     RGB{Float64}(0.974598,0.972607,0.975359)\n",
       " RGB{Float64}(0.974598,0.972607,0.975359)     RGB{Float64}(0.974598,0.972607,0.975359)\n",
       " RGB{Float64}(0.974598,0.972607,0.975359)     RGB{Float64}(0.974598,0.972607,0.975359)\n",
       " RGB{Float64}(0.974598,0.972607,0.975359)     RGB{Float64}(0.974598,0.972607,0.975359)\n",
       " RGB{Float64}(0.974598,0.972607,0.975359)  …  RGB{Float64}(0.974598,0.972607,0.975359)\n",
       " RGB{Float64}(0.974598,0.972607,0.975359)     RGB{Float64}(0.974598,0.972607,0.975359)\n",
       " RGB{Float64}(0.974598,0.972607,0.975359)     RGB{Float64}(0.974598,0.972607,0.975359)\n",
       " RGB{Float64}(0.974598,0.972607,0.975359)     RGB{Float64}(0.974598,0.972607,0.975359)\n",
       " RGB{Float64}(0.974598,0.972607,0.975359)     RGB{Float64}(0.974598,0.972607,0.975359)\n",
       " RGB{Float64}(0.974598,0.972607,0.975359)  …  RGB{Float64}(0.974598,0.972607,0.975359)\n",
       " RGB{Float64}(0.974598,0.972607,0.975359)     RGB{Float64}(0.974598,0.972607,0.975359)\n",
       " RGB{Float64}(0.974598,0.972607,0.975359)     RGB{Float64}(0.974598,0.972607,0.975359)"
      ]
     },
     "execution_count": 11,
     "metadata": {},
     "output_type": "execute_result"
    }
   ],
   "source": [
    "diff = getvalue(d[:Perturbation])\n",
    "view_diff(diff[1, :, :, 1])"
   ]
  },
  {
   "cell_type": "markdown",
   "metadata": {
    "deletable": true,
    "editable": true
   },
   "source": [
    "## Minimizing Over Different Norms\n",
    "### $l_1$\n",
    "By default, we minimize the $l_1$ norm of the perturbation. This generally encourages sparsity in the perturbations. \n",
    "\n",
    "In this case, the minimum $l_1$ norm perturbation required for the image to be classified as a `9` is `3.171856.`"
   ]
  },
  {
   "cell_type": "code",
   "execution_count": 12,
   "metadata": {
    "collapsed": false,
    "deletable": true,
    "editable": true
   },
   "outputs": [
    {
     "name": "stdout",
     "output_type": "stream",
     "text": [
      "\u001b[36m[notice | MIPVerify]: Loading model from cache.\n",
      "\u001b[39m\u001b[36m[notice | MIPVerify]: Attempting to find adversarial example. Neural net predicted label is 8, target labels are [10]\n",
      "\u001b[39mObjective Value: 3.171856, Solve Time: 3.97\n"
     ]
    },
    {
     "data": {
      "image/png": "[encoded data removed]",
      "text/plain": [
       "28×28 Array{Gray{Float64},2}:\n",
       " Gray{Float64}(0.0)  Gray{Float64}(0.0)  …  Gray{Float64}(0.0)     \n",
       " Gray{Float64}(0.0)  Gray{Float64}(0.0)     Gray{Float64}(0.0)     \n",
       " Gray{Float64}(0.0)  Gray{Float64}(0.0)     Gray{Float64}(0.0)     \n",
       " Gray{Float64}(0.0)  Gray{Float64}(0.0)     Gray{Float64}(0.0)     \n",
       " Gray{Float64}(0.0)  Gray{Float64}(0.0)     Gray{Float64}(0.0)     \n",
       " Gray{Float64}(0.0)  Gray{Float64}(0.0)  …  Gray{Float64}(0.0)     \n",
       " Gray{Float64}(0.0)  Gray{Float64}(0.0)     Gray{Float64}(0.0)     \n",
       " Gray{Float64}(0.0)  Gray{Float64}(0.0)     Gray{Float64}(0.0)     \n",
       " Gray{Float64}(0.0)  Gray{Float64}(0.0)     Gray{Float64}(0.0)     \n",
       " Gray{Float64}(0.0)  Gray{Float64}(0.0)     Gray{Float64}(0.0)     \n",
       " Gray{Float64}(0.0)  Gray{Float64}(0.0)  …  Gray{Float64}(0.0)     \n",
       " Gray{Float64}(0.0)  Gray{Float64}(0.0)     Gray{Float64}(0.0)     \n",
       " Gray{Float64}(0.0)  Gray{Float64}(0.0)     Gray{Float64}(0.0)     \n",
       " ⋮                                       ⋱                         \n",
       " Gray{Float64}(0.0)  Gray{Float64}(0.0)     Gray{Float64}(0.0)     \n",
       " Gray{Float64}(0.0)  Gray{Float64}(0.0)     Gray{Float64}(0.250287)\n",
       " Gray{Float64}(0.0)  Gray{Float64}(0.0)     Gray{Float64}(0.0)     \n",
       " Gray{Float64}(0.0)  Gray{Float64}(0.0)     Gray{Float64}(0.0)     \n",
       " Gray{Float64}(0.0)  Gray{Float64}(0.0)  …  Gray{Float64}(0.0)     \n",
       " Gray{Float64}(0.0)  Gray{Float64}(0.0)     Gray{Float64}(0.0)     \n",
       " Gray{Float64}(0.0)  Gray{Float64}(0.0)     Gray{Float64}(0.0)     \n",
       " Gray{Float64}(0.0)  Gray{Float64}(0.0)     Gray{Float64}(0.0)     \n",
       " Gray{Float64}(0.0)  Gray{Float64}(0.0)     Gray{Float64}(0.0)     \n",
       " Gray{Float64}(0.0)  Gray{Float64}(0.0)  …  Gray{Float64}(0.0)     \n",
       " Gray{Float64}(0.0)  Gray{Float64}(0.0)     Gray{Float64}(0.0)     \n",
       " Gray{Float64}(0.0)  Gray{Float64}(0.0)     Gray{Float64}(0.0)     "
      ]
     },
     "execution_count": 12,
     "metadata": {},
     "output_type": "execute_result"
    }
   ],
   "source": [
    "d = MIPVerify.find_adversarial_example(n1, sample_image, 10, GurobiSolver(OutputFlag=0));\n",
    "print_summary(d)\n",
    "perturbed_sample_image = getvalue(d[:PerturbedInput])\n",
    "colorview(Gray, perturbed_sample_image[1, :, :, 1])"
   ]
  },
  {
   "cell_type": "markdown",
   "metadata": {
    "deletable": true,
    "editable": true
   },
   "source": [
    "We also show the difference between the perturbed image and the original image. Red is areas of decreased brightness and blue is areas of increased brightness."
   ]
  },
  {
   "cell_type": "code",
   "execution_count": 13,
   "metadata": {
    "collapsed": false,
    "deletable": true,
    "editable": true
   },
   "outputs": [
    {
     "data": {
      "image/png": "[encoded data removed]",
      "text/plain": [
       "28×28 Array{RGB{Float64},2}:\n",
       " RGB{Float64}(0.974598,0.972607,0.975359)  …  RGB{Float64}(0.974598,0.972607,0.975359)\n",
       " RGB{Float64}(0.974598,0.972607,0.975359)     RGB{Float64}(0.974598,0.972607,0.975359)\n",
       " RGB{Float64}(0.974598,0.972607,0.975359)     RGB{Float64}(0.974598,0.972607,0.975359)\n",
       " RGB{Float64}(0.974598,0.972607,0.975359)     RGB{Float64}(0.974598,0.972607,0.975359)\n",
       " RGB{Float64}(0.974598,0.972607,0.975359)     RGB{Float64}(0.974598,0.972607,0.975359)\n",
       " RGB{Float64}(0.974598,0.972607,0.975359)  …  RGB{Float64}(0.974598,0.972607,0.975359)\n",
       " RGB{Float64}(0.974598,0.972607,0.975359)     RGB{Float64}(0.974598,0.972607,0.975359)\n",
       " RGB{Float64}(0.974598,0.972607,0.975359)     RGB{Float64}(0.974598,0.972607,0.975359)\n",
       " RGB{Float64}(0.974598,0.972607,0.975359)     RGB{Float64}(0.974598,0.972607,0.975359)\n",
       " RGB{Float64}(0.974598,0.972607,0.975359)     RGB{Float64}(0.974598,0.972607,0.975359)\n",
       " RGB{Float64}(0.974598,0.972607,0.975359)  …  RGB{Float64}(0.974598,0.972607,0.975359)\n",
       " RGB{Float64}(0.974598,0.972607,0.975359)     RGB{Float64}(0.974598,0.972607,0.975359)\n",
       " RGB{Float64}(0.974598,0.972607,0.975359)     RGB{Float64}(0.974598,0.972607,0.975359)\n",
       " ⋮                                         ⋱                                          \n",
       " RGB{Float64}(0.974598,0.972607,0.975359)     RGB{Float64}(0.974598,0.972607,0.975359)\n",
       " RGB{Float64}(0.974598,0.972607,0.975359)     RGB{Float64}(0.723685,0.871963,0.968818)\n",
       " RGB{Float64}(0.974598,0.972607,0.975359)     RGB{Float64}(0.974598,0.972607,0.975359)\n",
       " RGB{Float64}(0.974598,0.972607,0.975359)     RGB{Float64}(0.974598,0.972607,0.975359)\n",
       " RGB{Float64}(0.974598,0.972607,0.975359)  …  RGB{Float64}(0.974598,0.972607,0.975359)\n",
       " RGB{Float64}(0.974598,0.972607,0.975359)     RGB{Float64}(0.974598,0.972607,0.975359)\n",
       " RGB{Float64}(0.974598,0.972607,0.975359)     RGB{Float64}(0.974598,0.972607,0.975359)\n",
       " RGB{Float64}(0.974598,0.972607,0.975359)     RGB{Float64}(0.974598,0.972607,0.975359)\n",
       " RGB{Float64}(0.974598,0.972607,0.975359)     RGB{Float64}(0.974598,0.972607,0.975359)\n",
       " RGB{Float64}(0.974598,0.972607,0.975359)  …  RGB{Float64}(0.974598,0.972607,0.975359)\n",
       " RGB{Float64}(0.974598,0.972607,0.975359)     RGB{Float64}(0.974598,0.972607,0.975359)\n",
       " RGB{Float64}(0.974598,0.972607,0.975359)     RGB{Float64}(0.974598,0.972607,0.975359)"
      ]
     },
     "execution_count": 13,
     "metadata": {},
     "output_type": "execute_result"
    }
   ],
   "source": [
    "diff = getvalue(d[:Perturbation])\n",
    "view_diff(diff[1, :, :, 1])"
   ]
  },
  {
   "cell_type": "markdown",
   "metadata": {
    "deletable": true,
    "editable": true
   },
   "source": [
    "### $l_\\infty$\n",
    "\n",
    "We can also minimize over the $l_\\infty$ norm. This generally results in large patches of the image being changed. \n",
    "\n",
    "In this case, the minimum $l_\\infty$ norm perturbation required for the image to be classified as a `9` is `0.033522.`"
   ]
  },
  {
   "cell_type": "code",
   "execution_count": 14,
   "metadata": {
    "collapsed": false,
    "deletable": true,
    "editable": true
   },
   "outputs": [
    {
     "name": "stdout",
     "output_type": "stream",
     "text": [
      "\u001b[36m[notice | MIPVerify]: Loading model from cache.\n",
      "\u001b[39m\u001b[36m[notice | MIPVerify]: Attempting to find adversarial example. Neural net predicted label is 8, target labels are [10]\n",
      "\u001b[39mObjective Value: 0.033522, Solve Time: 12.96\n"
     ]
    },
    {
     "data": {
      "image/png": "[encoded data removed]",
      "text/plain": [
       "28×28 Array{Gray{Float64},2}:\n",
       " Gray{Float64}(0.0335223)  …  Gray{Float64}(0.0335223)\n",
       " Gray{Float64}(0.0335223)     Gray{Float64}(0.0335223)\n",
       " Gray{Float64}(0.0335223)     Gray{Float64}(0.0335223)\n",
       " Gray{Float64}(0.0335223)     Gray{Float64}(0.0)      \n",
       " Gray{Float64}(0.0335223)     Gray{Float64}(0.0335223)\n",
       " Gray{Float64}(0.0335223)  …  Gray{Float64}(0.0335223)\n",
       " Gray{Float64}(0.0335223)     Gray{Float64}(0.0335223)\n",
       " Gray{Float64}(0.0335223)     Gray{Float64}(0.0335223)\n",
       " Gray{Float64}(0.0)           Gray{Float64}(0.0335223)\n",
       " Gray{Float64}(0.0335223)     Gray{Float64}(0.0335223)\n",
       " Gray{Float64}(0.0335223)  …  Gray{Float64}(0.0)      \n",
       " Gray{Float64}(0.0335223)     Gray{Float64}(0.0335223)\n",
       " Gray{Float64}(0.0335223)     Gray{Float64}(0.0)      \n",
       " ⋮                         ⋱                          \n",
       " Gray{Float64}(0.0335223)     Gray{Float64}(0.0335223)\n",
       " Gray{Float64}(0.0335223)     Gray{Float64}(0.0335223)\n",
       " Gray{Float64}(0.0)           Gray{Float64}(0.0335223)\n",
       " Gray{Float64}(0.0)           Gray{Float64}(0.0335223)\n",
       " Gray{Float64}(0.0335223)  …  Gray{Float64}(0.0335223)\n",
       " Gray{Float64}(0.0335223)     Gray{Float64}(0.0335223)\n",
       " Gray{Float64}(0.0335223)     Gray{Float64}(0.0335223)\n",
       " Gray{Float64}(0.0335223)     Gray{Float64}(0.0335223)\n",
       " Gray{Float64}(0.0335223)     Gray{Float64}(0.0335223)\n",
       " Gray{Float64}(0.0335223)  …  Gray{Float64}(0.0335223)\n",
       " Gray{Float64}(0.0335223)     Gray{Float64}(0.0)      \n",
       " Gray{Float64}(0.0)           Gray{Float64}(0.0335223)"
      ]
     },
     "execution_count": 14,
     "metadata": {},
     "output_type": "execute_result"
    }
   ],
   "source": [
    "d = MIPVerify.find_adversarial_example(n1, sample_image, 10, GurobiSolver(OutputFlag=0),\n",
    "    norm_order=Inf);\n",
    "print_summary(d)\n",
    "perturbed_sample_image = getvalue(d[:PerturbedInput])\n",
    "colorview(Gray, perturbed_sample_image[1, :, :, 1])"
   ]
  },
  {
   "cell_type": "code",
   "execution_count": 15,
   "metadata": {
    "collapsed": false,
    "deletable": true,
    "editable": true
   },
   "outputs": [
    {
     "data": {
      "image/png": "[encoded data removed]",
      "text/plain": [
       "28×28 Array{RGB{Float64},2}:\n",
       " RGB{Float64}(0.92128,0.968212,0.993551)   …  RGB{Float64}(0.92128,0.968212,0.993551) \n",
       " RGB{Float64}(0.92128,0.968212,0.993551)      RGB{Float64}(0.92128,0.968212,0.993551) \n",
       " RGB{Float64}(0.92128,0.968212,0.993551)      RGB{Float64}(0.92128,0.968212,0.993551) \n",
       " RGB{Float64}(0.92128,0.968212,0.993551)      RGB{Float64}(0.974598,0.972607,0.975359)\n",
       " RGB{Float64}(0.92128,0.968212,0.993551)      RGB{Float64}(0.92128,0.968212,0.993551) \n",
       " RGB{Float64}(0.92128,0.968212,0.993551)   …  RGB{Float64}(0.92128,0.968212,0.993551) \n",
       " RGB{Float64}(0.92128,0.968212,0.993551)      RGB{Float64}(0.92128,0.968212,0.993551) \n",
       " RGB{Float64}(0.92128,0.968212,0.993551)      RGB{Float64}(0.92128,0.968212,0.993551) \n",
       " RGB{Float64}(0.974598,0.972607,0.975359)     RGB{Float64}(0.92128,0.968212,0.993551) \n",
       " RGB{Float64}(0.92128,0.968212,0.993551)      RGB{Float64}(0.92128,0.968212,0.993551) \n",
       " RGB{Float64}(0.92128,0.968212,0.993551)   …  RGB{Float64}(0.974598,0.972607,0.975359)\n",
       " RGB{Float64}(0.92128,0.968212,0.993551)      RGB{Float64}(0.92128,0.968212,0.993551) \n",
       " RGB{Float64}(0.92128,0.968212,0.993551)      RGB{Float64}(0.974598,0.972607,0.975359)\n",
       " ⋮                                         ⋱                                          \n",
       " RGB{Float64}(0.92128,0.968212,0.993551)      RGB{Float64}(0.92128,0.968212,0.993551) \n",
       " RGB{Float64}(0.92128,0.968212,0.993551)      RGB{Float64}(0.92128,0.968212,0.993551) \n",
       " RGB{Float64}(0.974598,0.972607,0.975359)     RGB{Float64}(0.92128,0.968212,0.993551) \n",
       " RGB{Float64}(0.974598,0.972607,0.975359)     RGB{Float64}(0.92128,0.968212,0.993551) \n",
       " RGB{Float64}(0.92128,0.968212,0.993551)   …  RGB{Float64}(0.92128,0.968212,0.993551) \n",
       " RGB{Float64}(0.92128,0.968212,0.993551)      RGB{Float64}(0.92128,0.968212,0.993551) \n",
       " RGB{Float64}(0.92128,0.968212,0.993551)      RGB{Float64}(0.92128,0.968212,0.993551) \n",
       " RGB{Float64}(0.92128,0.968212,0.993551)      RGB{Float64}(0.92128,0.968212,0.993551) \n",
       " RGB{Float64}(0.92128,0.968212,0.993551)      RGB{Float64}(0.92128,0.968212,0.993551) \n",
       " RGB{Float64}(0.92128,0.968212,0.993551)   …  RGB{Float64}(0.92128,0.968212,0.993551) \n",
       " RGB{Float64}(0.92128,0.968212,0.993551)      RGB{Float64}(0.974598,0.972607,0.975359)\n",
       " RGB{Float64}(0.974598,0.972607,0.975359)     RGB{Float64}(0.92128,0.968212,0.993551) "
      ]
     },
     "execution_count": 15,
     "metadata": {},
     "output_type": "execute_result"
    }
   ],
   "source": [
    "diff = getvalue(d[:Perturbation])\n",
    "view_diff(diff[1, :, :, 1])"
   ]
  },
  {
   "cell_type": "markdown",
   "metadata": {
    "deletable": true,
    "editable": true
   },
   "source": [
    "### $l_2$\n",
    "With solvers that can handle MIQPs (like Gurobi), we can minimize over the $l_2$ norm. This generally takes a bit more time. \n",
    "\n",
    "In this case, the minimum $l_2$ norm perturbation required for the image to be classified as a `9` is `0.183 = sqrt(0.033522).`"
   ]
  },
  {
   "cell_type": "code",
   "execution_count": 16,
   "metadata": {
    "collapsed": false,
    "deletable": true,
    "editable": true
   },
   "outputs": [
    {
     "name": "stdout",
     "output_type": "stream",
     "text": [
      "\u001b[36m[notice | MIPVerify]: Loading model from cache.\n",
      "\u001b[39m\u001b[36m[notice | MIPVerify]: Attempting to find adversarial example. Neural net predicted label is 8, target labels are [10]\n",
      "\u001b[39mObjective Value: 0.328904, Solve Time: 29.62\n"
     ]
    },
    {
     "data": {
      "image/png": "[encoded data removed]",
      "text/plain": [
       "28×28 Array{Gray{Float64},2}:\n",
       " Gray{Float64}(0.00293786)   …  Gray{Float64}(0.00695505)\n",
       " Gray{Float64}(0.00746987)      Gray{Float64}(0.0207089) \n",
       " Gray{Float64}(0.0152496)       Gray{Float64}(0.0286317) \n",
       " Gray{Float64}(0.0144787)       Gray{Float64}(0.0)       \n",
       " Gray{Float64}(0.0208144)       Gray{Float64}(0.0128456) \n",
       " Gray{Float64}(0.0104285)    …  Gray{Float64}(0.0116598) \n",
       " Gray{Float64}(0.015601)        Gray{Float64}(0.0334463) \n",
       " Gray{Float64}(0.0162783)       Gray{Float64}(0.0632378) \n",
       " Gray{Float64}(0.0)             Gray{Float64}(0.0242176) \n",
       " Gray{Float64}(0.00729577)      Gray{Float64}(0.017876)  \n",
       " Gray{Float64}(0.0207985)    …  Gray{Float64}(0.0)       \n",
       " Gray{Float64}(0.0390298)       Gray{Float64}(0.0178851) \n",
       " Gray{Float64}(0.0127734)       Gray{Float64}(0.0)       \n",
       " ⋮                           ⋱                           \n",
       " Gray{Float64}(0.0342939)       Gray{Float64}(0.0063349) \n",
       " Gray{Float64}(0.0238592)       Gray{Float64}(0.0809298) \n",
       " Gray{Float64}(0.0)             Gray{Float64}(0.0533926) \n",
       " Gray{Float64}(0.0)             Gray{Float64}(0.0220741) \n",
       " Gray{Float64}(0.0151549)    …  Gray{Float64}(0.0257883) \n",
       " Gray{Float64}(0.0155936)       Gray{Float64}(0.01081)   \n",
       " Gray{Float64}(0.00305089)      Gray{Float64}(0.0303155) \n",
       " Gray{Float64}(0.00917047)      Gray{Float64}(0.00668497)\n",
       " Gray{Float64}(0.00371888)      Gray{Float64}(0.0052561) \n",
       " Gray{Float64}(0.000449911)  …  Gray{Float64}(0.0132231) \n",
       " Gray{Float64}(0.025078)        Gray{Float64}(0.0)       \n",
       " Gray{Float64}(0.0)             Gray{Float64}(0.0027629) "
      ]
     },
     "execution_count": 16,
     "metadata": {},
     "output_type": "execute_result"
    }
   ],
   "source": [
    "d = MIPVerify.find_adversarial_example(n1, sample_image, 10, GurobiSolver(OutputFlag=0),\n",
    "    norm_order=2);\n",
    "print_summary(d)\n",
    "perturbed_sample_image = getvalue(d[:PerturbedInput])\n",
    "colorview(Gray, perturbed_sample_image[1, :, :, 1])"
   ]
  },
  {
   "cell_type": "code",
   "execution_count": 17,
   "metadata": {
    "collapsed": false,
    "deletable": true,
    "editable": true
   },
   "outputs": [
    {
     "data": {
      "image/png": "[encoded data removed]",
      "text/plain": [
       "28×28 Array{RGB{Float64},2}:\n",
       " RGB{Float64}(0.947578,0.979616,0.996444)  …  RGB{Float64}(0.944334,0.978226,0.996088)\n",
       " RGB{Float64}(0.942708,0.977527,0.99591)      RGB{Float64}(0.932883,0.973281,0.99483) \n",
       " RGB{Float64}(0.93617,0.974706,0.995192)      RGB{Float64}(0.926271,0.970399,0.994102)\n",
       " RGB{Float64}(0.937809,0.975415,0.995372)     RGB{Float64}(0.974598,0.972607,0.975359)\n",
       " RGB{Float64}(0.932883,0.973281,0.99483)      RGB{Float64}(0.939445,0.976121,0.995552)\n",
       " RGB{Float64}(0.941078,0.976825,0.995731)  …  RGB{Float64}(0.939445,0.976121,0.995552)\n",
       " RGB{Float64}(0.93617,0.974706,0.995192)      RGB{Float64}(0.92128,0.968212,0.993551) \n",
       " RGB{Float64}(0.93617,0.974706,0.995192)      RGB{Float64}(0.895906,0.95692,0.990729) \n",
       " RGB{Float64}(0.974598,0.972607,0.975359)     RGB{Float64}(0.929583,0.971845,0.994467)\n",
       " RGB{Float64}(0.942708,0.977527,0.99591)      RGB{Float64}(0.934528,0.973994,0.995011)\n",
       " RGB{Float64}(0.932883,0.973281,0.99483)   …  RGB{Float64}(0.974598,0.972607,0.975359)\n",
       " RGB{Float64}(0.916261,0.966001,0.992996)     RGB{Float64}(0.934528,0.973994,0.995011)\n",
       " RGB{Float64}(0.939445,0.976121,0.995552)     RGB{Float64}(0.974598,0.972607,0.975359)\n",
       " ⋮                                         ⋱                                          \n",
       " RGB{Float64}(0.92128,0.968212,0.993551)      RGB{Float64}(0.944334,0.978226,0.996088)\n",
       " RGB{Float64}(0.929583,0.971845,0.994467)     RGB{Float64}(0.88035,0.949853,0.988974) \n",
       " RGB{Float64}(0.974598,0.972607,0.975359)     RGB{Float64}(0.904441,0.96075,0.991684) \n",
       " RGB{Float64}(0.974598,0.972607,0.975359)     RGB{Float64}(0.931235,0.972564,0.994649)\n",
       " RGB{Float64}(0.93617,0.974706,0.995192)   …  RGB{Float64}(0.927929,0.971123,0.994285)\n",
       " RGB{Float64}(0.93617,0.974706,0.995192)      RGB{Float64}(0.941078,0.976825,0.995731)\n",
       " RGB{Float64}(0.945958,0.978922,0.996267)     RGB{Float64}(0.924611,0.969673,0.993919)\n",
       " RGB{Float64}(0.941078,0.976825,0.995731)     RGB{Float64}(0.944334,0.978226,0.996088)\n",
       " RGB{Float64}(0.945958,0.978922,0.996267)     RGB{Float64}(0.944334,0.978226,0.996088)\n",
       " RGB{Float64}(0.974598,0.972607,0.975359)  …  RGB{Float64}(0.937809,0.975415,0.995372)\n",
       " RGB{Float64}(0.927929,0.971123,0.994285)     RGB{Float64}(0.974598,0.972607,0.975359)\n",
       " RGB{Float64}(0.974598,0.972607,0.975359)     RGB{Float64}(0.947578,0.979616,0.996444)"
      ]
     },
     "execution_count": 17,
     "metadata": {},
     "output_type": "execute_result"
    }
   ],
   "source": [
    "diff = getvalue(d[:Perturbation])\n",
    "view_diff(diff[1, :, :, 1])"
   ]
  },
  {
   "cell_type": "markdown",
   "metadata": {
    "deletable": true,
    "editable": true
   },
   "source": [
    "# Advanced Options"
   ]
  },
  {
   "cell_type": "markdown",
   "metadata": {
    "deletable": true,
    "editable": true
   },
   "source": [
    "## Models\n",
    "Finding adversarial examples consists of two steps:\n",
    "\n",
    "  1. Building a model that expresses the input-output constraints of the neural net, which involves determining upper and lower bounds on each intermediate value.\n",
    "  2. Setting a target category (or multiple target categories) and solving to determine the minimal adversarial example that is classified in that category.\n",
    "\n",
    "The first time we verify a neural net, we must do step 1, which can take a long time."
   ]
  },
  {
   "cell_type": "code",
   "execution_count": 18,
   "metadata": {
    "collapsed": false,
    "deletable": true,
    "editable": true
   },
   "outputs": [
    {
     "name": "stdout",
     "output_type": "stream",
     "text": [
      "\u001b[36m[notice | MIPVerify]: Rebuilding model from scratch. This may take some time as we determine upper and lower bounds for the input to each non-linear unit. The model built will be cached and re-used for future solves, unless you explicitly set rebuild=false.\n",
      "\u001b[39m"
     ]
    },
    {
     "name": "stderr",
     "output_type": "stream",
     "text": [
      "\u001b[32m  Calculating upper bounds: 100%|███████████████████████| Time: 0:00:00\u001b[39m\n",
      "\u001b[32m  Calculating lower bounds: 100%|███████████████████████| Time: 0:00:00\u001b[39m\n",
      "\u001b[32m  Calculating upper bounds: 100%|███████████████████████| Time: 0:00:00\u001b[39m\n",
      "\r"
     ]
    },
    {
     "name": "stdout",
     "output_type": "stream",
     "text": [
      "\u001b[36m[notice | MIPVerify]: Attempting to find adversarial example. Neural net predicted label is 8, target labels are [1]\n",
      "\u001b[39m"
     ]
    },
    {
     "name": "stderr",
     "output_type": "stream",
     "text": [
      "\u001b[32m  Calculating lower bounds:  30%|███████                |  ETA: 0:00:00\u001b[39m\r",
      "\u001b[32m  Calculating lower bounds:  55%|█████████████          |  ETA: 0:00:00\u001b[39m\r",
      "\u001b[32m  Calculating lower bounds:  80%|██████████████████     |  ETA: 0:00:00\u001b[39m\r",
      "\u001b[32m  Calculating lower bounds: 100%|███████████████████████| Time: 0:00:00\u001b[39m\n"
     ]
    },
    {
     "name": "stdout",
     "output_type": "stream",
     "text": [
      " 33.597777 seconds (919.05 k allocations: 369.978 MiB, 0.13% gc time)\n",
      "Objective Value: 15.092612, Solve Time: 32.19\n"
     ]
    }
   ],
   "source": [
    "d = @time MIPVerify.find_adversarial_example(n1, sample_image, 1, GurobiSolver(OutputFlag=0), rebuild=true);\n",
    "print_summary(d)"
   ]
  },
  {
   "cell_type": "markdown",
   "metadata": {
    "deletable": true,
    "editable": true
   },
   "source": [
    "When re-running the solve (with the `rebuild` parameter defaulting to `false`), we load the model from cache and skip ahead straight to step 2; finding the adversarial example takes much less time."
   ]
  },
  {
   "cell_type": "code",
   "execution_count": 19,
   "metadata": {
    "collapsed": false,
    "deletable": true,
    "editable": true
   },
   "outputs": [
    {
     "name": "stdout",
     "output_type": "stream",
     "text": [
      "\u001b[36m[notice | MIPVerify]: Loading model from cache.\n",
      "\u001b[39m\u001b[36m[notice | MIPVerify]: Attempting to find adversarial example. Neural net predicted label is 8, target labels are [1]\n",
      "\u001b[39m 32.508027 seconds (503.37 k allocations: 22.135 MiB, 0.01% gc time)\n",
      "Objective Value: 15.092612, Solve Time: 32.42\n"
     ]
    }
   ],
   "source": [
    "d = @time MIPVerify.find_adversarial_example(n1, sample_image, 1, GurobiSolver(OutputFlag=0));\n",
    "print_summary(d)"
   ]
  },
  {
   "cell_type": "markdown",
   "metadata": {
    "deletable": true,
    "editable": true
   },
   "source": [
    "By setting `rebuild=true`, you force the MIP model to be rebuilt even if one exists; this is potentially useful if you want to spend more time expressing the neural net as an MIP model to speed up subsequent solves. (Think of this as an investment!)"
   ]
  },
  {
   "cell_type": "markdown",
   "metadata": {
    "deletable": true,
    "editable": true
   },
   "source": [
    "### Removing Cached Models\n",
    "\n",
    "If you find that your cached models are taking up too much space, you can remove them with `remove_cached_models()`."
   ]
  },
  {
   "cell_type": "markdown",
   "metadata": {
    "deletable": true,
    "editable": true
   },
   "source": [
    "## Advanced Solver-fu\n",
    "\n",
    "We use two different solvers for the two steps of finding adversarial examples:\n",
    "\n",
    "  1. the `tightening_solver`, used only to determine upper and lower bounds on intermediate values when expressing the input-output constraints in the neural net (i.e. if no cached model exists, or if `rebuild=true`), and \n",
    "  2. the `main_solver`, used to determine the minimal adversarial example for the loaded model."
   ]
  },
  {
   "cell_type": "markdown",
   "metadata": {
    "deletable": true,
    "editable": true
   },
   "source": [
    "### `tightening_algorithm`\n",
    "\n",
    "By default, we tighten the bounds on each intermediate value by solving an LP using the `tightening_solver`. Compare total solve times for three different tightening algorithms:"
   ]
  },
  {
   "cell_type": "code",
   "execution_count": 20,
   "metadata": {
    "collapsed": false,
    "deletable": true,
    "editable": true
   },
   "outputs": [
    {
     "name": "stdout",
     "output_type": "stream",
     "text": [
      "\u001b[36m[notice | MIPVerify]: Rebuilding model from scratch. This may take some time as we determine upper and lower bounds for the input to each non-linear unit. The model built will be cached and re-used for future solves, unless you explicitly set rebuild=false.\n",
      "\u001b[39m\u001b[36m[notice | MIPVerify]: Attempting to find adversarial example. Neural net predicted label is 8, target labels are [10]\n",
      "\u001b[39m  4.205616 seconds (594.60 k allocations: 66.508 MiB, 0.56% gc time)\n"
     ]
    }
   ],
   "source": [
    "MIPVerify.setloglevel!(\"notice\")\n",
    "@time MIPVerify.find_adversarial_example(n1, sample_image, 10, GurobiSolver(OutputFlag=0), rebuild=true,\n",
    "    tightening_algorithm=interval_arithmetic);"
   ]
  },
  {
   "cell_type": "code",
   "execution_count": 21,
   "metadata": {
    "collapsed": false,
    "deletable": true,
    "editable": true
   },
   "outputs": [
    {
     "name": "stdout",
     "output_type": "stream",
     "text": [
      "\u001b[36m[notice | MIPVerify]: Rebuilding model from scratch. This may take some time as we determine upper and lower bounds for the input to each non-linear unit. The model built will be cached and re-used for future solves, unless you explicitly set rebuild=false.\n",
      "\u001b[39m"
     ]
    },
    {
     "name": "stderr",
     "output_type": "stream",
     "text": [
      "\u001b[32m  Calculating upper bounds: 100%|███████████████████████| Time: 0:00:00\u001b[39m\n",
      "\u001b[32m  Calculating lower bounds: 100%|███████████████████████| Time: 0:00:00\u001b[39m\n",
      "\u001b[32m  Calculating upper bounds: 100%|███████████████████████| Time: 0:00:00\u001b[39m\n",
      "\u001b[32m  Calculating lower bounds: 100%|███████████████████████| Time: 0:00:00\u001b[39m\n"
     ]
    },
    {
     "name": "stdout",
     "output_type": "stream",
     "text": [
      "\u001b[36m[notice | MIPVerify]: Attempting to find adversarial example. Neural net predicted label is 8, target labels are [10]\n",
      "\u001b[39m  5.472260 seconds (914.83 k allocations: 369.728 MiB, 2.28% gc time)\n"
     ]
    }
   ],
   "source": [
    "MIPVerify.setloglevel!(\"notice\")\n",
    "@time MIPVerify.find_adversarial_example(n1, sample_image, 10, GurobiSolver(OutputFlag=0), rebuild=true,\n",
    "    tightening_algorithm=lp);"
   ]
  },
  {
   "cell_type": "code",
   "execution_count": 22,
   "metadata": {
    "collapsed": false
   },
   "outputs": [
    {
     "name": "stdout",
     "output_type": "stream",
     "text": [
      "\u001b[36m[notice | MIPVerify]: Rebuilding model from scratch. This may take some time as we determine upper and lower bounds for the input to each non-linear unit. The model built will be cached and re-used for future solves, unless you explicitly set rebuild=false.\n",
      "\u001b[39m"
     ]
    },
    {
     "name": "stderr",
     "output_type": "stream",
     "text": [
      "\u001b[32m  Calculating upper bounds: 100%|███████████████████████| Time: 0:00:27\u001b[39m\n",
      "\u001b[32m  Calculating lower bounds: 100%|███████████████████████| Time: 0:01:19\u001b[39m\n"
     ]
    },
    {
     "name": "stdout",
     "output_type": "stream",
     "text": [
      "\u001b[36m[notice | MIPVerify]: Attempting to find adversarial example. Neural net predicted label is 8, target labels are [10]\n",
      "\u001b[39m110.694075 seconds (638.10 k allocations: 99.307 MiB, 0.01% gc time)\n"
     ]
    }
   ],
   "source": [
    "MIPVerify.setloglevel!(\"notice\")\n",
    "@time MIPVerify.find_adversarial_example(n1, sample_image, 10, GurobiSolver(OutputFlag=0), rebuild=true,\n",
    "    tightening_algorithm=mip);"
   ]
  },
  {
   "cell_type": "markdown",
   "metadata": {
    "deletable": true,
    "editable": true
   },
   "source": [
    "We can also modify many of the parameters of the solver to change behavior:\n",
    "\n",
    "We will be focusing on the parameters available via Gurobi (http://www.gurobi.com/documentation/7.5/refman/parameters.html), but other solvers often have similar options."
   ]
  },
  {
   "cell_type": "markdown",
   "metadata": {
    "deletable": true,
    "editable": true
   },
   "source": [
    "  \n",
    "### `main_solver`\n",
    "\n",
    "#### Muting Output\n",
    "To mute the output from the `GurobiSolver`, set `OutputFlag=0`.\n"
   ]
  },
  {
   "cell_type": "code",
   "execution_count": 23,
   "metadata": {
    "collapsed": false,
    "deletable": true,
    "editable": true,
    "scrolled": true
   },
   "outputs": [
    {
     "name": "stdout",
     "output_type": "stream",
     "text": [
      "\u001b[36m[notice | MIPVerify]: Loading model from cache.\n",
      "\u001b[39m\u001b[36m[notice | MIPVerify]: Attempting to find adversarial example. Neural net predicted label is 8, target labels are [10]\n",
      "\u001b[39mOptimize a model with 3385 rows, 3256 columns and 71132 nonzeros\n",
      "Variable types: 3196 continuous, 60 integer (60 binary)\n",
      "Coefficient statistics:\n",
      "  Matrix range     [2e-05, 7e+02]\n",
      "  Objective range  [1e+00, 1e+00]\n",
      "  Bounds range     [1e+00, 1e+02]\n",
      "  RHS range        [1e-02, 7e+02]\n",
      "Presolve removed 2860 rows and 2184 columns\n",
      "Presolve time: 0.13s\n",
      "Presolved: 525 rows, 1072 columns, 65472 nonzeros\n",
      "\n",
      "MIP start did not produce a new incumbent solution\n",
      "MIP start violates constraint R1024 by 1.000000000\n",
      "\n",
      "Variable types: 1012 continuous, 60 integer (60 binary)\n",
      "\n",
      "Root relaxation: objective 0.000000e+00, 249 iterations, 0.01 seconds\n",
      "\n",
      "    Nodes    |    Current Node    |     Objective Bounds      |     Work\n",
      " Expl Unexpl |  Obj  Depth IntInf | Incumbent    BestBd   Gap | It/Node Time\n",
      "\n",
      "     0     0    0.00000    0    7          -    0.00000      -     -    0s\n",
      "Another try with MIP start\n",
      "H    0     0                      45.5490804    0.00000   100%     -    0s\n",
      "     0     0    0.00000    0    7   45.54908    0.00000   100%     -    0s\n",
      "H    0     0                      17.9461784    0.00000   100%     -    0s\n",
      "     0     0    0.00000    0    6   17.94618    0.00000   100%     -    0s\n",
      "     0     0    0.00000    0    6   17.94618    0.00000   100%     -    0s\n",
      "     0     0    0.00000    0    8   17.94618    0.00000   100%     -    0s\n",
      "     0     0    0.00000    0    3   17.94618    0.00000   100%     -    0s\n",
      "     0     0    0.00000    0    1   17.94618    0.00000   100%     -    0s\n",
      "H    0     0                       3.1718557    0.00000   100%     -    0s\n",
      "     0     2    0.00000    0    1    3.17186    0.00000   100%     -    0s\n",
      "\n",
      "Cutting planes:\n",
      "  Gomory: 1\n",
      "  MIR: 6\n",
      "  Flow cover: 6\n",
      "\n",
      "Explored 2018 nodes (144156 simplex iterations) in 3.05 seconds\n",
      "Thread count was 8 (of 8 available processors)\n",
      "\n",
      "Solution count 3: 3.17186 17.9462 45.5491 \n",
      "Pool objective bound 3.17186\n",
      "\n",
      "Optimal solution found (tolerance 1.00e-04)\n",
      "Best objective 3.171855696756e+00, best bound 3.171855696756e+00, gap 0.0000%\n",
      "Objective Value: 3.171856, Solve Time: 3.05\n"
     ]
    }
   ],
   "source": [
    "d = MIPVerify.find_adversarial_example(n1, sample_image, 10, GurobiSolver());\n",
    "print_summary(d)"
   ]
  },
  {
   "cell_type": "code",
   "execution_count": 24,
   "metadata": {
    "collapsed": false,
    "deletable": true,
    "editable": true
   },
   "outputs": [
    {
     "name": "stdout",
     "output_type": "stream",
     "text": [
      "\u001b[36m[notice | MIPVerify]: Loading model from cache.\n",
      "\u001b[39m\u001b[36m[notice | MIPVerify]: Attempting to find adversarial example. Neural net predicted label is 8, target labels are [10]\n",
      "\u001b[39mObjective Value: 3.171856, Solve Time: 3.05\n"
     ]
    }
   ],
   "source": [
    "MIPVerify.find_adversarial_example(n1, sample_image, 10, GurobiSolver(OutputFlag=0));\n",
    "print_summary(d)"
   ]
  },
  {
   "cell_type": "markdown",
   "metadata": {
    "deletable": true,
    "editable": true
   },
   "source": [
    "#### Terminating early if a conditon is satisfied\n",
    "\n",
    "Sometimes, finding an adversarial example takes a long time:"
   ]
  },
  {
   "cell_type": "code",
   "execution_count": 25,
   "metadata": {
    "collapsed": false,
    "deletable": true,
    "editable": true
   },
   "outputs": [
    {
     "name": "stdout",
     "output_type": "stream",
     "text": [
      "\u001b[36m[notice | MIPVerify]: Loading model from cache.\n",
      "\u001b[39m\u001b[36m[notice | MIPVerify]: Attempting to find adversarial example. Neural net predicted label is 8, target labels are [2]\n",
      "\u001b[39mOptimize a model with 4954 rows, 4041 columns and 75836 nonzeros\n",
      "Variable types: 3197 continuous, 844 integer (844 binary)\n",
      "Coefficient statistics:\n",
      "  Matrix range     [2e-05, 7e+02]\n",
      "  Objective range  [1e+00, 1e+00]\n",
      "  Bounds range     [1e+00, 1e+02]\n",
      "  RHS range        [1e-02, 7e+02]\n",
      "Presolve removed 3813 rows and 3136 columns\n",
      "Presolve time: 0.13s\n",
      "Presolved: 1141 rows, 905 columns, 66704 nonzeros\n",
      "\n",
      "MIP start did not produce a new incumbent solution\n",
      "MIP start violates constraint R1024 by 1.000000000\n",
      "\n",
      "Variable types: 845 continuous, 60 integer (60 binary)\n",
      "\n",
      "Root relaxation: objective 0.000000e+00, 546 iterations, 0.02 seconds\n",
      "\n",
      "    Nodes    |    Current Node    |     Objective Bounds      |     Work\n",
      " Expl Unexpl |  Obj  Depth IntInf | Incumbent    BestBd   Gap | It/Node Time\n",
      "\n",
      "     0     0    0.00000    0    5          -    0.00000      -     -    0s\n",
      "Another try with MIP start\n",
      "H    0     0                       0.4901359    0.00000   100%     -    0s\n",
      "     0     0    0.00000    0    7    0.49014    0.00000   100%     -    0s\n",
      "     0     0    0.00000    0    8    0.49014    0.00000   100%     -    1s\n",
      "     0     0    0.00000    0    9    0.49014    0.00000   100%     -    1s\n",
      "     0     0    0.00000    0   10    0.49014    0.00000   100%     -    1s\n",
      "     0     0    0.00000    0   11    0.49014    0.00000   100%     -    1s\n",
      "     0     0    0.00000    0   11    0.49014    0.00000   100%     -    1s\n",
      "     0     0    0.00000    0    8    0.49014    0.00000   100%     -    1s\n",
      "     0     0    0.00000    0   10    0.49014    0.00000   100%     -    1s\n",
      "     0     0    0.00000    0   11    0.49014    0.00000   100%     -    1s\n",
      "     0     0    0.00000    0   11    0.49014    0.00000   100%     -    1s\n",
      "     0     2    0.00000    0   11    0.49014    0.00000   100%     -    1s\n",
      "H   32    33                       0.4674281    0.00000   100%   248    2s\n",
      "H  231   212                       0.3648166    0.00000   100%   219    4s\n",
      "H  302   234                       0.3138322    0.00000   100%   202    4s\n",
      "*  336   248              46       0.3058186    0.00000   100%   193    4s\n",
      "   422   282 infeasible   26         0.30582    0.00000   100%   188    5s\n",
      "H  469   291                       0.2977376    0.00000   100%   184    5s\n",
      "*  517   321              47       0.2977376    0.00000   100%   177    5s\n",
      "H 1031   552                       0.2861878    0.00000   100%   174   10s\n",
      "H 1184   577                       0.2286295    0.00000   100%   180   13s\n",
      "H 1233   565                       0.1896447    0.00000   100%   181   14s\n",
      "* 1243   537              43       0.1892575    0.00000   100%   179   14s\n",
      "  1427   571    0.08059   36    9    0.18926    0.00000   100%   173   15s\n",
      "  2553   653    0.13040   32   13    0.18926    0.00397  97.9%   149   20s\n",
      "  3544   945    0.09804   28    9    0.18926    0.03156  83.3%   143   25s\n",
      "  4606  1196 infeasible   27         0.18926    0.04612  75.6%   139   30s\n",
      "  5833  1348    0.13724   37    3    0.18926    0.06023  68.2%   135   35s\n",
      "  7213  1650    0.14248   29    5    0.18926    0.06626  65.0%   132   40s\n",
      "H 7293  1660                       0.1876830    0.06626  64.7%   131   40s\n",
      "  8404  1801 infeasible   25         0.18768    0.07861  58.1%   129   45s\n",
      "  9634  1953    0.17317   37    7    0.18768    0.08395  55.3%   129   50s\n",
      " 10813  2025 infeasible   35         0.18768    0.09177  51.1%   128   55s\n",
      " 12173  2110    0.14779   37    8    0.18768    0.09855  47.5%   127   60s\n",
      " 13299  2182    0.17006   21    8    0.18768    0.10537  43.9%   127   65s\n",
      " 14298  2396 infeasible   38         0.18768    0.10582  43.6%   125   73s\n",
      "H14370  2396                       0.1876830    0.10582  43.6%   125   73s\n",
      "H14444  2382                       0.1852948    0.10582  42.9%   125   73s\n",
      " 14588  2392    0.17533   34    5    0.18529    0.10743  42.0%   125   75s\n",
      " 15994  2503    0.13430   22    9    0.18529    0.11087  40.2%   123   80s\n",
      " 18022  2716    0.11595   25   10    0.18529    0.11595  37.4%   120   86s\n",
      " 19449  2768    0.16171   32   14    0.18529    0.12039  35.0%   119   91s\n",
      " 20702  2759    0.14784   31    8    0.18529    0.12470  32.7%   118   95s\n",
      " 22547  2836     cutoff   34         0.18529    0.12888  30.4%   116  101s\n",
      " 23816  2800     cutoff   35         0.18529    0.13227  28.6%   115  106s\n",
      " 25134  2753    0.14775   26   12    0.18529    0.13554  26.9%   114  110s\n",
      " 26739  2656    0.14954   22   11    0.18529    0.13988  24.5%   113  115s\n",
      " 27934  2559    0.17302   38    8    0.18529    0.14244  23.1%   113  120s\n",
      " 29391  2360    0.14724   30    5    0.18529    0.14695  20.7%   112  125s\n",
      " 30850  2234    0.16188   34    8    0.18529    0.14971  19.2%   111  130s\n",
      " 32138  2172    0.15118   23    5    0.18529    0.15118  18.4%   111  136s\n",
      " 33239  2087    0.15353   25   17    0.18529    0.15353  17.1%   111  140s\n",
      " 34702  2013 infeasible   33         0.18529    0.15673  15.4%   111  145s\n",
      " 36195  1839    0.16095   33    3    0.18529    0.15977  13.8%   110  150s\n",
      " 37684  1531    0.17795   30    8    0.18529    0.16423  11.4%   109  155s\n",
      " 39008  1224     cutoff   30         0.18529    0.16799  9.34%   109  160s\n",
      " 40350  1117    0.16929   23    4    0.18529    0.16929  8.64%   108  165s\n",
      " 41769   697     cutoff   35         0.18529    0.17504  5.54%   108  170s\n",
      " 43047   384    0.17944   34    8    0.18529    0.17937  3.20%   107  175s\n",
      "\n",
      "Cutting planes:\n",
      "  Gomory: 2\n",
      "  Projected Implied bound: 1\n",
      "  MIR: 1\n",
      "  Flow cover: 1\n",
      "  Inf proof: 5\n",
      "\n",
      "Explored 44215 nodes (4696017 simplex iterations) in 177.94 seconds\n",
      "Thread count was 8 (of 8 available processors)\n",
      "\n",
      "Solution count 10: 0.185295 0.187683 0.187683 ... 0.305819\n",
      "Pool objective bound 0.185295\n",
      "\n",
      "Optimal solution found (tolerance 1.00e-04)\n",
      "Best objective 1.852948300851e-01, best bound 1.852948300851e-01, gap 0.0000%\n"
     ]
    }
   ],
   "source": [
    "MIPVerify.find_adversarial_example(n1, sample_image, 2, GurobiSolver(),\n",
    "    norm_order=Inf);"
   ]
  },
  {
   "cell_type": "markdown",
   "metadata": {
    "deletable": true,
    "editable": true
   },
   "source": [
    "You may want to terminate early when a particular condition is satisfied. Common reasons are:\n",
    "\n",
    "  1. Solve exceeding time limit\n",
    "  2. Lower bound on robustness proved (i.e. `BestBd` increases above a pre-determined threshold)\n",
    "  3. Counter-example found (i.e. `Incumbent` adversarial image found that is closer to the original image than expected).\n",
    "  4. Difference between `Incumbent` and `BestBd` falls below a pre-determined threshold.\n",
    "  \n",
    "Fortunately, Gurobi has a parameter for all of these cases."
   ]
  },
  {
   "cell_type": "markdown",
   "metadata": {
    "deletable": true,
    "editable": true
   },
   "source": [
    "##### Terminate if time limit is reached\n",
    "Set `TimeLimit`:"
   ]
  },
  {
   "cell_type": "code",
   "execution_count": 26,
   "metadata": {
    "collapsed": false,
    "deletable": true,
    "editable": true
   },
   "outputs": [
    {
     "name": "stdout",
     "output_type": "stream",
     "text": [
      "\u001b[36m[notice | MIPVerify]: Loading model from cache.\n",
      "\u001b[39m\u001b[36m[notice | MIPVerify]: Attempting to find adversarial example. Neural net predicted label is 8, target labels are [2]\n",
      "\u001b[39mOptimize a model with 4954 rows, 4041 columns and 75836 nonzeros\n",
      "Variable types: 3197 continuous, 844 integer (844 binary)\n",
      "Coefficient statistics:\n",
      "  Matrix range     [2e-05, 7e+02]\n",
      "  Objective range  [1e+00, 1e+00]\n",
      "  Bounds range     [1e+00, 1e+02]\n",
      "  RHS range        [1e-02, 7e+02]\n",
      "Presolve removed 3813 rows and 3136 columns\n",
      "Presolve time: 0.12s\n",
      "Presolved: 1141 rows, 905 columns, 66704 nonzeros\n",
      "\n",
      "MIP start did not produce a new incumbent solution\n",
      "MIP start violates constraint R1024 by 1.000000000\n",
      "\n",
      "Variable types: 845 continuous, 60 integer (60 binary)\n",
      "\n",
      "Root relaxation: objective 0.000000e+00, 546 iterations, 0.02 seconds\n",
      "\n",
      "    Nodes    |    Current Node    |     Objective Bounds      |     Work\n",
      " Expl Unexpl |  Obj  Depth IntInf | Incumbent    BestBd   Gap | It/Node Time\n",
      "\n",
      "     0     0    0.00000    0    5          -    0.00000      -     -    0s\n",
      "Another try with MIP start\n",
      "H    0     0                       0.4901359    0.00000   100%     -    0s\n",
      "     0     0    0.00000    0    7    0.49014    0.00000   100%     -    0s\n",
      "     0     0    0.00000    0    8    0.49014    0.00000   100%     -    0s\n",
      "     0     0    0.00000    0    9    0.49014    0.00000   100%     -    0s\n",
      "     0     0    0.00000    0   10    0.49014    0.00000   100%     -    0s\n",
      "     0     0    0.00000    0   11    0.49014    0.00000   100%     -    1s\n",
      "     0     0    0.00000    0   11    0.49014    0.00000   100%     -    1s\n",
      "     0     0    0.00000    0    8    0.49014    0.00000   100%     -    1s\n",
      "     0     0    0.00000    0   10    0.49014    0.00000   100%     -    1s\n",
      "     0     0    0.00000    0   11    0.49014    0.00000   100%     -    1s\n",
      "     0     0    0.00000    0   11    0.49014    0.00000   100%     -    1s\n",
      "     0     2    0.00000    0   11    0.49014    0.00000   100%     -    1s\n",
      "H   32    33                       0.4674281    0.00000   100%   248    2s\n",
      "H  231   212                       0.3648166    0.00000   100%   219    4s\n",
      "H  302   234                       0.3138322    0.00000   100%   202    4s\n",
      "*  336   248              46       0.3058186    0.00000   100%   193    4s\n",
      "   422   282 infeasible   26         0.30582    0.00000   100%   188    5s\n",
      "H  469   291                       0.2977376    0.00000   100%   184    5s\n",
      "*  517   321              47       0.2977376    0.00000   100%   177    5s\n",
      "H 1031   552                       0.2861878    0.00000   100%   174    9s\n",
      "  1032   553    0.10863    9   11    0.28619    0.00000   100%   174   10s\n",
      "H 1184   577                       0.2286295    0.00000   100%   180   13s\n",
      "H 1233   565                       0.1896447    0.00000   100%   181   13s\n",
      "* 1243   537              43       0.1892575    0.00000   100%   179   13s\n",
      "  1527   601    0.04727   31   12    0.18926    0.00000   100%   167   15s\n",
      "  2694   669    0.13988   17   10    0.18926    0.01281  93.2%   147   20s\n",
      "  3766  1016    0.09141   32    9    0.18926    0.03697  80.5%   141   25s\n",
      "  4757  1236 infeasible   31         0.18926    0.04612  75.6%   139   30s\n",
      "\n",
      "Cutting planes:\n",
      "  Gomory: 2\n",
      "  Projected Implied bound: 1\n",
      "  MIR: 1\n",
      "  Flow cover: 1\n",
      "  Inf proof: 1\n",
      "\n",
      "Explored 4837 nodes (684630 simplex iterations) in 30.00 seconds\n",
      "Thread count was 8 (of 8 available processors)\n",
      "\n",
      "Solution count 10: 0.189258 0.189645 0.22863 ... 0.467428\n",
      "Pool objective bound 0.0461234\n",
      "\n",
      "Time limit reached\n",
      "Best objective 1.892575139476e-01, best bound 4.612339124896e-02, gap 75.6293%\n"
     ]
    },
    {
     "name": "stderr",
     "output_type": "stream",
     "text": [
      "\u001b[1m\u001b[33mWARNING: \u001b[39m\u001b[22m\u001b[33mNot solved to optimality, status: UserLimit\u001b[39m\n"
     ]
    }
   ],
   "source": [
    "MIPVerify.find_adversarial_example(n1, sample_image, 2, GurobiSolver(TimeLimit=30),\n",
    "    norm_order=Inf);"
   ]
  },
  {
   "cell_type": "markdown",
   "metadata": {
    "deletable": true,
    "editable": true
   },
   "source": [
    "##### Terminate if lower bound on robustness proved\n",
    "\n",
    "Set `BestBdStop` or `Cutoff`.\n",
    "\n",
    "(`Cutoff` gives a different error message that is not currently processed correctly by the latest release of `Gurobi`)."
   ]
  },
  {
   "cell_type": "code",
   "execution_count": 27,
   "metadata": {
    "collapsed": false,
    "deletable": true,
    "editable": true
   },
   "outputs": [
    {
     "name": "stdout",
     "output_type": "stream",
     "text": [
      "\u001b[36m[notice | MIPVerify]: Loading model from cache.\n",
      "\u001b[39m\u001b[36m[notice | MIPVerify]: Attempting to find adversarial example. Neural net predicted label is 8, target labels are [2]\n",
      "\u001b[39mOptimize a model with 4954 rows, 4041 columns and 75836 nonzeros\n",
      "Variable types: 3197 continuous, 844 integer (844 binary)\n",
      "Coefficient statistics:\n",
      "  Matrix range     [2e-05, 7e+02]\n",
      "  Objective range  [1e+00, 1e+00]\n",
      "  Bounds range     [1e+00, 1e+02]\n",
      "  RHS range        [1e-02, 7e+02]\n",
      "Presolve removed 3813 rows and 3136 columns\n",
      "Presolve time: 0.13s\n",
      "Presolved: 1141 rows, 905 columns, 66704 nonzeros\n",
      "\n",
      "MIP start did not produce a new incumbent solution\n",
      "MIP start violates constraint R1024 by 1.000000000\n",
      "\n",
      "Variable types: 845 continuous, 60 integer (60 binary)\n",
      "\n",
      "Root relaxation: objective 0.000000e+00, 546 iterations, 0.02 seconds\n",
      "\n",
      "    Nodes    |    Current Node    |     Objective Bounds      |     Work\n",
      " Expl Unexpl |  Obj  Depth IntInf | Incumbent    BestBd   Gap | It/Node Time\n",
      "\n",
      "     0     0    0.00000    0    5          -    0.00000      -     -    0s\n",
      "Another try with MIP start\n",
      "H    0     0                       0.4901359    0.00000   100%     -    0s\n",
      "     0     0    0.00000    0    7    0.49014    0.00000   100%     -    0s\n",
      "     0     0    0.00000    0    8    0.49014    0.00000   100%     -    0s\n",
      "     0     0    0.00000    0    9    0.49014    0.00000   100%     -    0s\n",
      "     0     0    0.00000    0   10    0.49014    0.00000   100%     -    0s\n",
      "     0     0    0.00000    0   11    0.49014    0.00000   100%     -    1s\n",
      "     0     0    0.00000    0   11    0.49014    0.00000   100%     -    1s\n",
      "     0     0    0.00000    0    8    0.49014    0.00000   100%     -    1s\n",
      "     0     0    0.00000    0   10    0.49014    0.00000   100%     -    1s\n",
      "     0     0    0.00000    0   11    0.49014    0.00000   100%     -    1s\n",
      "     0     0    0.00000    0   11    0.49014    0.00000   100%     -    1s\n",
      "     0     2    0.00000    0   11    0.49014    0.00000   100%     -    1s\n",
      "H   32    33                       0.4674281    0.00000   100%   248    2s\n",
      "H  231   212                       0.3648166    0.00000   100%   219    4s\n",
      "H  302   234                       0.3138322    0.00000   100%   202    4s\n",
      "*  336   248              46       0.3058186    0.00000   100%   193    4s\n",
      "   422   282 infeasible   26         0.30582    0.00000   100%   188    5s\n",
      "H  469   291                       0.2977376    0.00000   100%   184    5s\n",
      "*  517   321              47       0.2977376    0.00000   100%   177    5s\n",
      "H 1031   552                       0.2861878    0.00000   100%   174    9s\n",
      "  1032   553    0.10863    9   11    0.28619    0.00000   100%   174   10s\n",
      "H 1184   577                       0.2286295    0.00000   100%   180   13s\n",
      "H 1233   565                       0.1896447    0.00000   100%   181   13s\n",
      "* 1243   537              43       0.1892575    0.00000   100%   179   13s\n",
      "  1565   603    0.15711   38    5    0.18926    0.00000   100%   166   15s\n",
      "  2694   669    0.13988   17   10    0.18926    0.01281  93.2%   147   20s\n",
      "  3647   967    0.11952   31    5    0.18926    0.03494  81.5%   143   25s\n",
      "  4757  1229 infeasible   31         0.18926    0.04612  75.6%   139   30s\n",
      "\n",
      "Cutting planes:\n",
      "  Gomory: 2\n",
      "  Projected Implied bound: 1\n",
      "  MIR: 1\n",
      "  Flow cover: 1\n",
      "  Inf proof: 1\n",
      "\n",
      "Explored 5232 nodes (731486 simplex iterations) in 31.62 seconds\n",
      "Thread count was 8 (of 8 available processors)\n",
      "\n",
      "Solution count 10: 0.189258 0.189645 0.22863 ... 0.467428\n",
      "Pool objective bound 0.0502838\n",
      "\n",
      "Optimization achieved user objective limit\n",
      "Best objective 1.892575139476e-01, best bound 5.028383541055e-02, gap 73.4310%\n"
     ]
    },
    {
     "name": "stderr",
     "output_type": "stream",
     "text": [
      "\u001b[1m\u001b[33mWARNING: \u001b[39m\u001b[22m\u001b[33mNot solved to optimality, status: UserObjLimit\u001b[39m\n"
     ]
    }
   ],
   "source": [
    "MIPVerify.find_adversarial_example(n1, sample_image, 2, GurobiSolver(BestBdStop=0.05),\n",
    "    norm_order=Inf);"
   ]
  },
  {
   "cell_type": "markdown",
   "metadata": {
    "deletable": true,
    "editable": true
   },
   "source": [
    "##### Terminate if adversarial example found closer than expected robustness\n",
    "\n",
    "Set `BestObjStop`."
   ]
  },
  {
   "cell_type": "code",
   "execution_count": 28,
   "metadata": {
    "collapsed": false,
    "deletable": true,
    "editable": true
   },
   "outputs": [
    {
     "name": "stdout",
     "output_type": "stream",
     "text": [
      "\u001b[36m[notice | MIPVerify]: Loading model from cache.\n",
      "\u001b[39m\u001b[36m[notice | MIPVerify]: Attempting to find adversarial example. Neural net predicted label is 8, target labels are [2]\n",
      "\u001b[39mOptimize a model with 4954 rows, 4041 columns and 75836 nonzeros\n",
      "Variable types: 3197 continuous, 844 integer (844 binary)\n",
      "Coefficient statistics:\n",
      "  Matrix range     [2e-05, 7e+02]\n",
      "  Objective range  [1e+00, 1e+00]\n",
      "  Bounds range     [1e+00, 1e+02]\n",
      "  RHS range        [1e-02, 7e+02]\n",
      "Presolve removed 3813 rows and 3136 columns\n",
      "Presolve time: 0.13s\n",
      "Presolved: 1141 rows, 905 columns, 66704 nonzeros\n",
      "\n",
      "MIP start did not produce a new incumbent solution\n",
      "MIP start violates constraint R1024 by 1.000000000\n",
      "\n",
      "Variable types: 845 continuous, 60 integer (60 binary)\n",
      "\n",
      "Root relaxation: objective 0.000000e+00, 546 iterations, 0.02 seconds\n",
      "\n",
      "    Nodes    |    Current Node    |     Objective Bounds      |     Work\n",
      " Expl Unexpl |  Obj  Depth IntInf | Incumbent    BestBd   Gap | It/Node Time\n",
      "\n",
      "     0     0    0.00000    0    5          -    0.00000      -     -    0s\n",
      "Another try with MIP start\n",
      "H    0     0                       0.4901359    0.00000   100%     -    0s\n",
      "     0     0    0.00000    0    7    0.49014    0.00000   100%     -    0s\n",
      "     0     0    0.00000    0    8    0.49014    0.00000   100%     -    0s\n",
      "     0     0    0.00000    0    9    0.49014    0.00000   100%     -    0s\n",
      "     0     0    0.00000    0   10    0.49014    0.00000   100%     -    0s\n",
      "     0     0    0.00000    0   11    0.49014    0.00000   100%     -    1s\n",
      "     0     0    0.00000    0   11    0.49014    0.00000   100%     -    1s\n",
      "     0     0    0.00000    0    8    0.49014    0.00000   100%     -    1s\n",
      "     0     0    0.00000    0   10    0.49014    0.00000   100%     -    1s\n",
      "     0     0    0.00000    0   11    0.49014    0.00000   100%     -    1s\n",
      "     0     0    0.00000    0   11    0.49014    0.00000   100%     -    1s\n",
      "     0     2    0.00000    0   11    0.49014    0.00000   100%     -    1s\n",
      "H   32    33                       0.4674281    0.00000   100%   248    2s\n",
      "H  231   212                       0.3648166    0.00000   100%   219    4s\n",
      "H  302   234                       0.3138322    0.00000   100%   202    4s\n",
      "*  336   248              46       0.3058186    0.00000   100%   193    4s\n",
      "   422   282 infeasible   26         0.30582    0.00000   100%   188    5s\n",
      "H  469   291                       0.2977376    0.00000   100%   184    5s\n",
      "*  517   321              47       0.2977376    0.00000   100%   177    5s\n",
      "H 1031   552                       0.2861878    0.00000   100%   174    9s\n",
      "  1034   554    0.11405   16    1    0.28619    0.00000   100%   174   10s\n",
      "H 1184   577                       0.2286295    0.00000   100%   180   13s\n",
      "H 1233   565                       0.1896447    0.00000   100%   181   13s\n",
      "* 1243   537              43       0.1892575    0.00000   100%   179   13s\n",
      "\n",
      "Cutting planes:\n",
      "  Gomory: 2\n",
      "  Projected Implied bound: 1\n",
      "  MIR: 1\n",
      "  Flow cover: 1\n",
      "\n",
      "Explored 1245 nodes (232788 simplex iterations) in 13.52 seconds\n",
      "Thread count was 8 (of 8 available processors)\n",
      "\n",
      "Solution count 10: 0.189258 0.189645 0.22863 ... 0.467428\n",
      "Pool objective bound 0\n",
      "\n",
      "Optimization achieved user objective limit\n",
      "Best objective 1.892575139476e-01, best bound 0.000000000000e+00, gap 100.0000%\n"
     ]
    },
    {
     "name": "stderr",
     "output_type": "stream",
     "text": [
      "\u001b[1m\u001b[33mWARNING: \u001b[39m\u001b[22m\u001b[33mNot solved to optimality, status: UserObjLimit\u001b[39m\n"
     ]
    }
   ],
   "source": [
    "MIPVerify.find_adversarial_example(n1, sample_image, 2, GurobiSolver(BestObjStop=0.2),\n",
    "    norm_order=Inf);"
   ]
  },
  {
   "cell_type": "markdown",
   "metadata": {
    "deletable": true,
    "editable": true
   },
   "source": [
    "##### Terminate if gap between `Incumbent` and `BestBd` is below threshold\n",
    "\n",
    "Set `MIPGap`."
   ]
  },
  {
   "cell_type": "code",
   "execution_count": 29,
   "metadata": {
    "collapsed": false,
    "deletable": true,
    "editable": true
   },
   "outputs": [
    {
     "name": "stdout",
     "output_type": "stream",
     "text": [
      "\u001b[36m[notice | MIPVerify]: Loading model from cache.\n",
      "\u001b[39m\u001b[36m[notice | MIPVerify]: Attempting to find adversarial example. Neural net predicted label is 8, target labels are [2]\n",
      "\u001b[39mOptimize a model with 4954 rows, 4041 columns and 75836 nonzeros\n",
      "Variable types: 3197 continuous, 844 integer (844 binary)\n",
      "Coefficient statistics:\n",
      "  Matrix range     [2e-05, 7e+02]\n",
      "  Objective range  [1e+00, 1e+00]\n",
      "  Bounds range     [1e+00, 1e+02]\n",
      "  RHS range        [1e-02, 7e+02]\n",
      "Presolve removed 3813 rows and 3136 columns\n",
      "Presolve time: 0.13s\n",
      "Presolved: 1141 rows, 905 columns, 66704 nonzeros\n",
      "\n",
      "MIP start did not produce a new incumbent solution\n",
      "MIP start violates constraint R1024 by 1.000000000\n",
      "\n",
      "Variable types: 845 continuous, 60 integer (60 binary)\n",
      "\n",
      "Root relaxation: objective 0.000000e+00, 546 iterations, 0.02 seconds\n",
      "\n",
      "    Nodes    |    Current Node    |     Objective Bounds      |     Work\n",
      " Expl Unexpl |  Obj  Depth IntInf | Incumbent    BestBd   Gap | It/Node Time\n",
      "\n",
      "     0     0    0.00000    0    5          -    0.00000      -     -    0s\n",
      "Another try with MIP start\n",
      "H    0     0                       0.4901359    0.00000   100%     -    0s\n",
      "     0     0    0.00000    0    7    0.49014    0.00000   100%     -    0s\n",
      "     0     0    0.00000    0    8    0.49014    0.00000   100%     -    0s\n",
      "     0     0    0.00000    0    9    0.49014    0.00000   100%     -    0s\n",
      "     0     0    0.00000    0   10    0.49014    0.00000   100%     -    0s\n",
      "     0     0    0.00000    0   11    0.49014    0.00000   100%     -    1s\n",
      "     0     0    0.00000    0   11    0.49014    0.00000   100%     -    1s\n",
      "     0     0    0.00000    0    8    0.49014    0.00000   100%     -    1s\n",
      "     0     0    0.00000    0   10    0.49014    0.00000   100%     -    1s\n",
      "     0     0    0.00000    0   11    0.49014    0.00000   100%     -    1s\n",
      "     0     0    0.00000    0   11    0.49014    0.00000   100%     -    1s\n",
      "     0     2    0.00000    0   11    0.49014    0.00000   100%     -    1s\n",
      "H   32    33                       0.4674281    0.00000   100%   248    2s\n",
      "H  231   212                       0.3648166    0.00000   100%   219    4s\n",
      "H  302   234                       0.3138322    0.00000   100%   202    4s\n",
      "*  336   248              46       0.3058186    0.00000   100%   193    4s\n",
      "   422   282 infeasible   26         0.30582    0.00000   100%   188    5s\n",
      "H  469   291                       0.2977376    0.00000   100%   184    5s\n",
      "*  517   321              47       0.2977376    0.00000   100%   177    5s\n",
      "H 1031   552                       0.2861878    0.00000   100%   174    9s\n",
      "  1034   554    0.11405   16    1    0.28619    0.00000   100%   174   10s\n",
      "H 1184   577                       0.2286295    0.00000   100%   180   13s\n",
      "H 1233   565                       0.1896447    0.00000   100%   181   13s\n",
      "* 1243   537              43       0.1892575    0.00000   100%   179   13s\n",
      "  1597   591    0.07805   29    6    0.18926    0.00000   100%   166   15s\n",
      "  2765   694    0.17738   27    6    0.18926    0.01281  93.2%   147   20s\n",
      "  3544   945    0.09804   28    9    0.18926    0.03156  83.3%   143   25s\n",
      "  4606  1196 infeasible   27         0.18926    0.04612  75.6%   139   30s\n",
      "  5833  1348    0.13724   37    3    0.18926    0.06023  68.2%   135   35s\n",
      "  7213  1650    0.14248   29    5    0.18926    0.06626  65.0%   132   41s\n",
      "H 7293  1660                       0.1876830    0.06626  64.7%   131   41s\n",
      "  8404  1801 infeasible   25         0.18768    0.07861  58.1%   129   45s\n",
      "  9634  1953    0.17317   37    7    0.18768    0.08395  55.3%   129   51s\n",
      " 10813  2025 infeasible   35         0.18768    0.09177  51.1%   128   55s\n",
      " 12173  2110    0.14779   37    8    0.18768    0.09855  47.5%   127   60s\n",
      " 13299  2182    0.17006   21    8    0.18768    0.10537  43.9%   127   65s\n",
      " 14298  2396 infeasible   38         0.18768    0.10582  43.6%   125   74s\n",
      "H14370  2396                       0.1876830    0.10582  43.6%   125   74s\n",
      "H14444  2382                       0.1852948    0.10582  42.9%   125   74s\n",
      " 14588  2392    0.17533   34    5    0.18529    0.10743  42.0%   125   76s\n",
      " 15994  2503    0.13430   22    9    0.18529    0.11087  40.2%   123   81s\n",
      "\n",
      "Cutting planes:\n",
      "  Gomory: 2\n",
      "  Projected Implied bound: 1\n",
      "  MIR: 1\n",
      "  Flow cover: 1\n",
      "  Inf proof: 4\n",
      "\n",
      "Explored 16407 nodes (2024508 simplex iterations) in 81.21 seconds\n",
      "Thread count was 8 (of 8 available processors)\n",
      "\n",
      "Solution count 10: 0.185295 0.187683 0.187683 ... 0.305819\n",
      "Pool objective bound 0.112455\n",
      "\n",
      "Optimal solution found (tolerance 4.00e-01)\n",
      "Best objective 1.852948300851e-01, best bound 1.124552795655e-01, gap 39.3101%\n"
     ]
    }
   ],
   "source": [
    "MIPVerify.find_adversarial_example(n1, sample_image, 2, GurobiSolver(MIPGap=0.4),\n",
    "    norm_order=Inf);"
   ]
  },
  {
   "cell_type": "markdown",
   "metadata": {
    "deletable": true,
    "editable": true
   },
   "source": [
    "### `tightening_solver`\n",
    "The default model build solver has the same type as the `main_solver`, but uses the default settings for that solver type other than 1) muting the output and 2) setting a time limit of 20s per solve (i.e. per upper/lower bound per intermediate value).\n",
    "\n",
    "The most common reason to pass in your own `tightening_solver` to modify the time limit per solve."
   ]
  },
  {
   "cell_type": "markdown",
   "metadata": {
    "deletable": true,
    "editable": true
   },
   "source": [
    "Whew! That was a lot. The next tutorial will introduce you to everything you can extract from the results dictionary."
   ]
  }
 ],
 "metadata": {
  "kernelspec": {
   "display_name": "Julia 0.6.0",
   "language": "julia",
   "name": "julia-0.6"
  },
  "language_info": {
   "file_extension": ".jl",
   "mimetype": "application/julia",
   "name": "julia",
   "version": "0.6.0"
  }
 },
 "nbformat": 4,
 "nbformat_minor": 2
}
