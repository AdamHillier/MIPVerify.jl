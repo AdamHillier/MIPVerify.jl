{
 "cells": [
  {
   "cell_type": "markdown",
   "metadata": {
    "deletable": true,
    "editable": true
   },
   "source": [
    "# Finding adversarial examples, in depth\n",
    "\n",
    "In the quickstart, we used the default parameters for `find_adversarial_example`. Using the same example from the quickstart, we explore how to get more out of the function."
   ]
  },
  {
   "cell_type": "code",
   "execution_count": null,
   "metadata": {
    "collapsed": false,
    "deletable": true,
    "editable": true
   },
   "outputs": [],
   "source": [
    "using MIPVerify\n",
    "using Gurobi\n",
    "using JuMP\n",
    "using Images\n",
    "\n",
    "mnist = MIPVerify.read_datasets(\"MNIST\")\n",
    "n1params = MIPVerify.get_example_network_params(\"MNIST.n1\")\n",
    "sample_image = MIPVerify.get_image(mnist.train.images, 1);\n",
    "\n",
    "function print_summary(d::Dict)\n",
    "    # Helper function to print out output\n",
    "    obj_val = getobjectivevalue(d[:Model])\n",
    "    solve_time = getsolvetime(d[:Model])\n",
    "    println(\"Objective Value: $(@sprintf(\"%.6f\", obj_val)), Solve Time: $(@sprintf(\"%.2f\", solve_time))\")\n",
    "end\n",
    "\n",
    "function view_diff(diff::Array{<:Real, 2})\n",
    "    n = 1001\n",
    "    colormap(\"RdBu\", n)[ceil.(Int, (diff+1)/2*n)]\n",
    "end;"
   ]
  },
  {
   "cell_type": "markdown",
   "metadata": {
    "deletable": true,
    "editable": true
   },
   "source": [
    "## `find_adversarial_example`\n",
    "\n",
    "`find_adversarial_example` takes four positional arguments\n",
    "\n",
    "```\n",
    "find_adversarial_example(nnparams, input, target_selection, main_solver)\n",
    "```\n",
    "\n",
    "It also takes named arguments, each with the default value specified.\n",
    "\n",
    "```\n",
    "norm_order = 1\n",
    "tolerance = 0\n",
    "rebuild = false\n",
    "invert_target_selection = false\n",
    "pp = MIPVerify.AdditivePerturbationParameters()\n",
    "tighten_bounds = true\n",
    "model_build_solver: same as main solver, but with output suppressed and a time limit of 20s per solve.\n",
    "```\n",
    "\n",
    "We explore what each of these options allow us to do."
   ]
  },
  {
   "cell_type": "markdown",
   "metadata": {
    "deletable": true,
    "editable": true
   },
   "source": [
    "# Basic Options"
   ]
  },
  {
   "cell_type": "markdown",
   "metadata": {
    "deletable": true,
    "editable": true
   },
   "source": [
    "## Specifying target categories for the adversarial example\n",
    "\n",
    "`target_selection` and `invert_target_selection` control what the category we want the adversarial example to be classified in.\n",
    "\n",
    "**Specification**: `target_selection` accepts either a single integer or a list of integers.\n",
    "\n",
    "For example, if I wanted the original image (which is the digit 7) to be classified as the digit 0 or 8, I could run two separate solves with `target_selection=1` and `target_selection=9` (Julia is 1-indexed), finding closest adversarial examples at distance `15.0926` and `9.75700` ..."
   ]
  },
  {
   "cell_type": "code",
   "execution_count": null,
   "metadata": {
    "collapsed": false,
    "deletable": true,
    "editable": true
   },
   "outputs": [],
   "source": [
    "d = MIPVerify.find_adversarial_example(n1params, sample_image, 1, GurobiSolver(OutputFlag=0))\n",
    "# OutputFlag=0 prevents any output from being printed out\n",
    "print_summary(d)"
   ]
  },
  {
   "cell_type": "code",
   "execution_count": null,
   "metadata": {
    "collapsed": false,
    "deletable": true,
    "editable": true
   },
   "outputs": [],
   "source": [
    "d = MIPVerify.find_adversarial_example(n1params, sample_image, 9, GurobiSolver(OutputFlag=0));\n",
    "print_summary(d)"
   ]
  },
  {
   "cell_type": "markdown",
   "metadata": {
    "deletable": true,
    "editable": true
   },
   "source": [
    "Or I can can pass the targets as  `target_selection = [1, 9]`, where the same optimal value of `9.75700` is found.\n",
    "\n",
    "Solve times for multiple target labels are typically on par with or faster than the aggregate solve times when solving with each target label in sequence."
   ]
  },
  {
   "cell_type": "code",
   "execution_count": null,
   "metadata": {
    "collapsed": false,
    "deletable": true,
    "editable": true
   },
   "outputs": [],
   "source": [
    "d = MIPVerify.find_adversarial_example(n1params, sample_image, [1, 9], GurobiSolver(OutputFlag=0));\n",
    "print_summary(d)"
   ]
  },
  {
   "cell_type": "markdown",
   "metadata": {
    "deletable": true,
    "editable": true
   },
   "source": [
    "A common use case is to have the adversarial example being in any category but the original:"
   ]
  },
  {
   "cell_type": "code",
   "execution_count": null,
   "metadata": {
    "collapsed": false,
    "deletable": true,
    "editable": true
   },
   "outputs": [],
   "source": [
    "d = MIPVerify.find_adversarial_example(n1params, sample_image, [1, 2, 3, 4, 5, 6, 7, 9, 10], GurobiSolver(OutputFlag=0))\n",
    "print_summary(d)"
   ]
  },
  {
   "cell_type": "markdown",
   "metadata": {
    "deletable": true,
    "editable": true
   },
   "source": [
    "Rather than typing the full list of other categories, we can set `target_selection = 8`, and `invert_target_selection = true`."
   ]
  },
  {
   "cell_type": "code",
   "execution_count": null,
   "metadata": {
    "collapsed": false,
    "deletable": true,
    "editable": true
   },
   "outputs": [],
   "source": [
    "d = MIPVerify.find_adversarial_example(n1params, sample_image, 8, GurobiSolver(OutputFlag=0), \n",
    "    invert_target_selection=true)\n",
    "print_summary(d)"
   ]
  },
  {
   "cell_type": "markdown",
   "metadata": {
    "deletable": true,
    "editable": true
   },
   "source": [
    "## More precise control over activations in output layer\n",
    "### Default Behavior\n",
    "The default option for `tolerance` is 0. This means that the activations in the softmax layer will take its maximum value for the target label (or at least one of them if more than one is specified), but that this maximum may not be unique.\n",
    "\n",
    "In the example below, notice how the activations `y[8]` and `y[10]` (corresponding to labels 7 and 9) are equal, at 3.49171."
   ]
  },
  {
   "cell_type": "code",
   "execution_count": null,
   "metadata": {
    "collapsed": false,
    "deletable": true,
    "editable": true
   },
   "outputs": [],
   "source": [
    "d = MIPVerify.find_adversarial_example(n1params, sample_image, 10, GurobiSolver(OutputFlag=0))\n",
    "print_summary(d)\n",
    "perturbed_sample_image = getvalue(d[:PerturbedInput])\n",
    "y = perturbed_sample_image |> n1params"
   ]
  },
  {
   "cell_type": "markdown",
   "metadata": {
    "deletable": true,
    "editable": true
   },
   "source": [
    "### Ensuring difference in activation between target labels and non-target labels\n",
    "\n",
    "If we want to ensure that the maximum is unique, we can add a small tolerance. This is the minimum difference between the activation of the target label (or the maximum activation of any of the target labels) and any non-target label. In the example below, with a tolerance of 0.001, notice how `y[8] = 3.49243 = 0.00100 + 3.49143 = tolerance + y[10]`.\n",
    "\n",
    "_This increases the objective value slightly (since the closest adversarial example with the required tolerance must be slightly further away.)_"
   ]
  },
  {
   "cell_type": "code",
   "execution_count": null,
   "metadata": {
    "collapsed": false,
    "deletable": true,
    "editable": true
   },
   "outputs": [],
   "source": [
    "d = MIPVerify.find_adversarial_example(n1params, sample_image, 10, GurobiSolver(OutputFlag=0), \n",
    "    tolerance = 0.001)\n",
    "print_summary(d)\n",
    "perturbed_sample_image = getvalue(d[:PerturbedInput])\n",
    "y = perturbed_sample_image |> n1params"
   ]
  },
  {
   "cell_type": "markdown",
   "metadata": {
    "deletable": true,
    "editable": true
   },
   "source": [
    "## Restricting the Family of Perturbations\n",
    "\n",
    "### Additive Perturbations\n",
    "\n",
    "The standard threat model is to allow each pixel to be perturbed independently, which is what happens by default:"
   ]
  },
  {
   "cell_type": "code",
   "execution_count": null,
   "metadata": {
    "collapsed": false,
    "deletable": true,
    "editable": true
   },
   "outputs": [],
   "source": [
    "d = @time MIPVerify.find_adversarial_example(n1params, sample_image, 10, GurobiSolver(OutputFlag=0));\n",
    "perturbed_sample_image = getvalue(d[:PerturbedInput])\n",
    "colorview(Gray, perturbed_sample_image[1, :, :, 1])"
   ]
  },
  {
   "cell_type": "markdown",
   "metadata": {
    "deletable": true,
    "editable": true
   },
   "source": [
    "### Blurring Perturbations\n",
    "\n",
    "We can restrict the perturbations to a blur with a 5x5 kernel instead. (We are still minimizing over the norm of the perturbation.)"
   ]
  },
  {
   "cell_type": "code",
   "execution_count": null,
   "metadata": {
    "collapsed": false,
    "deletable": true,
    "editable": true
   },
   "outputs": [],
   "source": [
    "d = @time MIPVerify.find_adversarial_example(n1params, sample_image, 10, GurobiSolver(OutputFlag=0),\n",
    "    pp = MIPVerify.BlurPerturbationParameters((5, 5)));\n",
    "perturbed_sample_image = getvalue(d[:PerturbedInput])\n",
    "colorview(Gray, perturbed_sample_image[1, :, :, 1])"
   ]
  },
  {
   "cell_type": "code",
   "execution_count": null,
   "metadata": {
    "collapsed": false,
    "deletable": true,
    "editable": true
   },
   "outputs": [],
   "source": [
    "diff = getvalue(d[:Perturbation])\n",
    "view_diff(diff[1, :, :, 1])"
   ]
  },
  {
   "cell_type": "markdown",
   "metadata": {
    "deletable": true,
    "editable": true
   },
   "source": [
    "## Minimizing Over Different Norms\n",
    "### $l_1$\n",
    "By default, we minimize the $l_1$ norm of the perturbation. This generally encourages sparsity in the perturbations. \n",
    "\n",
    "In this case, the minimum $l_1$ norm perturbation required for the image to be classified as a `9` is `3.171856.`"
   ]
  },
  {
   "cell_type": "code",
   "execution_count": null,
   "metadata": {
    "collapsed": false,
    "deletable": true,
    "editable": true
   },
   "outputs": [],
   "source": [
    "d = MIPVerify.find_adversarial_example(n1params, sample_image, 10, GurobiSolver(OutputFlag=0));\n",
    "print_summary(d)\n",
    "perturbed_sample_image = getvalue(d[:PerturbedInput])\n",
    "colorview(Gray, perturbed_sample_image[1, :, :, 1])"
   ]
  },
  {
   "cell_type": "markdown",
   "metadata": {
    "deletable": true,
    "editable": true
   },
   "source": [
    "We also show the difference between the perturbed image and the original image. Red is areas of decreased brightness and blue is areas of increased brightness."
   ]
  },
  {
   "cell_type": "code",
   "execution_count": null,
   "metadata": {
    "collapsed": false,
    "deletable": true,
    "editable": true
   },
   "outputs": [],
   "source": [
    "diff = getvalue(d[:Perturbation])\n",
    "view_diff(diff[1, :, :, 1])"
   ]
  },
  {
   "cell_type": "markdown",
   "metadata": {
    "deletable": true,
    "editable": true
   },
   "source": [
    "### $l_\\infty$\n",
    "\n",
    "We can also minimize over the $l_\\infty$ norm. This generally results in large patches of the image being changed. \n",
    "\n",
    "In this case, the minimum $l_\\infty$ norm perturbation required for the image to be classified as a `9` is `0.033522.`"
   ]
  },
  {
   "cell_type": "code",
   "execution_count": null,
   "metadata": {
    "collapsed": false,
    "deletable": true,
    "editable": true
   },
   "outputs": [],
   "source": [
    "d = MIPVerify.find_adversarial_example(n1params, sample_image, 10, GurobiSolver(OutputFlag=0),\n",
    "    norm_order=Inf);\n",
    "print_summary(d)\n",
    "perturbed_sample_image = getvalue(d[:PerturbedInput])\n",
    "colorview(Gray, perturbed_sample_image[1, :, :, 1])"
   ]
  },
  {
   "cell_type": "code",
   "execution_count": null,
   "metadata": {
    "collapsed": false,
    "deletable": true,
    "editable": true
   },
   "outputs": [],
   "source": [
    "diff = getvalue(d[:Perturbation])\n",
    "view_diff(diff[1, :, :, 1])"
   ]
  },
  {
   "cell_type": "markdown",
   "metadata": {
    "deletable": true,
    "editable": true
   },
   "source": [
    "### $l_2$\n",
    "With solvers that can handle MIQPs (like Gurobi), we can minimize over the $l_2$ norm. This generally takes a bit more time. \n",
    "\n",
    "In this case, the minimum $l_2$ norm perturbation required for the image to be classified as a `9` is `0.183 = sqrt(0.033522).`"
   ]
  },
  {
   "cell_type": "code",
   "execution_count": null,
   "metadata": {
    "collapsed": false,
    "deletable": true,
    "editable": true
   },
   "outputs": [],
   "source": [
    "d = MIPVerify.find_adversarial_example(n1params, sample_image, 10, GurobiSolver(OutputFlag=0),\n",
    "    norm_order=2);\n",
    "print_summary(d)\n",
    "perturbed_sample_image = getvalue(d[:PerturbedInput])\n",
    "colorview(Gray, perturbed_sample_image[1, :, :, 1])"
   ]
  },
  {
   "cell_type": "code",
   "execution_count": null,
   "metadata": {
    "collapsed": false,
    "deletable": true,
    "editable": true
   },
   "outputs": [],
   "source": [
    "diff = getvalue(d[:Perturbation])\n",
    "view_diff(diff[1, :, :, 1])"
   ]
  },
  {
   "cell_type": "markdown",
   "metadata": {
    "deletable": true,
    "editable": true
   },
   "source": [
    "# Advanced Options"
   ]
  },
  {
   "cell_type": "markdown",
   "metadata": {
    "deletable": true,
    "editable": true
   },
   "source": [
    "## Models\n",
    "Finding adversarial examples consists of two steps:\n",
    "\n",
    "  1. Building a model that expresses the input-output constraints of the neural net, which involves determining upper and lower bounds on each intermediate value.\n",
    "  2. Setting a target category (or multiple target categories) and solving to determine the minimal adversarial example that is classified in that category.\n",
    "\n",
    "The first time we verify a neural net, we must do step 1, which can take a long time."
   ]
  },
  {
   "cell_type": "code",
   "execution_count": null,
   "metadata": {
    "collapsed": false,
    "deletable": true,
    "editable": true
   },
   "outputs": [],
   "source": [
    "d = @time MIPVerify.find_adversarial_example(n1params, sample_image, 1, GurobiSolver(OutputFlag=0), rebuild=true);\n",
    "print_summary(d)"
   ]
  },
  {
   "cell_type": "markdown",
   "metadata": {
    "deletable": true,
    "editable": true
   },
   "source": [
    "When re-running the solve (with the `rebuild` parameter defaulting to `false`), we load the model from cache and skip ahead straight to step 2; finding the adversarial example takes much less time."
   ]
  },
  {
   "cell_type": "code",
   "execution_count": null,
   "metadata": {
    "collapsed": false,
    "deletable": true,
    "editable": true
   },
   "outputs": [],
   "source": [
    "d = @time MIPVerify.find_adversarial_example(n1params, sample_image, 1, GurobiSolver(OutputFlag=0));\n",
    "print_summary(d)"
   ]
  },
  {
   "cell_type": "markdown",
   "metadata": {
    "deletable": true,
    "editable": true
   },
   "source": [
    "By setting `rebuild=true`, you force the MIP model to be rebuilt even if one exists; this is potentially useful if you want to spend more time expressing the neural net as an MIP model to speed up subsequent solves. (Think of this as an investment!)"
   ]
  },
  {
   "cell_type": "markdown",
   "metadata": {
    "deletable": true,
    "editable": true
   },
   "source": [
    "### Removing Cached Models\n",
    "\n",
    "If you find that your cached models are taking up too much space, you can remove them with `remove_cached_models()`."
   ]
  },
  {
   "cell_type": "markdown",
   "metadata": {},
   "source": [
    "## Advanced Solver-fu\n",
    "\n",
    "We use two different solvers for the two steps of finding adversarial examples:\n",
    "\n",
    "  1. the `model_build_solver`, used only to determine upper and lower bounds on intermediate values when expressing the input-output constraints in the neural net (i.e. if no cached model exists, or if `rebuild=true`), and \n",
    "  2. the `main_solver`, used to determine the minimal adversarial example for the loaded model."
   ]
  },
  {
   "cell_type": "markdown",
   "metadata": {
    "deletable": true,
    "editable": true
   },
   "source": [
    "### `tighten_bounds`\n",
    "\n",
    "By default, we tighten the bounds on each intermediate value by solving an MIP using the `model_build_solver` (`tighten_bounds=true`. You can turn this off entirely and rely just on interval arithmetic. Notice how rebuilding the model is faster when we set `tighten_bounds=false`.\n",
    "\n",
    "Bounds are tighter when `tighten_bounds=true` but the trade-off is that the process can take more time. (The solve itself takes about ~4s for the particular sample image and target label selected)."
   ]
  },
  {
   "cell_type": "code",
   "execution_count": null,
   "metadata": {
    "collapsed": false,
    "deletable": true,
    "editable": true
   },
   "outputs": [],
   "source": [
    "MIPVerify.setloglevel!(\"notice\")\n",
    "@time MIPVerify.find_adversarial_example(n1params, sample_image, 10, GurobiSolver(OutputFlag=0), rebuild=true);"
   ]
  },
  {
   "cell_type": "code",
   "execution_count": null,
   "metadata": {
    "collapsed": false
   },
   "outputs": [],
   "source": [
    "MIPVerify.setloglevel!(\"notice\")\n",
    "@time MIPVerify.find_adversarial_example(n1params, sample_image, 10, GurobiSolver(OutputFlag=0), rebuild=true,\n",
    "    tighten_bounds=false);"
   ]
  },
  {
   "cell_type": "markdown",
   "metadata": {
    "deletable": true,
    "editable": true
   },
   "source": [
    "We can modify many of the parameters of the solver to change behavior:\n",
    "\n",
    "We will be focusing on the parameters available via Gurobi (http://www.gurobi.com/documentation/7.5/refman/parameters.html), but other solvers often have similar options."
   ]
  },
  {
   "cell_type": "markdown",
   "metadata": {
    "deletable": true,
    "editable": true
   },
   "source": [
    "  \n",
    "### `main_solver`\n",
    "\n",
    "#### Muting Output\n",
    "To mute the output from the `GurobiSolver`, set `OutputFlag=0`.\n"
   ]
  },
  {
   "cell_type": "code",
   "execution_count": null,
   "metadata": {
    "collapsed": false,
    "deletable": true,
    "editable": true,
    "scrolled": true
   },
   "outputs": [],
   "source": [
    "d = MIPVerify.find_adversarial_example(n1params, sample_image, 10, GurobiSolver());\n",
    "print_summary(d)"
   ]
  },
  {
   "cell_type": "code",
   "execution_count": null,
   "metadata": {
    "collapsed": false,
    "deletable": true,
    "editable": true
   },
   "outputs": [],
   "source": [
    "MIPVerify.find_adversarial_example(n1params, sample_image, 10, GurobiSolver(OutputFlag=0));\n",
    "print_summary(d)"
   ]
  },
  {
   "cell_type": "markdown",
   "metadata": {
    "deletable": true,
    "editable": true
   },
   "source": [
    "#### Terminating early if a conditon is satisfied\n",
    "\n",
    "Sometimes, finding an adversarial example takes a long time:"
   ]
  },
  {
   "cell_type": "code",
   "execution_count": null,
   "metadata": {
    "collapsed": false,
    "deletable": true,
    "editable": true
   },
   "outputs": [],
   "source": [
    "MIPVerify.find_adversarial_example(n1params, sample_image, 2, GurobiSolver(),\n",
    "    norm_order=Inf);"
   ]
  },
  {
   "cell_type": "markdown",
   "metadata": {
    "deletable": true,
    "editable": true
   },
   "source": [
    "You may want to terminate early when a particular condition is satisfied. Common reasons are:\n",
    "\n",
    "  1. Solve exceeding time limit\n",
    "  2. Lower bound on robustness proved (i.e. `BestBd` increases above a pre-determined threshold)\n",
    "  3. Counter-example found (i.e. `Incumbent` adversarial image found that is closer to the original image than expected).\n",
    "  4. Difference between `Incumbent` and `BestBd` falls below a pre-determined threshold.\n",
    "  \n",
    "Fortunately, Gurobi has a parameter for all of these cases."
   ]
  },
  {
   "cell_type": "markdown",
   "metadata": {
    "deletable": true,
    "editable": true
   },
   "source": [
    "##### Terminate if time limit is reached\n",
    "Set `TimeLimit`:"
   ]
  },
  {
   "cell_type": "code",
   "execution_count": null,
   "metadata": {
    "collapsed": false,
    "deletable": true,
    "editable": true
   },
   "outputs": [],
   "source": [
    "MIPVerify.find_adversarial_example(n1params, sample_image, 2, GurobiSolver(TimeLimit=30),\n",
    "    norm_order=Inf);"
   ]
  },
  {
   "cell_type": "markdown",
   "metadata": {
    "deletable": true,
    "editable": true
   },
   "source": [
    "##### Terminate if lower bound on robustness proved\n",
    "\n",
    "Set `BestBdStop` or `Cutoff`.\n",
    "\n",
    "(`Cutoff` gives a different error message that is not currently processed correctly by the latest release of `Gurobi`)."
   ]
  },
  {
   "cell_type": "code",
   "execution_count": null,
   "metadata": {
    "collapsed": false,
    "deletable": true,
    "editable": true
   },
   "outputs": [],
   "source": [
    "MIPVerify.find_adversarial_example(n1params, sample_image, 2, GurobiSolver(BestBdStop=0.05),\n",
    "    norm_order=Inf);"
   ]
  },
  {
   "cell_type": "markdown",
   "metadata": {
    "deletable": true,
    "editable": true
   },
   "source": [
    "##### Terminate if adversarial example found closer than expected robustness\n",
    "\n",
    "Set `BestObjStop`."
   ]
  },
  {
   "cell_type": "code",
   "execution_count": null,
   "metadata": {
    "collapsed": false,
    "deletable": true,
    "editable": true
   },
   "outputs": [],
   "source": [
    "MIPVerify.find_adversarial_example(n1params, sample_image, 2, GurobiSolver(BestObjStop=0.2),\n",
    "    norm_order=Inf);"
   ]
  },
  {
   "cell_type": "markdown",
   "metadata": {
    "deletable": true,
    "editable": true
   },
   "source": [
    "##### Terminate if gap between `Incumbent` and `BestBd` is below threshold\n",
    "\n",
    "Set `MIPGap`."
   ]
  },
  {
   "cell_type": "code",
   "execution_count": null,
   "metadata": {
    "collapsed": false,
    "deletable": true,
    "editable": true
   },
   "outputs": [],
   "source": [
    "MIPVerify.find_adversarial_example(n1params, sample_image, 2, GurobiSolver(MIPGap=0.4),\n",
    "    norm_order=Inf);"
   ]
  },
  {
   "cell_type": "markdown",
   "metadata": {
    "deletable": true,
    "editable": true
   },
   "source": [
    "### `model_build_solver`\n",
    "The default model build solver has the same type as the `main_solver`, but uses the default settings for that solver type other than 1) muting the output and 2) setting a time limit of 20s per solve (i.e. per upper/lower bound per intermediate value).\n",
    "\n",
    "The most common reason to pass in your own `model_build_solver` to modify the time limit per solve."
   ]
  },
  {
   "cell_type": "markdown",
   "metadata": {
    "deletable": true,
    "editable": true
   },
   "source": [
    "Whew! That was a lot. The next tutorial will introduce you to everything you can extract from the results dictionary."
   ]
  }
 ],
 "metadata": {
  "kernelspec": {
   "display_name": "Julia 0.6.0",
   "language": "julia",
   "name": "julia-0.6"
  },
  "language_info": {
   "file_extension": ".jl",
   "mimetype": "application/julia",
   "name": "julia",
   "version": "0.6.0"
  }
 },
 "nbformat": 4,
 "nbformat_minor": 2
}
