{
 "cells": [
  {
   "cell_type": "markdown",
   "metadata": {
    "deletable": true,
    "editable": true
   },
   "source": [
    "# Log output\n",
    "\n",
    "We use the same example as in the quickstart."
   ]
  },
  {
   "cell_type": "code",
   "execution_count": 1,
   "metadata": {
    "collapsed": false,
    "deletable": true,
    "editable": true
   },
   "outputs": [],
   "source": [
    "using MIPVerify\n",
    "using Gurobi"
   ]
  },
  {
   "cell_type": "code",
   "execution_count": 2,
   "metadata": {
    "collapsed": false,
    "deletable": true,
    "editable": true
   },
   "outputs": [
    {
     "data": {
      "text/plain": [
       "9"
      ]
     },
     "execution_count": 2,
     "metadata": {},
     "output_type": "execute_result"
    }
   ],
   "source": [
    "mnist = MIPVerify.read_datasets(\"MNIST\")\n",
    "n1 = MIPVerify.get_example_network_params(\"MNIST.n1\")\n",
    "sample_image = MIPVerify.get_image(mnist.train.images, 1)\n",
    "target_label_index = 9"
   ]
  },
  {
   "cell_type": "markdown",
   "metadata": {
    "deletable": true,
    "editable": true
   },
   "source": [
    "## Viewing Log Output\n",
    "\n",
    "Our package logs to STDOUT at the `debug`, `info`, `notice` and `warn` levels. \n",
    "The default output level is to show logs only at the `notice` level and above, which is also the recommended level."
   ]
  },
  {
   "cell_type": "code",
   "execution_count": 3,
   "metadata": {
    "collapsed": false,
    "deletable": true,
    "editable": true
   },
   "outputs": [
    {
     "name": "stdout",
     "output_type": "stream",
     "text": [
      "\u001b[36m[notice | MIPVerify]: Rebuilding model from scratch. This may take some time as we determine upper and lower bounds for the input to each non-linear unit. The model built will be cached and re-used for future solves, unless you explicitly set rebuild=true.\n",
      "\u001b[39m"
     ]
    },
    {
     "name": "stderr",
     "output_type": "stream",
     "text": [
      "\u001b[32m  Calculating upper bounds: 100%|███████████████████████| Time: 0:00:02\u001b[39m\n",
      "\u001b[32m  Calculating lower bounds: 100%|███████████████████████| Time: 0:00:00\u001b[39m\n",
      "\u001b[32m  Imposing relu constraint: 100%|███████████████████████| Time: 0:00:00\u001b[39m\n",
      "\u001b[32m  Calculating upper bounds: 100%|███████████████████████| Time: 0:00:01\u001b[39m\n",
      "\u001b[32m  Calculating lower bounds: 100%|███████████████████████| Time: 0:00:00\u001b[39m\n"
     ]
    },
    {
     "name": "stdout",
     "output_type": "stream",
     "text": [
      "\u001b[36m[notice | MIPVerify]: Attempting to find adversarial example. Neural net predicted label is 8, target labels are [9]\n",
      "\u001b[39mOptimize a model with 3385 rows, 3256 columns and 71132 nonzeros\n",
      "Variable types: 3196 continuous, 60 integer (60 binary)\n",
      "Coefficient statistics:\n",
      "  Matrix range     [2e-05, 7e+02]\n",
      "  Objective range  [1e+00, 1e+00]\n",
      "  Bounds range     [1e+00, 3e+02]\n",
      "  RHS range        [1e-02, 7e+02]\n",
      "Presolve removed 2860 rows and 2184 columns\n",
      "Presolve time: 0.13s\n",
      "Presolved: 525 rows, 1072 columns, 65472 nonzeros\n",
      "\n",
      "MIP start did not produce a new incumbent solution\n",
      "MIP start violates constraint R784 by 70.892854817\n",
      "\n",
      "Variable types: 1012 continuous, 60 integer (60 binary)\n",
      "\n",
      "Root relaxation: objective 0.000000e+00, 241 iterations, 0.01 seconds\n",
      "\n",
      "    Nodes    |    Current Node    |     Objective Bounds      |     Work\n",
      " Expl Unexpl |  Obj  Depth IntInf | Incumbent    BestBd   Gap | It/Node Time\n",
      "\n",
      "     0     0    0.00000    0    9          -    0.00000      -     -    0s\n",
      "Another try with MIP start\n",
      "     0     0    0.00000    0   10          -    0.00000      -     -    0s\n",
      "     0     0    0.00000    0   10          -    0.00000      -     -    0s\n",
      "     0     0    0.00000    0    1          -    0.00000      -     -    0s\n",
      "H    0     0                      27.1444948    0.00000   100%     -    0s\n",
      "H    0     0                       9.8928387    0.00000   100%     -    0s\n",
      "     0     0    0.00000    0    1    9.89284    0.00000   100%     -    0s\n",
      "     0     2    0.00000    0    1    9.89284    0.00000   100%     -    0s\n",
      "  2307   540     cutoff   23         9.89284    0.00000   100%  76.3    5s\n",
      "  5077   154     cutoff   12         9.89284    8.10691  18.1%  68.9   10s\n",
      "* 5090   150              30       9.7569972    8.10691  16.9%  68.8   10s\n",
      "\n",
      "Cutting planes:\n",
      "  Gomory: 3\n",
      "  Cover: 1\n",
      "  MIR: 6\n",
      "  Flow cover: 7\n",
      "\n",
      "Explored 5715 nodes (397429 simplex iterations) in 10.91 seconds\n",
      "Thread count was 8 (of 8 available processors)\n",
      "\n",
      "Solution count 3: 9.757 9.89284 27.1445 \n",
      "Pool objective bound 9.757\n",
      "\n",
      "Optimal solution found (tolerance 1.00e-04)\n",
      "Best objective 9.756997241475e+00, best bound 9.756997241475e+00, gap 0.0000%\n"
     ]
    }
   ],
   "source": [
    "d = MIPVerify.find_adversarial_example(n1, sample_image, target_label_index, GurobiSolver(), rebuild=true);"
   ]
  },
  {
   "cell_type": "markdown",
   "metadata": {
    "deletable": true,
    "editable": true
   },
   "source": [
    "More information is available if we set the log level to `debug`."
   ]
  },
  {
   "cell_type": "code",
   "execution_count": 4,
   "metadata": {
    "collapsed": false,
    "deletable": true,
    "editable": true
   },
   "outputs": [
    {
     "name": "stdout",
     "output_type": "stream",
     "text": [
      "\u001b[36m[notice | MIPVerify]: Rebuilding model from scratch. This may take some time as we determine upper and lower bounds for the input to each non-linear unit. The model built will be cached and re-used for future solves, unless you explicitly set rebuild=true.\n",
      "\u001b[39m\u001b[32m[info | MIPVerify]: Applying Flatten() ... \n",
      "\u001b[39m\u001b[32m[info | MIPVerify]: Applying Linear(784 -> 40) ... \n",
      "\u001b[39m\u001b[32m[info | MIPVerify]: Applying ReLU() ...\n",
      "\u001b[39m\u001b[34m[debug | MIPVerify]:   Δu = 0.0\n",
      "\u001b[39m\u001b[34m[debug | MIPVerify]:   Δu = 0.0\n",
      "\u001b[39m\u001b[34m[debug | MIPVerify]:   Δu = 0.0\n",
      "\u001b[39m\u001b[34m[debug | MIPVerify]:   Δu = 0.0\n",
      "\u001b[39m\u001b[34m[debug | MIPVerify]:   Δu = 0.0\n",
      "\u001b[39m\u001b[34m[debug | MIPVerify]:   Δu = 0.0\n",
      "\u001b[39m\u001b[34m[debug | MIPVerify]:   Δu = 0.0\n",
      "\u001b[39m\u001b[34m[debug | MIPVerify]:   Δu = 0.0\n",
      "\u001b[39m\u001b[34m[debug | MIPVerify]:   Δu = 0.0\n",
      "\u001b[39m\u001b[34m[debug | MIPVerify]:   Δu = 0.0\n",
      "\u001b[39m\u001b[34m[debug | MIPVerify]:   Δu = 0.0\n",
      "\u001b[39m\u001b[34m[debug | MIPVerify]:   Δu = 0.0\n",
      "\u001b[39m\u001b[34m[debug | MIPVerify]:   Δu = 0.0\n",
      "\u001b[39m\u001b[34m[debug | MIPVerify]:   Δu = 0.0\n",
      "\u001b[39m\u001b[34m[debug | MIPVerify]:   Δu = 0.0\n",
      "\u001b[39m\u001b[34m[debug | MIPVerify]:   Δu = 0.0\n",
      "\u001b[39m\u001b[34m[debug | MIPVerify]:   Δu = 0.0\n",
      "\u001b[39m\u001b[34m[debug | MIPVerify]:   Δu = 0.0\n",
      "\u001b[39m\u001b[34m[debug | MIPVerify]:   Δu = 0.0\n",
      "\u001b[39m\u001b[34m[debug | MIPVerify]:   Δu = 0.0\n",
      "\u001b[39m\u001b[34m[debug | MIPVerify]:   Δu = 0.0\n",
      "\u001b[39m\u001b[34m[debug | MIPVerify]:   Δu = 0.0\n",
      "\u001b[39m\u001b[34m[debug | MIPVerify]:   Δu = 0.0\n",
      "\u001b[39m\u001b[34m[debug | MIPVerify]:   Δu = 0.0\n",
      "\u001b[39m\u001b[34m[debug | MIPVerify]:   Δu = 0.0\n",
      "\u001b[39m\u001b[34m[debug | MIPVerify]:   Δu = 0.0\n",
      "\u001b[39m\u001b[34m[debug | MIPVerify]:   Δu = 0.0\n",
      "\u001b[39m\u001b[34m[debug | MIPVerify]:   Δu = 0.0\n",
      "\u001b[39m\u001b[34m[debug | MIPVerify]:   Δu = 0.0\n",
      "\u001b[39m\u001b[34m[debug | MIPVerify]:   Δu = 0.0\n",
      "\u001b[39m\u001b[34m[debug | MIPVerify]:   Δu = 0.0\n",
      "\u001b[39m\u001b[34m[debug | MIPVerify]:   Δu = 0.0\n",
      "\u001b[39m\u001b[34m[debug | MIPVerify]:   Δu = 0.0\n",
      "\u001b[39m\u001b[34m[debug | MIPVerify]:   Δu = 0.0\n",
      "\u001b[39m\u001b[34m[debug | MIPVerify]:   Δu = 0.0\n",
      "\u001b[39m\u001b[34m[debug | MIPVerify]:   Δu = 0.0\n",
      "\u001b[39m\u001b[34m[debug | MIPVerify]:   Δu = 0.0\n",
      "\u001b[39m\u001b[34m[debug | MIPVerify]:   Δu = 0.0\n",
      "\u001b[39m\u001b[34m[debug | MIPVerify]:   Δu = 0.0\n",
      "\u001b[39m\u001b[34m[debug | MIPVerify]:   Δu = 0.0\n",
      "\u001b[39m\u001b[34m[debug | MIPVerify]:   Δl = 0.0\n",
      "\u001b[39m\u001b[34m[debug | MIPVerify]:   Δl = 0.0\n",
      "\u001b[39m\u001b[34m[debug | MIPVerify]:   Δl = 0.0\n",
      "\u001b[39m\u001b[34m[debug | MIPVerify]:   Δl = 0.0\n",
      "\u001b[39m\u001b[34m[debug | MIPVerify]:   Δl = 0.0\n",
      "\u001b[39m\u001b[34m[debug | MIPVerify]:   Δl = 0.0\n",
      "\u001b[39m\u001b[34m[debug | MIPVerify]:   Δl = 0.0\n",
      "\u001b[39m\u001b[34m[debug | MIPVerify]:   Δl = 0.0\n",
      "\u001b[39m\u001b[34m[debug | MIPVerify]:   Δl = 0.0\n",
      "\u001b[39m\u001b[34m[debug | MIPVerify]:   Δl = 0.0\n",
      "\u001b[39m\u001b[34m[debug | MIPVerify]:   Δl = 0.0\n",
      "\u001b[39m\u001b[34m[debug | MIPVerify]:   Δl = 0.0\n",
      "\u001b[39m\u001b[34m[debug | MIPVerify]:   Δl = 0.0\n",
      "\u001b[39m\u001b[34m[debug | MIPVerify]:   Δl = 0.0\n",
      "\u001b[39m\u001b[34m[debug | MIPVerify]:   Δl = 0.0\n",
      "\u001b[39m\u001b[34m[debug | MIPVerify]:   Δl = 0.0\n",
      "\u001b[39m\u001b[34m[debug | MIPVerify]:   Δl = 0.0\n",
      "\u001b[39m\u001b[34m[debug | MIPVerify]:   Δl = 0.0\n",
      "\u001b[39m\u001b[34m[debug | MIPVerify]:   Δl = 0.0\n",
      "\u001b[39m\u001b[34m[debug | MIPVerify]:   Δl = 0.0\n",
      "\u001b[39m\u001b[34m[debug | MIPVerify]:   Δl = 0.0\n",
      "\u001b[39m\u001b[34m[debug | MIPVerify]:   Δl = 0.0\n",
      "\u001b[39m\u001b[34m[debug | MIPVerify]:   Δl = 0.0\n",
      "\u001b[39m\u001b[34m[debug | MIPVerify]:   Δl = 0.0\n",
      "\u001b[39m\u001b[34m[debug | MIPVerify]:   Δl = 0.0\n",
      "\u001b[39m\u001b[34m[debug | MIPVerify]:   Δl = 0.0\n",
      "\u001b[39m\u001b[34m[debug | MIPVerify]:   Δl = 0.0\n",
      "\u001b[39m\u001b[34m[debug | MIPVerify]:   Δl = 0.0\n",
      "\u001b[39m\u001b[34m[debug | MIPVerify]:   Δl = 0.0\n",
      "\u001b[39m\u001b[34m[debug | MIPVerify]:   Δl = 0.0\n",
      "\u001b[39m\u001b[34m[debug | MIPVerify]:   Δl = 0.0\n",
      "\u001b[39m\u001b[34m[debug | MIPVerify]:   Δl = 0.0\n",
      "\u001b[39m\u001b[34m[debug | MIPVerify]:   Δl = 0.0\n",
      "\u001b[39m\u001b[34m[debug | MIPVerify]:   Δl = 0.0\n",
      "\u001b[39m\u001b[34m[debug | MIPVerify]:   Δl = 0.0\n",
      "\u001b[39m\u001b[34m[debug | MIPVerify]:   Δl = 0.0\n",
      "\u001b[39m\u001b[34m[debug | MIPVerify]:   Δl = 0.0\n",
      "\u001b[39m\u001b[34m[debug | MIPVerify]:   Δl = 0.0\n",
      "\u001b[39m\u001b[34m[debug | MIPVerify]:   Δl = 0.0\n",
      "\u001b[39m\u001b[34m[debug | MIPVerify]:   Δl = 0.0\n",
      "\u001b[39m\u001b[32m[info | MIPVerify]: Applying Linear(40 -> 20) ... \n",
      "\u001b[39m\u001b[32m[info | MIPVerify]: Applying ReLU() ...\n",
      "\u001b[39m\u001b[34m[debug | MIPVerify]:   Δu = 100.9535278344677\n",
      "\u001b[39m\u001b[34m[debug | MIPVerify]:   Δu = 147.81854207487345\n",
      "\u001b[39m\u001b[34m[debug | MIPVerify]:   Δu = 69.44961680102807\n",
      "\u001b[39m\u001b[34m[debug | MIPVerify]:   Δu = 59.508823907559716\n",
      "\u001b[39m\u001b[34m[debug | MIPVerify]:   Δu = 124.82893862595003\n",
      "\u001b[39m\u001b[34m[debug | MIPVerify]:   Δu = 53.78695935608758\n",
      "\u001b[39m\u001b[34m[debug | MIPVerify]:   Δu = 86.46412836709948\n",
      "\u001b[39m\u001b[34m[debug | MIPVerify]:   Δu = 139.60344637391904\n",
      "\u001b[39m\u001b[34m[debug | MIPVerify]:   Δu = 117.71526603806225\n",
      "\u001b[39m\u001b[34m[debug | MIPVerify]:   Δu = 74.85641336598998\n",
      "\u001b[39m\u001b[34m[debug | MIPVerify]:   Δu = 119.59817755308148\n",
      "\u001b[39m\u001b[34m[debug | MIPVerify]:   Δu = 81.5967454314775\n",
      "\u001b[39m\u001b[34m[debug | MIPVerify]:   Δu = 148.61585936231904\n",
      "\u001b[39m\u001b[34m[debug | MIPVerify]:   Δu = 100.62738655981698\n",
      "\u001b[39m\u001b[34m[debug | MIPVerify]:   Δu = 127.3360053997819\n",
      "\u001b[39m\u001b[34m[debug | MIPVerify]:   Δu = 91.77118249198486\n",
      "\u001b[39m\u001b[34m[debug | MIPVerify]:   Δu = 87.2939912449531\n",
      "\u001b[39m\u001b[34m[debug | MIPVerify]:   Δu = 137.37394703624653\n",
      "\u001b[39m\u001b[34m[debug | MIPVerify]:   Δu = 67.07274646336302\n",
      "\u001b[39m\u001b[34m[debug | MIPVerify]:   Δu = 106.53508059333325\n",
      "\u001b[39m\u001b[34m[debug | MIPVerify]:   Δl = 168.72766675622415\n",
      "\u001b[39m\u001b[34m[debug | MIPVerify]:   Δl = 182.09795876402478\n",
      "\u001b[39m\u001b[34m[debug | MIPVerify]:   Δl = 106.58592880320799\n",
      "\u001b[39m\u001b[34m[debug | MIPVerify]:   Δl = 119.49516610793023\n",
      "\u001b[39m\u001b[34m[debug | MIPVerify]:   Δl = 218.65438721783033\n",
      "\u001b[39m\u001b[34m[debug | MIPVerify]:   Δl = 219.29406593463887\n",
      "\u001b[39m\u001b[34m[debug | MIPVerify]:   Δl = 253.2336963638936\n",
      "\u001b[39m\u001b[34m[debug | MIPVerify]:   Δl = 135.64196358900827\n",
      "\u001b[39m\u001b[34m[debug | MIPVerify]:   Δl = 185.07055360147984\n",
      "\u001b[39m\u001b[34m[debug | MIPVerify]:   Δl = 168.96452970492027\n",
      "\u001b[39m\u001b[34m[debug | MIPVerify]:   Δl = 196.3154379266216\n",
      "\u001b[39m\u001b[34m[debug | MIPVerify]:   Δl = 151.60308579209982\n",
      "\u001b[39m\u001b[34m[debug | MIPVerify]:   Δl = 135.28903884681307\n",
      "\u001b[39m\u001b[34m[debug | MIPVerify]:   Δl = 124.71960757812741\n",
      "\u001b[39m\u001b[34m[debug | MIPVerify]:   Δl = 145.29462248442235\n",
      "\u001b[39m\u001b[34m[debug | MIPVerify]:   Δl = 136.677730956166\n",
      "\u001b[39m\u001b[34m[debug | MIPVerify]:   Δl = 207.19501775965898\n",
      "\u001b[39m\u001b[34m[debug | MIPVerify]:   Δl = 164.40770480295208\n",
      "\u001b[39m\u001b[34m[debug | MIPVerify]:   Δl = 181.05435100147656\n",
      "\u001b[39m\u001b[34m[debug | MIPVerify]:   Δl = 244.17260280308216\n",
      "\u001b[39m\u001b[32m[info | MIPVerify]: Applying Linear(20 -> 10) ... \n",
      "\u001b[39m\u001b[36m[notice | MIPVerify]: Attempting to find adversarial example. Neural net predicted label is 8, target labels are [9]\n",
      "\u001b[39mOptimize a model with 3385 rows, 3256 columns and 71132 nonzeros\n",
      "Variable types: 3196 continuous, 60 integer (60 binary)\n",
      "Coefficient statistics:\n",
      "  Matrix range     [2e-05, 7e+02]\n",
      "  Objective range  [1e+00, 1e+00]\n",
      "  Bounds range     [1e+00, 3e+02]\n",
      "  RHS range        [1e-02, 7e+02]\n",
      "Presolve removed 2860 rows and 2184 columns\n",
      "Presolve time: 0.19s\n",
      "Presolved: 525 rows, 1072 columns, 65472 nonzeros\n",
      "\n",
      "MIP start did not produce a new incumbent solution\n",
      "MIP start violates constraint R784 by 70.892854817\n",
      "\n",
      "Variable types: 1012 continuous, 60 integer (60 binary)\n",
      "\n",
      "Root relaxation: objective 0.000000e+00, 241 iterations, 0.01 seconds\n",
      "\n",
      "    Nodes    |    Current Node    |     Objective Bounds      |     Work\n",
      " Expl Unexpl |  Obj  Depth IntInf | Incumbent    BestBd   Gap | It/Node Time\n",
      "\n",
      "     0     0    0.00000    0    9          -    0.00000      -     -    0s\n",
      "Another try with MIP start\n",
      "     0     0    0.00000    0   10          -    0.00000      -     -    0s\n",
      "     0     0    0.00000    0   10          -    0.00000      -     -    0s\n",
      "     0     0    0.00000    0    1          -    0.00000      -     -    0s\n",
      "H    0     0                      27.1444948    0.00000   100%     -    0s\n",
      "H    0     0                       9.8928387    0.00000   100%     -    0s\n",
      "     0     0    0.00000    0    1    9.89284    0.00000   100%     -    0s\n",
      "     0     2    0.00000    0    1    9.89284    0.00000   100%     -    1s\n",
      "  1964   497     cutoff   20         9.89284    0.00000   100%  76.5    5s\n",
      "  5077   154     cutoff   12         9.89284    8.10691  18.1%  68.9   10s\n",
      "* 5090   150              30       9.7569972    8.10691  16.9%  68.8   10s\n",
      "\n",
      "Cutting planes:\n",
      "  Gomory: 3\n",
      "  Cover: 1\n",
      "  MIR: 6\n",
      "  Flow cover: 7\n",
      "\n",
      "Explored 5715 nodes (397429 simplex iterations) in 10.86 seconds\n",
      "Thread count was 8 (of 8 available processors)\n",
      "\n",
      "Solution count 3: 9.757 9.89284 27.1445 \n",
      "Pool objective bound 9.757\n",
      "\n",
      "Optimal solution found (tolerance 1.00e-04)\n",
      "Best objective 9.756997241475e+00, best bound 9.756997241475e+00, gap 0.0000%\n"
     ]
    },
    {
     "data": {
      "text/plain": [
       "Dict{Symbol,Any} with 7 entries:\n",
       "  :PerturbationParameters => additive\n",
       "  :TargetIndexes          => [9]\n",
       "  :SolveStatus            => :Optimal\n",
       "  :Output                 => JuMP.GenericAffExpr{Float64,JuMP.Variable}[-0.0120…\n",
       "  :Model                  => Minimization problem with:…\n",
       "  :Perturbation           => JuMP.Variable[__anon__ __anon__ __anon__ __anon__ …\n",
       "  :PerturbedInput         => JuMP.Variable[__anon__ __anon__ __anon__ __anon__ …"
      ]
     },
     "execution_count": 4,
     "metadata": {},
     "output_type": "execute_result"
    }
   ],
   "source": [
    "MIPVerify.setloglevel!(\"debug\")\n",
    "d = MIPVerify.find_adversarial_example(n1, sample_image, target_label_index, GurobiSolver(), rebuild=true)"
   ]
  },
  {
   "cell_type": "markdown",
   "metadata": {
    "deletable": true,
    "editable": true
   },
   "source": [
    "When we select `rebuild=false`, we do not do any of the work in determining upper and lower bounds, and none of the `info` and `debug` logs are produced."
   ]
  },
  {
   "cell_type": "code",
   "execution_count": 5,
   "metadata": {
    "collapsed": false,
    "deletable": true,
    "editable": true
   },
   "outputs": [
    {
     "name": "stdout",
     "output_type": "stream",
     "text": [
      "\u001b[36m[notice | MIPVerify]: Loading model from cache.\n",
      "\u001b[39m\u001b[36m[notice | MIPVerify]: Attempting to find adversarial example. Neural net predicted label is 8, target labels are [9]\n",
      "\u001b[39mOptimize a model with 3385 rows, 3256 columns and 71132 nonzeros\n",
      "Variable types: 3196 continuous, 60 integer (60 binary)\n",
      "Coefficient statistics:\n",
      "  Matrix range     [2e-05, 7e+02]\n",
      "  Objective range  [1e+00, 1e+00]\n",
      "  Bounds range     [1e+00, 3e+02]\n",
      "  RHS range        [1e-02, 7e+02]\n",
      "Presolve removed 2860 rows and 2184 columns\n",
      "Presolve time: 0.14s\n",
      "Presolved: 525 rows, 1072 columns, 65472 nonzeros\n",
      "\n",
      "MIP start did not produce a new incumbent solution\n",
      "MIP start violates constraint R784 by 70.892854817\n",
      "\n",
      "Variable types: 1012 continuous, 60 integer (60 binary)\n",
      "\n",
      "Root relaxation: objective 0.000000e+00, 241 iterations, 0.01 seconds\n",
      "\n",
      "    Nodes    |    Current Node    |     Objective Bounds      |     Work\n",
      " Expl Unexpl |  Obj  Depth IntInf | Incumbent    BestBd   Gap | It/Node Time\n",
      "\n",
      "     0     0    0.00000    0    9          -    0.00000      -     -    0s\n",
      "Another try with MIP start\n",
      "     0     0    0.00000    0   10          -    0.00000      -     -    0s\n",
      "     0     0    0.00000    0   10          -    0.00000      -     -    0s\n",
      "     0     0    0.00000    0    1          -    0.00000      -     -    0s\n",
      "H    0     0                      27.1444948    0.00000   100%     -    0s\n",
      "H    0     0                       9.8928387    0.00000   100%     -    0s\n",
      "     0     0    0.00000    0    1    9.89284    0.00000   100%     -    0s\n",
      "     0     2    0.00000    0    1    9.89284    0.00000   100%     -    1s\n",
      "  1964   497     cutoff   20         9.89284    0.00000   100%  76.5    5s\n",
      "  5077   154     cutoff   12         9.89284    8.10691  18.1%  68.9   10s\n",
      "* 5090   150              30       9.7569972    8.10691  16.9%  68.8   10s\n",
      "\n",
      "Cutting planes:\n",
      "  Gomory: 3\n",
      "  Cover: 1\n",
      "  MIR: 6\n",
      "  Flow cover: 7\n",
      "\n",
      "Explored 5715 nodes (397429 simplex iterations) in 11.07 seconds\n",
      "Thread count was 8 (of 8 available processors)\n",
      "\n",
      "Solution count 3: 9.757 9.89284 27.1445 \n",
      "Pool objective bound 9.757\n",
      "\n",
      "Optimal solution found (tolerance 1.00e-04)\n",
      "Best objective 9.756997241475e+00, best bound 9.756997241475e+00, gap 0.0000%\n"
     ]
    }
   ],
   "source": [
    "d = MIPVerify.find_adversarial_example(n1, sample_image, target_label_index, GurobiSolver(), rebuild=false);"
   ]
  },
  {
   "cell_type": "markdown",
   "metadata": {
    "deletable": true,
    "editable": true
   },
   "source": [
    "## Handling log output\n",
    "\n",
    "We use the logger provided by the [`Memento`](https://github.com/invenia/Memento.jl) package. Rather than just having logs written to STDOUT, you can choose to capture the output (for example, to write logs to file) by adding your own handlers to `MIPVerify.LOGGER`. See the Memento documentation for more."
   ]
  },
  {
   "cell_type": "code",
   "execution_count": 6,
   "metadata": {
    "collapsed": false,
    "deletable": true,
    "editable": true
   },
   "outputs": [
    {
     "data": {
      "text/plain": [
       "Memento.Logger"
      ]
     },
     "execution_count": 6,
     "metadata": {},
     "output_type": "execute_result"
    }
   ],
   "source": [
    "typeof(MIPVerify.LOGGER)"
   ]
  }
 ],
 "metadata": {
  "kernelspec": {
   "display_name": "Julia 0.6.0",
   "language": "julia",
   "name": "julia-0.6"
  },
  "language_info": {
   "file_extension": ".jl",
   "mimetype": "application/julia",
   "name": "julia",
   "version": "0.6.0"
  }
 },
 "nbformat": 4,
 "nbformat_minor": 2
}
