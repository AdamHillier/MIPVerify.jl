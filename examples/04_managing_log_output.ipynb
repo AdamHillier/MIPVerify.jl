{
 "cells": [
  {
   "cell_type": "markdown",
   "metadata": {
    "deletable": true,
    "editable": true
   },
   "source": [
    "# Log output\n",
    "\n",
    "We use the same example as in the quickstart."
   ]
  },
  {
   "cell_type": "code",
   "execution_count": 1,
   "metadata": {
    "collapsed": false,
    "deletable": true,
    "editable": true
   },
   "outputs": [],
   "source": [
    "using MIPVerify\n",
    "using Gurobi"
   ]
  },
  {
   "cell_type": "code",
   "execution_count": 2,
   "metadata": {
    "collapsed": false,
    "deletable": true,
    "editable": true
   },
   "outputs": [
    {
     "data": {
      "text/plain": [
       "9"
      ]
     },
     "execution_count": 2,
     "metadata": {},
     "output_type": "execute_result"
    }
   ],
   "source": [
    "mnist = MIPVerify.read_datasets(\"MNIST\")\n",
    "n1 = MIPVerify.get_example_network_params(\"MNIST.n1\")\n",
    "sample_image = MIPVerify.get_image(mnist.train.images, 1)\n",
    "target_label_index = 9"
   ]
  },
  {
   "cell_type": "markdown",
   "metadata": {
    "deletable": true,
    "editable": true
   },
   "source": [
    "## Viewing Log Output\n",
    "\n",
    "Our package logs to STDOUT at the `debug`, `info`, `notice` and `warn` levels. \n",
    "The default output level is to show logs only at the `notice` level and above, which is also the recommended level."
   ]
  },
  {
   "cell_type": "code",
   "execution_count": 3,
   "metadata": {
    "collapsed": false,
    "deletable": true,
    "editable": true
   },
   "outputs": [
    {
     "name": "stdout",
     "output_type": "stream",
     "text": [
      "\u001b[36m[notice | MIPVerify]: Rebuilding model from scratch. This may take some time as we determine upper and lower bounds for the input to each non-linear unit.\n",
      "\u001b[39m"
     ]
    },
    {
     "name": "stderr",
     "output_type": "stream",
     "text": [
      "\r",
      "\u001b[32m  Calculating upper bounds:   2%|█                      |  ETA: 0:00:05\u001b[39m"
     ]
    },
    {
     "name": "stdout",
     "output_type": "stream",
     "text": [
      "Academic license - for non-commercial use only\n"
     ]
    },
    {
     "name": "stderr",
     "output_type": "stream",
     "text": [
      "\u001b[32m  Calculating upper bounds: 100%|███████████████████████| Time: 0:00:01\u001b[39m\n",
      "\u001b[32m  Imposing relu constraint: 100%|███████████████████████| Time: 0:00:00\u001b[39m\n",
      "\u001b[32m  Calculating upper bounds: 100%|███████████████████████| Time: 0:00:21\u001b[39m\n",
      "\u001b[32m  Calculating lower bounds: 100%|███████████████████████| Time: 0:00:44\u001b[39m\n"
     ]
    },
    {
     "name": "stdout",
     "output_type": "stream",
     "text": [
      "\u001b[36m[notice | MIPVerify]: The model built will be cached and re-used for future solves, unless you explicitly set rebuild=true.\n",
      "\u001b[39m\u001b[36m[notice | MIPVerify]: Attempting to find adversarial example. Neural net predicted label is 8, target labels are [9]\n",
      "\u001b[39mAcademic license - for non-commercial use only\n",
      "Optimize a model with 3385 rows, 3256 columns and 71132 nonzeros\n",
      "Variable types: 3196 continuous, 60 integer (60 binary)\n",
      "Coefficient statistics:\n",
      "  Matrix range     [2e-05, 7e+02]\n",
      "  Objective range  [1e+00, 1e+00]\n",
      "  Bounds range     [1e+00, 1e+02]\n",
      "  RHS range        [1e-02, 7e+02]\n",
      "\n",
      "MIP start did not produce a new incumbent solution\n",
      "MIP start violates constraint R1024 by 1.000000000\n",
      "\n",
      "Presolve removed 2850 rows and 2174 columns\n",
      "Presolve time: 0.10s\n",
      "Presolved: 535 rows, 1082 columns, 61577 nonzeros\n",
      "Variable types: 1022 continuous, 60 integer (60 binary)\n",
      "\n",
      "Root relaxation: objective 0.000000e+00, 259 iterations, 0.01 seconds\n",
      "\n",
      "    Nodes    |    Current Node    |     Objective Bounds      |     Work\n",
      " Expl Unexpl |  Obj  Depth IntInf | Incumbent    BestBd   Gap | It/Node Time\n",
      "\n",
      "     0     0    0.00000    0    2          -    0.00000      -     -    0s\n",
      "Another try with MIP start\n",
      "H    0     0                     134.5055744    0.00000   100%     -    0s\n",
      "H    0     0                      13.5567966    0.00000   100%     -    0s\n",
      "H    0     0                      10.2094779    0.00000   100%     -    0s\n",
      "     0     0    0.00000    0    4   10.20948    0.00000   100%     -    0s\n",
      "     0     0    0.00000    0    4   10.20948    0.00000   100%     -    0s\n",
      "     0     0    0.00000    0    1   10.20948    0.00000   100%     -    0s\n",
      "     0     0    0.00000    0    1   10.20948    0.00000   100%     -    0s\n",
      "     0     2    0.00000    0    1   10.20948    0.00000   100%     -    0s\n",
      "H   96    59                       9.8928387    0.00000   100%   108    0s\n",
      "*  367   162              26       9.7569972    0.00000   100%  58.9    1s\n",
      "  6472    39     cutoff   21         9.75700    8.80845  9.72%  41.6    5s\n",
      "\n",
      "Cutting planes:\n",
      "  Gomory: 1\n",
      "  MIR: 2\n",
      "  Flow cover: 1\n",
      "\n",
      "Explored 7033 nodes (297924 simplex iterations) in 5.42 seconds\n",
      "Thread count was 8 (of 8 available processors)\n",
      "\n",
      "Solution count 5: 9.757 9.89284 10.2095 ... 134.506\n",
      "\n",
      "Optimal solution found (tolerance 1.00e-04)\n",
      "Best objective 9.756997241475e+00, best bound 9.756997241475e+00, gap 0.0000%\n"
     ]
    }
   ],
   "source": [
    "d = MIPVerify.find_adversarial_example(n1, sample_image, target_label_index, GurobiSolver(), rebuild=true);"
   ]
  },
  {
   "cell_type": "markdown",
   "metadata": {
    "deletable": true,
    "editable": true
   },
   "source": [
    "More information is available if we set the log level to `debug`."
   ]
  },
  {
   "cell_type": "code",
   "execution_count": 4,
   "metadata": {
    "collapsed": false,
    "deletable": true,
    "editable": true
   },
   "outputs": [
    {
     "name": "stdout",
     "output_type": "stream",
     "text": [
      "\u001b[36m[notice | MIPVerify]: Rebuilding model from scratch. This may take some time as we determine upper and lower bounds for the input to each non-linear unit.\n",
      "\u001b[39m\u001b[32m[info | MIPVerify]: Applying Flatten() ... \n",
      "\u001b[39m\u001b[32m[info | MIPVerify]: Applying Linear(784 -> 40) ... \n",
      "\u001b[39m\u001b[32m[info | MIPVerify]: Applying ReLU() ...\n",
      "\u001b[39mAcademic license - for non-commercial use only\n",
      "\u001b[34m[debug | MIPVerify]:   Δu = 0.0\n",
      "\u001b[39m\u001b[34m[debug | MIPVerify]:   Δu = 0.0\n",
      "\u001b[39m\u001b[34m[debug | MIPVerify]:   Δu = 0.0\n",
      "\u001b[39m\u001b[34m[debug | MIPVerify]:   Δu = 0.0\n",
      "\u001b[39m\u001b[34m[debug | MIPVerify]:   Δu = 0.0\n",
      "\u001b[39m\u001b[34m[debug | MIPVerify]:   Δu = 0.0\n",
      "\u001b[39m\u001b[34m[debug | MIPVerify]:   Δu = 0.0\n",
      "\u001b[39m\u001b[34m[debug | MIPVerify]:   Δu = 0.0\n",
      "\u001b[39m\u001b[34m[debug | MIPVerify]:   Δu = 0.0\n",
      "\u001b[39m\u001b[34m[debug | MIPVerify]:   Δu = 0.0\n",
      "\u001b[39m\u001b[34m[debug | MIPVerify]:   Δu = 0.0\n",
      "\u001b[39m\u001b[34m[debug | MIPVerify]:   Δu = 0.0\n",
      "\u001b[39m\u001b[34m[debug | MIPVerify]:   Δu = 0.0\n",
      "\u001b[39m\u001b[34m[debug | MIPVerify]:   Δu = 0.0\n",
      "\u001b[39m\u001b[34m[debug | MIPVerify]:   Δu = 0.0\n",
      "\u001b[39m\u001b[34m[debug | MIPVerify]:   Δu = 0.0\n",
      "\u001b[39m\u001b[34m[debug | MIPVerify]:   Δu = 0.0\n",
      "\u001b[39m\u001b[34m[debug | MIPVerify]:   Δu = 0.0\n",
      "\u001b[39m\u001b[34m[debug | MIPVerify]:   Δu = 0.0\n",
      "\u001b[39m\u001b[34m[debug | MIPVerify]:   Δu = 0.0\n",
      "\u001b[39m\u001b[34m[debug | MIPVerify]:   Δu = 0.0\n",
      "\u001b[39m\u001b[34m[debug | MIPVerify]:   Δu = 0.0\n",
      "\u001b[39m\u001b[34m[debug | MIPVerify]:   Δu = 0.0\n",
      "\u001b[39m\u001b[34m[debug | MIPVerify]:   Δu = 0.0\n",
      "\u001b[39m\u001b[34m[debug | MIPVerify]:   Δu = 0.0\n",
      "\u001b[39m\u001b[34m[debug | MIPVerify]:   Δu = 0.0\n",
      "\u001b[39m\u001b[34m[debug | MIPVerify]:   Δu = 0.0\n",
      "\u001b[39m\u001b[34m[debug | MIPVerify]:   Δu = 0.0\n",
      "\u001b[39m\u001b[34m[debug | MIPVerify]:   Δu = 0.0\n",
      "\u001b[39m\u001b[34m[debug | MIPVerify]:   Δu = 0.0\n",
      "\u001b[39m\u001b[34m[debug | MIPVerify]:   Δu = 0.0\n",
      "\u001b[39m\u001b[34m[debug | MIPVerify]:   Δu = 0.0\n",
      "\u001b[39m\u001b[34m[debug | MIPVerify]:   Δu = 0.0\n",
      "\u001b[39m\u001b[34m[debug | MIPVerify]:   Δu = 0.0\n",
      "\u001b[39m\u001b[34m[debug | MIPVerify]:   Δu = 0.0\n",
      "\u001b[39m\u001b[34m[debug | MIPVerify]:   Δu = 0.0\n",
      "\u001b[39m\u001b[34m[debug | MIPVerify]:   Δu = 0.0\n",
      "\u001b[39m\u001b[34m[debug | MIPVerify]:   Δu = 0.0\n",
      "\u001b[39m\u001b[34m[debug | MIPVerify]:   Δu = 0.0\n",
      "\u001b[39m\u001b[34m[debug | MIPVerify]:   Δu = 0.0\n",
      "\u001b[39m\u001b[34m[debug | MIPVerify]:   Δl = 0.0\n",
      "\u001b[39m\u001b[34m[debug | MIPVerify]:   Δl = 0.0\n",
      "\u001b[39m\u001b[34m[debug | MIPVerify]:   Δl = 0.0\n",
      "\u001b[39m\u001b[34m[debug | MIPVerify]:   Δl = 0.0\n",
      "\u001b[39m\u001b[34m[debug | MIPVerify]:   Δl = 0.0\n",
      "\u001b[39m\u001b[34m[debug | MIPVerify]:   Δl = 0.0\n",
      "\u001b[39m\u001b[34m[debug | MIPVerify]:   Δl = 0.0\n",
      "\u001b[39m\u001b[34m[debug | MIPVerify]:   Δl = 0.0\n",
      "\u001b[39m\u001b[34m[debug | MIPVerify]:   Δl = 0.0\n",
      "\u001b[39m\u001b[34m[debug | MIPVerify]:   Δl = 0.0\n",
      "\u001b[39m\u001b[34m[debug | MIPVerify]:   Δl = 0.0\n",
      "\u001b[39m\u001b[34m[debug | MIPVerify]:   Δl = 0.0\n",
      "\u001b[39m\u001b[34m[debug | MIPVerify]:   Δl = 0.0\n",
      "\u001b[39m\u001b[34m[debug | MIPVerify]:   Δl = 0.0\n",
      "\u001b[39m\u001b[34m[debug | MIPVerify]:   Δl = 0.0\n",
      "\u001b[39m\u001b[34m[debug | MIPVerify]:   Δl = 0.0\n",
      "\u001b[39m\u001b[34m[debug | MIPVerify]:   Δl = 0.0\n",
      "\u001b[39m\u001b[34m[debug | MIPVerify]:   Δl = 0.0\n",
      "\u001b[39m\u001b[34m[debug | MIPVerify]:   Δl = 0.0\n",
      "\u001b[39m\u001b[34m[debug | MIPVerify]:   Δl = 0.0\n",
      "\u001b[39m\u001b[34m[debug | MIPVerify]:   Δl = 0.0\n",
      "\u001b[39m\u001b[34m[debug | MIPVerify]:   Δl = 0.0\n",
      "\u001b[39m\u001b[34m[debug | MIPVerify]:   Δl = 0.0\n",
      "\u001b[39m\u001b[34m[debug | MIPVerify]:   Δl = 0.0\n",
      "\u001b[39m\u001b[34m[debug | MIPVerify]:   Δl = 0.0\n",
      "\u001b[39m\u001b[34m[debug | MIPVerify]:   Δl = 0.0\n",
      "\u001b[39m\u001b[34m[debug | MIPVerify]:   Δl = 0.0\n",
      "\u001b[39m\u001b[34m[debug | MIPVerify]:   Δl = 0.0\n",
      "\u001b[39m\u001b[34m[debug | MIPVerify]:   Δl = 0.0\n",
      "\u001b[39m\u001b[34m[debug | MIPVerify]:   Δl = 0.0\n",
      "\u001b[39m\u001b[34m[debug | MIPVerify]:   Δl = 0.0\n",
      "\u001b[39m\u001b[34m[debug | MIPVerify]:   Δl = 0.0\n",
      "\u001b[39m\u001b[34m[debug | MIPVerify]:   Δl = 0.0\n",
      "\u001b[39m\u001b[34m[debug | MIPVerify]:   Δl = 0.0\n",
      "\u001b[39m\u001b[34m[debug | MIPVerify]:   Δl = 0.0\n",
      "\u001b[39m\u001b[34m[debug | MIPVerify]:   Δl = 0.0\n",
      "\u001b[39m\u001b[34m[debug | MIPVerify]:   Δl = 0.0\n",
      "\u001b[39m\u001b[34m[debug | MIPVerify]:   Δl = 0.0\n",
      "\u001b[39m\u001b[34m[debug | MIPVerify]:   Δl = 0.0\n",
      "\u001b[39m\u001b[34m[debug | MIPVerify]:   Δl = 0.0\n",
      "\u001b[39m\u001b[32m[info | MIPVerify]: Applying Linear(40 -> 20) ... \n",
      "\u001b[39m\u001b[32m[info | MIPVerify]: Applying ReLU() ...\n",
      "\u001b[39m\u001b[34m[debug | MIPVerify]:   Δu = 236.19499039114618\n",
      "\u001b[39m\u001b[34m[debug | MIPVerify]:   Δu = 347.3507384582369\n",
      "\u001b[39m\u001b[34m[debug | MIPVerify]:   Δu = 111.66031695101941\n",
      "\u001b[39m\u001b[34m[debug | MIPVerify]:   Δu = 110.09320929282381\n",
      "\u001b[39m\u001b[34m[debug | MIPVerify]:   Δu = 263.9686250131348\n",
      "\u001b[39m\u001b[34m[debug | MIPVerify]:   Δu = 170.58623081063135\n",
      "\u001b[39m\u001b[34m[debug | MIPVerify]:   Δu = 342.81111856390635\n",
      "\u001b[39m\u001b[34m[debug | MIPVerify]:   Δu = 322.1609214959067\n",
      "\u001b[39m\u001b[34m[debug | MIPVerify]:   Δu = 190.94181084213062\n",
      "\u001b[39m\u001b[34m[debug | MIPVerify]:   Δu = 120.56886946816378\n",
      "\u001b[39m\u001b[34m[debug | MIPVerify]:   Δu = 333.3978216299831\n",
      "\u001b[39m\u001b[34m[debug | MIPVerify]:   Δu = 156.252655606511\n",
      "\u001b[39m\u001b[34m[debug | MIPVerify]:   Δu = 306.08282612869147\n",
      "\u001b[39m\u001b[34m[debug | MIPVerify]:   Δu = 176.38206258926618\n",
      "\u001b[39m\u001b[34m[debug | MIPVerify]:   Δu = 301.9881744933099\n",
      "\u001b[39m\u001b[34m[debug | MIPVerify]:   Δu = 325.9390651275078\n",
      "\u001b[39m\u001b[34m[debug | MIPVerify]:   Δu = 146.18208942669833\n",
      "\u001b[39m\u001b[34m[debug | MIPVerify]:   Δu = 292.43207348897386\n",
      "\u001b[39m\u001b[34m[debug | MIPVerify]:   Δu = 184.93657306973145\n",
      "\u001b[39m\u001b[34m[debug | MIPVerify]:   Δu = 256.17035614083665\n",
      "\u001b[39m\u001b[34m[debug | MIPVerify]:   Δl = 329.4706219653086\n",
      "\u001b[39m\u001b[34m[debug | MIPVerify]:   Δl = 490.3354319365959\n",
      "\u001b[39m\u001b[34m[debug | MIPVerify]:   Δl = 230.8574409869865\n",
      "\u001b[39m\u001b[34m[debug | MIPVerify]:   Δl = 281.99828424193794\n",
      "\u001b[39m\u001b[34m[debug | MIPVerify]:   Δl = 443.7377089444059\n",
      "\u001b[39m\u001b[34m[debug | MIPVerify]:   Δl = 546.9967283877565\n",
      "\u001b[39m\u001b[34m[debug | MIPVerify]:   Δl = 561.8499789605797\n",
      "\u001b[39m\u001b[34m[debug | MIPVerify]:   Δl = 252.888615674684\n",
      "\u001b[39m\u001b[32m[info | MIPVerify]: Hit user limit during solve to determine bounds. Multiplicative gap was 0.6759092913764826.\n",
      "\u001b[39m\u001b[34m[debug | MIPVerify]:   Δl = 405.6689830741144\n",
      "\u001b[39m\u001b[34m[debug | MIPVerify]:   Δl = 345.17138044306773\n",
      "\u001b[39m\u001b[34m[debug | MIPVerify]:   Δl = 395.66929790133076\n",
      "\u001b[39m\u001b[34m[debug | MIPVerify]:   Δl = 263.6311034209684\n",
      "\u001b[39m\u001b[34m[debug | MIPVerify]:   Δl = 259.3597215144569\n",
      "\u001b[39m\u001b[34m[debug | MIPVerify]:   Δl = 279.1469821915614\n",
      "\u001b[39m\u001b[34m[debug | MIPVerify]:   Δl = 363.84051783382193\n",
      "\u001b[39m\u001b[34m[debug | MIPVerify]:   Δl = 223.20192786473308\n",
      "\u001b[39m\u001b[34m[debug | MIPVerify]:   Δl = 397.6660964044127\n",
      "\u001b[39m\u001b[34m[debug | MIPVerify]:   Δl = 354.40977058244283\n",
      "\u001b[39m\u001b[34m[debug | MIPVerify]:   Δl = 347.3454124031803\n",
      "\u001b[39m\u001b[34m[debug | MIPVerify]:   Δl = 540.5128944047548\n",
      "\u001b[39m\u001b[32m[info | MIPVerify]: Applying Linear(20 -> 10) ... \n",
      "\u001b[39m\u001b[36m[notice | MIPVerify]: The model built will be cached and re-used for future solves, unless you explicitly set rebuild=true.\n",
      "\u001b[39m\u001b[36m[notice | MIPVerify]: Attempting to find adversarial example. Neural net predicted label is 8, target labels are [9]\n",
      "\u001b[39mAcademic license - for non-commercial use only\n",
      "Optimize a model with 3385 rows, 3256 columns and 71132 nonzeros\n",
      "Variable types: 3196 continuous, 60 integer (60 binary)\n",
      "Coefficient statistics:\n",
      "  Matrix range     [2e-05, 7e+02]\n",
      "  Objective range  [1e+00, 1e+00]\n",
      "  Bounds range     [1e+00, 1e+02]\n",
      "  RHS range        [1e-02, 7e+02]\n",
      "\n",
      "MIP start did not produce a new incumbent solution\n",
      "MIP start violates constraint R1024 by 1.000000000\n",
      "\n",
      "Presolve removed 2850 rows and 2174 columns\n",
      "Presolve time: 0.10s\n",
      "Presolved: 535 rows, 1082 columns, 61577 nonzeros\n",
      "Variable types: 1022 continuous, 60 integer (60 binary)\n",
      "\n",
      "Root relaxation: objective 0.000000e+00, 259 iterations, 0.01 seconds\n",
      "\n",
      "    Nodes    |    Current Node    |     Objective Bounds      |     Work\n",
      " Expl Unexpl |  Obj  Depth IntInf | Incumbent    BestBd   Gap | It/Node Time\n",
      "\n",
      "     0     0    0.00000    0    2          -    0.00000      -     -    0s\n",
      "Another try with MIP start\n",
      "H    0     0                     134.5055744    0.00000   100%     -    0s\n",
      "H    0     0                      13.5567966    0.00000   100%     -    0s\n",
      "H    0     0                      10.2094779    0.00000   100%     -    0s\n",
      "     0     0    0.00000    0    4   10.20948    0.00000   100%     -    0s\n",
      "     0     0    0.00000    0    4   10.20948    0.00000   100%     -    0s\n",
      "     0     0    0.00000    0    1   10.20948    0.00000   100%     -    0s\n",
      "     0     0    0.00000    0    1   10.20948    0.00000   100%     -    0s\n",
      "     0     2    0.00000    0    1   10.20948    0.00000   100%     -    0s\n",
      "H   96    59                       9.8928387    0.00000   100%   108    0s\n",
      "*  373   174              26       9.7569972    0.00000   100%  57.6    1s\n",
      "  6821    57    9.26230   27    7    9.75700    8.81518  9.65%  39.5    5s\n",
      "\n",
      "Cutting planes:\n",
      "  Gomory: 1\n",
      "  MIR: 2\n",
      "  Flow cover: 1\n",
      "\n",
      "Explored 7384 nodes (292644 simplex iterations) in 5.41 seconds\n",
      "Thread count was 8 (of 8 available processors)\n",
      "\n",
      "Solution count 5: 9.757 9.89284 10.2095 ... 134.506\n",
      "\n",
      "Optimal solution found (tolerance 1.00e-04)\n",
      "Best objective 9.756997241475e+00, best bound 9.756997241475e+00, gap 0.0000%\n"
     ]
    },
    {
     "data": {
      "text/plain": [
       "Dict{Symbol,Any} with 10 entries:\n",
       "  :PerturbationFamily => unrestricted\n",
       "  :TargetIndexes      => [9]\n",
       "  :SolveStatus        => :Optimal\n",
       "  :TotalTime          => 72.5685\n",
       "  :TighteningApproach => \"mip\"\n",
       "  :Output             => JuMP.GenericAffExpr{Float64,JuMP.Variable}[-0.01206386…\n",
       "  :Model              => Minimization problem with:…\n",
       "  :PredictedIndex     => 8\n",
       "  :Perturbation       => JuMP.Variable[__anon__ __anon__ __anon__ __anon__ __an…\n",
       "  :PerturbedInput     => JuMP.Variable[__anon__ __anon__ __anon__ __anon__ __an…"
      ]
     },
     "execution_count": 4,
     "metadata": {},
     "output_type": "execute_result"
    }
   ],
   "source": [
    "MIPVerify.setloglevel!(\"debug\")\n",
    "d = MIPVerify.find_adversarial_example(n1, sample_image, target_label_index, GurobiSolver(), rebuild=true)"
   ]
  },
  {
   "cell_type": "markdown",
   "metadata": {
    "deletable": true,
    "editable": true
   },
   "source": [
    "When we select `rebuild=false`, we do not do any of the work in determining upper and lower bounds, and none of the `info` and `debug` logs are produced."
   ]
  },
  {
   "cell_type": "code",
   "execution_count": 5,
   "metadata": {
    "collapsed": false,
    "deletable": true,
    "editable": true
   },
   "outputs": [
    {
     "name": "stdout",
     "output_type": "stream",
     "text": [
      "\u001b[36m[notice | MIPVerify]: Loading model from cache.\n",
      "\u001b[39m\u001b[36m[notice | MIPVerify]: Attempting to find adversarial example. Neural net predicted label is 8, target labels are [9]\n",
      "\u001b[39mAcademic license - for non-commercial use only\n",
      "Optimize a model with 3385 rows, 3256 columns and 71132 nonzeros\n",
      "Variable types: 3196 continuous, 60 integer (60 binary)\n",
      "Coefficient statistics:\n",
      "  Matrix range     [2e-05, 7e+02]\n",
      "  Objective range  [1e+00, 1e+00]\n",
      "  Bounds range     [1e+00, 1e+02]\n",
      "  RHS range        [1e-02, 7e+02]\n",
      "\n",
      "MIP start did not produce a new incumbent solution\n",
      "MIP start violates constraint R1024 by 1.000000000\n",
      "\n",
      "Presolve removed 2850 rows and 2174 columns\n",
      "Presolve time: 0.11s\n",
      "Presolved: 535 rows, 1082 columns, 61577 nonzeros\n",
      "Variable types: 1022 continuous, 60 integer (60 binary)\n",
      "\n",
      "Root relaxation: objective 0.000000e+00, 259 iterations, 0.01 seconds\n",
      "\n",
      "    Nodes    |    Current Node    |     Objective Bounds      |     Work\n",
      " Expl Unexpl |  Obj  Depth IntInf | Incumbent    BestBd   Gap | It/Node Time\n",
      "\n",
      "     0     0    0.00000    0    2          -    0.00000      -     -    0s\n",
      "Another try with MIP start\n",
      "H    0     0                     134.5055744    0.00000   100%     -    0s\n",
      "H    0     0                      13.5567966    0.00000   100%     -    0s\n",
      "H    0     0                      10.2094779    0.00000   100%     -    0s\n",
      "     0     0    0.00000    0    4   10.20948    0.00000   100%     -    0s\n",
      "     0     0    0.00000    0    4   10.20948    0.00000   100%     -    0s\n",
      "     0     0    0.00000    0    1   10.20948    0.00000   100%     -    0s\n",
      "     0     0    0.00000    0    1   10.20948    0.00000   100%     -    0s\n",
      "     0     2    0.00000    0    1   10.20948    0.00000   100%     -    0s\n",
      "H   96    59                       9.8928387    0.00000   100%   108    0s\n",
      "*  373   174              26       9.7569972    0.00000   100%  57.6    1s\n",
      "  6821    57    9.26230   27    7    9.75700    8.81518  9.65%  39.5    5s\n",
      "\n",
      "Cutting planes:\n",
      "  Gomory: 1\n",
      "  MIR: 2\n",
      "  Flow cover: 1\n",
      "\n",
      "Explored 7384 nodes (292644 simplex iterations) in 5.40 seconds\n",
      "Thread count was 8 (of 8 available processors)\n",
      "\n",
      "Solution count 5: 9.757 9.89284 10.2095 ... 134.506\n",
      "\n",
      "Optimal solution found (tolerance 1.00e-04)\n",
      "Best objective 9.756997241475e+00, best bound 9.756997241475e+00, gap 0.0000%\n"
     ]
    }
   ],
   "source": [
    "d = MIPVerify.find_adversarial_example(n1, sample_image, target_label_index, GurobiSolver(), rebuild=false);"
   ]
  },
  {
   "cell_type": "markdown",
   "metadata": {
    "deletable": true,
    "editable": true
   },
   "source": [
    "## Handling log output\n",
    "\n",
    "We use the logger provided by the [`Memento`](https://github.com/invenia/Memento.jl) package. Rather than just having logs written to STDOUT, you can choose to capture the output (for example, to write logs to file) by adding your own handlers to `MIPVerify.LOGGER`. See the Memento documentation for more."
   ]
  },
  {
   "cell_type": "code",
   "execution_count": 6,
   "metadata": {
    "collapsed": false,
    "deletable": true,
    "editable": true
   },
   "outputs": [
    {
     "data": {
      "text/plain": [
       "Memento.Logger"
      ]
     },
     "execution_count": 6,
     "metadata": {},
     "output_type": "execute_result"
    }
   ],
   "source": [
    "typeof(MIPVerify.LOGGER)"
   ]
  }
 ],
 "metadata": {
  "kernelspec": {
   "display_name": "Julia 0.6.2",
   "language": "julia",
   "name": "julia-0.6"
  },
  "language_info": {
   "file_extension": ".jl",
   "mimetype": "application/julia",
   "name": "julia",
   "version": "0.6.2"
  }
 },
 "nbformat": 4,
 "nbformat_minor": 2
}
